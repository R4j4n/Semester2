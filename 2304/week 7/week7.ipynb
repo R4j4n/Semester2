{
 "cells": [
  {
   "cell_type": "code",
   "execution_count": 2,
   "metadata": {},
   "outputs": [],
   "source": [
    "### Vader Sentiment Analysis\n",
    "from vaderSentiment.vaderSentiment import SentimentIntensityAnalyzer"
   ]
  },
  {
   "cell_type": "code",
   "execution_count": 3,
   "metadata": {},
   "outputs": [],
   "source": [
    "analyzer = SentimentIntensityAnalyzer()"
   ]
  },
  {
   "cell_type": "code",
   "execution_count": 4,
   "metadata": {},
   "outputs": [
    {
     "data": {
      "text/plain": [
       "{'neg': 0.0, 'neu': 0.566, 'pos': 0.434, 'compound': 0.3182}"
      ]
     },
     "execution_count": 4,
     "metadata": {},
     "output_type": "execute_result"
    }
   ],
   "source": [
    "analyzer.polarity_scores(\"This car is cool.\")"
   ]
  },
  {
   "cell_type": "code",
   "execution_count": 5,
   "metadata": {},
   "outputs": [
    {
     "data": {
      "text/plain": [
       "{'neg': 0.0, 'neu': 0.581, 'pos': 0.419, 'compound': 0.4374}"
      ]
     },
     "execution_count": 5,
     "metadata": {},
     "output_type": "execute_result"
    }
   ],
   "source": [
    "analyzer.polarity_scores(\"This car is cool !!\")"
   ]
  },
  {
   "cell_type": "code",
   "execution_count": 6,
   "metadata": {},
   "outputs": [
    {
     "data": {
      "text/plain": [
       "{'neg': 0.0, 'neu': 0.536, 'pos': 0.464, 'compound': 0.5374}"
      ]
     },
     "execution_count": 6,
     "metadata": {},
     "output_type": "execute_result"
    }
   ],
   "source": [
    "analyzer.polarity_scores(\"This car is cool !!!!\")"
   ]
  },
  {
   "cell_type": "markdown",
   "metadata": {},
   "source": [
    "### Punctuations"
   ]
  },
  {
   "cell_type": "code",
   "execution_count": 7,
   "metadata": {},
   "outputs": [
    {
     "data": {
      "text/plain": [
       "{'neg': 0.0, 'neu': 0.488, 'pos': 0.512, 'compound': 0.6371}"
      ]
     },
     "execution_count": 7,
     "metadata": {},
     "output_type": "execute_result"
    }
   ],
   "source": [
    "analyzer.polarity_scores(\"This car is COOL !!!!\")"
   ]
  },
  {
   "cell_type": "code",
   "execution_count": 9,
   "metadata": {},
   "outputs": [
    {
     "data": {
      "text/plain": [
       "({'neg': 0.0, 'neu': 0.685, 'pos': 0.315, 'compound': 0.3182},\n",
       " {'neg': 0.0, 'neu': 0.566, 'pos': 0.434, 'compound': 0.3182})"
      ]
     },
     "execution_count": 9,
     "metadata": {},
     "output_type": "execute_result"
    }
   ],
   "source": [
    "analyzer.polarity_scores(\"This car is a bit cool.\"), analyzer.polarity_scores(\"This car is cool.\")"
   ]
  },
  {
   "cell_type": "code",
   "execution_count": 10,
   "metadata": {},
   "outputs": [
    {
     "data": {
      "text/plain": [
       "{'neg': 0.0, 'neu': 0.589, 'pos': 0.411, 'compound': 0.4201}"
      ]
     },
     "execution_count": 10,
     "metadata": {},
     "output_type": "execute_result"
    }
   ],
   "source": [
    "analyzer.polarity_scores(\"I fucking like this car.\")"
   ]
  },
  {
   "cell_type": "code",
   "execution_count": 12,
   "metadata": {},
   "outputs": [
    {
     "data": {
      "text/plain": [
       "{'neg': 0.313, 'neu': 0.404, 'pos': 0.283, 'compound': -0.0772}"
      ]
     },
     "execution_count": 12,
     "metadata": {},
     "output_type": "execute_result"
    }
   ],
   "source": [
    "analyzer.polarity_scores(\"Who the fucks likes this car?\")"
   ]
  },
  {
   "cell_type": "markdown",
   "metadata": {},
   "source": [
    "### Conjunctions"
   ]
  },
  {
   "cell_type": "code",
   "execution_count": 13,
   "metadata": {},
   "outputs": [
    {
     "data": {
      "text/plain": [
       "{'neg': 0.15, 'neu': 0.73, 'pos': 0.121, 'compound': -0.1318}"
      ]
     },
     "execution_count": 13,
     "metadata": {},
     "output_type": "execute_result"
    }
   ],
   "source": [
    "analyzer.polarity_scores(\"I enjoyed your hotel food but I didn't like the way waiters offer their services.\")"
   ]
  },
  {
   "cell_type": "code",
   "execution_count": 15,
   "metadata": {},
   "outputs": [
    {
     "data": {
      "text/plain": [
       "{'neg': 0.098, 'neu': 0.631, 'pos': 0.271, 'compound': 0.5768}"
      ]
     },
     "execution_count": 15,
     "metadata": {},
     "output_type": "execute_result"
    }
   ],
   "source": [
    "analyzer.polarity_scores(\"I dont like the hotel but the waitress was really good looking.\")"
   ]
  },
  {
   "cell_type": "markdown",
   "metadata": {},
   "source": [
    "### Preceding Tri-Gram"
   ]
  },
  {
   "cell_type": "code",
   "execution_count": 16,
   "metadata": {},
   "outputs": [
    {
     "data": {
      "text/plain": [
       "{'neg': 0.0, 'neu': 0.494, 'pos': 0.506, 'compound': 0.6249}"
      ]
     },
     "execution_count": 16,
     "metadata": {},
     "output_type": "execute_result"
    }
   ],
   "source": [
    "sentence = \"Your hotel service is great.\"\n",
    "\n",
    "analyzer.polarity_scores(sentence)"
   ]
  },
  {
   "cell_type": "code",
   "execution_count": 17,
   "metadata": {},
   "outputs": [
    {
     "data": {
      "text/plain": [
       "{'neg': 0.354, 'neu': 0.646, 'pos': 0.0, 'compound': -0.5096}"
      ]
     },
     "execution_count": 17,
     "metadata": {},
     "output_type": "execute_result"
    }
   ],
   "source": [
    "sentence = \"Your hotel service is not that great.\"\n",
    "\n",
    "analyzer.polarity_scores(sentence)"
   ]
  },
  {
   "cell_type": "code",
   "execution_count": 22,
   "metadata": {},
   "outputs": [
    {
     "name": "stdout",
     "output_type": "stream",
     "text": [
      "['The', 'painting', 'is', 'beautiful', 'and', 'serene', '.']\n",
      "[('The', 'DT'), ('painting', 'NN'), ('is', 'VBZ'), ('beautiful', 'JJ'), ('and', 'CC'), ('serene', 'JJ'), ('.', '.')]\n",
      "The DT\n",
      "painting NN\n",
      "<painting.n.01: PosScore=0.0 NegScore=0.0>\n",
      "is VBZ\n",
      "beautiful JJ\n",
      "<beautiful.a.01: PosScore=0.75 NegScore=0.0>\n",
      "and CC\n",
      "serene JJ\n",
      "<calm.s.01: PosScore=0.125 NegScore=0.5>\n",
      ". .\n",
      "The positive and negative sentiments of given sentence are: \n",
      "0.875 0.5\n"
     ]
    }
   ],
   "source": [
    "import nltk\n",
    "from nltk.corpus import wordnet as wn\n",
    "from nltk.corpus import sentiwordnet as swn\n",
    "\n",
    "# nltk.download('punkt')\n",
    "# nltk.download('wordnet')\n",
    "# nltk.download('sentiwordnet')\n",
    "# nltk.download('averaged_perceptron_tagger')\n",
    " \n",
    "sentence='The painting is beautiful and serene.'\n",
    "\n",
    "tokenSentence = nltk.word_tokenize(sentence)\n",
    "print(tokenSentence)\n",
    "posTagSentence = nltk.pos_tag(tokenSentence)\n",
    "print(posTagSentence)\n",
    "\n",
    "\n",
    "sentimentPositive = 0.0\n",
    "sentimentNegatve = 0.0\n",
    "sentenceCount = 0\n",
    "\n",
    "for wordTagPair in posTagSentence:\n",
    "\n",
    "  word = wordTagPair[0]\n",
    "  posTag = wordTagPair[1]\n",
    "  print(word, posTag)\n",
    "\n",
    "  if posTag.startswith('J'):\n",
    "    posTag =  wn.ADJ\n",
    "  elif posTag.startswith('R'):\n",
    "    posTag =  wn.ADV    \n",
    "  elif posTag.startswith('N'):\n",
    "    posTag =  wn.NOUN\n",
    "  else:\n",
    "      continue\n",
    "  \n",
    "  wordSynst = wn.synsets(word, pos=posTag)\n",
    "  if not wordSynst:\n",
    "    continue  \n",
    "  chosenSynst = wordSynst[0]\n",
    "  sentiWordNet = swn.senti_synset(chosenSynst.name())\n",
    "  print(sentiWordNet)\n",
    "  sentimentPositive += sentiWordNet.pos_score() \n",
    "  sentimentNegatve +=  sentiWordNet.neg_score()\n",
    "  sentenceCount += 1\n",
    "\n",
    "print('The positive and negative sentiments of given sentence are: ')\n",
    "print (sentimentPositive, sentimentNegatve)"
   ]
  },
  {
   "cell_type": "markdown",
   "metadata": {},
   "source": [
    "Here are a few more factors that can affect the sentiment of a sentence:\n",
    "- Intensifiers : such as \"very,\" \"extremely,\" \"absolutely,\" etc.\n",
    "- Diminishers: such as \"barely,\" \"slightly,\" \"almost,\" etc\n",
    "- Sarcasm and Irony: Example: \"Great, another rainy day!\" (when meant negatively).\n",
    "- Emoticons and Emojis\n",
    "\n",
    "\n",
    "Libraries: \n",
    "- TextBlob\n",
    "- Spacy \n",
    "- SentiWordNet\n"
   ]
  },
  {
   "cell_type": "code",
   "execution_count": 24,
   "metadata": {},
   "outputs": [
    {
     "name": "stdout",
     "output_type": "stream",
     "text": [
      "Polarity: 0.35\n"
     ]
    }
   ],
   "source": [
    "from textblob import TextBlob\n",
    "\n",
    "text = \"The car is cool.\"\n",
    "\n",
    "blob = TextBlob(text)\n",
    "sentiment = blob.sentiment\n",
    "\n",
    "print(f\"Polarity: {sentiment.polarity}\")"
   ]
  },
  {
   "cell_type": "code",
   "execution_count": null,
   "metadata": {},
   "outputs": [],
   "source": []
  }
 ],
 "metadata": {
  "kernelspec": {
   "display_name": "Python 3",
   "language": "python",
   "name": "python3"
  },
  "language_info": {
   "codemirror_mode": {
    "name": "ipython",
    "version": 3
   },
   "file_extension": ".py",
   "mimetype": "text/x-python",
   "name": "python",
   "nbconvert_exporter": "python",
   "pygments_lexer": "ipython3",
   "version": "3.1.undefined"
  }
 },
 "nbformat": 4,
 "nbformat_minor": 2
}

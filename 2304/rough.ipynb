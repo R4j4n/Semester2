{
 "cells": [
  {
   "cell_type": "code",
   "execution_count": 17,
   "metadata": {},
   "outputs": [],
   "source": [
    "from sklearn.feature_extraction.text import CountVectorizer"
   ]
  },
  {
   "cell_type": "code",
   "execution_count": 18,
   "metadata": {},
   "outputs": [],
   "source": [
    "cv = CountVectorizer(ngram_range=(1,2), min_df=2, max_df=0.9)"
   ]
  },
  {
   "cell_type": "code",
   "execution_count": 19,
   "metadata": {},
   "outputs": [],
   "source": [
    "x = cv.fit_transform([\"I love apple\", \"I dont like apple.\", \"Hey what the fuck\"])"
   ]
  },
  {
   "cell_type": "code",
   "execution_count": 23,
   "metadata": {},
   "outputs": [],
   "source": [
    "import pandas as pd \n",
    "\n",
    "df = pd.DataFrame(x.toarray(), columns=cv.get_feature_names_out())"
   ]
  },
  {
   "cell_type": "code",
   "execution_count": 25,
   "metadata": {},
   "outputs": [
    {
     "data": {
      "text/plain": [
       "{'apple': 0}"
      ]
     },
     "execution_count": 25,
     "metadata": {},
     "output_type": "execute_result"
    }
   ],
   "source": [
    "cv.vocabulary_"
   ]
  },
  {
   "cell_type": "code",
   "execution_count": 26,
   "metadata": {},
   "outputs": [
    {
     "data": {
      "text/plain": [
       "'I lOVe Apple'"
      ]
     },
     "execution_count": 26,
     "metadata": {},
     "output_type": "execute_result"
    }
   ],
   "source": [
    "import string\n",
    "\n",
    "sample = \"I lOVe! Appl#e \"\n",
    "punct = string.punctuation\n",
    "\n",
    "table = str.maketrans(\"\",\"\",punct)\n",
    "\n",
    "sample.translate(table)\n",
    "\n"
   ]
  },
  {
   "cell_type": "code",
   "execution_count": 29,
   "metadata": {},
   "outputs": [],
   "source": [
    "import nltk\n",
    "from nltk.tokenize import word_tokenize, sent_tokenize"
   ]
  },
  {
   "cell_type": "code",
   "execution_count": 42,
   "metadata": {},
   "outputs": [],
   "source": [
    "\n",
    "my_string = \"Rajan Ghimire worked for Google and attended meeting in Kathmandu. I study in Lambton College in Toronto.\"\n"
   ]
  },
  {
   "cell_type": "code",
   "execution_count": 43,
   "metadata": {},
   "outputs": [
    {
     "name": "stdout",
     "output_type": "stream",
     "text": [
      "[['Rajan', 'Ghimire', 'worked', 'for', 'Google', 'and', 'attended', 'meeting', 'in', 'Kathmandu', '.'], ['I', 'study', 'in', 'Lambton', 'College', 'in', 'Toronto', '.']]\n"
     ]
    }
   ],
   "source": [
    "sentences -> sent sent_tokenize - word - nlt."
   ]
  },
  {
   "cell_type": "code",
   "execution_count": 44,
   "metadata": {},
   "outputs": [],
   "source": [
    "for sent in chunked_sent:\n",
    "    for chunk in sent:\n",
    "        if hasattr(chunk, \"label\") and chunk.label() == \"NE\":\n",
    "            print(chunk)"
   ]
  },
  {
   "cell_type": "code",
   "execution_count": null,
   "metadata": {},
   "outputs": [],
   "source": [
    "nltk.ne_chunk_sents()"
   ]
  },
  {
   "cell_type": "code",
   "execution_count": 45,
   "metadata": {},
   "outputs": [
    {
     "name": "stderr",
     "output_type": "stream",
     "text": [
      "[nltk_data] Downloading package webtext to /home/rjn/nltk_data...\n",
      "[nltk_data]   Package webtext is already up-to-date!\n"
     ]
    }
   ],
   "source": [
    "import nltk\n",
    "import pandas as pd\n",
    "\n",
    "nltk.download('webtext')\n",
    "\n",
    "from nltk.corpus import webtext\n",
    "\n",
    "words = [w.lower() for w in webtext.words('grail.txt')]"
   ]
  },
  {
   "cell_type": "code",
   "execution_count": 46,
   "metadata": {},
   "outputs": [],
   "source": [
    "from nltk.collocations import BigramAssocMeasures, BigramCollocationFinder"
   ]
  },
  {
   "cell_type": "code",
   "execution_count": 47,
   "metadata": {},
   "outputs": [],
   "source": [
    "bigram_finder = BigramCollocationFinder.from_words(words)\n",
    "\n",
    "bigram_finder.apply_freq_filter(5)\n",
    "\n",
    "best = bigram_finder.nbest(score_fn=BigramAssocMeasures.likelihood_ratio, n= 5)"
   ]
  },
  {
   "cell_type": "code",
   "execution_count": 48,
   "metadata": {},
   "outputs": [],
   "source": [
    "from nltk.corpus import stopwords\n",
    "stop_Words = stopwords.words(\"english\")"
   ]
  },
  {
   "cell_type": "code",
   "execution_count": 51,
   "metadata": {},
   "outputs": [],
   "source": [
    "clean_f = lambda x: len(x) < 3 or x in stop_Words"
   ]
  },
  {
   "cell_type": "code",
   "execution_count": 53,
   "metadata": {},
   "outputs": [],
   "source": [
    "bigram_finder = BigramCollocationFinder.from_words(words)\n",
    "\n",
    "bigram_finder.apply_word_filter(fn=clean_f)\n",
    "\n",
    "bigram_finder.apply_freq_filter(5)\n",
    "\n",
    "best = bigram_finder.nbest(score_fn=BigramAssocMeasures.likelihood_ratio, n=5)"
   ]
  },
  {
   "cell_type": "code",
   "execution_count": 54,
   "metadata": {},
   "outputs": [
    {
     "data": {
      "text/plain": [
       "[('black', 'knight'),\n",
       " ('clop', 'clop'),\n",
       " ('head', 'knight'),\n",
       " ('mumble', 'mumble'),\n",
       " ('squeak', 'squeak')]"
      ]
     },
     "execution_count": 54,
     "metadata": {},
     "output_type": "execute_result"
    }
   ],
   "source": [
    "best"
   ]
  },
  {
   "cell_type": "code",
   "execution_count": 55,
   "metadata": {},
   "outputs": [],
   "source": [
    "from nltk.corpus import wordnet"
   ]
  },
  {
   "cell_type": "code",
   "execution_count": 57,
   "metadata": {},
   "outputs": [],
   "source": [
    "sysets = wordnet.synsets(\"good\")"
   ]
  },
  {
   "cell_type": "code",
   "execution_count": 66,
   "metadata": {},
   "outputs": [
    {
     "name": "stdout",
     "output_type": "stream",
     "text": [
      "good.n.01\n",
      "['for your own good', \"what's the good of worrying?\"]\n",
      "benefit\n"
     ]
    }
   ],
   "source": [
    "print(sysets[0].name())\n",
    "print(sysets[0].examples())\n",
    "print(sysets[0].definition())\n"
   ]
  },
  {
   "cell_type": "code",
   "execution_count": 68,
   "metadata": {},
   "outputs": [
    {
     "name": "stdout",
     "output_type": "stream",
     "text": [
      "[Lemma('good.n.02.good'), Lemma('good.n.02.goodness')]\n"
     ]
    }
   ],
   "source": [
    "print(sysets[1].lemmas())"
   ]
  },
  {
   "cell_type": "code",
   "execution_count": 70,
   "metadata": {},
   "outputs": [
    {
     "name": "stdout",
     "output_type": "stream",
     "text": [
      "[Lemma('evil.n.03.evil')]\n"
     ]
    }
   ],
   "source": [
    "print(sysets[1].lemmas()[0].antonyms())"
   ]
  },
  {
   "cell_type": "code",
   "execution_count": 80,
   "metadata": {},
   "outputs": [],
   "source": [
    "def get_syn_ant(word):\n",
    "    syn, ant = [], []\n",
    "    \n",
    "    for x in wordnet.synsets(word):\n",
    "        for lemma in x.lemmas():\n",
    "            syn.append(lemma.name())\n",
    "            \n",
    "            if lemma.antonyms():\n",
    "                for ant_lemma in lemma.antonyms():\n",
    "                    ant.append(ant_lemma.name())\n",
    "                \n",
    "    print(syn)\n",
    "    print(ant)"
   ]
  },
  {
   "cell_type": "code",
   "execution_count": 81,
   "metadata": {},
   "outputs": [
    {
     "name": "stdout",
     "output_type": "stream",
     "text": [
      "['hell', 'hell_on_earth', 'hellhole', 'snake_pit', 'the_pits', 'inferno', 'hell', 'blaze', 'Hell', 'perdition', 'Inferno', 'infernal_region', 'nether_region', 'pit', 'Hell', 'Hades', 'infernal_region', 'netherworld', 'Scheol', 'underworld', 'sin', 'hell', 'hell', 'blaze']\n",
      "['Heaven']\n"
     ]
    }
   ],
   "source": [
    "get_syn_ant(\"hell\")"
   ]
  },
  {
   "cell_type": "code",
   "execution_count": 82,
   "metadata": {},
   "outputs": [],
   "source": [
    "from nltk.collocations import BigramAssocMeasures, BigramCollocationFinder\n",
    "\n",
    "finder = BigramCollocationFinder.from_words(words)"
   ]
  },
  {
   "cell_type": "code",
   "execution_count": 85,
   "metadata": {},
   "outputs": [],
   "source": [
    "finder.apply_word_filter(lambda x : len(x) < 3 or x in stop_Words)"
   ]
  },
  {
   "cell_type": "code",
   "execution_count": 1,
   "metadata": {},
   "outputs": [],
   "source": [
    "import re "
   ]
  },
  {
   "cell_type": "code",
   "execution_count": 2,
   "metadata": {},
   "outputs": [],
   "source": [
    "text = \"Hello, i am rajan. Mr. X loves y.\""
   ]
  },
  {
   "cell_type": "code",
   "execution_count": 9,
   "metadata": {},
   "outputs": [
    {
     "data": {
      "text/plain": [
       "['Hello, i am rajan', ' Mr. X loves y', '']"
      ]
     },
     "execution_count": 9,
     "metadata": {},
     "output_type": "execute_result"
    }
   ],
   "source": []
  },
  {
   "cell_type": "code",
   "execution_count": 10,
   "metadata": {},
   "outputs": [],
   "source": [
    "phone = \"+1-4374383992\""
   ]
  },
  {
   "cell_type": "code",
   "execution_count": 23,
   "metadata": {},
   "outputs": [],
   "source": [
    "res = re.match(r\"(\\+\\d{1,3})[-](\\d+)\",phone)"
   ]
  },
  {
   "cell_type": "code",
   "execution_count": 26,
   "metadata": {},
   "outputs": [
    {
     "data": {
      "text/plain": [
       "'4374383992'"
      ]
     },
     "execution_count": 26,
     "metadata": {},
     "output_type": "execute_result"
    }
   ],
   "source": [
    "res.group(2)"
   ]
  },
  {
   "cell_type": "code",
   "execution_count": 28,
   "metadata": {},
   "outputs": [
    {
     "data": {
      "text/plain": [
       "('mat is on the dog is on the mat', 2)"
      ]
     },
     "execution_count": 28,
     "metadata": {},
     "output_type": "execute_result"
    }
   ],
   "source": [
    "x = \"cat is on the dog is on the cat\"\n",
    "re.subn(\"cat\",\"mat\",x)"
   ]
  },
  {
   "cell_type": "code",
   "execution_count": null,
   "metadata": {},
   "outputs": [],
   "source": []
  },
  {
   "cell_type": "code",
   "execution_count": 37,
   "metadata": {},
   "outputs": [
    {
     "data": {
      "text/plain": [
       "1994"
      ]
     },
     "execution_count": 37,
     "metadata": {},
     "output_type": "execute_result"
    }
   ],
   "source": [
    "def roman_to_number(roman : str) -> int:\n",
    "    \n",
    "    mapping = {\n",
    "        \"I\" : 1, \n",
    "        \"V\" : 5,\n",
    "        \"X\" : 10, \n",
    "        \"L\" : 50, \n",
    "        \"C\" : 100, \n",
    "        \"D\" : 500, \n",
    "        \"M\" : 1000\n",
    "        }\n",
    "    \n",
    "    result = 0\n",
    "    for i in range(len(roman)):\n",
    "        \n",
    "        if i + 1 < len(roman)  and mapping[roman[i+1]] > mapping[roman[i]]:\n",
    "            result -= mapping[roman[i]]\n",
    "        \n",
    "        else:    \n",
    "            result += mapping[roman[i]]\n",
    "            \n",
    "        \n",
    "        \n",
    "    return result\n",
    "    \n",
    "    \n",
    "\n",
    "roman_to_number('MCMXCIV')"
   ]
  },
  {
   "cell_type": "code",
   "execution_count": 51,
   "metadata": {},
   "outputs": [],
   "source": [
    "def num_to_roman(number): \n",
    "    mapping = {\n",
    "        \"I\" : 1, \n",
    "        \"IV\" : 4,\n",
    "        \"V\" : 5,\n",
    "        \"IX\" : 9,\n",
    "        \"X\" : 10, \n",
    "        \"XL\" : 40,\n",
    "        \"L\" : 50,\n",
    "        \"XC\" : 90, \n",
    "        \"C\" : 100, \n",
    "        \"CD\" : 400,\n",
    "        \"D\" : 500, \n",
    "        \"CM\" : 900,\n",
    "        \"M\" : 1000\n",
    "        }\n",
    "    \n",
    "    mapping = {k : v for k , v in sorted(mapping.items(), key= lambda x : x[1], reverse=True)}\n",
    "    print(mapping)\n",
    "    \n",
    "    result_str = \"\"\n",
    "    \n",
    "    for k , v in mapping.items():\n",
    "        q, r = divmod(number, v)\n",
    "        \n",
    "        result_str += (k * q)\n",
    "        \n",
    "        number = r\n",
    "        \n",
    "    \n",
    "    return result_str"
   ]
  },
  {
   "cell_type": "code",
   "execution_count": 52,
   "metadata": {},
   "outputs": [
    {
     "name": "stdout",
     "output_type": "stream",
     "text": [
      "{'M': 1000, 'CM': 900, 'D': 500, 'CD': 400, 'C': 100, 'XC': 90, 'L': 50, 'XL': 40, 'X': 10, 'IX': 9, 'V': 5, 'IV': 4, 'I': 1}\n"
     ]
    },
    {
     "data": {
      "text/plain": [
       "'MCMXCIV'"
      ]
     },
     "execution_count": 52,
     "metadata": {},
     "output_type": "execute_result"
    }
   ],
   "source": [
    "num_to_roman(1994)"
   ]
  },
  {
   "cell_type": "code",
   "execution_count": 46,
   "metadata": {},
   "outputs": [],
   "source": [
    "mapping = {\n",
    "    \"I\" : 1, \n",
    "    \"IV\" : 4,\n",
    "    \"V\" : 5,\n",
    "    \"IX\" : 9,\n",
    "    \"X\" : 10, \n",
    "    \"XL\" : 40,\n",
    "    \"L\" : 50,\n",
    "    \"XC\" : 90, \n",
    "    \"C\" : 100, \n",
    "    \"CD\" : 400,\n",
    "    \"D\" : 500, \n",
    "    \"CM\" : 900,\n",
    "    \"M\" : 1000\n",
    "    }\n"
   ]
  },
  {
   "cell_type": "code",
   "execution_count": 50,
   "metadata": {},
   "outputs": [
    {
     "data": {
      "text/plain": [
       "{'M': 1000,\n",
       " 'CM': 900,\n",
       " 'D': 500,\n",
       " 'CD': 400,\n",
       " 'C': 100,\n",
       " 'XC': 90,\n",
       " 'L': 50,\n",
       " 'XL': 40,\n",
       " 'X': 10,\n",
       " 'IX': 9,\n",
       " 'V': 5,\n",
       " 'IV': 4,\n",
       " 'I': 1}"
      ]
     },
     "execution_count": 50,
     "metadata": {},
     "output_type": "execute_result"
    }
   ],
   "source": [
    "{k:v for k,v in sorted(mapping.items(), key=lambda x : x[-1], reverse=True)}"
   ]
  },
  {
   "cell_type": "code",
   "execution_count": 11,
   "metadata": {},
   "outputs": [],
   "source": [
    "import nltk \n",
    "from nltk.tokenize import word_tokenize, sent_tokenize\n",
    "\n",
    "\n",
    "word=\"I am Rajan. I live in Canada.\"\n",
    "\n",
    "sent_toks = sent_tokenize(word)\n",
    "\n",
    "word_toks = [ word_tokenize(x) for x in sent_toks]\n",
    "\n",
    "pos_tags = [nltk.pos_tag(x) for x in word_toks]\n",
    "\n",
    "ner_tags = nltk.ne_chunk_sents(pos_tags, binary=True)\n",
    "\n"
   ]
  },
  {
   "cell_type": "code",
   "execution_count": 12,
   "metadata": {},
   "outputs": [
    {
     "name": "stdout",
     "output_type": "stream",
     "text": [
      "(NE Rajan/NNP)\n",
      "(NE Canada/NNP)\n"
     ]
    }
   ],
   "source": [
    "for tags in ner_tags:\n",
    "    for tag in tags:\n",
    "        if hasattr(tag, \"label\") and tag.label() ==\"NE\": \n",
    "            print(tag)\n",
    "            "
   ]
  },
  {
   "cell_type": "code",
   "execution_count": 20,
   "metadata": {},
   "outputs": [
    {
     "name": "stdout",
     "output_type": "stream",
     "text": [
      "[']', 'cameraman', ':', 'christ', '!']\n"
     ]
    },
    {
     "name": "stderr",
     "output_type": "stream",
     "text": [
      "[nltk_data] Downloading package webtext to /home/rjn/nltk_data...\n",
      "[nltk_data]   Package webtext is already up-to-date!\n"
     ]
    }
   ],
   "source": [
    "import nltk\n",
    "import pandas as pd\n",
    "\n",
    "nltk.download('webtext')\n",
    "\n",
    "from nltk.corpus import webtext\n",
    "\n",
    "words = [w.lower() for w in webtext.words('grail.txt')]\n",
    "\n",
    "print(words[-5:])"
   ]
  },
  {
   "cell_type": "code",
   "execution_count": 15,
   "metadata": {},
   "outputs": [
    {
     "name": "stdout",
     "output_type": "stream",
     "text": [
      "[(\"'\", 's'), ('arthur', ':'), ('#', '1'), (\"'\", 't'), ('villager', '#')]\n"
     ]
    }
   ],
   "source": [
    "from nltk.collocations import BigramCollocationFinder, BigramAssocMeasures\n",
    "\n",
    "bigram_finder = BigramCollocationFinder.from_words(words=words)\n",
    "\n",
    "bigram_finder.apply_freq_filter(5)\n",
    "\n",
    "filtered = bigram_finder.nbest(score_fn=BigramAssocMeasures.likelihood_ratio, n=5)\n",
    "\n",
    "print(filtered)"
   ]
  },
  {
   "cell_type": "code",
   "execution_count": 22,
   "metadata": {},
   "outputs": [],
   "source": [
    "from nltk.corpus import stopwords\n",
    "\n",
    "stopsets = set(stopwords.words('english'))\n",
    "\n",
    "filter_stopwords = lambda x : x in stopsets or len(x) < 3\n"
   ]
  },
  {
   "cell_type": "code",
   "execution_count": 23,
   "metadata": {},
   "outputs": [],
   "source": [
    "bigram_finder = BigramCollocationFinder.from_words(words)\n",
    "\n",
    "bigram_finder.apply_word_filter(fn=filter_stopwords)\n",
    "\n",
    "bigram_finder.apply_freq_filter(min_freq=5)\n",
    "\n",
    "filtered = bigram_finder.nbest(score_fn=BigramAssocMeasures.pmi, n=5)"
   ]
  },
  {
   "cell_type": "code",
   "execution_count": 24,
   "metadata": {},
   "outputs": [
    {
     "data": {
      "text/plain": [
       "[('dramatic', 'chord'),\n",
       " ('dona', 'eis'),\n",
       " ('eis', 'requiem'),\n",
       " ('hand', 'grenade'),\n",
       " ('angels', 'sing')]"
      ]
     },
     "execution_count": 24,
     "metadata": {},
     "output_type": "execute_result"
    }
   ],
   "source": [
    "filtered"
   ]
  },
  {
   "cell_type": "code",
   "execution_count": 33,
   "metadata": {},
   "outputs": [
    {
     "data": {
      "text/plain": [
       "['123-5671', '1234']"
      ]
     },
     "execution_count": 33,
     "metadata": {},
     "output_type": "execute_result"
    }
   ],
   "source": [
    "import re \n",
    "x = \"123-5671 and 1234\"\n",
    "capture = r\"(?:[\\d]+)?-?(?:\\d{4})\"\n",
    "re.findall(capture,x)"
   ]
  },
  {
   "cell_type": "code",
   "execution_count": 34,
   "metadata": {},
   "outputs": [],
   "source": [
    "from nltk.corpus import wordnet"
   ]
  },
  {
   "cell_type": "code",
   "execution_count": 44,
   "metadata": {},
   "outputs": [],
   "source": [
    "syns = wordnet.synsets(\"good\")"
   ]
  },
  {
   "cell_type": "code",
   "execution_count": 45,
   "metadata": {},
   "outputs": [
    {
     "data": {
      "text/plain": [
       "[Synset('good.n.01'),\n",
       " Synset('good.n.02'),\n",
       " Synset('good.n.03'),\n",
       " Synset('commodity.n.01'),\n",
       " Synset('good.a.01'),\n",
       " Synset('full.s.06'),\n",
       " Synset('good.a.03'),\n",
       " Synset('estimable.s.02'),\n",
       " Synset('beneficial.s.01'),\n",
       " Synset('good.s.06'),\n",
       " Synset('good.s.07'),\n",
       " Synset('adept.s.01'),\n",
       " Synset('good.s.09'),\n",
       " Synset('dear.s.02'),\n",
       " Synset('dependable.s.04'),\n",
       " Synset('good.s.12'),\n",
       " Synset('good.s.13'),\n",
       " Synset('effective.s.04'),\n",
       " Synset('good.s.15'),\n",
       " Synset('good.s.16'),\n",
       " Synset('good.s.17'),\n",
       " Synset('good.s.18'),\n",
       " Synset('good.s.19'),\n",
       " Synset('good.s.20'),\n",
       " Synset('good.s.21'),\n",
       " Synset('well.r.01'),\n",
       " Synset('thoroughly.r.02')]"
      ]
     },
     "execution_count": 45,
     "metadata": {},
     "output_type": "execute_result"
    }
   ],
   "source": [
    "syns"
   ]
  },
  {
   "cell_type": "code",
   "execution_count": 43,
   "metadata": {},
   "outputs": [
    {
     "data": {
      "text/plain": [
       "[Lemma('good.n.02.good'), Lemma('good.n.02.goodness')]"
      ]
     },
     "execution_count": 43,
     "metadata": {},
     "output_type": "execute_result"
    }
   ],
   "source": [
    "syns[1].lemmas()\n"
   ]
  },
  {
   "cell_type": "code",
   "execution_count": 53,
   "metadata": {},
   "outputs": [
    {
     "data": {
      "text/plain": [
       "(['good',\n",
       "  'good',\n",
       "  'goodness',\n",
       "  'good',\n",
       "  'goodness',\n",
       "  'commodity',\n",
       "  'trade_good',\n",
       "  'good',\n",
       "  'good',\n",
       "  'full',\n",
       "  'good',\n",
       "  'good',\n",
       "  'estimable',\n",
       "  'good',\n",
       "  'honorable',\n",
       "  'respectable',\n",
       "  'beneficial',\n",
       "  'good',\n",
       "  'good',\n",
       "  'good',\n",
       "  'just',\n",
       "  'upright',\n",
       "  'adept',\n",
       "  'expert',\n",
       "  'good',\n",
       "  'practiced',\n",
       "  'proficient',\n",
       "  'skillful',\n",
       "  'skilful',\n",
       "  'good',\n",
       "  'dear',\n",
       "  'good',\n",
       "  'near',\n",
       "  'dependable',\n",
       "  'good',\n",
       "  'safe',\n",
       "  'secure',\n",
       "  'good',\n",
       "  'right',\n",
       "  'ripe',\n",
       "  'good',\n",
       "  'well',\n",
       "  'effective',\n",
       "  'good',\n",
       "  'in_effect',\n",
       "  'in_force',\n",
       "  'good',\n",
       "  'good',\n",
       "  'serious',\n",
       "  'good',\n",
       "  'sound',\n",
       "  'good',\n",
       "  'salutary',\n",
       "  'good',\n",
       "  'honest',\n",
       "  'good',\n",
       "  'undecomposed',\n",
       "  'unspoiled',\n",
       "  'unspoilt',\n",
       "  'good',\n",
       "  'well',\n",
       "  'good',\n",
       "  'thoroughly',\n",
       "  'soundly',\n",
       "  'good'],\n",
       " ['evil', 'evilness', 'bad', 'badness', 'bad', 'evil', 'ill'])"
      ]
     },
     "execution_count": 53,
     "metadata": {},
     "output_type": "execute_result"
    }
   ],
   "source": [
    "def find_syn_antyn(word): \n",
    "    syn =[]\n",
    "    anto = []\n",
    "    synsets = wordnet.synsets(word)\n",
    "    for synset in  synsets: \n",
    "        lemmas = synset.lemmas()\n",
    "        for lemma in lemmas:\n",
    "            syn.append(lemma.name())\n",
    "\n",
    "            if lemma.antonyms():\n",
    "                antonymns = lemma.antonyms()\n",
    "                for ant in antonymns:\n",
    "                    anto.append(ant.name())\n",
    "    \n",
    "    return syn, anto\n",
    "            \n",
    "            \n",
    "find_syn_antyn(\"good\")"
   ]
  },
  {
   "cell_type": "code",
   "execution_count": 59,
   "metadata": {},
   "outputs": [
    {
     "name": "stdout",
     "output_type": "stream",
     "text": [
      "aaaaa\n"
     ]
    }
   ],
   "source": [
    "match = re.search(r'(.)\\1+', \"Raaaaajan\")\n",
    "if match:\n",
    "    print(match.group(0))  # group(0) returns the whole match"
   ]
  },
  {
   "cell_type": "code",
   "execution_count": 62,
   "metadata": {},
   "outputs": [
    {
     "name": "stdout",
     "output_type": "stream",
     "text": [
      "<re.Match object; span=(0, 8), match='Rajan123'>\n"
     ]
    },
    {
     "name": "stderr",
     "output_type": "stream",
     "text": [
      "<>:1: SyntaxWarning: invalid escape sequence '\\w'\n",
      "<>:1: SyntaxWarning: invalid escape sequence '\\w'\n",
      "/tmp/ipykernel_35098/2246239866.py:1: SyntaxWarning: invalid escape sequence '\\w'\n",
      "  print(re.search(\"\\w+\",\"Rajan123\"))\n"
     ]
    }
   ],
   "source": [
    "print(re.search(\"\\w+\",\"Rajan123\"))"
   ]
  },
  {
   "cell_type": "code",
   "execution_count": null,
   "metadata": {},
   "outputs": [],
   "source": []
  }
 ],
 "metadata": {
  "kernelspec": {
   "display_name": "main_env",
   "language": "python",
   "name": "python3"
  },
  "language_info": {
   "codemirror_mode": {
    "name": "ipython",
    "version": 3
   },
   "file_extension": ".py",
   "mimetype": "text/x-python",
   "name": "python",
   "nbconvert_exporter": "python",
   "pygments_lexer": "ipython3",
   "version": "3.12.3"
  }
 },
 "nbformat": 4,
 "nbformat_minor": 2
}

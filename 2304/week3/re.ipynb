{
 "cells": [
  {
   "cell_type": "markdown",
   "metadata": {},
   "source": [
    "## TOknenization Continued"
   ]
  },
  {
   "cell_type": "code",
   "execution_count": 2,
   "metadata": {},
   "outputs": [],
   "source": [
    "import numpy as np \n",
    "from sklearn.feature_extraction.text import CountVectorizer\n",
    "import pandas as pd "
   ]
  },
  {
   "cell_type": "code",
   "execution_count": 3,
   "metadata": {},
   "outputs": [
    {
     "name": "stdout",
     "output_type": "stream",
     "text": [
      "[[1 0 0 1]\n",
      " [0 1 1 1]]\n",
      "   love  loves  me  programming\n",
      "0     1      0   0            1\n",
      "1     0      1   1            1\n"
     ]
    }
   ],
   "source": [
    "cv = CountVectorizer()\n",
    "\n",
    "text_data = np.array([\"I love programming.\", \"Programming loves me.\"])\n",
    "bow = cv.fit_transform(text_data)\n",
    "\n",
    "print(bow.toarray())\n",
    "\n",
    "df = pd.DataFrame(bow.toarray(),columns=cv.get_feature_names_out())\n",
    "print(df.head())"
   ]
  },
  {
   "cell_type": "markdown",
   "metadata": {},
   "source": [
    "Count Vectorizer with NGRAM"
   ]
  },
  {
   "cell_type": "code",
   "execution_count": 4,
   "metadata": {},
   "outputs": [
    {
     "name": "stdout",
     "output_type": "stream",
     "text": [
      "[[0 0 0 0 0 0 0 0 0 0 0 0 0 0 0 0 0 0 0 0 0 0 0 0 0 0 0 0 1 1 0 0 0 0 0 0\n",
      "  0 0 0 0 0 1 0 0 0 0 0 0 0 0 0 0 0]\n",
      " [0 0 0 0 0 0 0 0 0 0 0 0 0 0 0 0 0 0 0 0 0 0 0 0 0 0 0 0 0 0 1 1 1 0 0 0\n",
      "  0 0 0 0 0 1 1 0 0 0 0 0 0 0 0 0 0]\n",
      " [1 1 0 0 1 1 0 0 1 1 1 1 0 1 1 1 1 1 1 1 1 1 1 1 1 1 1 1 0 0 0 0 0 1 1 0\n",
      "  0 0 0 0 0 0 0 1 0 1 0 0 0 0 0 1 1]\n",
      " [0 0 1 1 0 0 1 1 0 0 0 0 1 0 0 0 0 0 0 0 0 0 0 0 0 0 0 0 0 0 0 0 0 0 0 1\n",
      "  1 1 1 1 1 0 0 1 1 0 2 1 1 1 1 0 0]]\n",
      "{'love': 28, 'programming': 41, 'love programming': 29, 'loves': 30, 'me': 32, 'programming loves': 42, 'loves me': 31, 'the': 43, 'chat': 15, 'input': 20, 'can': 13, 'also': 0, 'be': 8, 'used': 51, 'inline': 18, 'by': 10, 'nesting': 33, 'it': 24, 'inside': 22, 'any': 4, 'layout': 26, 'container': 17, 'the chat': 45, 'chat input': 16, 'input can': 21, 'can also': 14, 'also be': 1, 'be used': 9, 'used inline': 52, 'inline by': 19, 'by nesting': 11, 'nesting it': 34, 'it inside': 25, 'inside any': 23, 'any layout': 5, 'layout container': 27, 'an': 2, 'optional': 37, 'tuple': 49, 'of': 35, 'args': 6, 'to': 46, 'pass': 39, 'callback': 12, 'an optional': 3, 'optional tuple': 38, 'tuple of': 50, 'of args': 36, 'args to': 7, 'to pass': 47, 'pass to': 40, 'to the': 48, 'the callback': 44}\n"
     ]
    }
   ],
   "source": [
    "cv = CountVectorizer(ngram_range=(1,2))\n",
    "\n",
    "text_data = np.array([\"I love programming.\", \"Programming loves me.\", \n",
    "                      \"The chat input can also be used inline by nesting it inside any layout container.\",\n",
    "                      \"An optional tuple of args to pass to the callback.\"])\n",
    "bow = cv.fit_transform(text_data)\n",
    "\n",
    "print(bow.toarray())\n",
    "\n",
    "print(cv.vocabulary_)"
   ]
  },
  {
   "cell_type": "code",
   "execution_count": 5,
   "metadata": {},
   "outputs": [
    {
     "name": "stdout",
     "output_type": "stream",
     "text": [
      "   also  also be  an  an optional  any  any layout  args  args to  be  \\\n",
      "0     0        0   0            0    0           0     0        0   0   \n",
      "1     0        0   0            0    0           0     0        0   0   \n",
      "2     1        1   0            0    1           1     0        0   1   \n",
      "3     0        0   1            1    0           0     1        1   0   \n",
      "\n",
      "   be used  ...  the  the callback  the chat  to  to pass  to the  tuple  \\\n",
      "0        0  ...    0             0         0   0        0       0      0   \n",
      "1        0  ...    0             0         0   0        0       0      0   \n",
      "2        1  ...    1             0         1   0        0       0      0   \n",
      "3        0  ...    1             1         0   2        1       1      1   \n",
      "\n",
      "   tuple of  used  used inline  \n",
      "0         0     0            0  \n",
      "1         0     0            0  \n",
      "2         0     1            1  \n",
      "3         1     0            0  \n",
      "\n",
      "[4 rows x 53 columns]\n"
     ]
    }
   ],
   "source": [
    "df = pd.DataFrame(bow.toarray(),columns=cv.get_feature_names_out())\n",
    "print(df.head())"
   ]
  },
  {
   "cell_type": "markdown",
   "metadata": {},
   "source": [
    "## TFIDF"
   ]
  },
  {
   "cell_type": "code",
   "execution_count": 6,
   "metadata": {},
   "outputs": [],
   "source": [
    "from sklearn.feature_extraction.text import TfidfVectorizer"
   ]
  },
  {
   "cell_type": "code",
   "execution_count": 7,
   "metadata": {},
   "outputs": [],
   "source": [
    "tfidf = TfidfVectorizer()\n",
    "\n",
    "feature_mat = tfidf.fit_transform(text_data)"
   ]
  },
  {
   "cell_type": "code",
   "execution_count": 8,
   "metadata": {},
   "outputs": [
    {
     "data": {
      "text/html": [
       "<div>\n",
       "<style scoped>\n",
       "    .dataframe tbody tr th:only-of-type {\n",
       "        vertical-align: middle;\n",
       "    }\n",
       "\n",
       "    .dataframe tbody tr th {\n",
       "        vertical-align: top;\n",
       "    }\n",
       "\n",
       "    .dataframe thead th {\n",
       "        text-align: right;\n",
       "    }\n",
       "</style>\n",
       "<table border=\"1\" class=\"dataframe\">\n",
       "  <thead>\n",
       "    <tr style=\"text-align: right;\">\n",
       "      <th></th>\n",
       "      <th>also</th>\n",
       "      <th>an</th>\n",
       "      <th>any</th>\n",
       "      <th>args</th>\n",
       "      <th>be</th>\n",
       "      <th>by</th>\n",
       "      <th>callback</th>\n",
       "      <th>can</th>\n",
       "      <th>chat</th>\n",
       "      <th>container</th>\n",
       "      <th>...</th>\n",
       "      <th>me</th>\n",
       "      <th>nesting</th>\n",
       "      <th>of</th>\n",
       "      <th>optional</th>\n",
       "      <th>pass</th>\n",
       "      <th>programming</th>\n",
       "      <th>the</th>\n",
       "      <th>to</th>\n",
       "      <th>tuple</th>\n",
       "      <th>used</th>\n",
       "    </tr>\n",
       "  </thead>\n",
       "  <tbody>\n",
       "    <tr>\n",
       "      <th>0</th>\n",
       "      <td>0.000000</td>\n",
       "      <td>0.000000</td>\n",
       "      <td>0.000000</td>\n",
       "      <td>0.000000</td>\n",
       "      <td>0.000000</td>\n",
       "      <td>0.000000</td>\n",
       "      <td>0.000000</td>\n",
       "      <td>0.000000</td>\n",
       "      <td>0.000000</td>\n",
       "      <td>0.000000</td>\n",
       "      <td>...</td>\n",
       "      <td>0.000000</td>\n",
       "      <td>0.000000</td>\n",
       "      <td>0.000000</td>\n",
       "      <td>0.000000</td>\n",
       "      <td>0.000000</td>\n",
       "      <td>0.619130</td>\n",
       "      <td>0.000000</td>\n",
       "      <td>0.000000</td>\n",
       "      <td>0.000000</td>\n",
       "      <td>0.000000</td>\n",
       "    </tr>\n",
       "    <tr>\n",
       "      <th>1</th>\n",
       "      <td>0.000000</td>\n",
       "      <td>0.000000</td>\n",
       "      <td>0.000000</td>\n",
       "      <td>0.000000</td>\n",
       "      <td>0.000000</td>\n",
       "      <td>0.000000</td>\n",
       "      <td>0.000000</td>\n",
       "      <td>0.000000</td>\n",
       "      <td>0.000000</td>\n",
       "      <td>0.000000</td>\n",
       "      <td>...</td>\n",
       "      <td>0.617614</td>\n",
       "      <td>0.000000</td>\n",
       "      <td>0.000000</td>\n",
       "      <td>0.000000</td>\n",
       "      <td>0.000000</td>\n",
       "      <td>0.486934</td>\n",
       "      <td>0.000000</td>\n",
       "      <td>0.000000</td>\n",
       "      <td>0.000000</td>\n",
       "      <td>0.000000</td>\n",
       "    </tr>\n",
       "    <tr>\n",
       "      <th>2</th>\n",
       "      <td>0.261519</td>\n",
       "      <td>0.000000</td>\n",
       "      <td>0.261519</td>\n",
       "      <td>0.000000</td>\n",
       "      <td>0.261519</td>\n",
       "      <td>0.261519</td>\n",
       "      <td>0.000000</td>\n",
       "      <td>0.261519</td>\n",
       "      <td>0.261519</td>\n",
       "      <td>0.261519</td>\n",
       "      <td>...</td>\n",
       "      <td>0.000000</td>\n",
       "      <td>0.261519</td>\n",
       "      <td>0.000000</td>\n",
       "      <td>0.000000</td>\n",
       "      <td>0.000000</td>\n",
       "      <td>0.000000</td>\n",
       "      <td>0.206184</td>\n",
       "      <td>0.000000</td>\n",
       "      <td>0.000000</td>\n",
       "      <td>0.261519</td>\n",
       "    </tr>\n",
       "    <tr>\n",
       "      <th>3</th>\n",
       "      <td>0.000000</td>\n",
       "      <td>0.293337</td>\n",
       "      <td>0.000000</td>\n",
       "      <td>0.293337</td>\n",
       "      <td>0.000000</td>\n",
       "      <td>0.000000</td>\n",
       "      <td>0.293337</td>\n",
       "      <td>0.000000</td>\n",
       "      <td>0.000000</td>\n",
       "      <td>0.000000</td>\n",
       "      <td>...</td>\n",
       "      <td>0.000000</td>\n",
       "      <td>0.000000</td>\n",
       "      <td>0.293337</td>\n",
       "      <td>0.293337</td>\n",
       "      <td>0.293337</td>\n",
       "      <td>0.000000</td>\n",
       "      <td>0.231270</td>\n",
       "      <td>0.586674</td>\n",
       "      <td>0.293337</td>\n",
       "      <td>0.000000</td>\n",
       "    </tr>\n",
       "  </tbody>\n",
       "</table>\n",
       "<p>4 rows × 27 columns</p>\n",
       "</div>"
      ],
      "text/plain": [
       "       also        an       any      args        be        by  callback  \\\n",
       "0  0.000000  0.000000  0.000000  0.000000  0.000000  0.000000  0.000000   \n",
       "1  0.000000  0.000000  0.000000  0.000000  0.000000  0.000000  0.000000   \n",
       "2  0.261519  0.000000  0.261519  0.000000  0.261519  0.261519  0.000000   \n",
       "3  0.000000  0.293337  0.000000  0.293337  0.000000  0.000000  0.293337   \n",
       "\n",
       "        can      chat  container  ...        me   nesting        of  optional  \\\n",
       "0  0.000000  0.000000   0.000000  ...  0.000000  0.000000  0.000000  0.000000   \n",
       "1  0.000000  0.000000   0.000000  ...  0.617614  0.000000  0.000000  0.000000   \n",
       "2  0.261519  0.261519   0.261519  ...  0.000000  0.261519  0.000000  0.000000   \n",
       "3  0.000000  0.000000   0.000000  ...  0.000000  0.000000  0.293337  0.293337   \n",
       "\n",
       "       pass  programming       the        to     tuple      used  \n",
       "0  0.000000     0.619130  0.000000  0.000000  0.000000  0.000000  \n",
       "1  0.000000     0.486934  0.000000  0.000000  0.000000  0.000000  \n",
       "2  0.000000     0.000000  0.206184  0.000000  0.000000  0.261519  \n",
       "3  0.293337     0.000000  0.231270  0.586674  0.293337  0.000000  \n",
       "\n",
       "[4 rows x 27 columns]"
      ]
     },
     "execution_count": 8,
     "metadata": {},
     "output_type": "execute_result"
    }
   ],
   "source": [
    "df = pd.DataFrame(feature_mat.toarray(),columns=tfidf.get_feature_names_out())\n",
    "df.head()"
   ]
  },
  {
   "cell_type": "code",
   "execution_count": 9,
   "metadata": {},
   "outputs": [
    {
     "data": {
      "text/plain": [
       "{'love': 15,\n",
       " 'programming': 22,\n",
       " 'loves': 16,\n",
       " 'me': 17,\n",
       " 'the': 23,\n",
       " 'chat': 8,\n",
       " 'input': 11,\n",
       " 'can': 7,\n",
       " 'also': 0,\n",
       " 'be': 4,\n",
       " 'used': 26,\n",
       " 'inline': 10,\n",
       " 'by': 5,\n",
       " 'nesting': 18,\n",
       " 'it': 13,\n",
       " 'inside': 12,\n",
       " 'any': 2,\n",
       " 'layout': 14,\n",
       " 'container': 9,\n",
       " 'an': 1,\n",
       " 'optional': 20,\n",
       " 'tuple': 25,\n",
       " 'of': 19,\n",
       " 'args': 3,\n",
       " 'to': 24,\n",
       " 'pass': 21,\n",
       " 'callback': 6}"
      ]
     },
     "execution_count": 9,
     "metadata": {},
     "output_type": "execute_result"
    }
   ],
   "source": [
    "tfidf.vocabulary_"
   ]
  },
  {
   "cell_type": "code",
   "execution_count": 10,
   "metadata": {},
   "outputs": [
    {
     "data": {
      "text/html": [
       "<div>\n",
       "<style scoped>\n",
       "    .dataframe tbody tr th:only-of-type {\n",
       "        vertical-align: middle;\n",
       "    }\n",
       "\n",
       "    .dataframe tbody tr th {\n",
       "        vertical-align: top;\n",
       "    }\n",
       "\n",
       "    .dataframe thead th {\n",
       "        text-align: right;\n",
       "    }\n",
       "</style>\n",
       "<table border=\"1\" class=\"dataframe\">\n",
       "  <thead>\n",
       "    <tr style=\"text-align: right;\">\n",
       "      <th></th>\n",
       "      <th>also be</th>\n",
       "      <th>also be used</th>\n",
       "      <th>an optional</th>\n",
       "      <th>an optional tuple</th>\n",
       "      <th>any layout</th>\n",
       "      <th>any layout container</th>\n",
       "      <th>args to</th>\n",
       "      <th>args to pass</th>\n",
       "      <th>be used</th>\n",
       "      <th>be used inline</th>\n",
       "      <th>...</th>\n",
       "      <th>the chat</th>\n",
       "      <th>the chat input</th>\n",
       "      <th>to pass</th>\n",
       "      <th>to pass to</th>\n",
       "      <th>to the</th>\n",
       "      <th>to the callback</th>\n",
       "      <th>tuple of</th>\n",
       "      <th>tuple of args</th>\n",
       "      <th>used inline</th>\n",
       "      <th>used inline by</th>\n",
       "    </tr>\n",
       "  </thead>\n",
       "  <tbody>\n",
       "    <tr>\n",
       "      <th>0</th>\n",
       "      <td>0.00000</td>\n",
       "      <td>0.00000</td>\n",
       "      <td>0.000000</td>\n",
       "      <td>0.000000</td>\n",
       "      <td>0.00000</td>\n",
       "      <td>0.00000</td>\n",
       "      <td>0.000000</td>\n",
       "      <td>0.000000</td>\n",
       "      <td>0.00000</td>\n",
       "      <td>0.00000</td>\n",
       "      <td>...</td>\n",
       "      <td>0.00000</td>\n",
       "      <td>0.00000</td>\n",
       "      <td>0.000000</td>\n",
       "      <td>0.000000</td>\n",
       "      <td>0.000000</td>\n",
       "      <td>0.000000</td>\n",
       "      <td>0.000000</td>\n",
       "      <td>0.000000</td>\n",
       "      <td>0.00000</td>\n",
       "      <td>0.00000</td>\n",
       "    </tr>\n",
       "    <tr>\n",
       "      <th>1</th>\n",
       "      <td>0.00000</td>\n",
       "      <td>0.00000</td>\n",
       "      <td>0.000000</td>\n",
       "      <td>0.000000</td>\n",
       "      <td>0.00000</td>\n",
       "      <td>0.00000</td>\n",
       "      <td>0.000000</td>\n",
       "      <td>0.000000</td>\n",
       "      <td>0.00000</td>\n",
       "      <td>0.00000</td>\n",
       "      <td>...</td>\n",
       "      <td>0.00000</td>\n",
       "      <td>0.00000</td>\n",
       "      <td>0.000000</td>\n",
       "      <td>0.000000</td>\n",
       "      <td>0.000000</td>\n",
       "      <td>0.000000</td>\n",
       "      <td>0.000000</td>\n",
       "      <td>0.000000</td>\n",
       "      <td>0.00000</td>\n",
       "      <td>0.00000</td>\n",
       "    </tr>\n",
       "    <tr>\n",
       "      <th>2</th>\n",
       "      <td>0.19245</td>\n",
       "      <td>0.19245</td>\n",
       "      <td>0.000000</td>\n",
       "      <td>0.000000</td>\n",
       "      <td>0.19245</td>\n",
       "      <td>0.19245</td>\n",
       "      <td>0.000000</td>\n",
       "      <td>0.000000</td>\n",
       "      <td>0.19245</td>\n",
       "      <td>0.19245</td>\n",
       "      <td>...</td>\n",
       "      <td>0.19245</td>\n",
       "      <td>0.19245</td>\n",
       "      <td>0.000000</td>\n",
       "      <td>0.000000</td>\n",
       "      <td>0.000000</td>\n",
       "      <td>0.000000</td>\n",
       "      <td>0.000000</td>\n",
       "      <td>0.000000</td>\n",
       "      <td>0.19245</td>\n",
       "      <td>0.19245</td>\n",
       "    </tr>\n",
       "    <tr>\n",
       "      <th>3</th>\n",
       "      <td>0.00000</td>\n",
       "      <td>0.00000</td>\n",
       "      <td>0.242536</td>\n",
       "      <td>0.242536</td>\n",
       "      <td>0.00000</td>\n",
       "      <td>0.00000</td>\n",
       "      <td>0.242536</td>\n",
       "      <td>0.242536</td>\n",
       "      <td>0.00000</td>\n",
       "      <td>0.00000</td>\n",
       "      <td>...</td>\n",
       "      <td>0.00000</td>\n",
       "      <td>0.00000</td>\n",
       "      <td>0.242536</td>\n",
       "      <td>0.242536</td>\n",
       "      <td>0.242536</td>\n",
       "      <td>0.242536</td>\n",
       "      <td>0.242536</td>\n",
       "      <td>0.242536</td>\n",
       "      <td>0.00000</td>\n",
       "      <td>0.00000</td>\n",
       "    </tr>\n",
       "  </tbody>\n",
       "</table>\n",
       "<p>4 rows × 48 columns</p>\n",
       "</div>"
      ],
      "text/plain": [
       "   also be  also be used  an optional  an optional tuple  any layout  \\\n",
       "0  0.00000       0.00000     0.000000           0.000000     0.00000   \n",
       "1  0.00000       0.00000     0.000000           0.000000     0.00000   \n",
       "2  0.19245       0.19245     0.000000           0.000000     0.19245   \n",
       "3  0.00000       0.00000     0.242536           0.242536     0.00000   \n",
       "\n",
       "   any layout container   args to  args to pass  be used  be used inline  ...  \\\n",
       "0               0.00000  0.000000      0.000000  0.00000         0.00000  ...   \n",
       "1               0.00000  0.000000      0.000000  0.00000         0.00000  ...   \n",
       "2               0.19245  0.000000      0.000000  0.19245         0.19245  ...   \n",
       "3               0.00000  0.242536      0.242536  0.00000         0.00000  ...   \n",
       "\n",
       "   the chat  the chat input   to pass  to pass to    to the  to the callback  \\\n",
       "0   0.00000         0.00000  0.000000    0.000000  0.000000         0.000000   \n",
       "1   0.00000         0.00000  0.000000    0.000000  0.000000         0.000000   \n",
       "2   0.19245         0.19245  0.000000    0.000000  0.000000         0.000000   \n",
       "3   0.00000         0.00000  0.242536    0.242536  0.242536         0.242536   \n",
       "\n",
       "   tuple of  tuple of args  used inline  used inline by  \n",
       "0  0.000000       0.000000      0.00000         0.00000  \n",
       "1  0.000000       0.000000      0.00000         0.00000  \n",
       "2  0.000000       0.000000      0.19245         0.19245  \n",
       "3  0.242536       0.242536      0.00000         0.00000  \n",
       "\n",
       "[4 rows x 48 columns]"
      ]
     },
     "execution_count": 10,
     "metadata": {},
     "output_type": "execute_result"
    }
   ],
   "source": [
    "tfidf = TfidfVectorizer(ngram_range=(2,3))\n",
    "\n",
    "feature_mat = tfidf.fit_transform(text_data)\n",
    "\n",
    "df = pd.DataFrame(feature_mat.toarray(),columns=tfidf.get_feature_names_out())\n",
    "df.head()"
   ]
  },
  {
   "cell_type": "code",
   "execution_count": 11,
   "metadata": {},
   "outputs": [],
   "source": [
    "import re"
   ]
  },
  {
   "cell_type": "code",
   "execution_count": 12,
   "metadata": {},
   "outputs": [],
   "source": [
    "text = \"The categorical cat hello mycat.\"\n",
    "text1 = \"Categorical cat hello mycat\""
   ]
  },
  {
   "cell_type": "code",
   "execution_count": 13,
   "metadata": {},
   "outputs": [
    {
     "name": "stdout",
     "output_type": "stream",
     "text": [
      "['The']\n",
      "[]\n"
     ]
    }
   ],
   "source": [
    "# Startig of a text.\n",
    "\n",
    "print(re.findall(r\"\\AThe\",text))\n",
    "print(re.findall(r\"\\AThe\",text1))\n"
   ]
  },
  {
   "cell_type": "code",
   "execution_count": 14,
   "metadata": {},
   "outputs": [
    {
     "name": "stdout",
     "output_type": "stream",
     "text": [
      "['cat', 'cat']\n",
      "['cat', 'cat']\n",
      "['cat']\n"
     ]
    }
   ],
   "source": [
    "# Starting of a word.\n",
    "\n",
    "print(re.findall(r\"\\bcat\",text))\n",
    "print(re.findall(r\"cat\\b\",text1))\n",
    "print(re.findall(r\"\\bcat\\b\",text1))\n",
    "\n"
   ]
  },
  {
   "cell_type": "code",
   "execution_count": 15,
   "metadata": {},
   "outputs": [
    {
     "name": "stdout",
     "output_type": "stream",
     "text": [
      "<re.Match object; span=(4, 7), match='cat'>\n"
     ]
    }
   ],
   "source": [
    "# return the index of specified patter\n",
    "print(re.search(r\"\\bcat\",text))\n"
   ]
  },
  {
   "cell_type": "code",
   "execution_count": 16,
   "metadata": {},
   "outputs": [
    {
     "name": "stdout",
     "output_type": "stream",
     "text": [
      "4\n",
      "16\n"
     ]
    }
   ],
   "source": [
    "# get span of the all of the string.. \n",
    "\n",
    "span = re.finditer(r\"\\bcat\",text)\n",
    "for s in span:\n",
    "    print(s.start())"
   ]
  },
  {
   "cell_type": "markdown",
   "metadata": {},
   "source": [
    "## \\B \n",
    "\n",
    "**Not at begining**"
   ]
  },
  {
   "cell_type": "code",
   "execution_count": 17,
   "metadata": {},
   "outputs": [
    {
     "name": "stdout",
     "output_type": "stream",
     "text": [
      "['zi']\n",
      "[]\n"
     ]
    }
   ],
   "source": [
    "text1 = \"This is an amazing classroom, every one speaks Engilish zizazo!\"\n",
    "text2 = \"This is an good classroom, every one speaks Engilish zizxzd!!\"\n",
    "\n",
    "print(re.findall(r\"\\Bzi\",text1))\n",
    "print(re.findall(r\"\\Bzi\",text2))\n"
   ]
  },
  {
   "cell_type": "code",
   "execution_count": 18,
   "metadata": {},
   "outputs": [
    {
     "name": "stdout",
     "output_type": "stream",
     "text": [
      "['class']\n",
      "[]\n"
     ]
    }
   ],
   "source": [
    "text = \"This is an amazing classroom, every one speaks Engilish. THis is Highclass!!\"\n",
    "print(re.findall(r\"\\Bclass\",text))\n",
    "\n",
    "\n",
    "print(re.findall(r\"\\Bclass\",text1))\n"
   ]
  },
  {
   "cell_type": "code",
   "execution_count": 19,
   "metadata": {},
   "outputs": [
    {
     "name": "stdout",
     "output_type": "stream",
     "text": [
      "['class', 'class']\n"
     ]
    }
   ],
   "source": [
    "text = \"This is an amazing classroom, every one speaks Engilish. THis is classy !!\"\n",
    "print(re.findall(r\"class\\B\",text))\n",
    "\n"
   ]
  },
  {
   "cell_type": "code",
   "execution_count": 20,
   "metadata": {},
   "outputs": [
    {
     "name": "stdout",
     "output_type": "stream",
     "text": [
      "[]\n"
     ]
    }
   ],
   "source": [
    "text = \"This are two amazing class, every one speaks Engilish. THis is classy !!\"\n",
    "print(re.findall(r\"\\Bclass\\B\",text))\n",
    "\n"
   ]
  },
  {
   "cell_type": "code",
   "execution_count": 21,
   "metadata": {},
   "outputs": [
    {
     "name": "stdout",
     "output_type": "stream",
     "text": [
      "['123 234 9845773992']\n"
     ]
    }
   ],
   "source": [
    "text = \"This are two amazing class, every one speaks Engilish. THis is classy !! 123 234 9845773992s people\"\n",
    "print(re.findall(r\"\\d{3}.\\d{3}.\\d+\",text))\n"
   ]
  },
  {
   "cell_type": "markdown",
   "metadata": {},
   "source": [
    "\\w : Everything expect white space\n",
    "\n",
    "\\W All special char"
   ]
  },
  {
   "cell_type": "code",
   "execution_count": 22,
   "metadata": {},
   "outputs": [
    {
     "name": "stdout",
     "output_type": "stream",
     "text": [
      "[' ', ' ', ' ', ' ', ',', ' ', ' ', ' ', ' ', '.', ' ', ' ', ' ', ' ', '!', '!', ' ', ' ', ' ', ' ']\n"
     ]
    }
   ],
   "source": [
    "print(re.findall(r'\\W',text))"
   ]
  },
  {
   "cell_type": "code",
   "execution_count": 23,
   "metadata": {},
   "outputs": [
    {
     "name": "stdout",
     "output_type": "stream",
     "text": [
      "This are two amazing class every one speaks Engilish THis is classy 123 234 9845773992s people\n"
     ]
    }
   ],
   "source": [
    "print(\" \".join(re.findall(r'\\w+',text)))"
   ]
  },
  {
   "cell_type": "markdown",
   "metadata": {},
   "source": [
    "### \\Z "
   ]
  },
  {
   "cell_type": "code",
   "execution_count": 24,
   "metadata": {},
   "outputs": [
    {
     "name": "stdout",
     "output_type": "stream",
     "text": [
      "['people']\n"
     ]
    }
   ],
   "source": [
    "print(re.findall(r'people\\Z',text))"
   ]
  },
  {
   "cell_type": "markdown",
   "metadata": {},
   "source": [
    "### [meta-characters]"
   ]
  },
  {
   "cell_type": "code",
   "execution_count": 25,
   "metadata": {},
   "outputs": [
    {
     "name": "stdout",
     "output_type": "stream",
     "text": [
      "['o', 'm', 'n', 'o', 'n', 'p', 'n', 'p', 'o', 'p']\n"
     ]
    }
   ],
   "source": [
    "result = re.findall(r'[m-q]',text)\n",
    "\n",
    "print(result)"
   ]
  },
  {
   "cell_type": "code",
   "execution_count": 26,
   "metadata": {},
   "outputs": [
    {
     "name": "stdout",
     "output_type": "stream",
     "text": [
      "[]\n"
     ]
    }
   ],
   "source": [
    "result = re.findall(r'[M-Q]',text)\n",
    "\n",
    "print(result)"
   ]
  },
  {
   "cell_type": "code",
   "execution_count": 27,
   "metadata": {},
   "outputs": [
    {
     "name": "stdout",
     "output_type": "stream",
     "text": [
      "['his', 'are', 'two', 'amazing', 'class', 'every', 'one', 'speaks', 'ngilish', 'is', 'is', 'classy', 's', 'people']\n"
     ]
    }
   ],
   "source": [
    "result = re.findall(r'[a-z]+',text)\n",
    "\n",
    "print(result)"
   ]
  },
  {
   "cell_type": "markdown",
   "metadata": {},
   "source": [
    "### \\dot"
   ]
  },
  {
   "cell_type": "code",
   "execution_count": 28,
   "metadata": {},
   "outputs": [
    {
     "name": "stdout",
     "output_type": "stream",
     "text": [
      "['classy']\n"
     ]
    }
   ],
   "source": [
    "result = re.findall(r'c....y',text)\n",
    "\n",
    "print(result)"
   ]
  },
  {
   "cell_type": "markdown",
   "metadata": {},
   "source": [
    "## |"
   ]
  },
  {
   "cell_type": "code",
   "execution_count": 29,
   "metadata": {},
   "outputs": [
    {
     "name": "stdout",
     "output_type": "stream",
     "text": [
      "['T']\n"
     ]
    }
   ],
   "source": [
    "text = \"This are two amazing class, every one speaks Engilish. THis is classy !! 123 234 9845773992s people\"\n",
    "\n",
    "result = re.findall(r'^T|^A',text)\n",
    "\n",
    "print(result)"
   ]
  },
  {
   "cell_type": "code",
   "execution_count": 30,
   "metadata": {},
   "outputs": [
    {
     "name": "stdout",
     "output_type": "stream",
     "text": [
      "['+']\n"
     ]
    }
   ],
   "source": [
    "text = \"This are two amazing class, every one speaks Engilish. THis is + classy !! 123 234 9845773992s people\"\n",
    "\n",
    "result = re.findall('[+]',text)\n",
    "\n",
    "print(result)"
   ]
  },
  {
   "cell_type": "markdown",
   "metadata": {},
   "source": [
    "## ?"
   ]
  },
  {
   "cell_type": "code",
   "execution_count": 31,
   "metadata": {},
   "outputs": [
    {
     "name": "stdout",
     "output_type": "stream",
     "text": [
      "1 [('1', '30'), ('12', '30'), ('1', '5'), ('12', '5')]\n",
      "1 [('12', '30')]\n",
      "1 [('1', '30'), ('2', '30')]\n",
      "1 []\n"
     ]
    },
    {
     "name": "stderr",
     "output_type": "stream",
     "text": [
      "<>:1: SyntaxWarning: invalid escape sequence '\\y'\n",
      "<>:1: SyntaxWarning: invalid escape sequence '\\y'\n",
      "/tmp/ipykernel_983/2638267064.py:1: SyntaxWarning: invalid escape sequence '\\y'\n",
      "  text = \"\\yes 1:30   no 12:30  maybe  1:5 test me 12:5\"\n"
     ]
    }
   ],
   "source": [
    "text = \"\\yes 1:30   no 12:30  maybe  1:5 test me 12:5\"\n",
    "\n",
    "print(1, re.findall(r\"(\\d?\\d):(\\d?\\d)\",text))\n",
    "print(1, re.findall(r\"(\\d\\d):(\\d\\d)\",text))\n",
    "print(1, re.findall(r\"(\\d?):(\\d\\d)\",text))\n",
    "print(1, re.findall(r\"(\\d]d):(\\d?\\d)\",text))\n",
    "\n",
    "\n"
   ]
  },
  {
   "cell_type": "code",
   "execution_count": null,
   "metadata": {},
   "outputs": [],
   "source": []
  }
 ],
 "metadata": {
  "kernelspec": {
   "display_name": "main_env",
   "language": "python",
   "name": "python3"
  },
  "language_info": {
   "codemirror_mode": {
    "name": "ipython",
    "version": 3
   },
   "file_extension": ".py",
   "mimetype": "text/x-python",
   "name": "python",
   "nbconvert_exporter": "python",
   "pygments_lexer": "ipython3",
   "version": "3.12.3"
  }
 },
 "nbformat": 4,
 "nbformat_minor": 2
}

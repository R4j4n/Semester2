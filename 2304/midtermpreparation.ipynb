{
 "cells": [
  {
   "cell_type": "markdown",
   "metadata": {},
   "source": [
    "## Regular Expression"
   ]
  },
  {
   "cell_type": "code",
   "execution_count": 1,
   "metadata": {},
   "outputs": [],
   "source": [
    "import re\n",
    "import warnings\n",
    "warnings.filterwarnings(action=\"ignore\")"
   ]
  },
  {
   "cell_type": "markdown",
   "metadata": {},
   "source": [
    "<center>Cheat Sheet</center>"
   ]
  },
  {
   "cell_type": "markdown",
   "metadata": {},
   "source": [
    "**Anchors**\n",
    "- `\\A` : Matches only at the beginning of the string\n",
    "- `\\Z` : Matches only at the end of the string.\n",
    "- `^` :  Matches at the beginning of a line.\n",
    "- `$` : Matches at the end of a line.\n",
    "- `\\n` : Matches a newline character.\n",
    "- `re.MULTILINE` or `re.M` : Makes ^ and $ match the start and end of each line (not just the start and end of the string). \n",
    "- `\\b` : Matches the boundary between a word and a non-word character.\n",
    "- `\\B` :  Matches positions where `\\b` does not match (inside words, or between non-word characters)."
   ]
  },
  {
   "cell_type": "code",
   "execution_count": 23,
   "metadata": {},
   "outputs": [
    {
     "name": "stdout",
     "output_type": "stream",
     "text": [
      "<re.Match object; span=(0, 5), match='Hello'>\n",
      "None\n",
      "None\n",
      "<re.Match object; span=(6, 12), match='World!'>\n",
      "<re.Match object; span=(6, 12), match='World!'>\n",
      "<re.Match object; span=(0, 5), match='Hello'>\n",
      "None\n",
      "<re.Match object; span=(6, 11), match='World'>\n",
      "<re.Match object; span=(6, 12), match='World!'>\n",
      "None\n",
      "<re.Match object; span=(0, 5), match='Hello'>\n",
      "<re.Match object; span=(0, 5), match='Hello'>\n",
      "None\n",
      "<re.Match object; span=(1, 5), match='word'>\n",
      "None\n",
      "<re.Match object; span=(2, 4), match='ll'>\n"
     ]
    }
   ],
   "source": [
    "# Examples \n",
    "\n",
    "# \\A\n",
    "print(re.search(\"\\AHello\", string=\"Hello World\"))\n",
    "\n",
    "# Doesnot consider the line break, begining or not. \n",
    "print(re.search(\"\\AWorld\", string=\"Hello\\nWorld\")) # Not Found\n",
    "print(re.search(\"\\AWorld\", string=\"Hello\\nWorld\", flags=re.MULTILINE)) # Still not Found\n",
    "\n",
    "\n",
    "# \\Z\n",
    "print(re.search(r'World!\\Z', 'Hello World!'))\n",
    "\n",
    "print(re.search(r'World!\\Z', 'Hello\\nWorld!')) # Match Found\n",
    "\n",
    "\n",
    "# ^\n",
    "print(re.search(\"^Hello\", string=\"Hello World\"))\n",
    "print(re.search(\"^World\", string=\"Hello\\nWorld\")) # No Match\n",
    "print(re.search(\"^World\", string=\"Hello\\nWorld\", flags=re.MULTILINE)) # Found\n",
    "\n",
    "\n",
    "# $ \n",
    "print(re.search(r'World!$', 'Hello\\nWorld!'))\n",
    "print(re.search(r'Hello$', 'Hello\\nWorld!')) # No Match\n",
    "print(re.search(r'Hello$', 'Hello\\nWorld!', re.MULTILINE)) # Found\n",
    "\n",
    "\n",
    "# \\b\n",
    "print(re.search(r'\\bHello\\b', 'Hello World!')) # Match Found\n",
    "print(re.search(r'\\bHello\\b', 'HelloWorld!')) # No Match\n",
    "\n",
    "# \\B\n",
    "# Matches \"word\" only if it is not at a word boundary\n",
    "print(re.search(r'\\Bword\\B', 'swordfish'))            # Match found\n",
    "print(re.search(r'\\Bword\\B', 'a word in a sentence')) # No match\n",
    "print(re.search(r'\\Bll\\B', 'Hello'))                  # Match found\n",
    "\n"
   ]
  },
  {
   "cell_type": "markdown",
   "metadata": {},
   "source": [
    "**Features**\n",
    "\n",
    "- `|` : Conditional OR, Combines multiple regular expressions as alternatives.Each alternative can have independent anchors.\n",
    "- `(pat)` : Capturing Group, Groups a pattern or patterns. Also captures the matched substring for back-references.\n",
    "- `(?:pat)` : Non-Capturing Group, Groups a pattern or patterns without capturing the matched substring. \n",
    "- `?P<name>pat` :  Named Capture Group, Groups a pattern and assigns a name to the captured substring. \n",
    "- `.` :  Matches any single character except the newline character.\n",
    "- `[]`: Matches one character among many specified inside the brackets "
   ]
  },
  {
   "cell_type": "code",
   "execution_count": 33,
   "metadata": {},
   "outputs": [
    {
     "name": "stdout",
     "output_type": "stream",
     "text": [
      "<re.Match object; span=(9, 12), match='cat'>\n",
      "None\n",
      "Hello\n",
      "World\n",
      "Hello\n",
      "World\n",
      "Hello World\n",
      "('World',)\n",
      "None\n",
      "<re.Match object; span=(0, 5), match='Hillo'>\n",
      "<re.Match object; span=(1, 2), match='e'>\n",
      "None\n",
      "<re.Match object; span=(3, 4), match='a'>\n"
     ]
    }
   ],
   "source": [
    "\n",
    "# | \n",
    "print(re.search(r'cat|dog', 'I have a cat'))\n",
    "print(re.search(r'cat|dog', 'I have a fish') ) # No Match\n",
    "\n",
    "# (pat)\n",
    "match = re.search(r'(Hello) (World)', 'Hello World')\n",
    "print(match.group(1))  # Outputs: Hello\n",
    "print(match.group(2))  # Outputs: World\n",
    "\n",
    "text = \"Hello\\nWorld\"\n",
    "match = re.search(r\"(^H\\w+)\\n(^W\\w+)\", text, re.MULTILINE)\n",
    "print(match.group(1))  # Outputs: Hello\n",
    "print(match.group(2))  # Outputs: World\n",
    "\n",
    "\n",
    "# (?:pat)\n",
    "# capture chai gar but use chai na gar. \n",
    "match = re.search(r'(?:Hello) (World)', 'Hello World')\n",
    "print(match.group(0))  # Outputs: Hello World\n",
    "print(match.groups())  # Outputs: ('World',)\n",
    "\n",
    "\n",
    "# . \n",
    "print(re.search(r'H.llo', 'H\\nllo')) # No match\n",
    "print(re.search(r'H.llo', 'Hillo'))  # Match found\n",
    "\n",
    "# []\n",
    "print(re.search(r'[aeiou]', 'Hello'))  # Match found\n",
    "print(re.search(r'[aeiou]', 'Sky'))    # No match\n",
    "print(re.search(r'[a-z]', '123abc'))   # Match found"
   ]
  },
  {
   "cell_type": "code",
   "execution_count": null,
   "metadata": {},
   "outputs": [],
   "source": []
  }
 ],
 "metadata": {
  "kernelspec": {
   "display_name": "gpt",
   "language": "python",
   "name": "python3"
  },
  "language_info": {
   "codemirror_mode": {
    "name": "ipython",
    "version": 3
   },
   "file_extension": ".py",
   "mimetype": "text/x-python",
   "name": "python",
   "nbconvert_exporter": "python",
   "pygments_lexer": "ipython3",
   "version": "3.12.3"
  }
 },
 "nbformat": 4,
 "nbformat_minor": 2
}

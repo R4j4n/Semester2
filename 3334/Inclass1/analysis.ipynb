{
 "cells": [
  {
   "cell_type": "code",
   "execution_count": 5,
   "metadata": {},
   "outputs": [],
   "source": [
    "import pandas as pd \n",
    "from tabulate import tabulate"
   ]
  },
  {
   "cell_type": "code",
   "execution_count": 6,
   "metadata": {},
   "outputs": [
    {
     "data": {
      "text/html": [
       "<div>\n",
       "<style scoped>\n",
       "    .dataframe tbody tr th:only-of-type {\n",
       "        vertical-align: middle;\n",
       "    }\n",
       "\n",
       "    .dataframe tbody tr th {\n",
       "        vertical-align: top;\n",
       "    }\n",
       "\n",
       "    .dataframe thead th {\n",
       "        text-align: right;\n",
       "    }\n",
       "</style>\n",
       "<table border=\"1\" class=\"dataframe\">\n",
       "  <thead>\n",
       "    <tr style=\"text-align: right;\">\n",
       "      <th></th>\n",
       "      <th>battery_power</th>\n",
       "      <th>blue</th>\n",
       "      <th>clock_speed</th>\n",
       "      <th>dual_sim</th>\n",
       "      <th>fc</th>\n",
       "      <th>four_g</th>\n",
       "      <th>int_memory</th>\n",
       "      <th>m_dep</th>\n",
       "      <th>mobile_wt</th>\n",
       "      <th>n_cores</th>\n",
       "      <th>...</th>\n",
       "      <th>px_height</th>\n",
       "      <th>px_width</th>\n",
       "      <th>ram</th>\n",
       "      <th>sc_h</th>\n",
       "      <th>sc_w</th>\n",
       "      <th>talk_time</th>\n",
       "      <th>three_g</th>\n",
       "      <th>touch_screen</th>\n",
       "      <th>wifi</th>\n",
       "      <th>price_range</th>\n",
       "    </tr>\n",
       "  </thead>\n",
       "  <tbody>\n",
       "    <tr>\n",
       "      <th>0</th>\n",
       "      <td>842</td>\n",
       "      <td>0</td>\n",
       "      <td>2.2</td>\n",
       "      <td>0</td>\n",
       "      <td>1</td>\n",
       "      <td>0</td>\n",
       "      <td>7</td>\n",
       "      <td>0.6</td>\n",
       "      <td>188</td>\n",
       "      <td>2</td>\n",
       "      <td>...</td>\n",
       "      <td>20</td>\n",
       "      <td>756</td>\n",
       "      <td>2549</td>\n",
       "      <td>9</td>\n",
       "      <td>7</td>\n",
       "      <td>19</td>\n",
       "      <td>0</td>\n",
       "      <td>0</td>\n",
       "      <td>1</td>\n",
       "      <td>1</td>\n",
       "    </tr>\n",
       "    <tr>\n",
       "      <th>1</th>\n",
       "      <td>1021</td>\n",
       "      <td>1</td>\n",
       "      <td>0.5</td>\n",
       "      <td>1</td>\n",
       "      <td>0</td>\n",
       "      <td>1</td>\n",
       "      <td>53</td>\n",
       "      <td>0.7</td>\n",
       "      <td>136</td>\n",
       "      <td>3</td>\n",
       "      <td>...</td>\n",
       "      <td>905</td>\n",
       "      <td>1988</td>\n",
       "      <td>2631</td>\n",
       "      <td>17</td>\n",
       "      <td>3</td>\n",
       "      <td>7</td>\n",
       "      <td>1</td>\n",
       "      <td>1</td>\n",
       "      <td>0</td>\n",
       "      <td>2</td>\n",
       "    </tr>\n",
       "    <tr>\n",
       "      <th>2</th>\n",
       "      <td>563</td>\n",
       "      <td>1</td>\n",
       "      <td>0.5</td>\n",
       "      <td>1</td>\n",
       "      <td>2</td>\n",
       "      <td>1</td>\n",
       "      <td>41</td>\n",
       "      <td>0.9</td>\n",
       "      <td>145</td>\n",
       "      <td>5</td>\n",
       "      <td>...</td>\n",
       "      <td>1263</td>\n",
       "      <td>1716</td>\n",
       "      <td>2603</td>\n",
       "      <td>11</td>\n",
       "      <td>2</td>\n",
       "      <td>9</td>\n",
       "      <td>1</td>\n",
       "      <td>1</td>\n",
       "      <td>0</td>\n",
       "      <td>2</td>\n",
       "    </tr>\n",
       "    <tr>\n",
       "      <th>3</th>\n",
       "      <td>615</td>\n",
       "      <td>1</td>\n",
       "      <td>2.5</td>\n",
       "      <td>0</td>\n",
       "      <td>0</td>\n",
       "      <td>0</td>\n",
       "      <td>10</td>\n",
       "      <td>0.8</td>\n",
       "      <td>131</td>\n",
       "      <td>6</td>\n",
       "      <td>...</td>\n",
       "      <td>1216</td>\n",
       "      <td>1786</td>\n",
       "      <td>2769</td>\n",
       "      <td>16</td>\n",
       "      <td>8</td>\n",
       "      <td>11</td>\n",
       "      <td>1</td>\n",
       "      <td>0</td>\n",
       "      <td>0</td>\n",
       "      <td>2</td>\n",
       "    </tr>\n",
       "    <tr>\n",
       "      <th>4</th>\n",
       "      <td>1821</td>\n",
       "      <td>1</td>\n",
       "      <td>1.2</td>\n",
       "      <td>0</td>\n",
       "      <td>13</td>\n",
       "      <td>1</td>\n",
       "      <td>44</td>\n",
       "      <td>0.6</td>\n",
       "      <td>141</td>\n",
       "      <td>2</td>\n",
       "      <td>...</td>\n",
       "      <td>1208</td>\n",
       "      <td>1212</td>\n",
       "      <td>1411</td>\n",
       "      <td>8</td>\n",
       "      <td>2</td>\n",
       "      <td>15</td>\n",
       "      <td>1</td>\n",
       "      <td>1</td>\n",
       "      <td>0</td>\n",
       "      <td>1</td>\n",
       "    </tr>\n",
       "  </tbody>\n",
       "</table>\n",
       "<p>5 rows × 21 columns</p>\n",
       "</div>"
      ],
      "text/plain": [
       "   battery_power  blue  clock_speed  dual_sim  fc  four_g  int_memory  m_dep  \\\n",
       "0            842     0          2.2         0   1       0           7    0.6   \n",
       "1           1021     1          0.5         1   0       1          53    0.7   \n",
       "2            563     1          0.5         1   2       1          41    0.9   \n",
       "3            615     1          2.5         0   0       0          10    0.8   \n",
       "4           1821     1          1.2         0  13       1          44    0.6   \n",
       "\n",
       "   mobile_wt  n_cores  ...  px_height  px_width   ram  sc_h  sc_w  talk_time  \\\n",
       "0        188        2  ...         20       756  2549     9     7         19   \n",
       "1        136        3  ...        905      1988  2631    17     3          7   \n",
       "2        145        5  ...       1263      1716  2603    11     2          9   \n",
       "3        131        6  ...       1216      1786  2769    16     8         11   \n",
       "4        141        2  ...       1208      1212  1411     8     2         15   \n",
       "\n",
       "   three_g  touch_screen  wifi  price_range  \n",
       "0        0             0     1            1  \n",
       "1        1             1     0            2  \n",
       "2        1             1     0            2  \n",
       "3        1             0     0            2  \n",
       "4        1             1     0            1  \n",
       "\n",
       "[5 rows x 21 columns]"
      ]
     },
     "execution_count": 6,
     "metadata": {},
     "output_type": "execute_result"
    }
   ],
   "source": [
    "df = pd.read_csv(\"train.csv\")\n",
    "df.head()"
   ]
  },
  {
   "cell_type": "code",
   "execution_count": 9,
   "metadata": {},
   "outputs": [
    {
     "name": "stdout",
     "output_type": "stream",
     "text": [
      "+-------+-----------------+-----------+---------------+-------------+------------+-------------+--------------+-------------+-------------+------------+------------+-------------+------------+---------+------------+-----------+-------------+-------------+----------------+-------------+---------------+\n",
      "|       |   battery_power |      blue |   clock_speed |    dual_sim |         fc |      four_g |   int_memory |       m_dep |   mobile_wt |    n_cores |         pc |   px_height |   px_width |     ram |       sc_h |      sc_w |   talk_time |     three_g |   touch_screen |        wifi |   price_range |\n",
      "|-------+-----------------+-----------+---------------+-------------+------------+-------------+--------------+-------------+-------------+------------+------------+-------------+------------+---------+------------+-----------+-------------+-------------+----------------+-------------+---------------|\n",
      "| count |        2000     | 2000      |   2000        | 2000        | 2000       | 2000        |    2000      | 2000        |   2000      | 2000       | 2000       |    2000     |   2000     | 2000    | 2000       | 2000      |  2000       | 2000        |    2000        | 2000        |    2000       |\n",
      "| mean  |        1238.52  |    0.495  |      1.52225  |    0.5095   |    4.3095  |    0.5215   |      32.0465 |    0.50175  |    140.249  |    4.5205  |    9.9165  |     645.108 |   1251.52  | 2124.21 |   12.3065  |    5.767  |    11.011   |    0.7615   |       0.503    |    0.507    |       1.5     |\n",
      "| std   |         439.418 |    0.5001 |      0.816004 |    0.500035 |    4.34144 |    0.499662 |      18.1457 |    0.288416 |     35.3997 |    2.28784 |    6.06431 |     443.781 |    432.199 | 1084.73 |    4.21325 |    4.3564 |     5.46396 |    0.426273 |       0.500116 |    0.500076 |       1.11831 |\n",
      "| min   |         501     |    0      |      0.5      |    0        |    0       |    0        |       2      |    0.1      |     80      |    1       |    0       |       0     |    500     |  256    |    5       |    0      |     2       |    0        |       0        |    0        |       0       |\n",
      "| 25%   |         851.75  |    0      |      0.7      |    0        |    1       |    0        |      16      |    0.2      |    109      |    3       |    5       |     282.75  |    874.75  | 1207.5  |    9       |    2      |     6       |    1        |       0        |    0        |       0.75    |\n",
      "| 50%   |        1226     |    0      |      1.5      |    1        |    3       |    1        |      32      |    0.5      |    141      |    4       |   10       |     564     |   1247     | 2146.5  |   12       |    5      |    11       |    1        |       1        |    1        |       1.5     |\n",
      "| 75%   |        1615.25  |    1      |      2.2      |    1        |    7       |    1        |      48      |    0.8      |    170      |    7       |   15       |     947.25  |   1633     | 3064.5  |   16       |    9      |    16       |    1        |       1        |    1        |       2.25    |\n",
      "| max   |        1998     |    1      |      3        |    1        |   19       |    1        |      64      |    1        |    200      |    8       |   20       |    1960     |   1998     | 3998    |   19       |   18      |    20       |    1        |       1        |    1        |       3       |\n",
      "+-------+-----------------+-----------+---------------+-------------+------------+-------------+--------------+-------------+-------------+------------+------------+-------------+------------+---------+------------+-----------+-------------+-------------+----------------+-------------+---------------+\n"
     ]
    }
   ],
   "source": [
    "x = df.describe()\n",
    "print(tabulate(x, headers='keys', tablefmt='psql'))"
   ]
  },
  {
   "cell_type": "code",
   "execution_count": 14,
   "metadata": {},
   "outputs": [
    {
     "name": "stdout",
     "output_type": "stream",
     "text": [
      "|    | Column        | Type        |\n",
      "|---:|:--------------|:------------|\n",
      "|  0 | battery_power | Continuous  |\n",
      "|  1 | blue          | Categorical |\n",
      "|  2 | clock_speed   | Continuous  |\n",
      "|  3 | dual_sim      | Categorical |\n",
      "|  4 | fc            | Continuous  |\n",
      "|  5 | four_g        | Categorical |\n",
      "|  6 | int_memory    | Continuous  |\n",
      "|  7 | m_dep         | Categorical |\n",
      "|  8 | mobile_wt     | Continuous  |\n",
      "|  9 | n_cores       | Categorical |\n",
      "| 10 | pc            | Continuous  |\n",
      "| 11 | px_height     | Continuous  |\n",
      "| 12 | px_width      | Continuous  |\n",
      "| 13 | ram           | Continuous  |\n",
      "| 14 | sc_h          | Continuous  |\n",
      "| 15 | sc_w          | Continuous  |\n",
      "| 16 | talk_time     | Continuous  |\n",
      "| 17 | three_g       | Categorical |\n",
      "| 18 | touch_screen  | Categorical |\n",
      "| 19 | wifi          | Categorical |\n",
      "| 20 | price_range   | Categorical |\n"
     ]
    }
   ],
   "source": [
    "column_types = []\n",
    "categorical_columns = []\n",
    "continuous_columns = []\n",
    "\n",
    "# Loop through each column to determine its type\n",
    "for column in df.columns:\n",
    "    unique_values = df[column].nunique()\n",
    "    if unique_values <= 10:  # This threshold can be adjusted based on the dataset\n",
    "        categorical_columns.append(column)\n",
    "    else:\n",
    "        continuous_columns.append(column)\n",
    "\n",
    "categorical_columns, continuous_columns\n",
    "for column in df.columns:\n",
    "    if column in categorical_columns:\n",
    "        column_types.append((column, 'Categorical'))\n",
    "    else:\n",
    "        column_types.append((column, 'Continuous'))\n",
    "\n",
    "# Create the dataframe\n",
    "column_types_df = pd.DataFrame(column_types, columns=['Column', 'Type'])\n",
    "\n",
    "print(tabulate(column_types_df, tablefmt=\"pipe\", headers=\"keys\"))"
   ]
  },
  {
   "cell_type": "code",
   "execution_count": 15,
   "metadata": {},
   "outputs": [
    {
     "name": "stdout",
     "output_type": "stream",
     "text": [
      "|    | Column        |   Missing_Percentage |\n",
      "|---:|:--------------|---------------------:|\n",
      "|  0 | battery_power |                    0 |\n",
      "|  1 | blue          |                    0 |\n",
      "|  2 | clock_speed   |                    0 |\n",
      "|  3 | dual_sim      |                    0 |\n",
      "|  4 | fc            |                    0 |\n",
      "|  5 | four_g        |                    0 |\n",
      "|  6 | int_memory    |                    0 |\n",
      "|  7 | m_dep         |                    0 |\n",
      "|  8 | mobile_wt     |                    0 |\n",
      "|  9 | n_cores       |                    0 |\n",
      "| 10 | pc            |                    0 |\n",
      "| 11 | px_height     |                    0 |\n",
      "| 12 | px_width      |                    0 |\n",
      "| 13 | ram           |                    0 |\n",
      "| 14 | sc_h          |                    0 |\n",
      "| 15 | sc_w          |                    0 |\n",
      "| 16 | talk_time     |                    0 |\n",
      "| 17 | three_g       |                    0 |\n",
      "| 18 | touch_screen  |                    0 |\n",
      "| 19 | wifi          |                    0 |\n",
      "| 20 | price_range   |                    0 |\n"
     ]
    }
   ],
   "source": [
    "missing_values_percentage = df.isnull().mean() * 100\n",
    "\n",
    "missing_values_df = pd.DataFrame(missing_values_percentage, columns=['Missing_Percentage']).reset_index()\n",
    "missing_values_df.rename(columns={'index': 'Column'}, inplace=True)\n",
    "\n",
    "\n",
    "print(tabulate(missing_values_df, tablefmt=\"pipe\", headers=\"keys\"))\n"
   ]
  },
  {
   "cell_type": "code",
   "execution_count": 16,
   "metadata": {},
   "outputs": [
    {
     "name": "stdout",
     "output_type": "stream",
     "text": [
      "|    | Column        |       Mean |   Median |   Mode |      Q1 |      Q3 |\n",
      "|---:|:--------------|-----------:|---------:|-------:|--------:|--------:|\n",
      "|  0 | battery_power | 1238.52    |   1226   |  618   |  851.75 | 1615.25 |\n",
      "|  1 | clock_speed   |    1.52225 |      1.5 |    0.5 |    0.7  |    2.2  |\n",
      "|  2 | fc            |    4.3095  |      3   |    0   |    1    |    7    |\n",
      "|  3 | int_memory    |   32.0465  |     32   |   27   |   16    |   48    |\n",
      "|  4 | mobile_wt     |  140.249   |    141   |  182   |  109    |  170    |\n",
      "|  5 | pc            |    9.9165  |     10   |   10   |    5    |   15    |\n",
      "|  6 | px_height     |  645.108   |    564   |  347   |  282.75 |  947.25 |\n",
      "|  7 | px_width      | 1251.52    |   1247   |  874   |  874.75 | 1633    |\n",
      "|  8 | ram           | 2124.21    |   2146.5 | 1229   | 1207.5  | 3064.5  |\n",
      "|  9 | sc_h          |   12.3065  |     12   |   17   |    9    |   16    |\n",
      "| 10 | sc_w          |    5.767   |      5   |    1   |    2    |    9    |\n",
      "| 11 | talk_time     |   11.011   |     11   |    7   |    6    |   16    |\n"
     ]
    }
   ],
   "source": [
    "# Calculate statistical measures for continuous columns\n",
    "continuous_stats = []\n",
    "\n",
    "for column in continuous_columns:\n",
    "    mean_value = df[column].mean()\n",
    "    median_value = df[column].median()\n",
    "    mode_value = df[column].mode()[0]  # Mode might return multiple values; take the first one\n",
    "    q1_value = df[column].quantile(0.25)\n",
    "    q3_value = df[column].quantile(0.75)\n",
    "    \n",
    "    continuous_stats.append((column, mean_value, median_value, mode_value, q1_value, q3_value))\n",
    "\n",
    "# Create a dataframe for these statistics\n",
    "continuous_stats_df = pd.DataFrame(continuous_stats, columns=['Column', 'Mean', 'Median', 'Mode', 'Q1', 'Q3'])\n",
    "\n",
    "\n",
    "\n",
    "\n",
    "print(tabulate(continuous_stats_df, tablefmt=\"pipe\", headers=\"keys\"))\n"
   ]
  },
  {
   "cell_type": "code",
   "execution_count": 18,
   "metadata": {},
   "outputs": [
    {
     "name": "stdout",
     "output_type": "stream",
     "text": [
      "|    | Column       |     Chi2 |   p-value |\n",
      "|---:|:-------------|---------:|----------:|\n",
      "|  0 | m_dep        | 28.7291  |  0.374155 |\n",
      "|  1 | n_cores      | 20.5245  |  0.488294 |\n",
      "|  2 | touch_screen |  3.88014 |  0.274701 |\n",
      "|  3 | four_g       |  3.17988 |  0.364714 |\n",
      "|  4 | blue         |  1.43214 |  0.698018 |\n"
     ]
    }
   ],
   "source": [
    "from scipy.stats import chi2_contingency\n",
    "\n",
    "# Calculate chi-square statistics\n",
    "chi2_results = []\n",
    "\n",
    "for column in categorical_columns:\n",
    "    if column != 'price_range':\n",
    "        contingency_table = pd.crosstab(df[column], df['price_range'])\n",
    "        chi2, p, dof, ex = chi2_contingency(contingency_table)\n",
    "        chi2_results.append((column, chi2, p))\n",
    "\n",
    "# Convert results to a dataframe\n",
    "chi2_results_df = pd.DataFrame(chi2_results, columns=['Column', 'Chi2', 'p-value'])\n",
    "\n",
    "# Sort by Chi2 statistic\n",
    "chi2_results_df = chi2_results_df.sort_values(by='Chi2', ascending=False).reset_index(drop=True)\n",
    "\n",
    "\n",
    "# Display the top 3 most important categorical columns\n",
    "top_3_categorical_columns = chi2_results_df.head(5)\n",
    "\n",
    "\n",
    "\n",
    "print(tabulate(top_3_categorical_columns, tablefmt=\"pipe\", headers=\"keys\"))\n"
   ]
  },
  {
   "cell_type": "code",
   "execution_count": 19,
   "metadata": {},
   "outputs": [
    {
     "data": {
      "text/plain": [
       "(               battery_power  clock_speed        fc  int_memory  mobile_wt  \\\n",
       " battery_power       1.000000     0.011482  0.033334   -0.004004   0.001844   \n",
       " clock_speed         0.011482     1.000000 -0.000434    0.006545   0.012350   \n",
       " fc                  0.033334    -0.000434  1.000000   -0.029133   0.023618   \n",
       " int_memory         -0.004004     0.006545 -0.029133    1.000000  -0.034214   \n",
       " mobile_wt           0.001844     0.012350  0.023618   -0.034214   1.000000   \n",
       " pc                  0.031441    -0.005245  0.644595   -0.033273   0.018844   \n",
       " px_height           0.014901    -0.014523 -0.009990    0.010441   0.000939   \n",
       " px_width           -0.008402    -0.009476 -0.005176   -0.008335   0.000090   \n",
       " ram                -0.000653     0.003443  0.015099    0.032813  -0.002581   \n",
       " sc_h               -0.029959    -0.029078 -0.011014    0.037771  -0.033855   \n",
       " sc_w               -0.021421    -0.007378 -0.012373    0.011731  -0.020761   \n",
       " talk_time           0.052510    -0.011432 -0.006829   -0.002790   0.006209   \n",
       " \n",
       "                      pc  px_height  px_width       ram      sc_h      sc_w  \\\n",
       " battery_power  0.031441   0.014901 -0.008402 -0.000653 -0.029959 -0.021421   \n",
       " clock_speed   -0.005245  -0.014523 -0.009476  0.003443 -0.029078 -0.007378   \n",
       " fc             0.644595  -0.009990 -0.005176  0.015099 -0.011014 -0.012373   \n",
       " int_memory    -0.033273   0.010441 -0.008335  0.032813  0.037771  0.011731   \n",
       " mobile_wt      0.018844   0.000939  0.000090 -0.002581 -0.033855 -0.020761   \n",
       " pc             1.000000  -0.018465  0.004196  0.028984  0.004938 -0.023819   \n",
       " px_height     -0.018465   1.000000  0.510664 -0.020352  0.059615  0.043038   \n",
       " px_width       0.004196   0.510664  1.000000  0.004105  0.021599  0.034699   \n",
       " ram            0.028984  -0.020352  0.004105  1.000000  0.015996  0.035576   \n",
       " sc_h           0.004938   0.059615  0.021599  0.015996  1.000000  0.506144   \n",
       " sc_w          -0.023819   0.043038  0.034699  0.035576  0.506144  1.000000   \n",
       " talk_time      0.014657  -0.010645  0.006720  0.010820 -0.017335 -0.022821   \n",
       " \n",
       "                talk_time  \n",
       " battery_power   0.052510  \n",
       " clock_speed    -0.011432  \n",
       " fc             -0.006829  \n",
       " int_memory     -0.002790  \n",
       " mobile_wt       0.006209  \n",
       " pc              0.014657  \n",
       " px_height      -0.010645  \n",
       " px_width        0.006720  \n",
       " ram             0.010820  \n",
       " sc_h           -0.017335  \n",
       " sc_w           -0.022821  \n",
       " talk_time       1.000000  ,\n",
       "   price_range battery_power                     clock_speed                   \\\n",
       "                        mean  median         std        mean median       std   \n",
       " 0           0      1116.902  1066.0  410.801305      1.5502   1.55  0.848941   \n",
       " 1           1      1228.868  1206.0  438.614528      1.4886   1.50  0.814479   \n",
       " 2           2      1228.320  1219.5  452.863065      1.5298   1.50  0.804404   \n",
       " 3           3      1379.984  1449.5  414.992261      1.5204   1.50  0.796450   \n",
       " \n",
       "       fc                   ...         ram    sc_h                    sc_w  \\\n",
       "     mean median       std  ...         std    mean median       std   mean   \n",
       " 0  4.084    3.0  4.183772  ...  362.755397  12.324   12.0  4.206949  5.682   \n",
       " 1  4.340    3.0  4.499432  ...  465.850159  12.212   12.0  4.226913  5.544   \n",
       " 2  4.498    3.0  4.347390  ...  496.211735  12.010   12.0  4.234355  5.714   \n",
       " 3  4.316    3.0  4.332399  ...  393.019923  12.680   13.0  4.168976  6.128   \n",
       " \n",
       "                    talk_time                   \n",
       "   median       std      mean median       std  \n",
       " 0    5.0  4.174173    10.612   10.0  5.397009  \n",
       " 1    5.0  4.238868    11.362   12.0  5.570729  \n",
       " 2    5.0  4.265747    10.972   11.0  5.433070  \n",
       " 3    5.0  4.716790    11.098   11.0  5.443129  \n",
       " \n",
       " [4 rows x 37 columns])"
      ]
     },
     "execution_count": 19,
     "metadata": {},
     "output_type": "execute_result"
    }
   ],
   "source": [
    "correlation_matrix = df[continuous_columns].corr()\n",
    "\n",
    "\n",
    "# Calculate summary statistics grouped by price_range\n",
    "grouped_stats = df.groupby('price_range')[continuous_columns].agg(['mean', 'median', 'std']).reset_index()\n",
    "\n",
    "\n",
    "correlation_matrix, grouped_stats"
   ]
  },
  {
   "cell_type": "code",
   "execution_count": 21,
   "metadata": {},
   "outputs": [
    {
     "name": "stdout",
     "output_type": "stream",
     "text": [
      "|               |   battery_power |   clock_speed |           fc |   int_memory |    mobile_wt |          pc |    px_height |     px_width |          ram |        sc_h |        sc_w |   talk_time |\n",
      "|:--------------|----------------:|--------------:|-------------:|-------------:|-------------:|------------:|-------------:|-------------:|-------------:|------------:|------------:|------------:|\n",
      "| battery_power |     1           |   0.0114816   |  0.0333344   |  -0.00400368 |  0.00184438  |  0.0314407  |  0.0149008   | -0.00840183  | -0.000652926 | -0.0299586  | -0.0214209  |  0.0525104  |\n",
      "| clock_speed   |     0.0114816   |   1           | -0.000433898 |   0.00654515 |  0.0123497   | -0.00524504 | -0.0145229   | -0.00947565  |  0.00344303  | -0.0290776  | -0.00737836 | -0.0114319  |\n",
      "| fc            |     0.0333344   |  -0.000433898 |  1           |  -0.0291328  |  0.023618    |  0.644595   | -0.00998991  | -0.00517563  |  0.015099    | -0.011014   | -0.0123726  | -0.00682865 |\n",
      "| int_memory    |    -0.00400368  |   0.00654515  | -0.0291328   |   1          | -0.0342142   | -0.0332734  |  0.0104413   | -0.00833485  |  0.0328132   |  0.0377711  |  0.0117305  | -0.00279029 |\n",
      "| mobile_wt     |     0.00184438  |   0.0123497   |  0.023618    |  -0.0342142  |  1           |  0.0188439  |  0.000939324 |  8.97616e-05 | -0.00258054  | -0.0338547  | -0.0207605  |  0.0062085  |\n",
      "| pc            |     0.0314407   |  -0.00524504  |  0.644595    |  -0.0332734  |  0.0188439   |  1          | -0.0184655   |  0.00419594  |  0.0289835   |  0.00493752 | -0.0238192  |  0.014657   |\n",
      "| px_height     |     0.0149008   |  -0.0145229   | -0.00998991  |   0.0104413  |  0.000939324 | -0.0184655  |  1           |  0.510664    | -0.0203519   |  0.0596153  |  0.0430383  | -0.0106453  |\n",
      "| px_width      |    -0.00840183  |  -0.00947565  | -0.00517563  |  -0.00833485 |  8.97616e-05 |  0.00419594 |  0.510664    |  1           |  0.00410522  |  0.0215986  |  0.0346992  |  0.00671994 |\n",
      "| ram           |    -0.000652926 |   0.00344303  |  0.015099    |   0.0328132  | -0.00258054  |  0.0289835  | -0.0203519   |  0.00410522  |  1           |  0.0159961  |  0.0355757  |  0.01082    |\n",
      "| sc_h          |    -0.0299586   |  -0.0290776   | -0.011014    |   0.0377711  | -0.0338547   |  0.00493752 |  0.0596153   |  0.0215986   |  0.0159961   |  1          |  0.506144   | -0.0173351  |\n",
      "| sc_w          |    -0.0214209   |  -0.00737836  | -0.0123726   |   0.0117305  | -0.0207605   | -0.0238192  |  0.0430383   |  0.0346992   |  0.0355757   |  0.506144   |  1          | -0.0228209  |\n",
      "| talk_time     |     0.0525104   |  -0.0114319   | -0.00682865  |  -0.00279029 |  0.0062085   |  0.014657   | -0.0106453   |  0.00671994  |  0.01082     | -0.0173351  | -0.0228209  |  1          |\n"
     ]
    }
   ],
   "source": [
    "print(tabulate(correlation_matrix, tablefmt=\"pipe\", headers=\"keys\"))"
   ]
  },
  {
   "cell_type": "code",
   "execution_count": 22,
   "metadata": {},
   "outputs": [
    {
     "data": {
      "text/plain": [
       "(   m_dep  Count\n",
       " 0    0.1    320\n",
       " 1    0.2    213\n",
       " 2    0.8    208\n",
       " 3    0.5    205\n",
       " 4    0.7    200\n",
       " 5    0.3    199\n",
       " 6    0.9    195\n",
       " 7    0.6    186\n",
       " 8    0.4    168\n",
       " 9    1.0    106,\n",
       "    n_cores  Count\n",
       " 0        4    274\n",
       " 1        7    259\n",
       " 2        8    256\n",
       " 3        2    247\n",
       " 4        3    246\n",
       " 5        5    246\n",
       " 6        1    242\n",
       " 7        6    230,\n",
       "    touch_screen  Count\n",
       " 0             1   1006\n",
       " 1             0    994)"
      ]
     },
     "execution_count": 22,
     "metadata": {},
     "output_type": "execute_result"
    }
   ],
   "source": [
    "# Calculate value counts for specified columns\n",
    "m_dep_counts = df['m_dep'].value_counts().reset_index()\n",
    "m_dep_counts.columns = ['m_dep', 'Count']\n",
    "\n",
    "n_cores_counts = df['n_cores'].value_counts().reset_index()\n",
    "n_cores_counts.columns = ['n_cores', 'Count']\n",
    "\n",
    "touch_screen_counts = df['touch_screen'].value_counts().reset_index()\n",
    "touch_screen_counts.columns = ['touch_screen', 'Count']\n",
    "\n",
    "m_dep_counts, n_cores_counts, touch_screen_counts"
   ]
  },
  {
   "cell_type": "code",
   "execution_count": 24,
   "metadata": {},
   "outputs": [
    {
     "name": "stdout",
     "output_type": "stream",
     "text": [
      "|    |   m_dep |   Count |\n",
      "|---:|--------:|--------:|\n",
      "|  0 |     0.1 |     320 |\n",
      "|  1 |     0.2 |     213 |\n",
      "|  2 |     0.8 |     208 |\n",
      "|  3 |     0.5 |     205 |\n",
      "|  4 |     0.7 |     200 |\n",
      "|  5 |     0.3 |     199 |\n",
      "|  6 |     0.9 |     195 |\n",
      "|  7 |     0.6 |     186 |\n",
      "|  8 |     0.4 |     168 |\n",
      "|  9 |     1   |     106 |\n"
     ]
    }
   ],
   "source": [
    "print(tabulate(m_dep_counts, tablefmt=\"pipe\", headers=\"keys\"))\n",
    "\n"
   ]
  },
  {
   "cell_type": "code",
   "execution_count": 25,
   "metadata": {},
   "outputs": [
    {
     "name": "stdout",
     "output_type": "stream",
     "text": [
      "|    |   n_cores |   Count |\n",
      "|---:|----------:|--------:|\n",
      "|  0 |         4 |     274 |\n",
      "|  1 |         7 |     259 |\n",
      "|  2 |         8 |     256 |\n",
      "|  3 |         2 |     247 |\n",
      "|  4 |         3 |     246 |\n",
      "|  5 |         5 |     246 |\n",
      "|  6 |         1 |     242 |\n",
      "|  7 |         6 |     230 |\n"
     ]
    }
   ],
   "source": [
    "print(tabulate(n_cores_counts, tablefmt=\"pipe\", headers=\"keys\"))\n"
   ]
  },
  {
   "cell_type": "code",
   "execution_count": 26,
   "metadata": {},
   "outputs": [
    {
     "name": "stdout",
     "output_type": "stream",
     "text": [
      "|    |   touch_screen |   Count |\n",
      "|---:|---------------:|--------:|\n",
      "|  0 |              1 |    1006 |\n",
      "|  1 |              0 |     994 |\n"
     ]
    }
   ],
   "source": [
    "print(tabulate(touch_screen_counts, tablefmt=\"pipe\", headers=\"keys\"))\n"
   ]
  },
  {
   "cell_type": "code",
   "execution_count": null,
   "metadata": {},
   "outputs": [],
   "source": []
  }
 ],
 "metadata": {
  "kernelspec": {
   "display_name": "main_env",
   "language": "python",
   "name": "python3"
  },
  "language_info": {
   "codemirror_mode": {
    "name": "ipython",
    "version": 3
   },
   "file_extension": ".py",
   "mimetype": "text/x-python",
   "name": "python",
   "nbconvert_exporter": "python",
   "pygments_lexer": "ipython3",
   "version": "3.12.3"
  }
 },
 "nbformat": 4,
 "nbformat_minor": 2
}

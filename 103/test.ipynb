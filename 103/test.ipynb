{
 "cells": [
  {
   "cell_type": "code",
   "execution_count": 12,
   "metadata": {},
   "outputs": [],
   "source": [
    "x= [5,6,7,0,0,0]\n",
    "y = [1,2,3]\n",
    "m, n = 3,3"
   ]
  },
  {
   "cell_type": "code",
   "execution_count": 19,
   "metadata": {},
   "outputs": [
    {
     "name": "stdout",
     "output_type": "stream",
     "text": [
      "[1, 2, 4, 5, 6, 7]\n"
     ]
    }
   ],
   "source": [
    "def merge(num1, m, num2, n):\n",
    "    x, y = m-1, n-1\n",
    "    \n",
    "    for p in range(m+n-1, -1, -1): \n",
    "        \n",
    "        if y < 0:\n",
    "            break \n",
    "        \n",
    "        if x >= 0 and num1[x] > num2[y]:\n",
    "            num1[p] = num1[x]\n",
    "            x -= 1 \n",
    "        else:\n",
    "            num1[p] = num2[y]\n",
    "            y -= 1\n",
    "        \n",
    "   \n",
    "num1= [4,6,7,0,0,0]\n",
    "num2 = [1,2,5]\n",
    "m, n = 3,3\n",
    "merge(num1, m, num2, n )\n",
    "\n",
    "print(num1)"
   ]
  },
  {
   "cell_type": "code",
   "execution_count": 15,
   "metadata": {},
   "outputs": [
    {
     "name": "stdout",
     "output_type": "stream",
     "text": [
      "10\n",
      "9\n",
      "8\n",
      "7\n",
      "6\n",
      "5\n",
      "4\n",
      "3\n",
      "2\n",
      "1\n",
      "0\n"
     ]
    }
   ],
   "source": [
    "for i in range(10, -1, -1):\n",
    "    print(i)"
   ]
  },
  {
   "cell_type": "code",
   "execution_count": 22,
   "metadata": {},
   "outputs": [
    {
     "data": {
      "text/plain": [
       "7"
      ]
     },
     "execution_count": 22,
     "metadata": {},
     "output_type": "execute_result"
    }
   ],
   "source": [
    "def find_max(x: \"prajwal\"): \n",
    "    \n",
    "    min_invest = float(\"inf\")\n",
    "    max_profit = 0\n",
    "    \n",
    "    for i in range(len(x)): \n",
    "        \n",
    "        if min_invest > x[i]: \n",
    "            min_invest = x[i]\n",
    "        \n",
    "        profit = x[i] - min_invest\n",
    "        if profit > max_profit:\n",
    "            max_profit = profit\n",
    "    return max_profit\n",
    "    \n",
    "find_max([7,1,6,5,4,8])\n",
    "        \n",
    "    "
   ]
  },
  {
   "cell_type": "code",
   "execution_count": 25,
   "metadata": {},
   "outputs": [
    {
     "data": {
      "text/plain": [
       "[(1, 2, 3),\n",
       " (1, 2, 5),\n",
       " (1, 2, 6),\n",
       " (1, 3, 5),\n",
       " (1, 3, 6),\n",
       " (1, 5, 6),\n",
       " (2, 3, 5),\n",
       " (2, 3, 6),\n",
       " (2, 5, 6),\n",
       " (3, 5, 6)]"
      ]
     },
     "execution_count": 25,
     "metadata": {},
     "output_type": "execute_result"
    }
   ],
   "source": [
    "list(itertools.combinations([1,2,3,5,6], r =3))"
   ]
  },
  {
   "cell_type": "code",
   "execution_count": 29,
   "metadata": {},
   "outputs": [],
   "source": [
    "import numpy as np\n",
    "from typing import Union\n",
    "class VahidMatrix:\n",
    "    \n",
    "    def __init__(self, mat : Union[list, np.array]) -> None:\n",
    "        self.data = np.array(mat)\n",
    "        self.rows, self.columns = self.data.shape\n",
    "\n",
    "    def __mul__(self, mat2 : \"VahidMatrix\")-> \"VahidMatrix\":\n",
    "        r2, c2 = mat2.rows, mat2.columns\n",
    "        \n",
    "        if self.columns != r2:\n",
    "            raise ValueError(\"These c....\")\n",
    "        \n",
    "        reult = np.zeros((self.rows, c2))\n",
    "        \n",
    "        for i in range(self.rows):\n",
    "            for j in range(c2):\n",
    "                for k in range(self.columns):\n",
    "                    \n",
    "                    reult[i,j] += self.data[i,k] * mat2.data[k,j]\n",
    "                    \n",
    "        return VahidMatrix(reult)\n",
    "\n",
    "    def __repr__(self):\n",
    "        return str(self.data)\n",
    "\n",
    "\n",
    "matrix1 = [\n",
    "    [1, 2, 3],\n",
    "    [4, 5, 6],\n",
    "    [7, 8, 9]\n",
    "]\n",
    "\n",
    "matrix2 = [\n",
    "    [7, 8, 9],\n",
    "    [1, 2, 3],\n",
    "    [4, 5, 6],\n",
    "]\n",
    "\n",
    "m1 = VahidMatrix(matrix1)\n",
    "m2 = VahidMatrix(matrix2)\n",
    "\n"
   ]
  },
  {
   "cell_type": "code",
   "execution_count": 30,
   "metadata": {},
   "outputs": [
    {
     "data": {
      "text/plain": [
       "[[ 21.  27.  33.]\n",
       " [ 57.  72.  87.]\n",
       " [ 93. 117. 141.]]"
      ]
     },
     "execution_count": 30,
     "metadata": {},
     "output_type": "execute_result"
    }
   ],
   "source": [
    "m1*m2"
   ]
  },
  {
   "cell_type": "code",
   "execution_count": 31,
   "metadata": {},
   "outputs": [
    {
     "data": {
      "text/plain": [
       "array([[ 21,  27,  33],\n",
       "       [ 57,  72,  87],\n",
       "       [ 93, 117, 141]])"
      ]
     },
     "execution_count": 31,
     "metadata": {},
     "output_type": "execute_result"
    }
   ],
   "source": [
    "np.array(matrix1) @ np.array(matrix2)"
   ]
  },
  {
   "cell_type": "code",
   "execution_count": null,
   "metadata": {},
   "outputs": [],
   "source": []
  }
 ],
 "metadata": {
  "kernelspec": {
   "display_name": "main_env",
   "language": "python",
   "name": "python3"
  },
  "language_info": {
   "codemirror_mode": {
    "name": "ipython",
    "version": 3
   },
   "file_extension": ".py",
   "mimetype": "text/x-python",
   "name": "python",
   "nbconvert_exporter": "python",
   "pygments_lexer": "ipython3",
   "version": "3.12.3"
  }
 },
 "nbformat": 4,
 "nbformat_minor": 2
}

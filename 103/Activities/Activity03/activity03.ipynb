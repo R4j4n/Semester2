{
 "cells": [
  {
   "cell_type": "markdown",
   "metadata": {},
   "source": [
    "## Activity 03: Filtering, Sorting, and Reshaping"
   ]
  },
  {
   "cell_type": "markdown",
   "metadata": {},
   "source": [
    "Following up on the last activity, we are asked to deliver some more complex operations.   \n",
    "We will, therefore, continue to work with the same dataset, our `normal_distribution.csv`."
   ]
  },
  {
   "cell_type": "markdown",
   "metadata": {},
   "source": [
    "#### Loading the dataset"
   ]
  },
  {
   "cell_type": "code",
   "execution_count": 1,
   "metadata": {},
   "outputs": [],
   "source": [
    "# importing the necessary dependencies\n",
    "import numpy as np"
   ]
  },
  {
   "cell_type": "code",
   "execution_count": 2,
   "metadata": {},
   "outputs": [],
   "source": [
    "# loading the Dataset\n",
    "dataset = np.genfromtxt('./data/normal_distribution.csv', delimiter=',')"
   ]
  },
  {
   "cell_type": "markdown",
   "metadata": {},
   "source": [
    "---"
   ]
  },
  {
   "cell_type": "markdown",
   "metadata": {},
   "source": [
    "#### Filtering"
   ]
  },
  {
   "cell_type": "markdown",
   "metadata": {},
   "source": [
    "To get better insights into our dataset, we want to only look at the value that fulfills certain conditions.   \n",
    "Our client reaches out to us and asks us to provide lists of values that fulfills these conditions:\n",
    "- all values greater than 105 (>105)\n",
    "- all values that are between 90 and 95 (>90 and <95)\n",
    "- the indices of all values that have a delta of less than 1 to 100 (x-100 < 1)"
   ]
  },
  {
   "cell_type": "code",
   "execution_count": 3,
   "metadata": {},
   "outputs": [
    {
     "data": {
      "text/plain": [
       "array([107.43534677, 105.7197853 , 110.18889465, 105.95297652,\n",
       "       106.54654286, 107.22482426, 113.42090475, 105.48508838,\n",
       "       106.1472841 , 105.85269352, 108.57980357, 106.71751618,\n",
       "       106.39798503, 106.83273763, 106.47551845, 105.30350449,\n",
       "       106.03868807, 110.44484313, 106.6471081 , 105.0320535 ,\n",
       "       107.02874163, 105.07475277, 106.57364584, 107.22482426,\n",
       "       107.19119932, 108.09423367, 109.40523174, 106.11454989,\n",
       "       106.57052697, 105.13668343, 105.37011896, 110.44484313,\n",
       "       105.86078488, 106.89005002, 106.57364584, 107.40064604,\n",
       "       106.38276709, 106.46476468, 110.43976681, 105.02389857,\n",
       "       106.05042487, 106.89005002])"
      ]
     },
     "execution_count": 3,
     "metadata": {},
     "output_type": "execute_result"
    }
   ],
   "source": [
    "# values that are greater than 105\n",
    "dataset[dataset>105]"
   ]
  },
  {
   "cell_type": "code",
   "execution_count": 4,
   "metadata": {},
   "outputs": [
    {
     "data": {
      "text/plain": [
       "array([92.02628776, 92.9267508 , 92.65657752, 93.87155456, 90.93318132,\n",
       "       91.37294597, 91.6604946 , 93.37126331, 94.20019732, 93.24376389,\n",
       "       94.35373179, 92.5748759 , 91.37294597, 92.87730812, 93.87155456,\n",
       "       92.75048583, 93.97853495, 91.32093303, 92.0108226 , 93.18884302,\n",
       "       93.83969256, 94.5081787 , 94.59300658, 93.04610867, 91.6779221 ,\n",
       "       91.37294597, 94.76253572, 94.57421727, 94.11176915, 93.97853495])"
      ]
     },
     "execution_count": 4,
     "metadata": {},
     "output_type": "execute_result"
    }
   ],
   "source": [
    "# values that are between 90 and 95\n",
    "dataset[(dataset > 90) & (dataset < 95)]"
   ]
  },
  {
   "cell_type": "markdown",
   "metadata": {},
   "source": [
    "> **Note:**    \n",
    "Conditional filtering can be done either using the brackets syntax or NumPys `extract` method"
   ]
  },
  {
   "cell_type": "code",
   "execution_count": 5,
   "metadata": {},
   "outputs": [
    {
     "data": {
      "text/plain": [
       "array([ 99.14931546,  99.32066924, 100.96781394, 100.40118279,\n",
       "       100.28690912, 100.79478953, 100.72418901, 100.07721494,\n",
       "       100.85447132,  99.14931546, 100.37372248, 100.61742813,\n",
       "        99.35999981, 100.39303522, 100.39303522, 100.44940274,\n",
       "        99.58664719,  99.95827854,  99.69982772, 100.28690912,\n",
       "        99.84251605,  99.07551254,  99.57859892,  99.4889538 ,\n",
       "        99.92159953, 100.96781394,  99.94318168,  99.80873105,\n",
       "       100.69156231,  99.99579473, 100.80409326,  99.62387832,\n",
       "       100.07721494])"
      ]
     },
     "execution_count": 5,
     "metadata": {},
     "output_type": "execute_result"
    }
   ],
   "source": [
    "# indices of values that have a delta of less than 1 to 100\n",
    "delta = np.abs(dataset - 100)\n",
    "indices = np.where(delta < 1)\n",
    "\n",
    "dataset[indices]"
   ]
  },
  {
   "cell_type": "markdown",
   "metadata": {},
   "source": [
    "---"
   ]
  },
  {
   "cell_type": "markdown",
   "metadata": {},
   "source": [
    "#### Sorting"
   ]
  },
  {
   "cell_type": "markdown",
   "metadata": {},
   "source": [
    "They also want to experiment with some more plotting techniques so they ask you to also deliver these datasets:\n",
    "- values sorted in ascending order for each row\n",
    "- values sorted in ascending order for each column\n",
    "- the matrix of indices indicating the position in a sorted list of each value   \n",
    "```\n",
    "[3, 1, 2, 5, 4]  =>  [1, 2, 0, 4, 3]\n",
    "```"
   ]
  },
  {
   "cell_type": "code",
   "execution_count": 17,
   "metadata": {},
   "outputs": [],
   "source": [
    "# values sorted for each row\n",
    "sorted_data = np.sort(dataset, axis=1)"
   ]
  },
  {
   "cell_type": "markdown",
   "metadata": {},
   "source": [
    "> **Note:**   \n",
    "By default, sorting will always be done along the last axis. In our case this is 1, leading to each row being sorted."
   ]
  },
  {
   "cell_type": "code",
   "execution_count": 18,
   "metadata": {},
   "outputs": [],
   "source": [
    "# values sorted for each column\n",
    "sorted_data = np.sort(dataset, axis=0)"
   ]
  },
  {
   "cell_type": "code",
   "execution_count": 19,
   "metadata": {},
   "outputs": [],
   "source": [
    "# indices of positions for each row\n",
    "sorted_indices = np.argsort(dataset, axis=1)"
   ]
  },
  {
   "cell_type": "markdown",
   "metadata": {},
   "source": [
    "---"
   ]
  },
  {
   "cell_type": "markdown",
   "metadata": {},
   "source": [
    "#### Combining"
   ]
  },
  {
   "cell_type": "markdown",
   "metadata": {},
   "source": [
    "After finishing their visualization and doing ask you to deliver a way they can incrementally add the split parts of the dataset to make sure it works with every subset, too.   \n",
    "They want you to send them examples for:\n",
    "- adding the second half of the first column\n",
    "- adding the second column\n",
    "- adding the third and last separate column\n"
   ]
  },
  {
   "cell_type": "code",
   "execution_count": 10,
   "metadata": {},
   "outputs": [
    {
     "data": {
      "text/plain": [
       "array([[ 99.14931546, 104.03852715, 107.43534677],\n",
       "       [ 92.02628776,  97.10439252,  99.32066924],\n",
       "       [ 95.66253664,  95.17750125,  90.93318132],\n",
       "       [ 91.37294597, 100.96781394, 100.40118279],\n",
       "       [101.20862522, 103.5730309 , 100.28690912],\n",
       "       [102.80387079,  98.29687616,  93.24376389],\n",
       "       [106.71751618, 102.97585605,  98.45723272],\n",
       "       [ 96.02548256, 102.82360856, 106.47551845],\n",
       "       [105.30350449,  92.87730812, 103.19258339],\n",
       "       [110.44484313,  93.87155456, 101.5363647 ],\n",
       "       [101.3514185 , 100.37372248, 106.6471081 ],\n",
       "       [ 97.21315663, 107.02874163, 102.17642112]])"
      ]
     },
     "execution_count": 10,
     "metadata": {},
     "output_type": "execute_result"
    }
   ],
   "source": [
    "# split up dataset from activity03\n",
    "thirds = np.hsplit(dataset, (3))\n",
    "halfed_first = np.vsplit(thirds[0], (2))\n",
    "\n",
    "# this is the part we've sent the client in activity03\n",
    "halfed_first[0]"
   ]
  },
  {
   "cell_type": "code",
   "execution_count": 11,
   "metadata": {},
   "outputs": [],
   "source": [
    "# adding the second half of the first column to the data\n"
   ]
  },
  {
   "cell_type": "code",
   "execution_count": 12,
   "metadata": {},
   "outputs": [],
   "source": [
    "# adding the second column to our combined dataset\n"
   ]
  },
  {
   "cell_type": "code",
   "execution_count": 13,
   "metadata": {},
   "outputs": [],
   "source": [
    "# adding the third column to our combined dataset\n"
   ]
  },
  {
   "cell_type": "markdown",
   "metadata": {},
   "source": [
    "> **Note:**    \n",
    "The same results can be achieved with `np.concatenate` and `np.stack`.    \n",
    "For both methods, you need to provide the axis onto which it should be appended.   \n",
    "Depending on your preferences you might want to use those."
   ]
  },
  {
   "cell_type": "markdown",
   "metadata": {},
   "source": [
    "---"
   ]
  },
  {
   "cell_type": "markdown",
   "metadata": {},
   "source": [
    "#### Reshaping"
   ]
  },
  {
   "cell_type": "markdown",
   "metadata": {},
   "source": [
    "For their internal AI algorithms, they need the dataset in a reshaped manner that reduces the number of columns.   \n",
    "They asked us to deliver the whole dataset in the following shapes:\n",
    "- reshaped in a one-dimensional list with all values\n",
    "- reshaped in a matrix with only 2 columns"
   ]
  },
  {
   "cell_type": "code",
   "execution_count": 25,
   "metadata": {},
   "outputs": [
    {
     "data": {
      "text/plain": [
       "array([ 99.14931546, 104.03852715, 107.43534677,  97.85230675,\n",
       "        98.74986914,  98.80833412,  96.81964892,  98.56783189,\n",
       "       101.34745901,  92.02628776,  97.10439252,  99.32066924,\n",
       "        97.24584816,  92.9267508 ,  92.65657752, 105.7197853 ,\n",
       "       101.23162942,  93.87155456,  95.66253664,  95.17750125,\n",
       "        90.93318132, 110.18889465,  98.80084371, 105.95297652,\n",
       "        98.37481387, 106.54654286, 107.22482426,  91.37294597,\n",
       "       100.96781394, 100.40118279, 113.42090475, 105.48508838,\n",
       "        91.6604946 , 106.1472841 ,  95.08715803, 103.40412146,\n",
       "       101.20862522, 103.5730309 , 100.28690912, 105.85269352,\n",
       "        93.37126331, 108.57980357, 100.79478953,  94.20019732,\n",
       "        96.10020311, 102.80387079,  98.29687616,  93.24376389,\n",
       "        97.24130034,  89.03452725,  96.2832753 , 104.60344836,\n",
       "       101.13442416,  97.62787811, 106.71751618, 102.97585605,\n",
       "        98.45723272, 100.72418901, 106.39798503,  95.46493436,\n",
       "        94.35373179, 106.83273763, 100.07721494,  96.02548256,\n",
       "       102.82360856, 106.47551845, 101.34745901, 102.45651798,\n",
       "        98.74767493,  97.57544275,  92.5748759 ,  91.37294597,\n",
       "       105.30350449,  92.87730812, 103.19258339, 104.40518318,\n",
       "       101.29326772, 100.85447132, 101.2226037 , 106.03868807,\n",
       "        97.85230675, 110.44484313,  93.87155456, 101.5363647 ,\n",
       "        97.65393524,  92.75048583, 101.72074646,  96.96851209,\n",
       "       103.29147111,  99.14931546, 101.3514185 , 100.37372248,\n",
       "       106.6471081 , 100.61742813, 105.0320535 ,  99.35999981,\n",
       "        98.87007532,  95.85284217,  93.97853495,  97.21315663,\n",
       "       107.02874163, 102.17642112,  96.74630281,  95.93799169,\n",
       "       102.62384733, 105.07475277,  97.59572169, 106.57364584,\n",
       "        95.65982034, 107.22482426, 107.19119932, 102.93039474,\n",
       "        85.98839623,  95.19184343,  91.32093303, 102.35313953,\n",
       "       100.39303522, 100.39303522,  92.0108226 ,  97.75887636,\n",
       "        93.18884302, 100.44940274, 108.09423367,  96.50342927,\n",
       "        99.58664719,  95.19184343, 103.1521596 , 109.40523174,\n",
       "        93.83969256,  99.95827854, 101.83462816,  99.69982772,\n",
       "       103.05289628, 103.93383957, 104.15899829, 106.11454989,\n",
       "        88.80221141,  94.5081787 ,  94.59300658, 101.08830521,\n",
       "        96.34622848,  96.89244283,  98.07122664, 100.28690912,\n",
       "        96.78266211,  99.84251605, 104.03478031, 106.57052697,\n",
       "       105.13668343, 105.37011896,  99.07551254, 104.15899829,\n",
       "        98.75108352, 101.86186193, 103.61720152,  99.57859892,\n",
       "        99.4889538 , 103.05541444,  98.65912661,  98.72774132,\n",
       "       104.70526438, 110.44484313,  97.49594839,  96.59385486,\n",
       "       104.63817694, 102.55198606, 105.86078488,  96.5937781 ,\n",
       "        93.04610867,  99.92159953, 100.96781394,  96.76814836,\n",
       "        91.6779221 , 101.79132774, 101.20773355,  98.29243952,\n",
       "       101.83845792,  97.94046856, 102.20618501,  91.37294597,\n",
       "       106.89005002, 106.57364584, 102.26648279, 107.40064604,\n",
       "        99.94318168, 103.40412146, 106.38276709,  98.00253006,\n",
       "        97.10439252,  99.80873105, 101.63973121, 106.46476468,\n",
       "       110.43976681, 100.69156231,  99.99579473, 101.32113654,\n",
       "        94.76253572,  97.24130034,  96.10020311,  94.57421727,\n",
       "       100.80409326, 105.02389857,  98.61325194,  95.62359311,\n",
       "        97.99762409, 103.83852459, 101.2226037 ,  94.11176915,\n",
       "        99.62387832, 104.51786419,  97.62787811,  93.97853495,\n",
       "        98.75108352, 106.05042487, 100.07721494, 106.89005002])"
      ]
     },
     "execution_count": 25,
     "metadata": {},
     "output_type": "execute_result"
    }
   ],
   "source": [
    "# reshaping to a list of values\n",
    "dataset.flatten()"
   ]
  },
  {
   "cell_type": "code",
   "execution_count": 26,
   "metadata": {},
   "outputs": [
    {
     "data": {
      "text/plain": [
       "array([[ 99.14931546, 104.03852715],\n",
       "       [107.43534677,  97.85230675],\n",
       "       [ 98.74986914,  98.80833412],\n",
       "       [ 96.81964892,  98.56783189],\n",
       "       [101.34745901,  92.02628776],\n",
       "       [ 97.10439252,  99.32066924],\n",
       "       [ 97.24584816,  92.9267508 ],\n",
       "       [ 92.65657752, 105.7197853 ],\n",
       "       [101.23162942,  93.87155456],\n",
       "       [ 95.66253664,  95.17750125],\n",
       "       [ 90.93318132, 110.18889465],\n",
       "       [ 98.80084371, 105.95297652],\n",
       "       [ 98.37481387, 106.54654286],\n",
       "       [107.22482426,  91.37294597],\n",
       "       [100.96781394, 100.40118279],\n",
       "       [113.42090475, 105.48508838],\n",
       "       [ 91.6604946 , 106.1472841 ],\n",
       "       [ 95.08715803, 103.40412146],\n",
       "       [101.20862522, 103.5730309 ],\n",
       "       [100.28690912, 105.85269352],\n",
       "       [ 93.37126331, 108.57980357],\n",
       "       [100.79478953,  94.20019732],\n",
       "       [ 96.10020311, 102.80387079],\n",
       "       [ 98.29687616,  93.24376389],\n",
       "       [ 97.24130034,  89.03452725],\n",
       "       [ 96.2832753 , 104.60344836],\n",
       "       [101.13442416,  97.62787811],\n",
       "       [106.71751618, 102.97585605],\n",
       "       [ 98.45723272, 100.72418901],\n",
       "       [106.39798503,  95.46493436],\n",
       "       [ 94.35373179, 106.83273763],\n",
       "       [100.07721494,  96.02548256],\n",
       "       [102.82360856, 106.47551845],\n",
       "       [101.34745901, 102.45651798],\n",
       "       [ 98.74767493,  97.57544275],\n",
       "       [ 92.5748759 ,  91.37294597],\n",
       "       [105.30350449,  92.87730812],\n",
       "       [103.19258339, 104.40518318],\n",
       "       [101.29326772, 100.85447132],\n",
       "       [101.2226037 , 106.03868807],\n",
       "       [ 97.85230675, 110.44484313],\n",
       "       [ 93.87155456, 101.5363647 ],\n",
       "       [ 97.65393524,  92.75048583],\n",
       "       [101.72074646,  96.96851209],\n",
       "       [103.29147111,  99.14931546],\n",
       "       [101.3514185 , 100.37372248],\n",
       "       [106.6471081 , 100.61742813],\n",
       "       [105.0320535 ,  99.35999981],\n",
       "       [ 98.87007532,  95.85284217],\n",
       "       [ 93.97853495,  97.21315663],\n",
       "       [107.02874163, 102.17642112],\n",
       "       [ 96.74630281,  95.93799169],\n",
       "       [102.62384733, 105.07475277],\n",
       "       [ 97.59572169, 106.57364584],\n",
       "       [ 95.65982034, 107.22482426],\n",
       "       [107.19119932, 102.93039474],\n",
       "       [ 85.98839623,  95.19184343],\n",
       "       [ 91.32093303, 102.35313953],\n",
       "       [100.39303522, 100.39303522],\n",
       "       [ 92.0108226 ,  97.75887636],\n",
       "       [ 93.18884302, 100.44940274],\n",
       "       [108.09423367,  96.50342927],\n",
       "       [ 99.58664719,  95.19184343],\n",
       "       [103.1521596 , 109.40523174],\n",
       "       [ 93.83969256,  99.95827854],\n",
       "       [101.83462816,  99.69982772],\n",
       "       [103.05289628, 103.93383957],\n",
       "       [104.15899829, 106.11454989],\n",
       "       [ 88.80221141,  94.5081787 ],\n",
       "       [ 94.59300658, 101.08830521],\n",
       "       [ 96.34622848,  96.89244283],\n",
       "       [ 98.07122664, 100.28690912],\n",
       "       [ 96.78266211,  99.84251605],\n",
       "       [104.03478031, 106.57052697],\n",
       "       [105.13668343, 105.37011896],\n",
       "       [ 99.07551254, 104.15899829],\n",
       "       [ 98.75108352, 101.86186193],\n",
       "       [103.61720152,  99.57859892],\n",
       "       [ 99.4889538 , 103.05541444],\n",
       "       [ 98.65912661,  98.72774132],\n",
       "       [104.70526438, 110.44484313],\n",
       "       [ 97.49594839,  96.59385486],\n",
       "       [104.63817694, 102.55198606],\n",
       "       [105.86078488,  96.5937781 ],\n",
       "       [ 93.04610867,  99.92159953],\n",
       "       [100.96781394,  96.76814836],\n",
       "       [ 91.6779221 , 101.79132774],\n",
       "       [101.20773355,  98.29243952],\n",
       "       [101.83845792,  97.94046856],\n",
       "       [102.20618501,  91.37294597],\n",
       "       [106.89005002, 106.57364584],\n",
       "       [102.26648279, 107.40064604],\n",
       "       [ 99.94318168, 103.40412146],\n",
       "       [106.38276709,  98.00253006],\n",
       "       [ 97.10439252,  99.80873105],\n",
       "       [101.63973121, 106.46476468],\n",
       "       [110.43976681, 100.69156231],\n",
       "       [ 99.99579473, 101.32113654],\n",
       "       [ 94.76253572,  97.24130034],\n",
       "       [ 96.10020311,  94.57421727],\n",
       "       [100.80409326, 105.02389857],\n",
       "       [ 98.61325194,  95.62359311],\n",
       "       [ 97.99762409, 103.83852459],\n",
       "       [101.2226037 ,  94.11176915],\n",
       "       [ 99.62387832, 104.51786419],\n",
       "       [ 97.62787811,  93.97853495],\n",
       "       [ 98.75108352, 106.05042487],\n",
       "       [100.07721494, 106.89005002]])"
      ]
     },
     "execution_count": 26,
     "metadata": {},
     "output_type": "execute_result"
    }
   ],
   "source": [
    "# reshaping to a matrix with two columns\n",
    "dataset.reshape(-1,2)"
   ]
  },
  {
   "cell_type": "markdown",
   "metadata": {},
   "source": [
    "> **Note:**   \n",
    "-1 in the dimension definition means that it figures out the other dimension on its own"
   ]
  }
 ],
 "metadata": {
  "kernelspec": {
   "display_name": "Python 3",
   "language": "python",
   "name": "python3"
  },
  "language_info": {
   "codemirror_mode": {
    "name": "ipython",
    "version": 3
   },
   "file_extension": ".py",
   "mimetype": "text/x-python",
   "name": "python",
   "nbconvert_exporter": "python",
   "pygments_lexer": "ipython3",
   "version": "3.12.3"
  }
 },
 "nbformat": 4,
 "nbformat_minor": 4
}

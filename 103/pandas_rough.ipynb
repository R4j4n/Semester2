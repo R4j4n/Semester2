{
 "cells": [
  {
   "cell_type": "code",
   "execution_count": 1,
   "metadata": {},
   "outputs": [
    {
     "name": "stdout",
     "output_type": "stream",
     "text": [
      "A      2\n",
      "B     20\n",
      "C    200\n",
      "Name: row2, dtype: int64\n",
      "row1    10\n",
      "row2    20\n",
      "row3    30\n",
      "row4    40\n",
      "row5    50\n",
      "Name: B, dtype: int64\n",
      "100\n",
      "      A    C\n",
      "row1  1  100\n",
      "row3  3  300\n",
      "      A   B    C\n",
      "row2  2  20  200\n",
      "row3  3  30  300\n",
      "row4  4  40  400\n",
      "      A   B    C\n",
      "row3  3  30  300\n",
      "row4  4  40  400\n",
      "row5  5  50  500\n",
      "A      2\n",
      "B     20\n",
      "C    200\n",
      "Name: row2, dtype: int64\n",
      "row1    10\n",
      "row2    20\n",
      "row3    30\n",
      "row4    40\n",
      "row5    50\n",
      "Name: B, dtype: int64\n",
      "100\n",
      "      A    C\n",
      "row1  1  100\n",
      "row3  3  300\n",
      "      A   B    C\n",
      "row2  2  20  200\n",
      "row3  3  30  300\n",
      "row4  4  40  400\n",
      "      A   B\n",
      "row1  1  10\n",
      "row2  2  20\n",
      "row3  3  30\n",
      "row4  4  40\n",
      "row5  5  50\n"
     ]
    }
   ],
   "source": [
    "import pandas as pd\n",
    "\n",
    "# Create a sample DataFrame\n",
    "df = pd.DataFrame({\n",
    "    'A': [1, 2, 3, 4, 5],\n",
    "    'B': [10, 20, 30, 40, 50],\n",
    "    'C': [100, 200, 300, 400, 500]\n",
    "}, index=['row1', 'row2', 'row3', 'row4', 'row5'])\n",
    "\n",
    "# loc examples\n",
    "print(df.loc['row2'])  # Select row 'row2'\n",
    "print(df.loc[:, 'B'])  # Select column 'B'\n",
    "print(df.loc['row1', 'C'])  # Select value at 'row1' and column 'C'\n",
    "print(df.loc[['row1', 'row3'], ['A', 'C']])  # Select multiple rows and columns\n",
    "print(df.loc['row2':'row4'])  # Slice rows from 'row2' to 'row4' : start : step <- Step included \n",
    "print(df.loc[df['A'] > 2])  # Boolean indexing this is performed on row \n",
    "print(df.loc[(df.A <= 3) & (df.B <=30 ),\"B\"])\n",
    "\n",
    "# iloc examples\n",
    "print(df.iloc[1])  # Select second row\n",
    "print(df.iloc[:, 1])  # Select second column\n",
    "print(df.iloc[0, 2])  # Select value at first row and third column\n",
    "print(df.iloc[[0, 2], [0, 2]])  # Select multiple rows and columns by position\n",
    "print(df.iloc[1:4])  # Slice rows from index 1 to 3\n",
    "print(df.iloc[:, 0:2])  # Slice first two columns"
   ]
  },
  {
   "cell_type": "code",
   "execution_count": 2,
   "metadata": {},
   "outputs": [],
   "source": [
    "# Mathematical operations: axis=0 columns, axis=1  rows\n",
    "\n",
    "# Drop: axis=0 drops rows, axis=1 drops columns"
   ]
  },
  {
   "cell_type": "code",
   "execution_count": 3,
   "metadata": {},
   "outputs": [
    {
     "name": "stdout",
     "output_type": "stream",
     "text": [
      "      A   B\n",
      "row1  1  10\n",
      "row2  2  20\n",
      "row3  3  30\n",
      "\n",
      "\n",
      "      A\n",
      "row1  1\n",
      "row2  2\n"
     ]
    }
   ],
   "source": [
    "print(df.loc[:\"row3\", :\"B\"])\n",
    "print(\"\\n\")\n",
    "print(df.iloc[:2, :1])"
   ]
  },
  {
   "cell_type": "code",
   "execution_count": 6,
   "metadata": {},
   "outputs": [
    {
     "name": "stdout",
     "output_type": "stream",
     "text": [
      "\n",
      "1. Basic groupby (mean of Value for each Category):\n",
      "Category\n",
      "A    30.0\n",
      "B    30.0\n",
      "C    65.0\n",
      "D    90.0\n",
      "Name: Value, dtype: float64\n",
      "\n",
      "2. Multiple columns groupby:\n",
      "                      Value  Quantity\n",
      "Category SubCategory                 \n",
      "A        X             30.0       3.0\n",
      "         Y             30.0       3.0\n",
      "B        X             20.0       2.0\n",
      "         Y             40.0       4.0\n",
      "C        X             60.0       6.0\n",
      "         Y             70.0       7.0\n",
      "D        X             80.0       8.0\n",
      "         Y             95.0       9.5\n"
     ]
    }
   ],
   "source": [
    "import pandas as pd\n",
    "import numpy as np\n",
    "\n",
    "# Sample DataFrame\n",
    "df = pd.DataFrame({\n",
    "    'Category': ['A', 'B', 'A', 'B', 'A', 'C', 'C', 'D', 'D', 'D'],\n",
    "    'SubCategory': ['X', 'X', 'Y', 'Y', 'X', 'X', 'Y', 'X', 'Y', 'Y'],\n",
    "    'Value': [10, 20, 30, 40, 50, 60, 70, 80, 90, 100],\n",
    "    'Quantity': [1, 2, 3, 4, 5, 6, 7, 8, 9, 10]\n",
    "})\n",
    "\n",
    "\n",
    "# 1. Basic groupby\n",
    "print(\"\\n1. Basic groupby (mean of Value for each Category):\")\n",
    "print(df.groupby('Category')['Value'].mean())\n",
    "\n",
    "# 2. Multiple columns groupby\n",
    "print(\"\\n2. Multiple columns groupby:\")\n",
    "print(df.groupby(['Category', 'SubCategory']).mean())\n",
    "\n"
   ]
  },
  {
   "cell_type": "code",
   "execution_count": 7,
   "metadata": {},
   "outputs": [
    {
     "name": "stdout",
     "output_type": "stream",
     "text": [
      "\n",
      "5. Multiple aggregations:\n",
      "          Value  Quantity\n",
      "Category                 \n",
      "A            90       3.0\n",
      "B            60       3.0\n",
      "C           130       6.5\n",
      "D           270       9.0\n",
      "\n",
      "6. Transformation (sum):\n",
      "  SubCategory  Value  Quantity\n",
      "0         XYX     90         9\n",
      "1          XY     60         6\n",
      "2         XYX     90         9\n",
      "3          XY     60         6\n",
      "4         XYX     90         9\n",
      "5          XY    130        13\n",
      "6          XY    130        13\n",
      "7         XYY    270        27\n",
      "8         XYY    270        27\n",
      "9         XYY    270        27\n"
     ]
    }
   ],
   "source": [
    "# 5. Multiple aggregations\n",
    "print(\"\\n5. Multiple aggregations:\")\n",
    "print(df.groupby('Category').agg({'Value': 'sum', 'Quantity': 'mean'}))\n",
    "\n",
    "# 6. Transformation\n",
    "print(\"\\n6. Transformation (sum):\")\n",
    "print(df.groupby('Category').transform('sum'))\n",
    "\n"
   ]
  },
  {
   "cell_type": "code",
   "execution_count": 10,
   "metadata": {},
   "outputs": [
    {
     "name": "stdout",
     "output_type": "stream",
     "text": [
      "\n",
      "9. Get group sizes:\n",
      "Category\n",
      "A    3\n",
      "B    2\n",
      "C    2\n",
      "D    3\n",
      "dtype: int64\n",
      "\n",
      "11. Groupby with multiple columns and reset index:\n",
      "                      Value  Quantity\n",
      "Category SubCategory                 \n",
      "A        X             30.0       3.0\n",
      "         Y             30.0       3.0\n",
      "B        X             20.0       2.0\n",
      "         Y             40.0       4.0\n",
      "C        X             60.0       6.0\n",
      "         Y             70.0       7.0\n",
      "D        X             80.0       8.0\n",
      "         Y             95.0       9.5\n"
     ]
    }
   ],
   "source": [
    "# 9. Get group sizes\n",
    "print(\"\\n9. Get group sizes:\")\n",
    "print(df.groupby('Category').size())\n",
    "\n",
    "\n",
    "# 11. Groupby with multiple columns and reset index\n",
    "print(\"\\n11. Groupby with multiple columns and reset index:\")\n",
    "print(df.groupby(['Category', 'SubCategory']).mean())\n",
    "\n"
   ]
  },
  {
   "cell_type": "code",
   "execution_count": 13,
   "metadata": {},
   "outputs": [
    {
     "data": {
      "text/plain": [
       "(Category\n",
       " A    3\n",
       " D    3\n",
       " B    2\n",
       " C    2\n",
       " Name: count, dtype: int64,\n",
       " Category\n",
       " A    3\n",
       " B    2\n",
       " C    2\n",
       " D    3\n",
       " dtype: int64)"
      ]
     },
     "execution_count": 13,
     "metadata": {},
     "output_type": "execute_result"
    }
   ],
   "source": [
    "df[\"Category\"].value_counts() # sorted \n",
    "df.groupby('Category').size() # unsorted but same "
   ]
  }
 ],
 "metadata": {
  "kernelspec": {
   "display_name": "gpt",
   "language": "python",
   "name": "python3"
  },
  "language_info": {
   "codemirror_mode": {
    "name": "ipython",
    "version": 3
   },
   "file_extension": ".py",
   "mimetype": "text/x-python",
   "name": "python",
   "nbconvert_exporter": "python",
   "pygments_lexer": "ipython3",
   "version": "3.12.3"
  }
 },
 "nbformat": 4,
 "nbformat_minor": 2
}

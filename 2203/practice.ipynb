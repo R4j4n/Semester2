{
 "cells": [
  {
   "cell_type": "code",
   "execution_count": 100,
   "metadata": {},
   "outputs": [],
   "source": [
    "x = [1,2,3,4,1,5,6,7,8,9,10,11,12]"
   ]
  },
  {
   "cell_type": "code",
   "execution_count": 101,
   "metadata": {},
   "outputs": [],
   "source": [
    "from itertools import combinations"
   ]
  },
  {
   "cell_type": "code",
   "execution_count": 102,
   "metadata": {},
   "outputs": [
    {
     "name": "stdout",
     "output_type": "stream",
     "text": [
      "(1, 2, 3, 4)\n",
      "(1, 2, 3, 1)\n",
      "(1, 2, 3, 5)\n",
      "(1, 2, 3, 6)\n",
      "(1, 2, 3, 7)\n",
      "(1, 2, 3, 8)\n",
      "(1, 2, 3, 9)\n",
      "(1, 2, 3, 10)\n",
      "(1, 2, 3, 11)\n",
      "(1, 2, 3, 12)\n",
      "(1, 2, 4, 1)\n",
      "(1, 2, 4, 5)\n",
      "(1, 2, 4, 6)\n",
      "(1, 2, 4, 7)\n",
      "(1, 2, 4, 8)\n",
      "(1, 2, 4, 9)\n",
      "(1, 2, 4, 10)\n",
      "(1, 2, 4, 11)\n",
      "(1, 2, 4, 12)\n",
      "(1, 2, 1, 5)\n",
      "(1, 2, 1, 6)\n",
      "(1, 2, 1, 7)\n",
      "(1, 2, 1, 8)\n",
      "(1, 2, 1, 9)\n",
      "(1, 2, 1, 10)\n",
      "(1, 2, 1, 11)\n",
      "(1, 2, 1, 12)\n",
      "(1, 2, 5, 6)\n",
      "(1, 2, 5, 7)\n",
      "(1, 2, 5, 8)\n",
      "(1, 2, 5, 9)\n",
      "(1, 2, 5, 10)\n",
      "(1, 2, 5, 11)\n",
      "(1, 2, 5, 12)\n",
      "(1, 2, 6, 7)\n",
      "(1, 2, 6, 8)\n",
      "(1, 2, 6, 9)\n",
      "(1, 2, 6, 10)\n",
      "(1, 2, 6, 11)\n",
      "(1, 2, 6, 12)\n",
      "(1, 2, 7, 8)\n",
      "(1, 2, 7, 9)\n",
      "(1, 2, 7, 10)\n",
      "(1, 2, 7, 11)\n",
      "(1, 2, 7, 12)\n",
      "(1, 2, 8, 9)\n",
      "(1, 2, 8, 10)\n",
      "(1, 2, 8, 11)\n",
      "(1, 2, 8, 12)\n",
      "(1, 2, 9, 10)\n",
      "(1, 2, 9, 11)\n",
      "(1, 2, 9, 12)\n",
      "(1, 2, 10, 11)\n",
      "(1, 2, 10, 12)\n",
      "(1, 2, 11, 12)\n",
      "(1, 3, 4, 1)\n",
      "(1, 3, 4, 5)\n",
      "(1, 3, 4, 6)\n",
      "(1, 3, 4, 7)\n",
      "(1, 3, 4, 8)\n",
      "(1, 3, 4, 9)\n",
      "(1, 3, 4, 10)\n",
      "(1, 3, 4, 11)\n",
      "(1, 3, 4, 12)\n",
      "(1, 3, 1, 5)\n",
      "(1, 3, 1, 6)\n",
      "(1, 3, 1, 7)\n",
      "(1, 3, 1, 8)\n",
      "(1, 3, 1, 9)\n",
      "(1, 3, 1, 10)\n",
      "(1, 3, 1, 11)\n",
      "(1, 3, 1, 12)\n",
      "(1, 3, 5, 6)\n",
      "(1, 3, 5, 7)\n",
      "(1, 3, 5, 8)\n",
      "(1, 3, 5, 9)\n",
      "(1, 3, 5, 10)\n",
      "(1, 3, 5, 11)\n",
      "(1, 3, 5, 12)\n",
      "(1, 3, 6, 7)\n",
      "(1, 3, 6, 8)\n",
      "(1, 3, 6, 9)\n",
      "(1, 3, 6, 10)\n",
      "(1, 3, 6, 11)\n",
      "(1, 3, 6, 12)\n",
      "(1, 3, 7, 8)\n",
      "(1, 3, 7, 9)\n",
      "(1, 3, 7, 10)\n",
      "(1, 3, 7, 11)\n",
      "(1, 3, 7, 12)\n",
      "(1, 3, 8, 9)\n",
      "(1, 3, 8, 10)\n",
      "(1, 3, 8, 11)\n",
      "(1, 3, 8, 12)\n",
      "(1, 3, 9, 10)\n",
      "(1, 3, 9, 11)\n",
      "(1, 3, 9, 12)\n",
      "(1, 3, 10, 11)\n",
      "(1, 3, 10, 12)\n",
      "(1, 3, 11, 12)\n",
      "(1, 4, 1, 5)\n",
      "(1, 4, 1, 6)\n",
      "(1, 4, 1, 7)\n",
      "(1, 4, 1, 8)\n",
      "(1, 4, 1, 9)\n",
      "(1, 4, 1, 10)\n",
      "(1, 4, 1, 11)\n",
      "(1, 4, 1, 12)\n",
      "(1, 4, 5, 6)\n",
      "(1, 4, 5, 7)\n",
      "(1, 4, 5, 8)\n",
      "(1, 4, 5, 9)\n",
      "(1, 4, 5, 10)\n",
      "(1, 4, 5, 11)\n",
      "(1, 4, 5, 12)\n",
      "(1, 4, 6, 7)\n",
      "(1, 4, 6, 8)\n",
      "(1, 4, 6, 9)\n",
      "(1, 4, 6, 10)\n",
      "(1, 4, 6, 11)\n",
      "(1, 4, 6, 12)\n",
      "(1, 4, 7, 8)\n",
      "(1, 4, 7, 9)\n",
      "(1, 4, 7, 10)\n",
      "(1, 4, 7, 11)\n",
      "(1, 4, 7, 12)\n",
      "(1, 4, 8, 9)\n",
      "(1, 4, 8, 10)\n",
      "(1, 4, 8, 11)\n",
      "(1, 4, 8, 12)\n",
      "(1, 4, 9, 10)\n",
      "(1, 4, 9, 11)\n",
      "(1, 4, 9, 12)\n",
      "(1, 4, 10, 11)\n",
      "(1, 4, 10, 12)\n",
      "(1, 4, 11, 12)\n",
      "(1, 1, 5, 6)\n",
      "(1, 1, 5, 7)\n",
      "(1, 1, 5, 8)\n",
      "(1, 1, 5, 9)\n",
      "(1, 1, 5, 10)\n",
      "(1, 1, 5, 11)\n",
      "(1, 1, 5, 12)\n",
      "(1, 1, 6, 7)\n",
      "(1, 1, 6, 8)\n",
      "(1, 1, 6, 9)\n",
      "(1, 1, 6, 10)\n",
      "(1, 1, 6, 11)\n",
      "(1, 1, 6, 12)\n",
      "(1, 1, 7, 8)\n",
      "(1, 1, 7, 9)\n",
      "(1, 1, 7, 10)\n",
      "(1, 1, 7, 11)\n",
      "(1, 1, 7, 12)\n",
      "(1, 1, 8, 9)\n",
      "(1, 1, 8, 10)\n",
      "(1, 1, 8, 11)\n",
      "(1, 1, 8, 12)\n",
      "(1, 1, 9, 10)\n",
      "(1, 1, 9, 11)\n",
      "(1, 1, 9, 12)\n",
      "(1, 1, 10, 11)\n",
      "(1, 1, 10, 12)\n",
      "(1, 1, 11, 12)\n",
      "(1, 5, 6, 7)\n",
      "(1, 5, 6, 8)\n",
      "(1, 5, 6, 9)\n",
      "(1, 5, 6, 10)\n",
      "(1, 5, 6, 11)\n",
      "(1, 5, 6, 12)\n",
      "(1, 5, 7, 8)\n",
      "(1, 5, 7, 9)\n",
      "(1, 5, 7, 10)\n",
      "(1, 5, 7, 11)\n",
      "(1, 5, 7, 12)\n",
      "(1, 5, 8, 9)\n",
      "(1, 5, 8, 10)\n",
      "(1, 5, 8, 11)\n",
      "(1, 5, 8, 12)\n",
      "(1, 5, 9, 10)\n",
      "(1, 5, 9, 11)\n",
      "(1, 5, 9, 12)\n",
      "(1, 5, 10, 11)\n",
      "(1, 5, 10, 12)\n",
      "(1, 5, 11, 12)\n",
      "(1, 6, 7, 8)\n",
      "(1, 6, 7, 9)\n",
      "(1, 6, 7, 10)\n",
      "(1, 6, 7, 11)\n",
      "(1, 6, 7, 12)\n",
      "(1, 6, 8, 9)\n",
      "(1, 6, 8, 10)\n",
      "(1, 6, 8, 11)\n",
      "(1, 6, 8, 12)\n",
      "(1, 6, 9, 10)\n",
      "(1, 6, 9, 11)\n",
      "(1, 6, 9, 12)\n",
      "(1, 6, 10, 11)\n",
      "(1, 6, 10, 12)\n",
      "(1, 6, 11, 12)\n",
      "(1, 7, 8, 9)\n",
      "(1, 7, 8, 10)\n",
      "(1, 7, 8, 11)\n",
      "(1, 7, 8, 12)\n",
      "(1, 7, 9, 10)\n",
      "(1, 7, 9, 11)\n",
      "(1, 7, 9, 12)\n",
      "(1, 7, 10, 11)\n",
      "(1, 7, 10, 12)\n",
      "(1, 7, 11, 12)\n",
      "(1, 8, 9, 10)\n",
      "(1, 8, 9, 11)\n",
      "(1, 8, 9, 12)\n",
      "(1, 8, 10, 11)\n",
      "(1, 8, 10, 12)\n",
      "(1, 8, 11, 12)\n",
      "(1, 9, 10, 11)\n",
      "(1, 9, 10, 12)\n",
      "(1, 9, 11, 12)\n",
      "(1, 10, 11, 12)\n",
      "(2, 3, 4, 1)\n",
      "(2, 3, 4, 5)\n",
      "(2, 3, 4, 6)\n",
      "(2, 3, 4, 7)\n",
      "(2, 3, 4, 8)\n",
      "(2, 3, 4, 9)\n",
      "(2, 3, 4, 10)\n",
      "(2, 3, 4, 11)\n",
      "(2, 3, 4, 12)\n",
      "(2, 3, 1, 5)\n",
      "(2, 3, 1, 6)\n",
      "(2, 3, 1, 7)\n",
      "(2, 3, 1, 8)\n",
      "(2, 3, 1, 9)\n",
      "(2, 3, 1, 10)\n",
      "(2, 3, 1, 11)\n",
      "(2, 3, 1, 12)\n",
      "(2, 3, 5, 6)\n",
      "(2, 3, 5, 7)\n",
      "(2, 3, 5, 8)\n",
      "(2, 3, 5, 9)\n",
      "(2, 3, 5, 10)\n",
      "(2, 3, 5, 11)\n",
      "(2, 3, 5, 12)\n",
      "(2, 3, 6, 7)\n",
      "(2, 3, 6, 8)\n",
      "(2, 3, 6, 9)\n",
      "(2, 3, 6, 10)\n",
      "(2, 3, 6, 11)\n",
      "(2, 3, 6, 12)\n",
      "(2, 3, 7, 8)\n",
      "(2, 3, 7, 9)\n",
      "(2, 3, 7, 10)\n",
      "(2, 3, 7, 11)\n",
      "(2, 3, 7, 12)\n",
      "(2, 3, 8, 9)\n",
      "(2, 3, 8, 10)\n",
      "(2, 3, 8, 11)\n",
      "(2, 3, 8, 12)\n",
      "(2, 3, 9, 10)\n",
      "(2, 3, 9, 11)\n",
      "(2, 3, 9, 12)\n",
      "(2, 3, 10, 11)\n",
      "(2, 3, 10, 12)\n",
      "(2, 3, 11, 12)\n",
      "(2, 4, 1, 5)\n",
      "(2, 4, 1, 6)\n",
      "(2, 4, 1, 7)\n",
      "(2, 4, 1, 8)\n",
      "(2, 4, 1, 9)\n",
      "(2, 4, 1, 10)\n",
      "(2, 4, 1, 11)\n",
      "(2, 4, 1, 12)\n",
      "(2, 4, 5, 6)\n",
      "(2, 4, 5, 7)\n",
      "(2, 4, 5, 8)\n",
      "(2, 4, 5, 9)\n",
      "(2, 4, 5, 10)\n",
      "(2, 4, 5, 11)\n",
      "(2, 4, 5, 12)\n",
      "(2, 4, 6, 7)\n",
      "(2, 4, 6, 8)\n",
      "(2, 4, 6, 9)\n",
      "(2, 4, 6, 10)\n",
      "(2, 4, 6, 11)\n",
      "(2, 4, 6, 12)\n",
      "(2, 4, 7, 8)\n",
      "(2, 4, 7, 9)\n",
      "(2, 4, 7, 10)\n",
      "(2, 4, 7, 11)\n",
      "(2, 4, 7, 12)\n",
      "(2, 4, 8, 9)\n",
      "(2, 4, 8, 10)\n",
      "(2, 4, 8, 11)\n",
      "(2, 4, 8, 12)\n",
      "(2, 4, 9, 10)\n",
      "(2, 4, 9, 11)\n",
      "(2, 4, 9, 12)\n",
      "(2, 4, 10, 11)\n",
      "(2, 4, 10, 12)\n",
      "(2, 4, 11, 12)\n",
      "(2, 1, 5, 6)\n",
      "(2, 1, 5, 7)\n",
      "(2, 1, 5, 8)\n",
      "(2, 1, 5, 9)\n",
      "(2, 1, 5, 10)\n",
      "(2, 1, 5, 11)\n",
      "(2, 1, 5, 12)\n",
      "(2, 1, 6, 7)\n",
      "(2, 1, 6, 8)\n",
      "(2, 1, 6, 9)\n",
      "(2, 1, 6, 10)\n",
      "(2, 1, 6, 11)\n",
      "(2, 1, 6, 12)\n",
      "(2, 1, 7, 8)\n",
      "(2, 1, 7, 9)\n",
      "(2, 1, 7, 10)\n",
      "(2, 1, 7, 11)\n",
      "(2, 1, 7, 12)\n",
      "(2, 1, 8, 9)\n",
      "(2, 1, 8, 10)\n",
      "(2, 1, 8, 11)\n",
      "(2, 1, 8, 12)\n",
      "(2, 1, 9, 10)\n",
      "(2, 1, 9, 11)\n",
      "(2, 1, 9, 12)\n",
      "(2, 1, 10, 11)\n",
      "(2, 1, 10, 12)\n",
      "(2, 1, 11, 12)\n",
      "(2, 5, 6, 7)\n",
      "(2, 5, 6, 8)\n",
      "(2, 5, 6, 9)\n",
      "(2, 5, 6, 10)\n",
      "(2, 5, 6, 11)\n",
      "(2, 5, 6, 12)\n",
      "(2, 5, 7, 8)\n",
      "(2, 5, 7, 9)\n",
      "(2, 5, 7, 10)\n",
      "(2, 5, 7, 11)\n",
      "(2, 5, 7, 12)\n",
      "(2, 5, 8, 9)\n",
      "(2, 5, 8, 10)\n",
      "(2, 5, 8, 11)\n",
      "(2, 5, 8, 12)\n",
      "(2, 5, 9, 10)\n",
      "(2, 5, 9, 11)\n",
      "(2, 5, 9, 12)\n",
      "(2, 5, 10, 11)\n",
      "(2, 5, 10, 12)\n",
      "(2, 5, 11, 12)\n",
      "(2, 6, 7, 8)\n",
      "(2, 6, 7, 9)\n",
      "(2, 6, 7, 10)\n",
      "(2, 6, 7, 11)\n",
      "(2, 6, 7, 12)\n",
      "(2, 6, 8, 9)\n",
      "(2, 6, 8, 10)\n",
      "(2, 6, 8, 11)\n",
      "(2, 6, 8, 12)\n",
      "(2, 6, 9, 10)\n",
      "(2, 6, 9, 11)\n",
      "(2, 6, 9, 12)\n",
      "(2, 6, 10, 11)\n",
      "(2, 6, 10, 12)\n",
      "(2, 6, 11, 12)\n",
      "(2, 7, 8, 9)\n",
      "(2, 7, 8, 10)\n",
      "(2, 7, 8, 11)\n",
      "(2, 7, 8, 12)\n",
      "(2, 7, 9, 10)\n",
      "(2, 7, 9, 11)\n",
      "(2, 7, 9, 12)\n",
      "(2, 7, 10, 11)\n",
      "(2, 7, 10, 12)\n",
      "(2, 7, 11, 12)\n",
      "(2, 8, 9, 10)\n",
      "(2, 8, 9, 11)\n",
      "(2, 8, 9, 12)\n",
      "(2, 8, 10, 11)\n",
      "(2, 8, 10, 12)\n",
      "(2, 8, 11, 12)\n",
      "(2, 9, 10, 11)\n",
      "(2, 9, 10, 12)\n",
      "(2, 9, 11, 12)\n",
      "(2, 10, 11, 12)\n",
      "(3, 4, 1, 5)\n",
      "(3, 4, 1, 6)\n",
      "(3, 4, 1, 7)\n",
      "(3, 4, 1, 8)\n",
      "(3, 4, 1, 9)\n",
      "(3, 4, 1, 10)\n",
      "(3, 4, 1, 11)\n",
      "(3, 4, 1, 12)\n",
      "(3, 4, 5, 6)\n",
      "(3, 4, 5, 7)\n",
      "(3, 4, 5, 8)\n",
      "(3, 4, 5, 9)\n",
      "(3, 4, 5, 10)\n",
      "(3, 4, 5, 11)\n",
      "(3, 4, 5, 12)\n",
      "(3, 4, 6, 7)\n",
      "(3, 4, 6, 8)\n",
      "(3, 4, 6, 9)\n",
      "(3, 4, 6, 10)\n",
      "(3, 4, 6, 11)\n",
      "(3, 4, 6, 12)\n",
      "(3, 4, 7, 8)\n",
      "(3, 4, 7, 9)\n",
      "(3, 4, 7, 10)\n",
      "(3, 4, 7, 11)\n",
      "(3, 4, 7, 12)\n",
      "(3, 4, 8, 9)\n",
      "(3, 4, 8, 10)\n",
      "(3, 4, 8, 11)\n",
      "(3, 4, 8, 12)\n",
      "(3, 4, 9, 10)\n",
      "(3, 4, 9, 11)\n",
      "(3, 4, 9, 12)\n",
      "(3, 4, 10, 11)\n",
      "(3, 4, 10, 12)\n",
      "(3, 4, 11, 12)\n",
      "(3, 1, 5, 6)\n",
      "(3, 1, 5, 7)\n",
      "(3, 1, 5, 8)\n",
      "(3, 1, 5, 9)\n",
      "(3, 1, 5, 10)\n",
      "(3, 1, 5, 11)\n",
      "(3, 1, 5, 12)\n",
      "(3, 1, 6, 7)\n",
      "(3, 1, 6, 8)\n",
      "(3, 1, 6, 9)\n",
      "(3, 1, 6, 10)\n",
      "(3, 1, 6, 11)\n",
      "(3, 1, 6, 12)\n",
      "(3, 1, 7, 8)\n",
      "(3, 1, 7, 9)\n",
      "(3, 1, 7, 10)\n",
      "(3, 1, 7, 11)\n",
      "(3, 1, 7, 12)\n",
      "(3, 1, 8, 9)\n",
      "(3, 1, 8, 10)\n",
      "(3, 1, 8, 11)\n",
      "(3, 1, 8, 12)\n",
      "(3, 1, 9, 10)\n",
      "(3, 1, 9, 11)\n",
      "(3, 1, 9, 12)\n",
      "(3, 1, 10, 11)\n",
      "(3, 1, 10, 12)\n",
      "(3, 1, 11, 12)\n",
      "(3, 5, 6, 7)\n",
      "(3, 5, 6, 8)\n",
      "(3, 5, 6, 9)\n",
      "(3, 5, 6, 10)\n",
      "(3, 5, 6, 11)\n",
      "(3, 5, 6, 12)\n",
      "(3, 5, 7, 8)\n",
      "(3, 5, 7, 9)\n",
      "(3, 5, 7, 10)\n",
      "(3, 5, 7, 11)\n",
      "(3, 5, 7, 12)\n",
      "(3, 5, 8, 9)\n",
      "(3, 5, 8, 10)\n",
      "(3, 5, 8, 11)\n",
      "(3, 5, 8, 12)\n",
      "(3, 5, 9, 10)\n",
      "(3, 5, 9, 11)\n",
      "(3, 5, 9, 12)\n",
      "(3, 5, 10, 11)\n",
      "(3, 5, 10, 12)\n",
      "(3, 5, 11, 12)\n",
      "(3, 6, 7, 8)\n",
      "(3, 6, 7, 9)\n",
      "(3, 6, 7, 10)\n",
      "(3, 6, 7, 11)\n",
      "(3, 6, 7, 12)\n",
      "(3, 6, 8, 9)\n",
      "(3, 6, 8, 10)\n",
      "(3, 6, 8, 11)\n",
      "(3, 6, 8, 12)\n",
      "(3, 6, 9, 10)\n",
      "(3, 6, 9, 11)\n",
      "(3, 6, 9, 12)\n",
      "(3, 6, 10, 11)\n",
      "(3, 6, 10, 12)\n",
      "(3, 6, 11, 12)\n",
      "(3, 7, 8, 9)\n",
      "(3, 7, 8, 10)\n",
      "(3, 7, 8, 11)\n",
      "(3, 7, 8, 12)\n",
      "(3, 7, 9, 10)\n",
      "(3, 7, 9, 11)\n",
      "(3, 7, 9, 12)\n",
      "(3, 7, 10, 11)\n",
      "(3, 7, 10, 12)\n",
      "(3, 7, 11, 12)\n",
      "(3, 8, 9, 10)\n",
      "(3, 8, 9, 11)\n",
      "(3, 8, 9, 12)\n",
      "(3, 8, 10, 11)\n",
      "(3, 8, 10, 12)\n",
      "(3, 8, 11, 12)\n",
      "(3, 9, 10, 11)\n",
      "(3, 9, 10, 12)\n",
      "(3, 9, 11, 12)\n",
      "(3, 10, 11, 12)\n",
      "(4, 1, 5, 6)\n",
      "(4, 1, 5, 7)\n",
      "(4, 1, 5, 8)\n",
      "(4, 1, 5, 9)\n",
      "(4, 1, 5, 10)\n",
      "(4, 1, 5, 11)\n",
      "(4, 1, 5, 12)\n",
      "(4, 1, 6, 7)\n",
      "(4, 1, 6, 8)\n",
      "(4, 1, 6, 9)\n",
      "(4, 1, 6, 10)\n",
      "(4, 1, 6, 11)\n",
      "(4, 1, 6, 12)\n",
      "(4, 1, 7, 8)\n",
      "(4, 1, 7, 9)\n",
      "(4, 1, 7, 10)\n",
      "(4, 1, 7, 11)\n",
      "(4, 1, 7, 12)\n",
      "(4, 1, 8, 9)\n",
      "(4, 1, 8, 10)\n",
      "(4, 1, 8, 11)\n",
      "(4, 1, 8, 12)\n",
      "(4, 1, 9, 10)\n",
      "(4, 1, 9, 11)\n",
      "(4, 1, 9, 12)\n",
      "(4, 1, 10, 11)\n",
      "(4, 1, 10, 12)\n",
      "(4, 1, 11, 12)\n",
      "(4, 5, 6, 7)\n",
      "(4, 5, 6, 8)\n",
      "(4, 5, 6, 9)\n",
      "(4, 5, 6, 10)\n",
      "(4, 5, 6, 11)\n",
      "(4, 5, 6, 12)\n",
      "(4, 5, 7, 8)\n",
      "(4, 5, 7, 9)\n",
      "(4, 5, 7, 10)\n",
      "(4, 5, 7, 11)\n",
      "(4, 5, 7, 12)\n",
      "(4, 5, 8, 9)\n",
      "(4, 5, 8, 10)\n",
      "(4, 5, 8, 11)\n",
      "(4, 5, 8, 12)\n",
      "(4, 5, 9, 10)\n",
      "(4, 5, 9, 11)\n",
      "(4, 5, 9, 12)\n",
      "(4, 5, 10, 11)\n",
      "(4, 5, 10, 12)\n",
      "(4, 5, 11, 12)\n",
      "(4, 6, 7, 8)\n",
      "(4, 6, 7, 9)\n",
      "(4, 6, 7, 10)\n",
      "(4, 6, 7, 11)\n",
      "(4, 6, 7, 12)\n",
      "(4, 6, 8, 9)\n",
      "(4, 6, 8, 10)\n",
      "(4, 6, 8, 11)\n",
      "(4, 6, 8, 12)\n",
      "(4, 6, 9, 10)\n",
      "(4, 6, 9, 11)\n",
      "(4, 6, 9, 12)\n",
      "(4, 6, 10, 11)\n",
      "(4, 6, 10, 12)\n",
      "(4, 6, 11, 12)\n",
      "(4, 7, 8, 9)\n",
      "(4, 7, 8, 10)\n",
      "(4, 7, 8, 11)\n",
      "(4, 7, 8, 12)\n",
      "(4, 7, 9, 10)\n",
      "(4, 7, 9, 11)\n",
      "(4, 7, 9, 12)\n",
      "(4, 7, 10, 11)\n",
      "(4, 7, 10, 12)\n",
      "(4, 7, 11, 12)\n",
      "(4, 8, 9, 10)\n",
      "(4, 8, 9, 11)\n",
      "(4, 8, 9, 12)\n",
      "(4, 8, 10, 11)\n",
      "(4, 8, 10, 12)\n",
      "(4, 8, 11, 12)\n",
      "(4, 9, 10, 11)\n",
      "(4, 9, 10, 12)\n",
      "(4, 9, 11, 12)\n",
      "(4, 10, 11, 12)\n",
      "(1, 5, 6, 7)\n",
      "(1, 5, 6, 8)\n",
      "(1, 5, 6, 9)\n",
      "(1, 5, 6, 10)\n",
      "(1, 5, 6, 11)\n",
      "(1, 5, 6, 12)\n",
      "(1, 5, 7, 8)\n",
      "(1, 5, 7, 9)\n",
      "(1, 5, 7, 10)\n",
      "(1, 5, 7, 11)\n",
      "(1, 5, 7, 12)\n",
      "(1, 5, 8, 9)\n",
      "(1, 5, 8, 10)\n",
      "(1, 5, 8, 11)\n",
      "(1, 5, 8, 12)\n",
      "(1, 5, 9, 10)\n",
      "(1, 5, 9, 11)\n",
      "(1, 5, 9, 12)\n",
      "(1, 5, 10, 11)\n",
      "(1, 5, 10, 12)\n",
      "(1, 5, 11, 12)\n",
      "(1, 6, 7, 8)\n",
      "(1, 6, 7, 9)\n",
      "(1, 6, 7, 10)\n",
      "(1, 6, 7, 11)\n",
      "(1, 6, 7, 12)\n",
      "(1, 6, 8, 9)\n",
      "(1, 6, 8, 10)\n",
      "(1, 6, 8, 11)\n",
      "(1, 6, 8, 12)\n",
      "(1, 6, 9, 10)\n",
      "(1, 6, 9, 11)\n",
      "(1, 6, 9, 12)\n",
      "(1, 6, 10, 11)\n",
      "(1, 6, 10, 12)\n",
      "(1, 6, 11, 12)\n",
      "(1, 7, 8, 9)\n",
      "(1, 7, 8, 10)\n",
      "(1, 7, 8, 11)\n",
      "(1, 7, 8, 12)\n",
      "(1, 7, 9, 10)\n",
      "(1, 7, 9, 11)\n",
      "(1, 7, 9, 12)\n",
      "(1, 7, 10, 11)\n",
      "(1, 7, 10, 12)\n",
      "(1, 7, 11, 12)\n",
      "(1, 8, 9, 10)\n",
      "(1, 8, 9, 11)\n",
      "(1, 8, 9, 12)\n",
      "(1, 8, 10, 11)\n",
      "(1, 8, 10, 12)\n",
      "(1, 8, 11, 12)\n",
      "(1, 9, 10, 11)\n",
      "(1, 9, 10, 12)\n",
      "(1, 9, 11, 12)\n",
      "(1, 10, 11, 12)\n",
      "(5, 6, 7, 8)\n",
      "(5, 6, 7, 9)\n",
      "(5, 6, 7, 10)\n",
      "(5, 6, 7, 11)\n",
      "(5, 6, 7, 12)\n",
      "(5, 6, 8, 9)\n",
      "(5, 6, 8, 10)\n",
      "(5, 6, 8, 11)\n",
      "(5, 6, 8, 12)\n",
      "(5, 6, 9, 10)\n",
      "(5, 6, 9, 11)\n",
      "(5, 6, 9, 12)\n",
      "(5, 6, 10, 11)\n",
      "(5, 6, 10, 12)\n",
      "(5, 6, 11, 12)\n",
      "(5, 7, 8, 9)\n",
      "(5, 7, 8, 10)\n",
      "(5, 7, 8, 11)\n",
      "(5, 7, 8, 12)\n",
      "(5, 7, 9, 10)\n",
      "(5, 7, 9, 11)\n",
      "(5, 7, 9, 12)\n",
      "(5, 7, 10, 11)\n",
      "(5, 7, 10, 12)\n",
      "(5, 7, 11, 12)\n",
      "(5, 8, 9, 10)\n",
      "(5, 8, 9, 11)\n",
      "(5, 8, 9, 12)\n",
      "(5, 8, 10, 11)\n",
      "(5, 8, 10, 12)\n",
      "(5, 8, 11, 12)\n",
      "(5, 9, 10, 11)\n",
      "(5, 9, 10, 12)\n",
      "(5, 9, 11, 12)\n",
      "(5, 10, 11, 12)\n",
      "(6, 7, 8, 9)\n",
      "(6, 7, 8, 10)\n",
      "(6, 7, 8, 11)\n",
      "(6, 7, 8, 12)\n",
      "(6, 7, 9, 10)\n",
      "(6, 7, 9, 11)\n",
      "(6, 7, 9, 12)\n",
      "(6, 7, 10, 11)\n",
      "(6, 7, 10, 12)\n",
      "(6, 7, 11, 12)\n",
      "(6, 8, 9, 10)\n",
      "(6, 8, 9, 11)\n",
      "(6, 8, 9, 12)\n",
      "(6, 8, 10, 11)\n",
      "(6, 8, 10, 12)\n",
      "(6, 8, 11, 12)\n",
      "(6, 9, 10, 11)\n",
      "(6, 9, 10, 12)\n",
      "(6, 9, 11, 12)\n",
      "(6, 10, 11, 12)\n",
      "(7, 8, 9, 10)\n",
      "(7, 8, 9, 11)\n",
      "(7, 8, 9, 12)\n",
      "(7, 8, 10, 11)\n",
      "(7, 8, 10, 12)\n",
      "(7, 8, 11, 12)\n",
      "(7, 9, 10, 11)\n",
      "(7, 9, 10, 12)\n",
      "(7, 9, 11, 12)\n",
      "(7, 10, 11, 12)\n",
      "(8, 9, 10, 11)\n",
      "(8, 9, 10, 12)\n",
      "(8, 9, 11, 12)\n",
      "(8, 10, 11, 12)\n",
      "(9, 10, 11, 12)\n"
     ]
    }
   ],
   "source": [
    "possible_combinations = combinations(x,4)\n",
    "for x in possible_combinations:\n",
    "    print(x)"
   ]
  },
  {
   "cell_type": "code",
   "execution_count": 103,
   "metadata": {},
   "outputs": [
    {
     "data": {
      "text/plain": [
       "(1, 1)"
      ]
     },
     "execution_count": 103,
     "metadata": {},
     "output_type": "execute_result"
    }
   ],
   "source": [
    "divmod(11,10)"
   ]
  },
  {
   "cell_type": "code",
   "execution_count": 104,
   "metadata": {},
   "outputs": [],
   "source": [
    "def add_digits(x : int):\n",
    "    \n",
    "    while divmod(x,10)[1] != x:\n",
    "        digits = list(map(int,str(x)))    \n",
    "        x = sum(digits)\n",
    "        \n",
    "        \n",
    "    return x\n",
    "            "
   ]
  },
  {
   "cell_type": "code",
   "execution_count": 105,
   "metadata": {},
   "outputs": [
    {
     "data": {
      "text/plain": [
       "1"
      ]
     },
     "execution_count": 105,
     "metadata": {},
     "output_type": "execute_result"
    }
   ],
   "source": [
    "add_digits(10)"
   ]
  },
  {
   "cell_type": "code",
   "execution_count": 106,
   "metadata": {},
   "outputs": [
    {
     "data": {
      "text/plain": [
       "4"
      ]
     },
     "execution_count": 106,
     "metadata": {},
     "output_type": "execute_result"
    }
   ],
   "source": [
    "int((16)**0.5)"
   ]
  },
  {
   "cell_type": "code",
   "execution_count": 107,
   "metadata": {},
   "outputs": [],
   "source": [
    "from typing import Union, List, Tuple\n",
    "def check_geometric_progression(input_array : Union[List, Tuple])-> bool:\n",
    "    \n",
    "    # check length of input array if 1 , return False \n",
    "    if len(input_array)  < 2: return False \n",
    "    \n",
    "    # calculate the ratio \n",
    "    ratio = input_array[1] / input_array[0]\n",
    "    \n",
    "    # check between every two elements \n",
    "    for i in range(1,len(input_array)):\n",
    "        \n",
    "        if input_array[i] / input_array[i-1] != ratio:\n",
    "            \n",
    "            return False\n",
    "        \n",
    "        \n",
    "    return True\n",
    "    \n",
    "    \n",
    "    \n",
    "    "
   ]
  },
  {
   "cell_type": "code",
   "execution_count": 108,
   "metadata": {},
   "outputs": [
    {
     "data": {
      "text/plain": [
       "False"
      ]
     },
     "execution_count": 108,
     "metadata": {},
     "output_type": "execute_result"
    }
   ],
   "source": [
    "check_geometric_progression([2, 5, 10, 20])"
   ]
  },
  {
   "cell_type": "code",
   "execution_count": 109,
   "metadata": {},
   "outputs": [],
   "source": [
    "def reverse_int(number : int):\n",
    "    \n",
    "    # check if the digit is positive or negative \n",
    "    negative = True if number < 0 else False\n",
    "    \n",
    "    reversed_str = int(str(abs(number))[::-1])\n",
    "    \n",
    "    return -1 * reversed_str if negative else reversed_str"
   ]
  },
  {
   "cell_type": "code",
   "execution_count": 110,
   "metadata": {},
   "outputs": [
    {
     "data": {
      "text/plain": [
       "-321"
      ]
     },
     "execution_count": 110,
     "metadata": {},
     "output_type": "execute_result"
    }
   ],
   "source": [
    "reverse_int(-123)"
   ]
  },
  {
   "cell_type": "code",
   "execution_count": 111,
   "metadata": {},
   "outputs": [],
   "source": [
    "def number_to_roman(int_value : int): \n",
    "    \n",
    "    assert isinstance(int_value, int), \"Please provide integer only.\"\n",
    "    \n",
    "    mapping = {\n",
    "                 \"I\" : 1, \n",
    "                 \"IV\" : 4, \n",
    "                 \"V\" : 5,\n",
    "                 \"IX\" : 9, \n",
    "                 \"X\" : 10, \n",
    "                 \"XL\" : 40, \n",
    "                 \"L\" : 50, \n",
    "                 \"XC\" : 90, \n",
    "                 \"C\" : 100, \n",
    "                 \"CD\" : 400, \n",
    "                 \"D\" : 500, \n",
    "                 \"CM\" : 900, \n",
    "                 \"M\" : 1000\n",
    "               }\n",
    "    \n",
    "    mapping = {k : v for k , v in sorted(mapping.items(), key= lambda x : x[1], reverse=True) }\n",
    "    \n",
    "    result = \"\"\n",
    "    for k , v in mapping.items():\n",
    "      \n",
    "      q, r = divmod(int_value, v)\n",
    "      \n",
    "      result += (k * q)\n",
    "      \n",
    "      int_value = r\n",
    "      \n",
    "      \n",
    "    return result\n",
    "  \n",
    "  \n",
    "  \n",
    "def roman_to_number(s : str) -> int:\n",
    "  \n",
    "  mapping = {\n",
    "  \"I\" : 1, \n",
    "  \"V\" : 5,\n",
    "  \"X\" : 10, \n",
    "  \"L\" : 50, \n",
    "  \"C\" : 100, \n",
    "  \"D\" : 500, \n",
    "  \"M\" : 1000\n",
    "  }\n",
    "  \n",
    "  result = 0\n",
    "  for i in range(len(s)):\n",
    "      \n",
    "      if i + 1 < len(s) and  mapping[s[i]] < mapping[s[i+1]]:    \n",
    "          result -= mapping[s[i]]          \n",
    "      else:\n",
    "          result += mapping[s[i]]\n",
    "  return result\n",
    "         \n"
   ]
  },
  {
   "cell_type": "code",
   "execution_count": 112,
   "metadata": {},
   "outputs": [
    {
     "data": {
      "text/plain": [
       "'DCCCXXV'"
      ]
     },
     "execution_count": 112,
     "metadata": {},
     "output_type": "execute_result"
    }
   ],
   "source": [
    "number_to_roman(825)"
   ]
  },
  {
   "cell_type": "code",
   "execution_count": 113,
   "metadata": {},
   "outputs": [
    {
     "data": {
      "text/plain": [
       "825"
      ]
     },
     "execution_count": 113,
     "metadata": {},
     "output_type": "execute_result"
    }
   ],
   "source": [
    "roman_to_number(\"DCCCXXV\")"
   ]
  },
  {
   "cell_type": "code",
   "execution_count": 114,
   "metadata": {},
   "outputs": [
    {
     "data": {
      "text/plain": [
       "12"
      ]
     },
     "execution_count": 114,
     "metadata": {},
     "output_type": "execute_result"
    }
   ],
   "source": [
    "def find_permutations(s, t):\n",
    "    s_m = {}\n",
    "    t_m = {}\n",
    "    # num_index_mapping\n",
    "    for i , (s_, t_) in enumerate(zip(list(s), list(t))):\n",
    "        s_m[str(s_)] = i\n",
    "        t_m[str(t_)] = i\n",
    "    \n",
    "    diff = 0\n",
    "    \n",
    "    for k, v in t_m.items():\n",
    "        \n",
    "        v_s = s_m.get(k,0)\n",
    "        \n",
    "        diff += abs(v_s -v)\n",
    "        \n",
    "    \n",
    "    return diff\n",
    "\n",
    "s = \"abcde\" \n",
    "t = \"edbac\"\n",
    "find_permutations(s,t)"
   ]
  },
  {
   "cell_type": "code",
   "execution_count": 115,
   "metadata": {},
   "outputs": [
    {
     "name": "stdout",
     "output_type": "stream",
     "text": [
      "1 3\n",
      "2 2\n",
      "3 1\n"
     ]
    }
   ],
   "source": [
    "for i , (x,y) in enumerate(zip([1,2,3],[3,2,1])):\n",
    "    print(x,y)"
   ]
  },
  {
   "cell_type": "code",
   "execution_count": 116,
   "metadata": {},
   "outputs": [
    {
     "data": {
      "text/plain": [
       "'1[.]1[.]1[.]1'"
      ]
     },
     "execution_count": 116,
     "metadata": {},
     "output_type": "execute_result"
    }
   ],
   "source": [
    "import re\n",
    "re.sub(r\"\\.\",\"[.]\",\"1.1.1.1\")"
   ]
  },
  {
   "cell_type": "code",
   "execution_count": 118,
   "metadata": {},
   "outputs": [
    {
     "name": "stdout",
     "output_type": "stream",
     "text": [
      "4374383992\n",
      "(437)-438-3992\n",
      "+1-4374383992\n",
      "437.438.3992\n"
     ]
    }
   ],
   "source": [
    "text = \"Rajans phone number is 4374383992 or (437)-438-3992 +1-4374383992 437.438.3992\"\n",
    "\n",
    "# pattern = r\"\\d+\"\n",
    "pattern = r\"(\\+\\d{1,3})?[-\\._]?\\(?\\d{3}\\)?[-\\._]?\\d{3}[-\\._]?\\d{4}\"\n",
    "result = re.finditer(pattern,text)\n",
    "\n",
    "for r in result:\n",
    "    print(r.group())\n"
   ]
  },
  {
   "cell_type": "code",
   "execution_count": 140,
   "metadata": {},
   "outputs": [
    {
     "name": "stdout",
     "output_type": "stream",
     "text": [
      "https://www.example.com/path?query=123&lang=en\n",
      "http://short.url\n",
      "www.google.com\n"
     ]
    }
   ],
   "source": [
    "sample_string = \"Visit https://www.example.com/path?query=123&lang=en or http://short.url or www.google.com\"\n",
    "\n",
    "# pattern = r\"\\d+\"\n",
    "pattern = r\"\\b(https?:\\/\\/)?(www\\.)?\\w+\\.\\w{3}(\\/\\S+)?\\b\"\n",
    "result = re.finditer(pattern,sample_string)\n",
    "\n",
    "for r in result:\n",
    "    print(r.group())\n"
   ]
  },
  {
   "cell_type": "code",
   "execution_count": 146,
   "metadata": {},
   "outputs": [
    {
     "name": "stdout",
     "output_type": "stream",
     "text": [
      "fucking\n",
      "fuck\n",
      "ducking\n"
     ]
    }
   ],
   "source": [
    "# pattern = r\"\\d+\"\n",
    "sample_string = \"fucking fuck ducking\"\n",
    "pattern = r\"\\w+(?!ing)\"\n",
    "result = re.finditer(pattern,sample_string)\n",
    "\n",
    "for r in result:\n",
    "    print(r.group())"
   ]
  },
  {
   "cell_type": "code",
   "execution_count": 149,
   "metadata": {},
   "outputs": [
    {
     "data": {
      "text/plain": [
       "False"
      ]
     },
     "execution_count": 149,
     "metadata": {},
     "output_type": "execute_result"
    }
   ],
   "source": [
    "\"rajan\".__contains__(\"z\")"
   ]
  },
  {
   "cell_type": "code",
   "execution_count": 154,
   "metadata": {},
   "outputs": [
    {
     "data": {
      "text/plain": [
       "1"
      ]
     },
     "execution_count": 154,
     "metadata": {},
     "output_type": "execute_result"
    }
   ],
   "source": [
    "def balanced_string(s):\n",
    "    \n",
    "    r_c , l_c , counter = 0,0,0\n",
    "    \n",
    "    for c in s:\n",
    "        if c == \"R\" : r_c += 1\n",
    "        if c == \"L\" : l_c += 1\n",
    "        \n",
    "        if r_c == l_c:\n",
    "            counter += 1\n",
    "            \n",
    "    return counter\n",
    "\n",
    "balanced_string(\"LLLLRRRR\")"
   ]
  },
  {
   "cell_type": "code",
   "execution_count": 165,
   "metadata": {},
   "outputs": [],
   "source": [
    "def reversePrefix(word: str, ch: str) -> str:\n",
    "    \n",
    "    # get the index of the character\n",
    "    try: \n",
    "        index = word.index(ch)\n",
    "        \n",
    "        spiltted_f, spiltted_b  = word[:index+1], word[index+1:]\n",
    "        \n",
    "        return spiltted_f[::-1] + spiltted_b\n",
    "        \n",
    "    except ValueError as v:\n",
    "        return word"
   ]
  },
  {
   "cell_type": "code",
   "execution_count": 157,
   "metadata": {},
   "outputs": [
    {
     "ename": "ValueError",
     "evalue": "substring not found",
     "output_type": "error",
     "traceback": [
      "\u001b[0;31m---------------------------------------------------------------------------\u001b[0m",
      "\u001b[0;31mValueError\u001b[0m                                Traceback (most recent call last)",
      "Cell \u001b[0;32mIn[157], line 1\u001b[0m\n\u001b[0;32m----> 1\u001b[0m \u001b[38;5;124;43m\"\u001b[39;49m\u001b[38;5;124;43mrajan\u001b[39;49m\u001b[38;5;124;43m\"\u001b[39;49m\u001b[38;5;241;43m.\u001b[39;49m\u001b[43mindex\u001b[49m\u001b[43m(\u001b[49m\u001b[38;5;124;43m'\u001b[39;49m\u001b[38;5;124;43mz\u001b[39;49m\u001b[38;5;124;43m'\u001b[39;49m\u001b[43m)\u001b[49m\n",
      "\u001b[0;31mValueError\u001b[0m: substring not found"
     ]
    }
   ],
   "source": [
    "\"rajan\".index('z')"
   ]
  },
  {
   "cell_type": "code",
   "execution_count": 159,
   "metadata": {},
   "outputs": [
    {
     "data": {
      "text/plain": [
       "3"
      ]
     },
     "execution_count": 159,
     "metadata": {},
     "output_type": "execute_result"
    }
   ],
   "source": [
    "\"abcdefd\".index(\"d\")"
   ]
  },
  {
   "cell_type": "code",
   "execution_count": 163,
   "metadata": {},
   "outputs": [
    {
     "data": {
      "text/plain": [
       "'dcba'"
      ]
     },
     "execution_count": 163,
     "metadata": {},
     "output_type": "execute_result"
    }
   ],
   "source": [
    "\"abcdefd\"[:4][::-1]"
   ]
  },
  {
   "cell_type": "code",
   "execution_count": 164,
   "metadata": {},
   "outputs": [
    {
     "data": {
      "text/plain": [
       "'efd'"
      ]
     },
     "execution_count": 164,
     "metadata": {},
     "output_type": "execute_result"
    }
   ],
   "source": [
    "\"abcdefd\"[4:]"
   ]
  },
  {
   "cell_type": "code",
   "execution_count": 169,
   "metadata": {},
   "outputs": [
    {
     "name": "stdout",
     "output_type": "stream",
     "text": [
      "RRaaaajjjjjjjjaaaaaaaaaaaaaaaannnnnnnnnnnnnnnnnnnnnnnnnnnnnnnn\n"
     ]
    }
   ],
   "source": [
    "def string_repeater(s : str):\n",
    "    final = \"\"\n",
    "    \n",
    "    for i, char in enumerate(s):\n",
    "        \n",
    "        final_len = len(final)\n",
    "        final += (final_len+2) * char \n",
    "        \n",
    "        \n",
    "    print(final)\n",
    "    \n",
    "\n",
    "string_repeater(s=\"Rajan\")"
   ]
  },
  {
   "cell_type": "code",
   "execution_count": 201,
   "metadata": {},
   "outputs": [],
   "source": [
    "def longest_common_prefix(strs):\n",
    "    smallest = min(strs, key=len)\n",
    "    for i in range(len(smallest)): \n",
    "        for word in strs:\n",
    "            print(smallest[i], word)\n",
    "            if smallest[i] != word[i]:\n",
    "                return smallest[:i]\n",
    "    \n"
   ]
  },
  {
   "cell_type": "code",
   "execution_count": 205,
   "metadata": {},
   "outputs": [
    {
     "name": "stdout",
     "output_type": "stream",
     "text": [
      "f flower\n",
      "f flow\n",
      "f flight\n",
      "l flower\n",
      "l flow\n",
      "l flight\n",
      "o flower\n",
      "o flow\n",
      "o flight\n"
     ]
    },
    {
     "data": {
      "text/plain": [
       "'fl'"
      ]
     },
     "execution_count": 205,
     "metadata": {},
     "output_type": "execute_result"
    }
   ],
   "source": [
    "strs = [\"flower\",\"flow\",\"flight\"]\n",
    "longest_common_prefix(strs)"
   ]
  },
  {
   "cell_type": "code",
   "execution_count": 203,
   "metadata": {},
   "outputs": [
    {
     "name": "stdout",
     "output_type": "stream",
     "text": [
      "flow\n"
     ]
    }
   ],
   "source": [
    "smallest = sorted(strs, key=len)[0]\n",
    "print(smallest)"
   ]
  },
  {
   "cell_type": "code",
   "execution_count": 204,
   "metadata": {},
   "outputs": [
    {
     "data": {
      "text/plain": [
       "'flow'"
      ]
     },
     "execution_count": 204,
     "metadata": {},
     "output_type": "execute_result"
    }
   ],
   "source": [
    "min(strs, key=len)"
   ]
  },
  {
   "cell_type": "code",
   "execution_count": 206,
   "metadata": {},
   "outputs": [],
   "source": [
    "text = \"I am Rajan. Rajan is a man.\""
   ]
  },
  {
   "cell_type": "code",
   "execution_count": 210,
   "metadata": {},
   "outputs": [],
   "source": [
    "import nltk\n",
    "from nltk.tokenize import sent_tokenize, word_tokenize"
   ]
  },
  {
   "cell_type": "code",
   "execution_count": 5,
   "metadata": {},
   "outputs": [],
   "source": [
    "import sqlite3 \n",
    "conn = sqlite3.connect(\":memory:\")\n",
    "cursor = conn.cursor()"
   ]
  },
  {
   "cell_type": "code",
   "execution_count": 6,
   "metadata": {},
   "outputs": [
    {
     "data": {
      "text/plain": [
       "<sqlite3.Cursor at 0x7f0da2aa8a40>"
      ]
     },
     "execution_count": 6,
     "metadata": {},
     "output_type": "execute_result"
    }
   ],
   "source": [
    "SQL = \"\"\"\n",
    "CREATE TABLE IF NOT EXISTS RAJAN( \n",
    "NAME CHAR(20),\n",
    "AGE INT\n",
    ");\n",
    "\"\"\"\n",
    "\n",
    "cursor.execute(SQL)\n",
    "conn.commit()"
   ]
  },
  {
   "cell_type": "code",
   "execution_count": 9,
   "metadata": {},
   "outputs": [
    {
     "data": {
      "text/plain": [
       "<sqlite3.Cursor at 0x7f0da2aa8a40>"
      ]
     },
     "execution_count": 9,
     "metadata": {},
     "output_type": "execute_result"
    }
   ],
   "source": [
    "INTERT = \"\"\"\n",
    "INSERT INTO RAJAN (NAME, AGE)\n",
    "VALUES (?,?)\n",
    "\"\"\"\n",
    "cursor.execute(INTERT,(\"Rajj\",20))"
   ]
  },
  {
   "cell_type": "code",
   "execution_count": 12,
   "metadata": {},
   "outputs": [
    {
     "name": "stdout",
     "output_type": "stream",
     "text": [
      "('Rajj', 20)\n"
     ]
    }
   ],
   "source": [
    "SELECT = \"SELECT * FROM RAJAN WHERE AGE = ?\"\n",
    "res = cursor.execute(SELECT,(\"20\",))\n",
    "res = cursor.fetchone()\n",
    "print(res)"
   ]
  },
  {
   "cell_type": "code",
   "execution_count": 14,
   "metadata": {},
   "outputs": [],
   "source": [
    "UPDATE = \"\"\"\n",
    "UPDATE RAJAN \n",
    "SET AGE = ? \n",
    "WHERE NAME = ?\n",
    "\n",
    "\"\"\"\n",
    "res = cursor.execute(UPDATE, (69,\"RAJAN\"))"
   ]
  },
  {
   "cell_type": "code",
   "execution_count": 15,
   "metadata": {},
   "outputs": [
    {
     "data": {
      "text/html": [
       "<div>\n",
       "<style scoped>\n",
       "    .dataframe tbody tr th:only-of-type {\n",
       "        vertical-align: middle;\n",
       "    }\n",
       "\n",
       "    .dataframe tbody tr th {\n",
       "        vertical-align: top;\n",
       "    }\n",
       "\n",
       "    .dataframe thead th {\n",
       "        text-align: right;\n",
       "    }\n",
       "</style>\n",
       "<table border=\"1\" class=\"dataframe\">\n",
       "  <thead>\n",
       "    <tr style=\"text-align: right;\">\n",
       "      <th></th>\n",
       "      <th>gender</th>\n",
       "      <th>education_level</th>\n",
       "      <th>score</th>\n",
       "    </tr>\n",
       "  </thead>\n",
       "  <tbody>\n",
       "    <tr>\n",
       "      <th>0</th>\n",
       "      <td>male</td>\n",
       "      <td>high school</td>\n",
       "      <td>75</td>\n",
       "    </tr>\n",
       "    <tr>\n",
       "      <th>1</th>\n",
       "      <td>male</td>\n",
       "      <td>college</td>\n",
       "      <td>82</td>\n",
       "    </tr>\n",
       "    <tr>\n",
       "      <th>2</th>\n",
       "      <td>female</td>\n",
       "      <td>college</td>\n",
       "      <td>88</td>\n",
       "    </tr>\n",
       "    <tr>\n",
       "      <th>3</th>\n",
       "      <td>female</td>\n",
       "      <td>graduate</td>\n",
       "      <td>95</td>\n",
       "    </tr>\n",
       "    <tr>\n",
       "      <th>4</th>\n",
       "      <td>male</td>\n",
       "      <td>high school</td>\n",
       "      <td>69</td>\n",
       "    </tr>\n",
       "    <tr>\n",
       "      <th>5</th>\n",
       "      <td>female</td>\n",
       "      <td>graduate</td>\n",
       "      <td>92</td>\n",
       "    </tr>\n",
       "    <tr>\n",
       "      <th>6</th>\n",
       "      <td>male</td>\n",
       "      <td>college</td>\n",
       "      <td>78</td>\n",
       "    </tr>\n",
       "    <tr>\n",
       "      <th>7</th>\n",
       "      <td>female</td>\n",
       "      <td>graduate</td>\n",
       "      <td>85</td>\n",
       "    </tr>\n",
       "  </tbody>\n",
       "</table>\n",
       "</div>"
      ],
      "text/plain": [
       "   gender education_level  score\n",
       "0    male     high school     75\n",
       "1    male         college     82\n",
       "2  female         college     88\n",
       "3  female        graduate     95\n",
       "4    male     high school     69\n",
       "5  female        graduate     92\n",
       "6    male         college     78\n",
       "7  female        graduate     85"
      ]
     },
     "execution_count": 15,
     "metadata": {},
     "output_type": "execute_result"
    }
   ],
   "source": [
    "import pandas as pd\n",
    "\n",
    "# create a sample dataset\n",
    "df = pd.DataFrame({\n",
    "    'gender': ['male', 'male', 'female', 'female', 'male', 'female', 'male', 'female'],\n",
    "    'education_level': ['high school', 'college', 'college', 'graduate', 'high school', 'graduate', 'college', 'graduate'],\n",
    "    'score': [75, 82, 88, 95, 69, 92, 78, 85]\n",
    "})\n",
    "df"
   ]
  },
  {
   "cell_type": "code",
   "execution_count": 23,
   "metadata": {},
   "outputs": [
    {
     "data": {
      "text/html": [
       "<div>\n",
       "<style scoped>\n",
       "    .dataframe tbody tr th:only-of-type {\n",
       "        vertical-align: middle;\n",
       "    }\n",
       "\n",
       "    .dataframe tbody tr th {\n",
       "        vertical-align: top;\n",
       "    }\n",
       "\n",
       "    .dataframe thead th {\n",
       "        text-align: right;\n",
       "    }\n",
       "</style>\n",
       "<table border=\"1\" class=\"dataframe\">\n",
       "  <thead>\n",
       "    <tr style=\"text-align: right;\">\n",
       "      <th>education_level</th>\n",
       "      <th>college</th>\n",
       "      <th>graduate</th>\n",
       "      <th>high school</th>\n",
       "    </tr>\n",
       "    <tr>\n",
       "      <th>gender</th>\n",
       "      <th></th>\n",
       "      <th></th>\n",
       "      <th></th>\n",
       "    </tr>\n",
       "  </thead>\n",
       "  <tbody>\n",
       "    <tr>\n",
       "      <th>female</th>\n",
       "      <td>0.492537</td>\n",
       "      <td>0.507463</td>\n",
       "      <td>0.000000</td>\n",
       "    </tr>\n",
       "    <tr>\n",
       "      <th>male</th>\n",
       "      <td>0.526316</td>\n",
       "      <td>0.000000</td>\n",
       "      <td>0.473684</td>\n",
       "    </tr>\n",
       "  </tbody>\n",
       "</table>\n",
       "</div>"
      ],
      "text/plain": [
       "education_level   college  graduate  high school\n",
       "gender                                          \n",
       "female           0.492537  0.507463     0.000000\n",
       "male             0.526316  0.000000     0.473684"
      ]
     },
     "execution_count": 23,
     "metadata": {},
     "output_type": "execute_result"
    }
   ],
   "source": [
    "pd.crosstab(index=df.gender, columns=df.education_level, values=df.score, aggfunc=\"mean\",normalize=\"index\")"
   ]
  },
  {
   "cell_type": "code",
   "execution_count": 24,
   "metadata": {},
   "outputs": [],
   "source": [
    "from pymongo import MongoClient"
   ]
  },
  {
   "cell_type": "code",
   "execution_count": 29,
   "metadata": {},
   "outputs": [],
   "source": [
    "client = MongoClient(\"mongodb://172.24.0.1:27017\")"
   ]
  },
  {
   "cell_type": "code",
   "execution_count": 30,
   "metadata": {},
   "outputs": [
    {
     "name": "stdout",
     "output_type": "stream",
     "text": [
      "['admin', 'config', 'local', 'test']\n"
     ]
    }
   ],
   "source": [
    "database = client.list_database_names()\n",
    "print(database)"
   ]
  },
  {
   "cell_type": "code",
   "execution_count": 32,
   "metadata": {},
   "outputs": [],
   "source": [
    "# use the db \n",
    "database = client[\"test\"]"
   ]
  },
  {
   "cell_type": "code",
   "execution_count": 33,
   "metadata": {},
   "outputs": [
    {
     "data": {
      "text/plain": [
       "['employee', 'exam_prep_explicit', 'exam_prep']"
      ]
     },
     "execution_count": 33,
     "metadata": {},
     "output_type": "execute_result"
    }
   ],
   "source": [
    "database.list_collection_names()"
   ]
  },
  {
   "cell_type": "code",
   "execution_count": 34,
   "metadata": {},
   "outputs": [],
   "source": [
    "# create a new collection \n",
    "collection = database[\"final_prep\"]\n"
   ]
  },
  {
   "cell_type": "code",
   "execution_count": 35,
   "metadata": {},
   "outputs": [],
   "source": [
    "employee_details = {\n",
    "    'Name':'Prajwal Luitel',\n",
    "    \"Address\":\"Toronto, ON, CA\",\n",
    "    \"Age\":\"23\"\n",
    "}\n",
    "\n",
    "result = collection.insert_one(employee_details)"
   ]
  },
  {
   "cell_type": "code",
   "execution_count": 42,
   "metadata": {},
   "outputs": [
    {
     "data": {
      "text/plain": [
       "{'name': 'Viola', 'address': 'Sideway Ave'}"
      ]
     },
     "execution_count": 42,
     "metadata": {},
     "output_type": "execute_result"
    }
   ],
   "source": [
    "collection.find_one({\"name\": \"Viola\"},{\"_id\" : 0})"
   ]
  },
  {
   "cell_type": "code",
   "execution_count": 60,
   "metadata": {},
   "outputs": [
    {
     "name": "stdout",
     "output_type": "stream",
     "text": [
      "{'_id': 7, 'name': 'Nicky', 'address': 'Yellow Garden 23'}\n"
     ]
    }
   ],
   "source": [
    "\n",
    "query = {\n",
    "    \n",
    "    \"$and\" : [\n",
    "        \n",
    "        {\"_id\" : {\"$gt\" : 1, \"$lte\" : 7}},\n",
    "        {\"name\": {\"$regex\": \"^N[a-z]+\"}}\n",
    "    ]\n",
    "}\n",
    "\n",
    "cur = collection.find(query)\n",
    "\n",
    "for r in cur:\n",
    "    print(r)"
   ]
  },
  {
   "cell_type": "code",
   "execution_count": 4,
   "metadata": {},
   "outputs": [
    {
     "data": {
      "text/plain": [
       "5"
      ]
     },
     "execution_count": 4,
     "metadata": {},
     "output_type": "execute_result"
    }
   ],
   "source": [
    "x = [7,1,5,3,6,4]\n",
    "\n",
    "def best_profit( x : list) -> int: \n",
    "    \n",
    "    \"\"\"_summary_\n",
    "    \"\"\"\n",
    "    \n",
    "    # define two variables \n",
    "    min_invest = float(\"inf\")\n",
    "    max_profit = 0\n",
    "    \n",
    "    for i in range( len(x)- 1):\n",
    "        \n",
    "        # check if the current gives min investement \n",
    "        if min_invest > x[i]:\n",
    "            min_invest = x[i]\n",
    "            \n",
    "        if (x[i] - min_invest) > max_profit:\n",
    "            max_profit = (x[i] - min_invest)\n",
    "            \n",
    "    \n",
    "    return max_profit\n",
    "            \n",
    "best_profit(x)"
   ]
  },
  {
   "cell_type": "code",
   "execution_count": 8,
   "metadata": {},
   "outputs": [],
   "source": [
    "def find_summary_range(input_list : list) -> list: \n",
    "    \n",
    "    \n",
    "    i = 0\n",
    "    result = []\n",
    "    while i < len(input_list):\n",
    "        start = input_list[i]\n",
    "        \n",
    "        while i < len(input_list) - 1 and (input_list[i] + 1 == input_list[i+1]):\n",
    "            i += 1\n",
    "            \n",
    "        if start != input_list[i]:\n",
    "            result.append(f\"{start}->{input_list[i]}\")\n",
    "        \n",
    "        else:\n",
    "            result.append(str(start))\n",
    "            \n",
    "        i += 1\n",
    "            \n",
    "    return result"
   ]
  },
  {
   "cell_type": "code",
   "execution_count": 9,
   "metadata": {},
   "outputs": [
    {
     "data": {
      "text/plain": [
       "['0->4', '6->9', '11']"
      ]
     },
     "execution_count": 9,
     "metadata": {},
     "output_type": "execute_result"
    }
   ],
   "source": [
    "find_summary_range([0,1,2,3,4,6,7,8,9,11])"
   ]
  },
  {
   "cell_type": "code",
   "execution_count": 17,
   "metadata": {},
   "outputs": [
    {
     "data": {
      "text/plain": [
       "'flo'"
      ]
     },
     "execution_count": 17,
     "metadata": {},
     "output_type": "execute_result"
    }
   ],
   "source": [
    "def longest_prefix( p : list): \n",
    "    \n",
    "    # get the minimum length \n",
    "    min_len = sorted(p, key=len)[0]\n",
    "    \n",
    "    for i , character in enumerate(min_len):\n",
    "        for word in p: \n",
    "            if word[i] != character:\n",
    "                return min_len[:i]\n",
    "            \n",
    "    return min_len\n",
    "input_string = [\"flower\",\"flow\", \"flo\", \"floor\"]\n",
    "longest_prefix(input_string)"
   ]
  },
  {
   "cell_type": "code",
   "execution_count": 22,
   "metadata": {},
   "outputs": [
    {
     "data": {
      "text/plain": [
       "True"
      ]
     },
     "execution_count": 22,
     "metadata": {},
     "output_type": "execute_result"
    }
   ],
   "source": [
    "def check_sub_sequence(s, t): \n",
    "    \n",
    "    # check if s is subseq of t \n",
    "    S = len(s)\n",
    "    T = len(t)\n",
    "    \n",
    "    if S > T : return False\n",
    "    \n",
    "    j = 0\n",
    "    for i in range(T):\n",
    "        if s[j] == t[i]: \n",
    "            \n",
    "            if j == S -1 : \n",
    "                return True\n",
    "            \n",
    "            j += 1 \n",
    "\n",
    "    return False\n",
    "\n",
    "check_sub_sequence(\"abc\",\"aebdc\")"
   ]
  },
  {
   "cell_type": "code",
   "execution_count": 28,
   "metadata": {},
   "outputs": [
    {
     "data": {
      "text/plain": [
       "'a1b2c34'"
      ]
     },
     "execution_count": 28,
     "metadata": {},
     "output_type": "execute_result"
    }
   ],
   "source": [
    "def merge_alteratively(string1,string2):\n",
    "    \n",
    "    A = len(string1)\n",
    "    \n",
    "    B = len(string2)\n",
    "    \n",
    "    which_string  = 1 \n",
    "    \n",
    "    a, b = 0, 0\n",
    "    \n",
    "    result = []\n",
    "    \n",
    "    while a < A and b < B:\n",
    "        \n",
    "        if which_string == 1:\n",
    "            result.append(string1[a])\n",
    "            a += 1 \n",
    "            which_string = 2\n",
    "        else:\n",
    "            result.append(string2[b])\n",
    "            b += 1 \n",
    "            which_string = 1\n",
    "            \n",
    "    \n",
    "    while a < A:\n",
    "        result.append(string1[a])\n",
    "        a += 1\n",
    "        \n",
    "    while b < B:\n",
    "        result.append(string2[b])\n",
    "        b += 1 \n",
    "        \n",
    "    return \"\".join(result)\n",
    "\n",
    "\n",
    "merge_alteratively(\"abc\",\"1234\")"
   ]
  },
  {
   "cell_type": "code",
   "execution_count": null,
   "metadata": {},
   "outputs": [],
   "source": [
    "def check_ugly(number : int) -> bool: \n",
    "    \n",
    "    # get all the prime factors \n",
    "    p_f = \n",
    "    \n"
   ]
  },
  {
   "cell_type": "code",
   "execution_count": 12,
   "metadata": {},
   "outputs": [],
   "source": [
    "def get_prime_factors(number): \n",
    "    \n",
    "    i = 2 \n",
    "    factors = []\n",
    "    while number > 1: \n",
    "        \n",
    "        if number % i == 0: \n",
    "            factors.append(i)\n",
    "            number = number / i \n",
    "            \n",
    "            i = i -1 \n",
    "    \n",
    "        i += 1 \n",
    "        \n",
    "    return factors\n",
    "        \n",
    "    \n"
   ]
  },
  {
   "cell_type": "code",
   "execution_count": 13,
   "metadata": {},
   "outputs": [
    {
     "data": {
      "text/plain": [
       "[2, 2, 3]"
      ]
     },
     "execution_count": 13,
     "metadata": {},
     "output_type": "execute_result"
    }
   ],
   "source": [
    "get_prime_factors(12)"
   ]
  },
  {
   "cell_type": "code",
   "execution_count": 10,
   "metadata": {},
   "outputs": [],
   "source": [
    "def get_prime_factor(number : int): \n",
    "    \n",
    "    # if not int, raise error \n",
    "    assert isinstance(number, int), \"The given number should be an integer.\"\n",
    "    \n",
    "    # list to store the prime factors \n",
    "    factors = []\n",
    "    \n",
    "    i=2\n",
    "    # until number becomes one loop\n",
    "    while number>1:\n",
    "        # if number remainder becomes 0, procceed to another: \n",
    "        if number%i==0:\n",
    "            factors.append(i)\n",
    "            number=number/i\n",
    "            \n",
    "            i=i-1\n",
    "        i+=1  \n",
    "    return factors"
   ]
  },
  {
   "cell_type": "code",
   "execution_count": 11,
   "metadata": {},
   "outputs": [
    {
     "data": {
      "text/plain": [
       "[2, 2, 3]"
      ]
     },
     "execution_count": 11,
     "metadata": {},
     "output_type": "execute_result"
    }
   ],
   "source": [
    "get_prime_factor(12)"
   ]
  },
  {
   "cell_type": "code",
   "execution_count": null,
   "metadata": {},
   "outputs": [],
   "source": []
  }
 ],
 "metadata": {
  "kernelspec": {
   "display_name": "main_env",
   "language": "python",
   "name": "python3"
  },
  "language_info": {
   "codemirror_mode": {
    "name": "ipython",
    "version": 3
   },
   "file_extension": ".py",
   "mimetype": "text/x-python",
   "name": "python",
   "nbconvert_exporter": "python",
   "pygments_lexer": "ipython3",
   "version": "3.12.3"
  }
 },
 "nbformat": 4,
 "nbformat_minor": 2
}

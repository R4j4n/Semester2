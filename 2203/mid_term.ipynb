{
 "cells": [
  {
   "cell_type": "markdown",
   "metadata": {},
   "source": [
    "### SQLITE"
   ]
  },
  {
   "cell_type": "code",
   "execution_count": 1,
   "metadata": {},
   "outputs": [],
   "source": [
    "import sqlite3\n",
    "\n",
    "# Connect to the database\n",
    "# conn = sqlite3.connect('example.db')\n",
    "conn = sqlite3.connect(':memory:')\n",
    "\n",
    "# create cursor \n",
    "cursor = conn.cursor()"
   ]
  },
  {
   "cell_type": "markdown",
   "metadata": {},
   "source": [
    "Database Creation"
   ]
  },
  {
   "cell_type": "code",
   "execution_count": 2,
   "metadata": {},
   "outputs": [],
   "source": [
    "# Create the EMPLOYEE table\n",
    "create_table = ''' \n",
    "CREATE TABLE IF NOT EXISTS EMPLOYEE(\n",
    "    FIRST_NAME CHAR(20) NOT NULL,\n",
    "    LAST_NAME CHAR(20),\n",
    "    AGE INT NOT NULL,\n",
    "    SEX CHAR(1),\n",
    "    INCOME FLOAT\n",
    ")\n",
    "'''\n",
    "cursor.execute(create_table)\n",
    "conn.commit()"
   ]
  },
  {
   "cell_type": "markdown",
   "metadata": {},
   "source": [
    "Insertion"
   ]
  },
  {
   "cell_type": "code",
   "execution_count": 3,
   "metadata": {},
   "outputs": [],
   "source": [
    "# Insert one record\n",
    "insert_one = '''\n",
    "INSERT INTO EMPLOYEE (FIRST_NAME, LAST_NAME, AGE, SEX, INCOME)\n",
    "VALUES (?, ?, ?, ?, ?)\n",
    "'''\n",
    "cursor.execute(insert_one, ('John', 'Doe', 30, 'M', 50000.00))\n",
    "conn.commit()\n",
    "\n",
    "\n",
    "# Insert multiple records at once\n",
    "employees = [\n",
    "    ('Alice', 'Smith', 28, 'F', 55000.00),\n",
    "    ('Bob', 'Brown', 35, 'M', 60000.00),\n",
    "    ('Carol', 'Taylor', 29, 'F', 62000.00)\n",
    "]\n",
    "for employee in employees:\n",
    "    cursor.execute(insert_one, employee)\n",
    "conn.commit()\n",
    "\n",
    "\n",
    "# Insert multiple records using executemany\n",
    "employees = [\n",
    "    ('David', 'Wilson', 40, 'M', 70000.00),\n",
    "    ('Eve', 'Davis', 45, 'F', 80000.00),\n",
    "    ('Frank', 'Thomas', 50, 'M', 90000.00)\n",
    "]\n",
    "cursor.executemany(insert_one, employees)\n",
    "conn.commit()\n",
    "\n",
    "\n",
    "# Insert a record with a NULL value\n",
    "cursor.execute(insert_one, ('George', None, 32, 'M', 45000.00))\n",
    "conn.commit()\n"
   ]
  },
  {
   "cell_type": "markdown",
   "metadata": {},
   "source": [
    "Fetching"
   ]
  },
  {
   "cell_type": "code",
   "execution_count": 4,
   "metadata": {},
   "outputs": [
    {
     "name": "stdout",
     "output_type": "stream",
     "text": [
      "('John', 'Doe', 30, 'M', 50000.0)\n"
     ]
    }
   ],
   "source": [
    "# Fetch one record\n",
    "cursor.execute('SELECT * FROM EMPLOYEE WHERE FIRST_NAME = ?', ('John',))\n",
    "record = cursor.fetchone()\n",
    "print(record)"
   ]
  },
  {
   "cell_type": "code",
   "execution_count": 5,
   "metadata": {},
   "outputs": [
    {
     "name": "stdout",
     "output_type": "stream",
     "text": [
      "('John', 'Doe', 30, 'M', 50000.0)\n",
      "('Alice', 'Smith', 28, 'F', 55000.0)\n",
      "('Bob', 'Brown', 35, 'M', 60000.0)\n",
      "('Carol', 'Taylor', 29, 'F', 62000.0)\n",
      "('David', 'Wilson', 40, 'M', 70000.0)\n",
      "('Eve', 'Davis', 45, 'F', 80000.0)\n",
      "('Frank', 'Thomas', 50, 'M', 90000.0)\n",
      "('George', None, 32, 'M', 45000.0)\n"
     ]
    }
   ],
   "source": [
    "# Fetch all records\n",
    "cursor.execute('SELECT * FROM EMPLOYEE')\n",
    "records = cursor.fetchall()\n",
    "for record in records:\n",
    "    print(record)"
   ]
  },
  {
   "cell_type": "code",
   "execution_count": 6,
   "metadata": {},
   "outputs": [
    {
     "name": "stdout",
     "output_type": "stream",
     "text": [
      "('John', 'Doe', 30, 'M', 50000.0)\n",
      "('Alice', 'Smith', 28, 'F', 55000.0)\n",
      "('Bob', 'Brown', 35, 'M', 60000.0)\n"
     ]
    }
   ],
   "source": [
    "# Fetch many records\n",
    "cursor.execute('SELECT * FROM EMPLOYEE')\n",
    "records = cursor.fetchmany(3)  # Fetch 3 records\n",
    "for record in records:\n",
    "    print(record)"
   ]
  },
  {
   "cell_type": "code",
   "execution_count": 7,
   "metadata": {},
   "outputs": [
    {
     "name": "stdout",
     "output_type": "stream",
     "text": [
      "('John', 'Doe', 30, 'M', 50000.0)\n",
      "('Alice', 'Smith', 28, 'F', 55000.0)\n",
      "('Bob', 'Brown', 35, 'M', 60000.0)\n"
     ]
    }
   ],
   "source": [
    "cursor.execute(\"SELECT * from EMPLOYEE\") # Cursor is a generator \n",
    "\n",
    "# this will fetch the first record\n",
    "record = cursor.fetchone()\n",
    "print(record)\n",
    "\n",
    "# this will fetch the from the second record. \n",
    "records = cursor.fetchmany(2)  # Fetch 2 records\n",
    "for record in records:\n",
    "    print(record)"
   ]
  },
  {
   "cell_type": "markdown",
   "metadata": {},
   "source": [
    "Updating"
   ]
  },
  {
   "cell_type": "code",
   "execution_count": 8,
   "metadata": {},
   "outputs": [],
   "source": [
    "update_query = '''\n",
    "UPDATE EMPLOYEE\n",
    "SET INCOME = ?\n",
    "WHERE FIRST_NAME = ?\n",
    "'''\n",
    "cursor.execute(update_query, (55000.00, 'John'))\n",
    "conn.commit()"
   ]
  },
  {
   "cell_type": "markdown",
   "metadata": {},
   "source": [
    "Delete"
   ]
  },
  {
   "cell_type": "code",
   "execution_count": 9,
   "metadata": {},
   "outputs": [
    {
     "name": "stdout",
     "output_type": "stream",
     "text": [
      "('Alice', 'Smith', 28, 'F', 55000.0)\n",
      "('Bob', 'Brown', 35, 'M', 60000.0)\n",
      "('Carol', 'Taylor', 29, 'F', 62000.0)\n",
      "('David', 'Wilson', 40, 'M', 70000.0)\n",
      "('Eve', 'Davis', 45, 'F', 80000.0)\n",
      "('Frank', 'Thomas', 50, 'M', 90000.0)\n",
      "('George', None, 32, 'M', 45000.0)\n"
     ]
    }
   ],
   "source": [
    "# Delete a row where the FIRST_NAME is 'John'\n",
    "cursor.execute('DELETE FROM EMPLOYEE WHERE FIRST_NAME = ?', ('John',))\n",
    "\n",
    "# Commit the changes\n",
    "conn.commit()\n",
    "\n",
    "# Verify the deletion\n",
    "cursor.execute('SELECT * FROM EMPLOYEE')\n",
    "records = cursor.fetchall()\n",
    "for record in records:\n",
    "    print(record)\n"
   ]
  },
  {
   "cell_type": "markdown",
   "metadata": {},
   "source": [
    "Rename"
   ]
  },
  {
   "cell_type": "code",
   "execution_count": 10,
   "metadata": {},
   "outputs": [
    {
     "name": "stdout",
     "output_type": "stream",
     "text": [
      "[(0, 'FIRST_NAME', 'CHAR(20)', 1, None, 0), (1, 'LAST_NAME', 'CHAR(20)', 0, None, 0), (2, 'AGE', 'INT', 1, None, 0), (3, 'GENDER', 'CHAR(1)', 0, None, 0), (4, 'INCOME', 'FLOAT', 0, None, 0)]\n"
     ]
    }
   ],
   "source": [
    "# rename column sex to gender. \n",
    "cursor.execute('''ALTER TABLE EMPLOYEE RENAME COLUMN SEX TO GENDER''')\n",
    "conn.commit()\n",
    "\n",
    "# Query to get table column information\n",
    "cursor.execute('PRAGMA table_info(EMPLOYEE)')\n",
    "columns = cursor.fetchall()\n",
    "print(columns)\n",
    "\n",
    "\n",
    "# rename the whole table \n",
    "cursor.execute(\"\"\"ALTER TABLE EMPLOYEE RENAME TO Employee_UPDATED\"\"\")\n",
    "conn.commit()\n"
   ]
  },
  {
   "cell_type": "markdown",
   "metadata": {},
   "source": [
    "Drop"
   ]
  },
  {
   "cell_type": "code",
   "execution_count": 11,
   "metadata": {},
   "outputs": [],
   "source": [
    "# Drop the EMPLOYEE table\n",
    "cursor.execute('DROP TABLE IF EXISTS EMPLOYEE')\n",
    "\n",
    "# Commit the changes\n",
    "conn.commit()"
   ]
  },
  {
   "cell_type": "code",
   "execution_count": 12,
   "metadata": {},
   "outputs": [],
   "source": [
    "# Close the connection\n",
    "conn.close()"
   ]
  },
  {
   "cell_type": "markdown",
   "metadata": {},
   "source": [
    "### Pandas"
   ]
  },
  {
   "cell_type": "markdown",
   "metadata": {},
   "source": [
    "#### Cross Tabs\n",
    "- Allows us to create contingency tables, also known as cross-tabulations."
   ]
  },
  {
   "cell_type": "code",
   "execution_count": 13,
   "metadata": {},
   "outputs": [
    {
     "data": {
      "text/html": [
       "<div>\n",
       "<style scoped>\n",
       "    .dataframe tbody tr th:only-of-type {\n",
       "        vertical-align: middle;\n",
       "    }\n",
       "\n",
       "    .dataframe tbody tr th {\n",
       "        vertical-align: top;\n",
       "    }\n",
       "\n",
       "    .dataframe thead th {\n",
       "        text-align: right;\n",
       "    }\n",
       "</style>\n",
       "<table border=\"1\" class=\"dataframe\">\n",
       "  <thead>\n",
       "    <tr style=\"text-align: right;\">\n",
       "      <th></th>\n",
       "      <th>gender</th>\n",
       "      <th>education_level</th>\n",
       "      <th>score</th>\n",
       "    </tr>\n",
       "  </thead>\n",
       "  <tbody>\n",
       "    <tr>\n",
       "      <th>0</th>\n",
       "      <td>male</td>\n",
       "      <td>high school</td>\n",
       "      <td>75</td>\n",
       "    </tr>\n",
       "    <tr>\n",
       "      <th>1</th>\n",
       "      <td>male</td>\n",
       "      <td>college</td>\n",
       "      <td>82</td>\n",
       "    </tr>\n",
       "    <tr>\n",
       "      <th>2</th>\n",
       "      <td>female</td>\n",
       "      <td>college</td>\n",
       "      <td>88</td>\n",
       "    </tr>\n",
       "    <tr>\n",
       "      <th>3</th>\n",
       "      <td>female</td>\n",
       "      <td>graduate</td>\n",
       "      <td>95</td>\n",
       "    </tr>\n",
       "    <tr>\n",
       "      <th>4</th>\n",
       "      <td>male</td>\n",
       "      <td>high school</td>\n",
       "      <td>69</td>\n",
       "    </tr>\n",
       "    <tr>\n",
       "      <th>5</th>\n",
       "      <td>female</td>\n",
       "      <td>graduate</td>\n",
       "      <td>92</td>\n",
       "    </tr>\n",
       "    <tr>\n",
       "      <th>6</th>\n",
       "      <td>male</td>\n",
       "      <td>college</td>\n",
       "      <td>78</td>\n",
       "    </tr>\n",
       "    <tr>\n",
       "      <th>7</th>\n",
       "      <td>female</td>\n",
       "      <td>graduate</td>\n",
       "      <td>85</td>\n",
       "    </tr>\n",
       "  </tbody>\n",
       "</table>\n",
       "</div>"
      ],
      "text/plain": [
       "   gender education_level  score\n",
       "0    male     high school     75\n",
       "1    male         college     82\n",
       "2  female         college     88\n",
       "3  female        graduate     95\n",
       "4    male     high school     69\n",
       "5  female        graduate     92\n",
       "6    male         college     78\n",
       "7  female        graduate     85"
      ]
     },
     "execution_count": 13,
     "metadata": {},
     "output_type": "execute_result"
    }
   ],
   "source": [
    "import pandas as pd\n",
    "\n",
    "# create a sample dataset\n",
    "df = pd.DataFrame({\n",
    "    'gender': ['male', 'male', 'female', 'female', 'male', 'female', 'male', 'female'],\n",
    "    'education_level': ['high school', 'college', 'college', 'graduate', 'high school', 'graduate', 'college', 'graduate'],\n",
    "    'score': [75, 82, 88, 95, 69, 92, 78, 85]\n",
    "})\n",
    "df"
   ]
  },
  {
   "cell_type": "code",
   "execution_count": 14,
   "metadata": {},
   "outputs": [
    {
     "name": "stdout",
     "output_type": "stream",
     "text": [
      "education_level  college  graduate  high school\n",
      "gender                                         \n",
      "female                 1         3            0\n",
      "male                   2         0            2\n"
     ]
    }
   ],
   "source": [
    "# create a crosstab table of gender and education level \n",
    "# counting the number of occurrences of each combination of values\n",
    "ct = pd.crosstab(df['gender'], df['education_level'])\n",
    "print(ct)"
   ]
  },
  {
   "cell_type": "code",
   "execution_count": 15,
   "metadata": {},
   "outputs": [
    {
     "name": "stdout",
     "output_type": "stream",
     "text": [
      "education_level  college   graduate  high school\n",
      "gender                                          \n",
      "female              88.0  90.666667          NaN\n",
      "male                80.0        NaN         72.0\n"
     ]
    }
   ],
   "source": [
    "# Aggregating Values in Crosstab Table\n",
    "ct_mean = pd.crosstab(df['gender'], df['education_level'], \n",
    "                    values=df['score'], aggfunc='mean')\n",
    "print(ct_mean)"
   ]
  },
  {
   "cell_type": "code",
   "execution_count": 16,
   "metadata": {},
   "outputs": [
    {
     "data": {
      "text/html": [
       "<div>\n",
       "<style scoped>\n",
       "    .dataframe tbody tr th:only-of-type {\n",
       "        vertical-align: middle;\n",
       "    }\n",
       "\n",
       "    .dataframe tbody tr th {\n",
       "        vertical-align: top;\n",
       "    }\n",
       "\n",
       "    .dataframe thead th {\n",
       "        text-align: right;\n",
       "    }\n",
       "</style>\n",
       "<table border=\"1\" class=\"dataframe\">\n",
       "  <thead>\n",
       "    <tr style=\"text-align: right;\">\n",
       "      <th>education_level</th>\n",
       "      <th>college</th>\n",
       "      <th>graduate</th>\n",
       "      <th>high school</th>\n",
       "      <th>All</th>\n",
       "    </tr>\n",
       "    <tr>\n",
       "      <th>gender</th>\n",
       "      <th></th>\n",
       "      <th></th>\n",
       "      <th></th>\n",
       "      <th></th>\n",
       "    </tr>\n",
       "  </thead>\n",
       "  <tbody>\n",
       "    <tr>\n",
       "      <th>female</th>\n",
       "      <td>1</td>\n",
       "      <td>3</td>\n",
       "      <td>0</td>\n",
       "      <td>4</td>\n",
       "    </tr>\n",
       "    <tr>\n",
       "      <th>male</th>\n",
       "      <td>2</td>\n",
       "      <td>0</td>\n",
       "      <td>2</td>\n",
       "      <td>4</td>\n",
       "    </tr>\n",
       "    <tr>\n",
       "      <th>All</th>\n",
       "      <td>3</td>\n",
       "      <td>3</td>\n",
       "      <td>2</td>\n",
       "      <td>8</td>\n",
       "    </tr>\n",
       "  </tbody>\n",
       "</table>\n",
       "</div>"
      ],
      "text/plain": [
       "education_level  college  graduate  high school  All\n",
       "gender                                              \n",
       "female                 1         3            0    4\n",
       "male                   2         0            2    4\n",
       "All                    3         3            2    8"
      ]
     },
     "execution_count": 16,
     "metadata": {},
     "output_type": "execute_result"
    }
   ],
   "source": [
    "# Adding Row and Column Margins\n",
    "ct_margins = pd.crosstab(df['gender'], df['education_level'], margins=True) #  If set to True, the function will add a row and a column to the table that show the marginal totals.\n",
    "ct_margins"
   ]
  },
  {
   "cell_type": "code",
   "execution_count": 17,
   "metadata": {},
   "outputs": [
    {
     "data": {
      "text/html": [
       "<div>\n",
       "<style scoped>\n",
       "    .dataframe tbody tr th:only-of-type {\n",
       "        vertical-align: middle;\n",
       "    }\n",
       "\n",
       "    .dataframe tbody tr th {\n",
       "        vertical-align: top;\n",
       "    }\n",
       "\n",
       "    .dataframe thead th {\n",
       "        text-align: right;\n",
       "    }\n",
       "</style>\n",
       "<table border=\"1\" class=\"dataframe\">\n",
       "  <thead>\n",
       "    <tr style=\"text-align: right;\">\n",
       "      <th>education_level</th>\n",
       "      <th>college</th>\n",
       "      <th>graduate</th>\n",
       "      <th>high school</th>\n",
       "      <th>All</th>\n",
       "    </tr>\n",
       "    <tr>\n",
       "      <th>gender</th>\n",
       "      <th></th>\n",
       "      <th></th>\n",
       "      <th></th>\n",
       "      <th></th>\n",
       "    </tr>\n",
       "  </thead>\n",
       "  <tbody>\n",
       "    <tr>\n",
       "      <th>female</th>\n",
       "      <td>0.125</td>\n",
       "      <td>0.375</td>\n",
       "      <td>0.00</td>\n",
       "      <td>0.5</td>\n",
       "    </tr>\n",
       "    <tr>\n",
       "      <th>male</th>\n",
       "      <td>0.250</td>\n",
       "      <td>0.000</td>\n",
       "      <td>0.25</td>\n",
       "      <td>0.5</td>\n",
       "    </tr>\n",
       "    <tr>\n",
       "      <th>All</th>\n",
       "      <td>0.375</td>\n",
       "      <td>0.375</td>\n",
       "      <td>0.25</td>\n",
       "      <td>1.0</td>\n",
       "    </tr>\n",
       "  </tbody>\n",
       "</table>\n",
       "</div>"
      ],
      "text/plain": [
       "education_level  college  graduate  high school  All\n",
       "gender                                              \n",
       "female             0.125     0.375         0.00  0.5\n",
       "male               0.250     0.000         0.25  0.5\n",
       "All                0.375     0.375         0.25  1.0"
      ]
     },
     "execution_count": 17,
     "metadata": {},
     "output_type": "execute_result"
    }
   ],
   "source": [
    "# Normalizing Crosstab Table\n",
    "ct_normaized = pd.crosstab(df[\"gender\"], df[\"education_level\"],margins=True, normalize=True)\n",
    "ct_normaized"
   ]
  },
  {
   "cell_type": "code",
   "execution_count": 18,
   "metadata": {},
   "outputs": [
    {
     "data": {
      "text/plain": [
       "<Axes: xlabel='gender'>"
      ]
     },
     "execution_count": 18,
     "metadata": {},
     "output_type": "execute_result"
    },
    {
     "data": {
      "image/png": "[encoded data removed]",
      "text/plain": [
       "<Figure size 640x480 with 1 Axes>"
      ]
     },
     "metadata": {},
     "output_type": "display_data"
    }
   ],
   "source": [
    "# visualize \n",
    "ct_viz = pd.crosstab(df['gender'], df['education_level'], values=df[\"score\"], aggfunc=\"mean\")\n",
    "ct_viz.plot(kind='bar', stacked=False)\n"
   ]
  },
  {
   "cell_type": "code",
   "execution_count": 19,
   "metadata": {},
   "outputs": [
    {
     "data": {
      "text/html": [
       "<div>\n",
       "<style scoped>\n",
       "    .dataframe tbody tr th:only-of-type {\n",
       "        vertical-align: middle;\n",
       "    }\n",
       "\n",
       "    .dataframe tbody tr th {\n",
       "        vertical-align: top;\n",
       "    }\n",
       "\n",
       "    .dataframe thead th {\n",
       "        text-align: right;\n",
       "    }\n",
       "</style>\n",
       "<table border=\"1\" class=\"dataframe\">\n",
       "  <thead>\n",
       "    <tr style=\"text-align: right;\">\n",
       "      <th></th>\n",
       "      <th>Profession</th>\n",
       "      <th>Gender</th>\n",
       "      <th>Own_House</th>\n",
       "      <th>Income</th>\n",
       "      <th>Loan_Given</th>\n",
       "      <th>app_date</th>\n",
       "      <th>app_rejection</th>\n",
       "    </tr>\n",
       "  </thead>\n",
       "  <tbody>\n",
       "    <tr>\n",
       "      <th>0</th>\n",
       "      <td>Accountants</td>\n",
       "      <td>F</td>\n",
       "      <td>Y</td>\n",
       "      <td>135000</td>\n",
       "      <td>814041.0</td>\n",
       "      <td>2020-12-27</td>\n",
       "      <td>1</td>\n",
       "    </tr>\n",
       "    <tr>\n",
       "      <th>1</th>\n",
       "      <td>Laborers</td>\n",
       "      <td>M</td>\n",
       "      <td>Y</td>\n",
       "      <td>157500</td>\n",
       "      <td>814041.0</td>\n",
       "      <td>2021-01-14</td>\n",
       "      <td>1</td>\n",
       "    </tr>\n",
       "    <tr>\n",
       "      <th>2</th>\n",
       "      <td>High skill tech staff</td>\n",
       "      <td>F</td>\n",
       "      <td>Y</td>\n",
       "      <td>140400</td>\n",
       "      <td>180000.0</td>\n",
       "      <td>2020-10-28</td>\n",
       "      <td>1</td>\n",
       "    </tr>\n",
       "    <tr>\n",
       "      <th>3</th>\n",
       "      <td>Managers</td>\n",
       "      <td>M</td>\n",
       "      <td>Y</td>\n",
       "      <td>454500</td>\n",
       "      <td>1070982.0</td>\n",
       "      <td>2021-09-19</td>\n",
       "      <td>0</td>\n",
       "    </tr>\n",
       "    <tr>\n",
       "      <th>4</th>\n",
       "      <td>Laborers</td>\n",
       "      <td>M</td>\n",
       "      <td>N</td>\n",
       "      <td>157500</td>\n",
       "      <td>817560.0</td>\n",
       "      <td>2021-07-03</td>\n",
       "      <td>1</td>\n",
       "    </tr>\n",
       "  </tbody>\n",
       "</table>\n",
       "</div>"
      ],
      "text/plain": [
       "              Profession Gender Own_House  Income  Loan_Given   app_date  \\\n",
       "0            Accountants      F         Y  135000    814041.0 2020-12-27   \n",
       "1               Laborers      M         Y  157500    814041.0 2021-01-14   \n",
       "2  High skill tech staff      F         Y  140400    180000.0 2020-10-28   \n",
       "3               Managers      M         Y  454500   1070982.0 2021-09-19   \n",
       "4               Laborers      M         N  157500    817560.0 2021-07-03   \n",
       "\n",
       "   app_rejection  \n",
       "0              1  \n",
       "1              1  \n",
       "2              1  \n",
       "3              0  \n",
       "4              1  "
      ]
     },
     "execution_count": 19,
     "metadata": {},
     "output_type": "execute_result"
    }
   ],
   "source": [
    "import random \n",
    "random.seed(32)\n",
    "# on sample data \n",
    "df = pd.read_excel(\"lecture5/loan_sample.xlsx\")\n",
    "# lets create a random loan application selected or not selecte field \n",
    "df[\"app_rejection\"] = [random.choice([1,0]) for _ in range(df.shape[0]) ]\n",
    "\n",
    "df.head()"
   ]
  },
  {
   "cell_type": "code",
   "execution_count": 20,
   "metadata": {},
   "outputs": [
    {
     "data": {
      "text/html": [
       "<div>\n",
       "<style scoped>\n",
       "    .dataframe tbody tr th:only-of-type {\n",
       "        vertical-align: middle;\n",
       "    }\n",
       "\n",
       "    .dataframe tbody tr th {\n",
       "        vertical-align: top;\n",
       "    }\n",
       "\n",
       "    .dataframe thead th {\n",
       "        text-align: right;\n",
       "    }\n",
       "</style>\n",
       "<table border=\"1\" class=\"dataframe\">\n",
       "  <thead>\n",
       "    <tr style=\"text-align: right;\">\n",
       "      <th>app_rejection</th>\n",
       "      <th>0</th>\n",
       "      <th>1</th>\n",
       "    </tr>\n",
       "    <tr>\n",
       "      <th>Gender</th>\n",
       "      <th></th>\n",
       "      <th></th>\n",
       "    </tr>\n",
       "  </thead>\n",
       "  <tbody>\n",
       "    <tr>\n",
       "      <th>F</th>\n",
       "      <td>19</td>\n",
       "      <td>32</td>\n",
       "    </tr>\n",
       "    <tr>\n",
       "      <th>M</th>\n",
       "      <td>25</td>\n",
       "      <td>24</td>\n",
       "    </tr>\n",
       "  </tbody>\n",
       "</table>\n",
       "</div>"
      ],
      "text/plain": [
       "app_rejection   0   1\n",
       "Gender               \n",
       "F              19  32\n",
       "M              25  24"
      ]
     },
     "execution_count": 20,
     "metadata": {},
     "output_type": "execute_result"
    }
   ],
   "source": [
    "# Loan application rejection by gender \n",
    "pd.crosstab(index=df.Gender, columns=df.app_rejection)"
   ]
  },
  {
   "cell_type": "code",
   "execution_count": 21,
   "metadata": {},
   "outputs": [
    {
     "data": {
      "text/html": [
       "<div>\n",
       "<style scoped>\n",
       "    .dataframe tbody tr th:only-of-type {\n",
       "        vertical-align: middle;\n",
       "    }\n",
       "\n",
       "    .dataframe tbody tr th {\n",
       "        vertical-align: top;\n",
       "    }\n",
       "\n",
       "    .dataframe thead th {\n",
       "        text-align: right;\n",
       "    }\n",
       "</style>\n",
       "<table border=\"1\" class=\"dataframe\">\n",
       "  <thead>\n",
       "    <tr style=\"text-align: right;\">\n",
       "      <th>app_rejection</th>\n",
       "      <th>0</th>\n",
       "      <th>1</th>\n",
       "    </tr>\n",
       "    <tr>\n",
       "      <th>Gender</th>\n",
       "      <th></th>\n",
       "      <th></th>\n",
       "    </tr>\n",
       "  </thead>\n",
       "  <tbody>\n",
       "    <tr>\n",
       "      <th>F</th>\n",
       "      <td>0.372549</td>\n",
       "      <td>0.627451</td>\n",
       "    </tr>\n",
       "    <tr>\n",
       "      <th>M</th>\n",
       "      <td>0.510204</td>\n",
       "      <td>0.489796</td>\n",
       "    </tr>\n",
       "  </tbody>\n",
       "</table>\n",
       "</div>"
      ],
      "text/plain": [
       "app_rejection         0         1\n",
       "Gender                           \n",
       "F              0.372549  0.627451\n",
       "M              0.510204  0.489796"
      ]
     },
     "execution_count": 21,
     "metadata": {},
     "output_type": "execute_result"
    }
   ],
   "source": [
    "# Loan application rejection by gender in terms of percentage\n",
    "pd.crosstab(index=df.Gender, columns=df.app_rejection, normalize=\"index\")"
   ]
  },
  {
   "cell_type": "code",
   "execution_count": 22,
   "metadata": {},
   "outputs": [
    {
     "data": {
      "text/html": [
       "<div>\n",
       "<style scoped>\n",
       "    .dataframe tbody tr th:only-of-type {\n",
       "        vertical-align: middle;\n",
       "    }\n",
       "\n",
       "    .dataframe tbody tr th {\n",
       "        vertical-align: top;\n",
       "    }\n",
       "\n",
       "    .dataframe thead th {\n",
       "        text-align: right;\n",
       "    }\n",
       "</style>\n",
       "<table border=\"1\" class=\"dataframe\">\n",
       "  <thead>\n",
       "    <tr style=\"text-align: right;\">\n",
       "      <th>app_rejection</th>\n",
       "      <th>0</th>\n",
       "      <th>1</th>\n",
       "    </tr>\n",
       "    <tr>\n",
       "      <th>Gender</th>\n",
       "      <th></th>\n",
       "      <th></th>\n",
       "    </tr>\n",
       "  </thead>\n",
       "  <tbody>\n",
       "    <tr>\n",
       "      <th>F</th>\n",
       "      <td>0.431818</td>\n",
       "      <td>0.571429</td>\n",
       "    </tr>\n",
       "    <tr>\n",
       "      <th>M</th>\n",
       "      <td>0.568182</td>\n",
       "      <td>0.428571</td>\n",
       "    </tr>\n",
       "  </tbody>\n",
       "</table>\n",
       "</div>"
      ],
      "text/plain": [
       "app_rejection         0         1\n",
       "Gender                           \n",
       "F              0.431818  0.571429\n",
       "M              0.568182  0.428571"
      ]
     },
     "execution_count": 22,
     "metadata": {},
     "output_type": "execute_result"
    }
   ],
   "source": [
    "# Loan application rejection by gender in terms of percentage across columns\n",
    "pd.crosstab(index=df.Gender, columns=df.app_rejection, normalize=\"columns\")"
   ]
  },
  {
   "cell_type": "code",
   "execution_count": 23,
   "metadata": {},
   "outputs": [
    {
     "data": {
      "text/html": [
       "<div>\n",
       "<style scoped>\n",
       "    .dataframe tbody tr th:only-of-type {\n",
       "        vertical-align: middle;\n",
       "    }\n",
       "\n",
       "    .dataframe tbody tr th {\n",
       "        vertical-align: top;\n",
       "    }\n",
       "\n",
       "    .dataframe thead tr th {\n",
       "        text-align: left;\n",
       "    }\n",
       "\n",
       "    .dataframe thead tr:last-of-type th {\n",
       "        text-align: right;\n",
       "    }\n",
       "</style>\n",
       "<table border=\"1\" class=\"dataframe\">\n",
       "  <thead>\n",
       "    <tr>\n",
       "      <th>app_rejection</th>\n",
       "      <th colspan=\"2\" halign=\"left\">0</th>\n",
       "      <th colspan=\"2\" halign=\"left\">1</th>\n",
       "    </tr>\n",
       "    <tr>\n",
       "      <th>Own_House</th>\n",
       "      <th>N</th>\n",
       "      <th>Y</th>\n",
       "      <th>N</th>\n",
       "      <th>Y</th>\n",
       "    </tr>\n",
       "    <tr>\n",
       "      <th>Gender</th>\n",
       "      <th></th>\n",
       "      <th></th>\n",
       "      <th></th>\n",
       "      <th></th>\n",
       "    </tr>\n",
       "  </thead>\n",
       "  <tbody>\n",
       "    <tr>\n",
       "      <th>F</th>\n",
       "      <td>6</td>\n",
       "      <td>13</td>\n",
       "      <td>8</td>\n",
       "      <td>24</td>\n",
       "    </tr>\n",
       "    <tr>\n",
       "      <th>M</th>\n",
       "      <td>8</td>\n",
       "      <td>17</td>\n",
       "      <td>13</td>\n",
       "      <td>11</td>\n",
       "    </tr>\n",
       "  </tbody>\n",
       "</table>\n",
       "</div>"
      ],
      "text/plain": [
       "app_rejection  0       1    \n",
       "Own_House      N   Y   N   Y\n",
       "Gender                      \n",
       "F              6  13   8  24\n",
       "M              8  17  13  11"
      ]
     },
     "execution_count": 23,
     "metadata": {},
     "output_type": "execute_result"
    }
   ],
   "source": [
    "# Loan application rejection by gender in terms of house owner or not\n",
    "pd.crosstab(index=df.Gender, columns=[df.app_rejection,df.Own_House])"
   ]
  },
  {
   "cell_type": "code",
   "execution_count": 24,
   "metadata": {},
   "outputs": [
    {
     "data": {
      "text/html": [
       "<div>\n",
       "<style scoped>\n",
       "    .dataframe tbody tr th:only-of-type {\n",
       "        vertical-align: middle;\n",
       "    }\n",
       "\n",
       "    .dataframe tbody tr th {\n",
       "        vertical-align: top;\n",
       "    }\n",
       "\n",
       "    .dataframe thead th {\n",
       "        text-align: right;\n",
       "    }\n",
       "</style>\n",
       "<table border=\"1\" class=\"dataframe\">\n",
       "  <thead>\n",
       "    <tr style=\"text-align: right;\">\n",
       "      <th></th>\n",
       "      <th>app_rejection</th>\n",
       "      <th>0</th>\n",
       "      <th>1</th>\n",
       "      <th>All</th>\n",
       "    </tr>\n",
       "    <tr>\n",
       "      <th>Gender</th>\n",
       "      <th>Own_House</th>\n",
       "      <th></th>\n",
       "      <th></th>\n",
       "      <th></th>\n",
       "    </tr>\n",
       "  </thead>\n",
       "  <tbody>\n",
       "    <tr>\n",
       "      <th rowspan=\"2\" valign=\"top\">F</th>\n",
       "      <th>N</th>\n",
       "      <td>6</td>\n",
       "      <td>8</td>\n",
       "      <td>14</td>\n",
       "    </tr>\n",
       "    <tr>\n",
       "      <th>Y</th>\n",
       "      <td>13</td>\n",
       "      <td>24</td>\n",
       "      <td>37</td>\n",
       "    </tr>\n",
       "    <tr>\n",
       "      <th rowspan=\"2\" valign=\"top\">M</th>\n",
       "      <th>N</th>\n",
       "      <td>8</td>\n",
       "      <td>13</td>\n",
       "      <td>21</td>\n",
       "    </tr>\n",
       "    <tr>\n",
       "      <th>Y</th>\n",
       "      <td>17</td>\n",
       "      <td>11</td>\n",
       "      <td>28</td>\n",
       "    </tr>\n",
       "    <tr>\n",
       "      <th>All</th>\n",
       "      <th></th>\n",
       "      <td>44</td>\n",
       "      <td>56</td>\n",
       "      <td>100</td>\n",
       "    </tr>\n",
       "  </tbody>\n",
       "</table>\n",
       "</div>"
      ],
      "text/plain": [
       "app_rejection      0   1  All\n",
       "Gender Own_House             \n",
       "F      N           6   8   14\n",
       "       Y          13  24   37\n",
       "M      N           8  13   21\n",
       "       Y          17  11   28\n",
       "All               44  56  100"
      ]
     },
     "execution_count": 24,
     "metadata": {},
     "output_type": "execute_result"
    }
   ],
   "source": [
    "# Loan application rejection by gender in terms of house owner or not\n",
    "pd.crosstab(index=[df.Gender,df.Own_House], columns=[df.app_rejection], margins=True)"
   ]
  },
  {
   "cell_type": "code",
   "execution_count": 25,
   "metadata": {},
   "outputs": [
    {
     "data": {
      "text/html": [
       "<div>\n",
       "<style scoped>\n",
       "    .dataframe tbody tr th:only-of-type {\n",
       "        vertical-align: middle;\n",
       "    }\n",
       "\n",
       "    .dataframe tbody tr th {\n",
       "        vertical-align: top;\n",
       "    }\n",
       "\n",
       "    .dataframe thead th {\n",
       "        text-align: right;\n",
       "    }\n",
       "</style>\n",
       "<table border=\"1\" class=\"dataframe\">\n",
       "  <thead>\n",
       "    <tr style=\"text-align: right;\">\n",
       "      <th></th>\n",
       "      <th>app_rejection</th>\n",
       "      <th>0</th>\n",
       "      <th>1</th>\n",
       "    </tr>\n",
       "    <tr>\n",
       "      <th>Gender</th>\n",
       "      <th>Own_House</th>\n",
       "      <th></th>\n",
       "      <th></th>\n",
       "    </tr>\n",
       "  </thead>\n",
       "  <tbody>\n",
       "    <tr>\n",
       "      <th rowspan=\"2\" valign=\"top\">F</th>\n",
       "      <th>N</th>\n",
       "      <td>287250.000000</td>\n",
       "      <td>213750.000000</td>\n",
       "    </tr>\n",
       "    <tr>\n",
       "      <th>Y</th>\n",
       "      <td>246115.384615</td>\n",
       "      <td>215006.250000</td>\n",
       "    </tr>\n",
       "    <tr>\n",
       "      <th rowspan=\"2\" valign=\"top\">M</th>\n",
       "      <th>N</th>\n",
       "      <td>225331.875000</td>\n",
       "      <td>334730.769231</td>\n",
       "    </tr>\n",
       "    <tr>\n",
       "      <th>Y</th>\n",
       "      <td>239823.529412</td>\n",
       "      <td>220090.909091</td>\n",
       "    </tr>\n",
       "  </tbody>\n",
       "</table>\n",
       "</div>"
      ],
      "text/plain": [
       "app_rejection                 0              1\n",
       "Gender Own_House                              \n",
       "F      N          287250.000000  213750.000000\n",
       "       Y          246115.384615  215006.250000\n",
       "M      N          225331.875000  334730.769231\n",
       "       Y          239823.529412  220090.909091"
      ]
     },
     "execution_count": 25,
     "metadata": {},
     "output_type": "execute_result"
    }
   ],
   "source": [
    "# Loan application rejection by gender in terms of house owner or not: Here lets analyze thier income distribution\n",
    "pd.crosstab(index=[df.Gender,df.Own_House], columns=[df.app_rejection], values=df.Income, aggfunc=\"mean\")"
   ]
  },
  {
   "cell_type": "code",
   "execution_count": 26,
   "metadata": {},
   "outputs": [
    {
     "data": {
      "text/html": [
       "<div>\n",
       "<style scoped>\n",
       "    .dataframe tbody tr th:only-of-type {\n",
       "        vertical-align: middle;\n",
       "    }\n",
       "\n",
       "    .dataframe tbody tr th {\n",
       "        vertical-align: top;\n",
       "    }\n",
       "\n",
       "    .dataframe thead th {\n",
       "        text-align: right;\n",
       "    }\n",
       "</style>\n",
       "<table border=\"1\" class=\"dataframe\">\n",
       "  <thead>\n",
       "    <tr style=\"text-align: right;\">\n",
       "      <th></th>\n",
       "      <th>app_rejection</th>\n",
       "      <th>0</th>\n",
       "      <th>1</th>\n",
       "    </tr>\n",
       "    <tr>\n",
       "      <th>Gender</th>\n",
       "      <th>Own_House</th>\n",
       "      <th></th>\n",
       "      <th></th>\n",
       "    </tr>\n",
       "  </thead>\n",
       "  <tbody>\n",
       "    <tr>\n",
       "      <th rowspan=\"2\" valign=\"top\">F</th>\n",
       "      <th>N</th>\n",
       "      <td>287250.000000</td>\n",
       "      <td>213750.000000</td>\n",
       "    </tr>\n",
       "    <tr>\n",
       "      <th>Y</th>\n",
       "      <td>246115.384615</td>\n",
       "      <td>215006.250000</td>\n",
       "    </tr>\n",
       "    <tr>\n",
       "      <th rowspan=\"2\" valign=\"top\">M</th>\n",
       "      <th>N</th>\n",
       "      <td>225331.875000</td>\n",
       "      <td>334730.769231</td>\n",
       "    </tr>\n",
       "    <tr>\n",
       "      <th>Y</th>\n",
       "      <td>239823.529412</td>\n",
       "      <td>220090.909091</td>\n",
       "    </tr>\n",
       "  </tbody>\n",
       "</table>\n",
       "</div>"
      ],
      "text/plain": [
       "app_rejection                 0              1\n",
       "Gender Own_House                              \n",
       "F      N          287250.000000  213750.000000\n",
       "       Y          246115.384615  215006.250000\n",
       "M      N          225331.875000  334730.769231\n",
       "       Y          239823.529412  220090.909091"
      ]
     },
     "execution_count": 26,
     "metadata": {},
     "output_type": "execute_result"
    }
   ],
   "source": [
    "# Loan application rejection by gender in terms of house owner or not: Here lets analyze thier income distribution\n",
    "pd.crosstab(index=[df.Gender,df.Own_House], columns=[df.app_rejection], values=df.Income, aggfunc=\"mean\")"
   ]
  },
  {
   "cell_type": "markdown",
   "metadata": {},
   "source": [
    "### NumPy"
   ]
  },
  {
   "cell_type": "code",
   "execution_count": 129,
   "metadata": {},
   "outputs": [
    {
     "name": "stdout",
     "output_type": "stream",
     "text": [
      "55\n",
      "[51 52 53 54 55]\n",
      "[15 25 35 45 55]\n",
      "33.0\n",
      "202.0\n",
      "14.212670403551895\n",
      "[31. 32. 33. 34. 35.]\n",
      "[13. 23. 33. 43. 53.]\n",
      "[[11 12 13 14 15 21 22 23 24 25 31 32 33 34 35 41 42 43 44 45 51 52 53 54\n",
      "  55]]\n",
      "[[ 0  1  2  3  4  5  6  7]\n",
      " [ 8  9 10 11 12 13 14 15]]\n",
      "[0 1 2 3 4 5]\n",
      "[0 3 1 4 2 5]\n"
     ]
    }
   ],
   "source": [
    "import numpy as np \n",
    "\n",
    "\n",
    "array = np.array([\n",
    "    [11,12,13,14,15],\n",
    "    [21,22,23,24,25],\n",
    "    [31,32,33,34,35],\n",
    "    [41,42,43,44,45],\n",
    "    [51,52,53,54,55]\n",
    "                    ])\n",
    "\n",
    "# basics \n",
    "# axis=0 typically refers to columns.\n",
    "# axis=1 typically refers to rows\n",
    "\n",
    "\n",
    "print(np.max(array))\n",
    "print(np.max(array, axis=0))\n",
    "print(np.max(array, axis=1))\n",
    "\n",
    "# mean \n",
    "print(np.mean(array))\n",
    "\n",
    "# variance \n",
    "print(np.var(array))\n",
    "\n",
    "# standard Deviation \n",
    "print(np.std(array))\n",
    "\n",
    "# mean along the certain axis \n",
    "print(np.mean(array, axis= 0))\n",
    "print(np.mean(array, axis= 1))\n",
    "\n",
    "\n",
    "# reshape \n",
    "print(array.reshape(1,-1))\n",
    "print(np.arange(16).reshape(2,8))\n",
    "\n",
    "# flatten \n",
    "# ndarray.flatten(order='C/F')\n",
    "print(np.arange(6).reshape(2,3).flatten(order=\"C\"))\n",
    "print(np.arange(6).reshape(2,3).flatten(order=\"F\"))\n"
   ]
  },
  {
   "cell_type": "markdown",
   "metadata": {},
   "source": [
    "#### Multidimensional Indexing"
   ]
  },
  {
   "cell_type": "code",
   "execution_count": 30,
   "metadata": {},
   "outputs": [],
   "source": [
    "array = np.array([\n",
    "    [12,12,13,14,15],\n",
    "    [21,22,23,24,25],\n",
    "    [31,32,33,34,35],\n",
    "    [41,42,43,44,45],\n",
    "    [51,52,53,54,55]\n",
    "                    ])"
   ]
  },
  {
   "cell_type": "code",
   "execution_count": 31,
   "metadata": {},
   "outputs": [
    {
     "name": "stdout",
     "output_type": "stream",
     "text": [
      "[[13 14 15]\n",
      " [23 24 25]\n",
      " [33 34 35]]\n"
     ]
    }
   ],
   "source": [
    "print(array[:3, 2:])"
   ]
  },
  {
   "cell_type": "code",
   "execution_count": 35,
   "metadata": {},
   "outputs": [
    {
     "name": "stdout",
     "output_type": "stream",
     "text": [
      "[[41 42 43 44 45]\n",
      " [51 52 53 54 55]]\n"
     ]
    }
   ],
   "source": [
    "print(array[3:,:])"
   ]
  },
  {
   "cell_type": "code",
   "execution_count": 36,
   "metadata": {},
   "outputs": [
    {
     "name": "stdout",
     "output_type": "stream",
     "text": [
      "[[12 13 15]\n",
      " [21 23 25]\n",
      " [31 33 35]\n",
      " [41 43 45]\n",
      " [51 53 55]]\n"
     ]
    }
   ],
   "source": [
    "print(array[:,::2])"
   ]
  },
  {
   "cell_type": "markdown",
   "metadata": {},
   "source": [
    "#### Get index of values:"
   ]
  },
  {
   "cell_type": "code",
   "execution_count": 40,
   "metadata": {},
   "outputs": [
    {
     "data": {
      "text/plain": [
       "(array([4]), array([4]))"
      ]
     },
     "execution_count": 40,
     "metadata": {},
     "output_type": "execute_result"
    }
   ],
   "source": [
    "# get index of 55\n",
    "np.where(array == 55)"
   ]
  },
  {
   "cell_type": "code",
   "execution_count": 59,
   "metadata": {},
   "outputs": [
    {
     "name": "stdout",
     "output_type": "stream",
     "text": [
      "[(0,), (3,)]\n",
      "(0,)\n",
      "(99999999,)\n"
     ]
    }
   ],
   "source": [
    "# how to get index of multuple values if array has same repeted values \n",
    "sample_arry = [1,2,3,1]\n",
    "\n",
    "idxs = []\n",
    "# get the index of 1\n",
    "for i , v in np.ndenumerate(sample_arry):\n",
    "    if v == 1: \n",
    "        idxs.append(i)\n",
    "        \n",
    "print(idxs)\n",
    "\n",
    "\n",
    "\n",
    "\n",
    "# How to make this method blazing fast?\n",
    "from numba import njit \n",
    "\n",
    "sample_arry = np.arange(100000000)\n",
    "sample_arry[0] = sample_arry[-1]\n",
    "\n",
    "@njit\n",
    "def get_index(array, item):\n",
    "    for i , v in np.ndenumerate(array):\n",
    "        if v == item:\n",
    "            print(i)\n",
    "            \n",
    "get_index(sample_arry,99999999)"
   ]
  },
  {
   "cell_type": "markdown",
   "metadata": {},
   "source": [
    "#### Basic Operations"
   ]
  },
  {
   "cell_type": "code",
   "execution_count": 61,
   "metadata": {},
   "outputs": [
    {
     "name": "stdout",
     "output_type": "stream",
     "text": [
      "[[ 2  2  1]\n",
      " [ 0  8  5]\n",
      " [ 1  1 11]]\n",
      "[[ 0  2  5]\n",
      " [ 8  2  7]\n",
      " [13 15  7]]\n",
      "[[25 15 -2]\n",
      " [52 27  1]\n",
      " [79 39  4]]\n",
      "[[25 15 -2]\n",
      " [52 27  1]\n",
      " [79 39  4]]\n"
     ]
    }
   ],
   "source": [
    "matrix1 = np.array([[1, 2, 3],\n",
    "                    [4, 5, 6],\n",
    "                    [7, 8, 9]])\n",
    "\n",
    "matrix2 = np.array([[-1, 0, 2],\n",
    "                    [4, -3, 1],\n",
    "                    [6, 7, -2]])\n",
    "\n",
    "# subtract \n",
    "print(np.subtract(matrix1,matrix2))\n",
    "\n",
    "# add \n",
    "print(np.add(matrix1,matrix2))\n",
    "\n",
    "# dot \n",
    "print(np.dot(matrix1,matrix2))\n",
    "\n",
    "\n",
    "# matmul \n",
    "print(np.matmul(matrix1,matrix2))\n"
   ]
  },
  {
   "cell_type": "markdown",
   "metadata": {},
   "source": [
    "#### Custom Matrix Multiplier"
   ]
  },
  {
   "cell_type": "code",
   "execution_count": 134,
   "metadata": {},
   "outputs": [
    {
     "name": "stdout",
     "output_type": "stream",
     "text": [
      "[[25. 15. -2.]\n",
      " [52. 27.  1.]\n",
      " [79. 39.  4.]]\n"
     ]
    },
    {
     "ename": "ValueError",
     "evalue": "Shape mismatch, cannot multuply these matrices.",
     "output_type": "error",
     "traceback": [
      "\u001b[0;31m---------------------------------------------------------------------------\u001b[0m",
      "\u001b[0;31mValueError\u001b[0m                                Traceback (most recent call last)",
      "Cell \u001b[0;32mIn[134], line 37\u001b[0m\n\u001b[1;32m     34\u001b[0m m3 \u001b[38;5;241m=\u001b[39m Matrix(array)\n\u001b[1;32m     36\u001b[0m \u001b[38;5;28mprint\u001b[39m(m1 \u001b[38;5;241m*\u001b[39m m2)\n\u001b[0;32m---> 37\u001b[0m \u001b[38;5;28mprint\u001b[39m(\u001b[43mm1\u001b[49m\u001b[38;5;241;43m*\u001b[39;49m\u001b[43mm3\u001b[49m)\n",
      "Cell \u001b[0;32mIn[134], line 15\u001b[0m, in \u001b[0;36mMatrix.__mul__\u001b[0;34m(self, matrix)\u001b[0m\n\u001b[1;32m     12\u001b[0m     \u001b[38;5;28;01mraise\u001b[39;00m \u001b[38;5;167;01mValueError\u001b[39;00m(\u001b[38;5;124m\"\u001b[39m\u001b[38;5;124mCannot multiply other data type.\u001b[39m\u001b[38;5;124m\"\u001b[39m)\n\u001b[1;32m     14\u001b[0m \u001b[38;5;28;01mif\u001b[39;00m \u001b[38;5;28mself\u001b[39m\u001b[38;5;241m.\u001b[39mcolumns \u001b[38;5;241m!=\u001b[39m matrix\u001b[38;5;241m.\u001b[39mrows:\n\u001b[0;32m---> 15\u001b[0m     \u001b[38;5;28;01mraise\u001b[39;00m \u001b[38;5;167;01mValueError\u001b[39;00m(\u001b[38;5;124m\"\u001b[39m\u001b[38;5;124mShape mismatch, cannot multuply these matrices.\u001b[39m\u001b[38;5;124m\"\u001b[39m)\n\u001b[1;32m     17\u001b[0m \u001b[38;5;66;03m# initialize the resultant matrix:\u001b[39;00m\n\u001b[1;32m     18\u001b[0m result \u001b[38;5;241m=\u001b[39m np\u001b[38;5;241m.\u001b[39mzeros((\u001b[38;5;28mself\u001b[39m\u001b[38;5;241m.\u001b[39mrows, matrix\u001b[38;5;241m.\u001b[39mcolumns))\n",
      "\u001b[0;31mValueError\u001b[0m: Shape mismatch, cannot multuply these matrices."
     ]
    }
   ],
   "source": [
    "from typing import List, Union\n",
    "class Matrix:\n",
    "    \n",
    "    def __init__(self, data: Union[list, np.ndarray] ) -> None:\n",
    "        self.data = np.array(data) \n",
    "        self.rows , self.columns = self.data.shape\n",
    "        \n",
    "        \n",
    "    def __mul__(self, matrix : 'Matrix') -> 'Matrix':\n",
    "        \n",
    "        if not isinstance(matrix, Matrix):\n",
    "            raise ValueError(\"Cannot multiply other data type.\")\n",
    "        \n",
    "        if self.columns != matrix.rows:\n",
    "            raise ValueError(\"Shape mismatch, cannot multuply these matrices.\")\n",
    "        \n",
    "        # initialize the resultant matrix:\n",
    "        result = np.zeros((self.rows, matrix.columns))\n",
    "        \n",
    "        # perform the matrix multiplication \n",
    "        for i in range(self.rows):\n",
    "            for j in range(matrix.columns):\n",
    "                for k in range(self.columns):\n",
    "                    result[i,j] += self.data[i,k] * matrix.data[k,j]\n",
    "                    \n",
    "        return Matrix(result)\n",
    "    \n",
    "    def __repr__(self) -> str:\n",
    "        return str(self.data)\n",
    "    \n",
    "\n",
    "m1 = Matrix(matrix1)\n",
    "m2 = Matrix(matrix2)\n",
    "m3 = Matrix(array)\n",
    "\n",
    "print(m1 * m2)\n",
    "print(m1*m3)"
   ]
  },
  {
   "cell_type": "markdown",
   "metadata": {},
   "source": [
    "#### Lambda and Vectorize"
   ]
  },
  {
   "cell_type": "code",
   "execution_count": 105,
   "metadata": {},
   "outputs": [
    {
     "data": {
      "text/plain": [
       "22"
      ]
     },
     "execution_count": 105,
     "metadata": {},
     "output_type": "execute_result"
    }
   ],
   "source": [
    "a = lambda x : x + 10\n",
    "a(12)"
   ]
  },
  {
   "cell_type": "code",
   "execution_count": 107,
   "metadata": {},
   "outputs": [
    {
     "data": {
      "text/plain": [
       "40"
      ]
     },
     "execution_count": 107,
     "metadata": {},
     "output_type": "execute_result"
    }
   ],
   "source": [
    "x = lambda a,b,c : a * b * c\n",
    "x(2,4,5)"
   ]
  },
  {
   "cell_type": "code",
   "execution_count": 109,
   "metadata": {},
   "outputs": [
    {
     "data": {
      "text/plain": [
       "array([[101, 102, 103],\n",
       "       [104, 105, 106],\n",
       "       [107, 108, 109]])"
      ]
     },
     "execution_count": 109,
     "metadata": {},
     "output_type": "execute_result"
    }
   ],
   "source": [
    "# lambda to add each number by 100\n",
    "add_100 = lambda x : x + 100\n",
    "\n",
    "# Vectorize the lambda \n",
    "vectorized = np.vectorize(add_100)\n",
    "\n",
    "\n",
    "# apply the vectorizer \n",
    "vectorized(matrix1)"
   ]
  },
  {
   "cell_type": "markdown",
   "metadata": {},
   "source": [
    "#### Stacking"
   ]
  },
  {
   "cell_type": "code",
   "execution_count": 133,
   "metadata": {},
   "outputs": [
    {
     "name": "stdout",
     "output_type": "stream",
     "text": [
      "[1 2 3 4 5 6]\n",
      "[[1 2 3]\n",
      " [4 5 6]]\n",
      "[[[1 4]\n",
      "  [2 5]\n",
      "  [3 6]]]\n"
     ]
    }
   ],
   "source": [
    "a1 = np.array([1, 2, 3])\n",
    "a2 = np.array( [4, 5, 6])\n",
    "# Horizontal stacking \n",
    "print( \n",
    "      np.hstack((a1, a2))\n",
    "      )\n",
    "# Vertical stacking\n",
    "print( \n",
    "      np.vstack((a1, a2))\n",
    "      )\n",
    "\n",
    "# Height stacking \n",
    "print( \n",
    "      np.dstack((a1, a2))\n",
    "      )\n"
   ]
  }
 ],
 "metadata": {
  "kernelspec": {
   "display_name": "main_env",
   "language": "python",
   "name": "python3"
  },
  "language_info": {
   "codemirror_mode": {
    "name": "ipython",
    "version": 3
   },
   "file_extension": ".py",
   "mimetype": "text/x-python",
   "name": "python",
   "nbconvert_exporter": "python",
   "pygments_lexer": "ipython3",
   "version": "3.12.3"
  }
 },
 "nbformat": 4,
 "nbformat_minor": 2
}

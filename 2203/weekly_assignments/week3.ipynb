{
 "cells": [
  {
   "cell_type": "markdown",
   "metadata": {},
   "source": [
    "1-Write a Python program to find 4 numbers from an array such that the sum of 4 numbers equal to a given number.<br>\n",
    "Input : [1, 0, -1, 0, -2, 2,10,11], 0) <br>\n",
    "Output : [[-2, -1, 1, 2], [-2, 0, 0, 2], [-1, 0, 0, 1]] <br>"
   ]
  },
  {
   "cell_type": "code",
   "execution_count": 4,
   "metadata": {},
   "outputs": [
    {
     "name": "stdout",
     "output_type": "stream",
     "text": [
      "[[1, 2, 3, 4], [1, 2, 1, 6], [1, 3, 1, 5], [2, 3, 4, 1]]\n",
      "[[1, 0, -1, 0], [1, -1, -2, 2], [0, 0, -2, 2]]\n"
     ]
    }
   ],
   "source": [
    "import itertools\n",
    "from typing import List, Union\n",
    "\n",
    "def get_four_sum(input_list : list, target_value : int) -> List[List]:\n",
    "    \"\"\"Get 4 numbers form array such that sum of 4 numbers equal to given target value.\n",
    "\n",
    "    Args:\n",
    "        input_list (list): The iterable list.\n",
    "        target_value (int): Desired target value.\n",
    "\n",
    "    Returns:\n",
    "        List[List]: The nesed list of result.\n",
    "    \"\"\"\n",
    "    \n",
    "    # result list \n",
    "    result = []\n",
    "    \n",
    "    # get all possible combination of number using intertools\n",
    "    possible_combination = itertools.combinations(input_list, 4)\n",
    "    \n",
    "    # return all possible combination whose sum is equal to target\n",
    "    return [list(comb) for comb in possible_combination if sum(comb) == target_value]\n",
    "        \n",
    "\n",
    "print(get_four_sum([1,2,3,4,1,5,6,7,8,9,10,11,12],10))\n",
    "print(get_four_sum([1, 0, -1, 0, -2, 2,10,11],0))"
   ]
  },
  {
   "cell_type": "markdown",
   "metadata": {},
   "source": [
    "2-Write a Python program to find the single element appears once in a list where every element appears multiple times except for one. <br>\n",
    "Input : [1, 1, 1, 2, 2, 2, 3] <br>\n",
    "Output : 3 <br>"
   ]
  },
  {
   "cell_type": "code",
   "execution_count": 5,
   "metadata": {},
   "outputs": [
    {
     "name": "stdout",
     "output_type": "stream",
     "text": [
      "Non Repeating element is : 5\n"
     ]
    }
   ],
   "source": [
    "def find_single_element(input_list : list) -> int:\n",
    "    \n",
    "    \"\"\"Find the non repeating element from the list of repeating element.\n",
    "    Args:\n",
    "        input_list (list): The input_list list.\n",
    "    Returns:\n",
    "        int: The non repeatig element\n",
    "    \"\"\"\n",
    "    # create a mapper to keep track of the occurance \n",
    "    mapper = {}\n",
    "    \n",
    "    # iterate through the list \n",
    "    for i in input_list:\n",
    "        mapper[i] = 1 + mapper.get(i,0)\n",
    "        \n",
    "    # now return the element whose count is 1\n",
    "    for k , v in mapper.items():\n",
    "        if v == 1:\n",
    "            return k\n",
    "\n",
    "    return None\n",
    "    \n",
    "# input list \n",
    "input_list = [1, 1, 1, 2, 2, 2, 3,3,4,4,5] \n",
    "print(f\"Non Repeating element is : {find_single_element(input_list)}\")"
   ]
  },
  {
   "cell_type": "markdown",
   "metadata": {},
   "source": [
    "3-Write a Python program to add the digits of a positive integer repeatedly until the result has a single digit. \n",
    "Input : 48 <br>\n",
    "Output : 3 <br>\n",
    "For example given number is 59, the result will be 5. <br>\n",
    "Step 1: 5 + 9 = 14 <br>\n",
    "Step 1: 1 + 4 = 5 <br>"
   ]
  },
  {
   "cell_type": "code",
   "execution_count": 6,
   "metadata": {},
   "outputs": [
    {
     "name": "stdout",
     "output_type": "stream",
     "text": [
      "Input : 473  Output : 5\n",
      "Input : 59  Output : 5\n",
      "Input : 361  Output : 1\n",
      "Input : 371  Output : 2\n",
      "Input : 312  Output : 6\n"
     ]
    }
   ],
   "source": [
    "import random\n",
    "\n",
    "def split_int_to_list(number : int) -> list:\n",
    "    \n",
    "    # splited list \n",
    "    splits = []\n",
    "    \n",
    "    # check if number eaual to zero \n",
    "    if number == 0: return [0]\n",
    "    \n",
    "    # iterate while number is > 0:\n",
    "    while number > 0:\n",
    "        \n",
    "        # get number and remainder\n",
    "        number , remain = divmod( number, 10)\n",
    "        \n",
    "        # insert the remainder only\n",
    "        splits.insert(0, remain)\n",
    "        \n",
    "    return splits\n",
    "\n",
    "def add_digits_iter(number : int) -> int:\n",
    "    \"\"\"Adds the digits of a positive integer repeatedly until the result has a single digit\n",
    "\n",
    "    Args:\n",
    "        number (int): The input positive integer.\n",
    "\n",
    "    Returns:\n",
    "        int: The single digit.\n",
    "    \"\"\"\n",
    "    assert number > 0 , \"Given number is not positive.\"\n",
    "    \n",
    "    # iterate till we get single digit\n",
    "    while number % 10 != number:\n",
    "        \n",
    "        # split into list \n",
    "        splits = split_int_to_list(number)\n",
    "        \n",
    "        # get the sum \n",
    "        number = sum(splits)\n",
    "        \n",
    "    return number\n",
    "\n",
    "for _ in range(5):\n",
    "    \n",
    "    random_int = random.randint(10,500)\n",
    "    \n",
    "    print(f\"Input : {random_int}  Output : {add_digits_iter(random_int)}\")\n",
    "    \n"
   ]
  },
  {
   "cell_type": "code",
   "execution_count": null,
   "metadata": {},
   "outputs": [],
   "source": [
    "\n"
   ]
  },
  {
   "cell_type": "code",
   "execution_count": null,
   "metadata": {},
   "outputs": [],
   "source": []
  }
 ],
 "metadata": {
  "kernelspec": {
   "display_name": "main_env",
   "language": "python",
   "name": "python3"
  },
  "language_info": {
   "codemirror_mode": {
    "name": "ipython",
    "version": 3
   },
   "file_extension": ".py",
   "mimetype": "text/x-python",
   "name": "python",
   "nbconvert_exporter": "python",
   "pygments_lexer": "ipython3",
   "version": "3.1.undefined"
  }
 },
 "nbformat": 4,
 "nbformat_minor": 2
}

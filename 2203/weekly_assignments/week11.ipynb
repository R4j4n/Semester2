{
 "cells": [
  {
   "cell_type": "markdown",
   "metadata": {},
   "source": [
    "Q1 - You are given two integer arrays nums1 and nums2, sorted in non-decreasing order, and two integers m and n, representing the number of elements in nums1 and nums2 respectively.\n",
    "\n",
    "Merge nums1 and nums2 into a single array sorted in non-decreasing order.\n",
    "\n",
    "The final sorted array should not be returned by the function, but instead be stored inside the array nums1. To accommodate this, nums1 has a length of m + n, where the first m elements denote the elements that should be merged, and the last n elements are set to 0 and should be ignored. nums2 has a length of n.\n",
    "\n",
    "Example 1:\n",
    "\n",
    "Input: nums1 = [1,2,3,0,0,0], m = 3, nums2 = [2,5,6], n = 3\n",
    "\n",
    "Output: [1,2,2,3,5,6]\n",
    "\n",
    "Explanation: The arrays we are merging are [1,2,3] and [2,5,6].\n",
    "\n",
    "The result of the merge is [1,2,2,3,5,6] with the underlined elements coming from nums1."
   ]
  },
  {
   "cell_type": "code",
   "execution_count": 3,
   "metadata": {},
   "outputs": [
    {
     "name": "stdout",
     "output_type": "stream",
     "text": [
      "[1, 2, 2, 3, 5, 6]\n"
     ]
    }
   ],
   "source": [
    "# Reference : https://www.youtube.com/watch?v=SCrDq4yDPeY&t=48s\n",
    "\n",
    "def merge(nums1, m, nums2, n):\n",
    "\n",
    "    x,y= m - 1 , n - 1\n",
    "\n",
    "    # start iterating from end of nums1 and iteratively\n",
    "    # check if it can be placed there on not Check for both \n",
    "    # x and y\n",
    "    for p in range(m + n - 1, -1, -1):\n",
    "        if y < 0:\n",
    "            break\n",
    "        if x >= 0 and nums1[x] > nums2[y]:\n",
    "            nums1[p] = nums1[x]\n",
    "            x -= 1\n",
    "        else:\n",
    "            nums1[p] = nums2[y]\n",
    "            y -= 1\n",
    "\n",
    "nums1 = [1, 2, 3, 0, 0, 0]\n",
    "nums2 = [2, 5, 6]\n",
    "m,n = 3,3\n",
    "\n",
    "merge(nums1, m, nums2, n)\n",
    "print(nums1) "
   ]
  },
  {
   "cell_type": "markdown",
   "metadata": {},
   "source": [
    "Q2- Given an input string s and a pattern p, implement regular expression matching with support for '.' and '*' where:\n",
    "\n",
    "'.' Matches any single character.​​​​\n",
    "'*' Matches zero or more of the preceding element.\n",
    "The matching should cover the entire input string (not partial).\n",
    "\n",
    "Example 1: Input: s = \"aa\", p = \"a\"\n",
    "\n",
    "Output: false\n",
    "\n",
    "Explanation: \"a\" does not match the entire string \"aa\".\n",
    "\n",
    "Example 2: Input: s = \"aa\", p = \"a*\"\n",
    "\n",
    "Output: true\n",
    "\n",
    "Explanation: '*' means zero or more of the preceding element, 'a'. Therefore, by repeating 'a' once, it becomes \"aa\".\n",
    "\n"
   ]
  },
  {
   "cell_type": "code",
   "execution_count": 7,
   "metadata": {},
   "outputs": [
    {
     "name": "stdout",
     "output_type": "stream",
     "text": [
      "True\n",
      "True\n",
      "False\n"
     ]
    }
   ],
   "source": [
    "def isMatch(s: str, p: str) -> bool:\n",
    "    rows, columns = (len(s), len(p))\n",
    "    # Base conditions\n",
    "    if rows == 0 and columns == 0:\n",
    "        return True\n",
    "    if columns == 0:\n",
    "        return False\n",
    "    # DP array\n",
    "    dp = [[False for j in range(columns + 1)] for i in range(rows + 1)]\n",
    "    # Since empty string and empty pattern are a match\n",
    "    dp[0][0] = True\n",
    "    # Deals with patterns containing *\n",
    "    for i in range(2, columns + 1):\n",
    "        if p[i - 1] == '*':\n",
    "            dp[0][i] = dp[0][i - 2]\n",
    "    # For remaining characters\n",
    "    for i in range(1, rows + 1):\n",
    "        for j in range(1, columns + 1):\n",
    "            if s[i - 1] == p[j - 1] or p[j - 1] == '.':\n",
    "                dp[i][j] = dp[i - 1][j - 1]\n",
    "            elif j > 1 and p[j - 1] == '*':\n",
    "                dp[i][j] = dp[i][j - 2]\n",
    "                if p[j - 2] == '.' or p[j - 2] == s[i - 1]:\n",
    "                    dp[i][j] = dp[i][j] or dp[i - 1][j]\n",
    "    return dp[rows][columns]\n",
    "\n",
    "\n",
    "print(isMatch(s=\"aa\", p=\"a*\"))\n",
    "print(isMatch(s=\"aaaaaaaaaa\", p=\"a*\"))\n",
    "print(isMatch(s=\"aaaab\", p=\"a*\"))\n",
    "\n"
   ]
  },
  {
   "cell_type": "markdown",
   "metadata": {},
   "source": [
    "Q3- A permutation of an array of integers is an arrangement of its members into a sequence or linear order.\n",
    "\n",
    "For example, for arr = [1,2,3], the following are considered permutations of arr: [1,2,3], [1,3,2], [3,1,2], [2,3,1].\n",
    "The next permutation of an array of integers is the next lexicographically greater permutation of its integer. More formally, if all the permutations of the array are sorted in one container according to their lexicographical order, then the next permutation of that array is the permutation that follows it in the sorted container. If such arrangement is not possible, the array must be rearranged as the lowest possible order (i.e., sorted in ascending order).\n",
    "\n",
    "For example, the next permutation of arr = [1,2,3] is [1,3,2].\n",
    "Similarly, the next permutation of arr = [2,3,1] is [3,1,2].\n",
    "While the next permutation of arr = [3,2,1] is [1,2,3] because [3,2,1] does not have a lexicographical larger rearrangement.\n",
    "Given an array of integers nums, find the next permutation of nums.\n",
    "\n",
    "The replacement must be in place and use only constant extra memory.\n",
    "\n",
    " Example 1:\n",
    "\n",
    "Input: nums = [1,2,3]\n",
    "Output: [1,3,2]"
   ]
  },
  {
   "cell_type": "code",
   "execution_count": 8,
   "metadata": {},
   "outputs": [
    {
     "name": "stdout",
     "output_type": "stream",
     "text": [
      "[1, 3, 2]\n"
     ]
    }
   ],
   "source": [
    "def integerpermute(nums):\n",
    "    \n",
    "    def swap(nums, i, j):\n",
    "        nums[i], nums[j] = nums[j], nums[i]\n",
    "\n",
    "    def reverse(nums, start):\n",
    "        left, right = start, len(nums) - 1\n",
    "        while left < right:\n",
    "            swap(nums, left, right)\n",
    "            left += 1\n",
    "            right -= 1\n",
    "\n",
    "    i = len(nums) - 2\n",
    "    while i >= 0 and nums[i + 1] <= nums[i]:\n",
    "        i -= 1\n",
    "\n",
    "    if i < 0:\n",
    "        reverse(nums, 0)\n",
    "        return\n",
    "\n",
    "    j = len(nums) - 1\n",
    "    while nums[j] <= nums[i]:\n",
    "        j -= 1\n",
    "\n",
    "    swap(nums, i, j)\n",
    "    reverse(nums, i + 1)\n",
    "\n",
    "nums = [1, 2, 3]\n",
    "integerpermute(nums)\n",
    "print(nums)  "
   ]
  },
  {
   "cell_type": "code",
   "execution_count": null,
   "metadata": {},
   "outputs": [],
   "source": []
  }
 ],
 "metadata": {
  "kernelspec": {
   "display_name": "gpt",
   "language": "python",
   "name": "python3"
  },
  "language_info": {
   "codemirror_mode": {
    "name": "ipython",
    "version": 3
   },
   "file_extension": ".py",
   "mimetype": "text/x-python",
   "name": "python",
   "nbconvert_exporter": "python",
   "pygments_lexer": "ipython3",
   "version": "3.12.3"
  }
 },
 "nbformat": 4,
 "nbformat_minor": 2
}

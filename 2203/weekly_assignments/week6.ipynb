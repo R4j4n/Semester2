{
 "cells": [
  {
   "cell_type": "markdown",
   "metadata": {},
   "source": [
    "1-Write a Python program to check a sequence of numbers is an arithmetic progression or not. <br>\n",
    "Input : [5, 7, 9, 11] <br>\n",
    "Output : True <br>\n",
    "In mathematics, an arithmetic progression or arithmetic sequence is a sequence of numbers such that the difference between the consecutive terms is constant.\n",
    "For example, the sequence 5, 7, 9, 11, 13, 15 ... is an arithmetic progression with common difference of 2.\n"
   ]
  },
  {
   "cell_type": "code",
   "execution_count": 20,
   "metadata": {},
   "outputs": [],
   "source": [
    "from typing import Iterable\n",
    "def arithmetic_progression(sequence : Iterable) -> bool: \n",
    "    \n",
    "    assert len(sequence) > 2, \"Sequence needs to be length greater than 2.\"\n",
    "    \n",
    "    # get the difference between first and second element \n",
    "    diff = sequence[1] - sequence[0]\n",
    "    \n",
    "    # iterate through elements skip 0 , 1 as they are difference to test\n",
    "    for i in range(2, len(sequence)):\n",
    "    \n",
    "        # check if n, n-1 has same difference \n",
    "        # if not, not arithmetic\n",
    "        if sequence[i] - sequence[i-1] != diff:\n",
    "            return False\n",
    "        \n",
    "    return True\n",
    "            \n",
    "# test cases \n",
    "\n",
    "assert arithmetic_progression([5, 7, 9, 11]) == True\n",
    "assert arithmetic_progression([1, 2, 3, 4, 5]) == True\n",
    "assert arithmetic_progression([10, 15, 20, 25, 30]) == True\n",
    "assert arithmetic_progression([1, 4, 9, 16, 25]) == False\n",
    "assert arithmetic_progression([1, 2, 4, 8, 16]) == False"
   ]
  },
  {
   "cell_type": "markdown",
   "metadata": {},
   "source": [
    "\n",
    " \n",
    "\n",
    "2-Write a Python program to check whether a given number is an ugly number.  <br>\n",
    "Input : 12 <br>\n",
    "Output : True <br>\n",
    "Ugly numbers are positive numbers whose only prime factors are 2, 3 or 5. The sequence 1, 2, 3, 4, 5, 6, 8, 9, 10, 12, ...\n",
    "shows the first 10 ugly numbers.\n",
    "Note: 1 is typically treated as an ugly number\n",
    "\n",
    " \n"
   ]
  },
  {
   "cell_type": "code",
   "execution_count": 21,
   "metadata": {},
   "outputs": [
    {
     "name": "stdout",
     "output_type": "stream",
     "text": [
      "Number : 29 Is Ugly : False\n",
      "Number : 18 Is Ugly : True\n",
      "Number : 49 Is Ugly : False\n",
      "Number : 68 Is Ugly : True\n",
      "Number : 31 Is Ugly : False\n",
      "Number : 26 Is Ugly : True\n",
      "Number : 57 Is Ugly : True\n",
      "Number : 36 Is Ugly : True\n",
      "Number : 63 Is Ugly : True\n",
      "Number : 63 Is Ugly : True\n"
     ]
    }
   ],
   "source": [
    "# method to get all the prime factor \n",
    "def get_prime_factor(number : int): \n",
    "    \n",
    "    # if not int, raise error \n",
    "    assert isinstance(number, int), \"The given number should be an integer.\"\n",
    "    \n",
    "    # list to store the prime factors \n",
    "    factors = []\n",
    "    \n",
    "    i=2\n",
    "    # until number becomes one loop\n",
    "    while number>1:\n",
    "        # if number remainder becomes 0, procceed to another: \n",
    "        if number%i==0:\n",
    "            factors.append(i)\n",
    "            number=number/i\n",
    "            \n",
    "            i=i-1\n",
    "        i+=1  \n",
    "    return factors\n",
    "    \n",
    "def check_ugly(number : int)-> bool: \n",
    "    # get all the factors\n",
    "    factors = get_prime_factor(number=number)\n",
    "    \n",
    "    # check if given numbers are in factor or not \n",
    "    if (2 in factors) or (3 in factors) or (5 in factors):\n",
    "        return True\n",
    "\n",
    "    return False\n",
    "      \n",
    "import random \n",
    "\n",
    "for _ in range(10): \n",
    "    rand_num = random.randint(2,100)\n",
    "    print(f\"Number : {rand_num} Is Ugly : {check_ugly(rand_num)}\")\n",
    "    "
   ]
  },
  {
   "cell_type": "markdown",
   "metadata": {},
   "source": [
    "\n",
    "3-Write a Python Function to find the single number in a list that doesn't occur n times. <br>\n",
    "Input : [5, 3,3,4, 4, 3, 4], N=3 <br>\n",
    "Output : 5 <br>"
   ]
  },
  {
   "cell_type": "code",
   "execution_count": 22,
   "metadata": {},
   "outputs": [],
   "source": [
    "from typing import Iterable, Union\n",
    "\n",
    "def get_not_occuring(sequence : Iterable, occurance : int) -> Union[list,int]:\n",
    "    \n",
    "    # list to store the result\n",
    "    result = []\n",
    "\n",
    "    # count the occurance of each element \n",
    "    count = {}\n",
    "    \n",
    "    # iterate and count\n",
    "    for ele in sequence:\n",
    "        count[ele] = 1 + count.get(ele , 0 )\n",
    "        \n",
    "    # get elem without that occurance \n",
    "    for k, v in count.items(): \n",
    "        \n",
    "        if v != occurance:\n",
    "            result.append(k)\n",
    "    \n",
    "    return result[-1] if len(result) == 1 else result\n",
    "    \n",
    "# test cases\n",
    "\n",
    "assert get_not_occuring([5, 3, 3, 4, 4, 3, 4], 3) == 5\n",
    "\n",
    "assert get_not_occuring([5, 3, 3, 4, 4, 3, 4, 6, 6, 7], 3) == [5, 6, 7]\n",
    "\n",
    "assert get_not_occuring([1, 2, 3, 4], 2) == [1, 2, 3, 4]"
   ]
  }
 ],
 "metadata": {
  "kernelspec": {
   "display_name": "main_env",
   "language": "python",
   "name": "python3"
  },
  "language_info": {
   "codemirror_mode": {
    "name": "ipython",
    "version": 3
   },
   "file_extension": ".py",
   "mimetype": "text/x-python",
   "name": "python",
   "nbconvert_exporter": "python",
   "pygments_lexer": "ipython3",
   "version": "3.1.undefined"
  }
 },
 "nbformat": 4,
 "nbformat_minor": 2
}

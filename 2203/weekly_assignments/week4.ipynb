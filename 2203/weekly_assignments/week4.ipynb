{
 "cells": [
  {
   "cell_type": "markdown",
   "metadata": {},
   "source": [
    "**Write a Python program to find the single element in a list where every element appears multiple times except for one.**<br>\n",
    "Input : [5, 3, 4, 3, 5, 5, 3],<br>\n",
    "Output : 4<br>\n",
    "\n"
   ]
  },
  {
   "cell_type": "code",
   "execution_count": 10,
   "metadata": {},
   "outputs": [
    {
     "data": {
      "text/plain": [
       "4"
      ]
     },
     "execution_count": 10,
     "metadata": {},
     "output_type": "execute_result"
    }
   ],
   "source": [
    "def find_non_repeting_element(sequence : list) -> int:\n",
    "    \n",
    "    # create a dictionary to find the count \n",
    "    count = {}\n",
    "    \n",
    "    # iterate thruogh sequence and key = elemet , value = occurance of element \n",
    "    for i in sequence:\n",
    "        count[i] = 1 + count.get(i,0)\n",
    "    \n",
    "    # iterate through the dict, since there is only one element, if found return.    \n",
    "    for k , v in count.items():\n",
    "        if v == 1: return k\n",
    "        \n",
    "    # if not found, return none\n",
    "    return None\n",
    "\n",
    "\n",
    "# input sequnce \n",
    "sequence = [5, 3, 4, 3, 5, 5, 3]\n",
    "\n",
    "# call the method \n",
    "find_non_repeting_element(sequence=sequence)"
   ]
  },
  {
   "cell_type": "markdown",
   "metadata": {},
   "source": [
    "\n",
    "Write a Python program to compute and return the square root of a given 'integer'. <br>\n",
    "Input : 16<br>\n",
    "Output : 4<br>\n",
    "Note : The returned value will be an 'integer', do not use square root functions from python.<br>\n",
    "\n",
    " "
   ]
  },
  {
   "cell_type": "code",
   "execution_count": 17,
   "metadata": {},
   "outputs": [
    {
     "name": "stdout",
     "output_type": "stream",
     "text": [
      "Square root of 49 is 7\n",
      "Square root of 64 is 8\n"
     ]
    }
   ],
   "source": [
    "def get_square_root(number : int):\n",
    "    \n",
    "    # check if given number is integer or not \n",
    "    assert isinstance(number, int) , \"The given number must be integer.\"\n",
    "    \n",
    "    # return the result \n",
    "    return int(number ** 0.5 )\n",
    "\n",
    "print(f\"Square root of 49 is {get_square_root(49)}\")\n",
    "print(f\"Square root of 64 is {get_square_root(64)}\")\n"
   ]
  },
  {
   "cell_type": "markdown",
   "metadata": {},
   "source": [
    "Write a Python program to check a sequence of numbers is a geometric progression or not. <br>\n",
    "Input : [2, 6, 18, 54]<br>\n",
    "Output : True<br>\n",
    "\n",
    "\n",
    "\n",
    "Geometric Progression: \n",
    "$$\n",
    "a,ar,ar^2,ar^3,\\ldots,ar^{n-1}\n",
    "$$\n",
    "Where\n",
    "\n",
    "$a$ is the first term,\n",
    "\n",
    "$\\cdot r$ is the common ratio,\n",
    "\n",
    "$\\cdot$ $n$ is the term number."
   ]
  },
  {
   "cell_type": "code",
   "execution_count": 23,
   "metadata": {},
   "outputs": [
    {
     "name": "stdout",
     "output_type": "stream",
     "text": [
      "The squence [5, 3, 4, 3, 5, 5, 3] is Geometric Progression\n",
      "The squence [5, 3, 4, 3, 5, 5, 3] is Geometric Progression\n",
      "The squence [5, 3, 4, 3, 5, 5, 3] is not a Geometric Progression\n"
     ]
    }
   ],
   "source": [
    "def find_geometric_progression(sequence : list ) -> int:\n",
    "    \n",
    "    assert len(sequence) > 1, \"The given sequnce must have more than 1 element.\"\n",
    "    \n",
    "    # find the ratio between any two scuessive elements \n",
    "    ratio = sequence[1] / sequence[0]\n",
    "    \n",
    "    # check if every element in the list hold this relation.\n",
    "    for i in range(1, len(sequence)):\n",
    "        # check if ration of nth and (n-1)th element is same\n",
    "        # if not, not a geometric sequence.\n",
    "        if sequence[i] / sequence[i-1] != ratio:\n",
    "            return False\n",
    "        \n",
    "    return True\n",
    "\n",
    "\n",
    "sequences = [\n",
    "    [3, 9, 27, 81],     \n",
    "    [5, 15, 45, 135],   \n",
    "    [2, 5, 10, 20],   \n",
    "]\n",
    "\n",
    "# iterate through given sequnces\n",
    "for seq in sequences:\n",
    "    \n",
    "    if find_geometric_progression(seq):\n",
    "        print(f\"The squence {sequence} is Geometric Progression\")\n",
    "    else:\n",
    "        print(f\"The squence {sequence} is not a Geometric Progression\")\n",
    "           "
   ]
  }
 ],
 "metadata": {
  "kernelspec": {
   "display_name": "main_env",
   "language": "python",
   "name": "python3"
  },
  "language_info": {
   "codemirror_mode": {
    "name": "ipython",
    "version": 3
   },
   "file_extension": ".py",
   "mimetype": "text/x-python",
   "name": "python",
   "nbconvert_exporter": "python",
   "pygments_lexer": "ipython3",
   "version": "3.12.3"
  }
 },
 "nbformat": 4,
 "nbformat_minor": 2
}

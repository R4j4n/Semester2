{
 "cells": [
  {
   "cell_type": "markdown",
   "metadata": {},
   "source": [
    "**A-Write a Python program to check if a number is a perfect square**"
   ]
  },
  {
   "cell_type": "code",
   "execution_count": 2,
   "metadata": {},
   "outputs": [
    {
     "data": {
      "text/plain": [
       "False"
      ]
     },
     "execution_count": 2,
     "metadata": {},
     "output_type": "execute_result"
    }
   ],
   "source": [
    "import math\n",
    "\n",
    "def is_perfect_square(x : int): \n",
    "\n",
    "    # check if the number is less than 0.\n",
    "    assert x > 0, \"The given number must be greater than 0.\"\n",
    "\n",
    "    # get the square root of the number.\n",
    "    root = math.sqrt(x)\n",
    "\n",
    "    # convert the number to int if the root is float.\n",
    "    root = int(root)\n",
    "\n",
    "    # check if (root)^2 is equal to x. \n",
    "    if root * root == x:\n",
    "        return True \n",
    "    else:\n",
    "        return False\n",
    "\n",
    "# call the Method\n",
    "is_perfect_square(9.4)"
   ]
  },
  {
   "cell_type": "code",
   "execution_count": 3,
   "metadata": {},
   "outputs": [
    {
     "data": {
      "text/plain": [
       "True"
      ]
     },
     "execution_count": 3,
     "metadata": {},
     "output_type": "execute_result"
    }
   ],
   "source": [
    "# call the Method\n",
    "is_perfect_square(9)"
   ]
  },
  {
   "cell_type": "markdown",
   "metadata": {},
   "source": [
    "**B- Write a Python program to find a missing number from a list.** "
   ]
  },
  {
   "cell_type": "code",
   "execution_count": 9,
   "metadata": {},
   "outputs": [
    {
     "name": "stdout",
     "output_type": "stream",
     "text": [
      "7\n"
     ]
    }
   ],
   "source": [
    "def check_missing(x : list):\n",
    "\n",
    "    # sort the input list\n",
    "    x = sorted(x)\n",
    "    # start iterating from the first number of the list and if missing, return it\n",
    "    for i , x in enumerate(x,start=x[0]):\n",
    "        # if counter != Number, return it\n",
    "        if i != x:\n",
    "            # return the number\n",
    "            return i\n",
    "\n",
    "# define the input list     \n",
    "input_list = [1,2,3,4,5,6,8,0]\n",
    "\n",
    "# call the method\n",
    "print(check_missing(input_list))"
   ]
  },
  {
   "cell_type": "markdown",
   "metadata": {},
   "source": [
    "**C- Write a Python program to find the single number in a list that doesn't occur twice.**"
   ]
  },
  {
   "cell_type": "code",
   "execution_count": 16,
   "metadata": {},
   "outputs": [
    {
     "data": {
      "text/plain": [
       "[5, 2]"
      ]
     },
     "execution_count": 16,
     "metadata": {},
     "output_type": "execute_result"
    }
   ],
   "source": [
    "def get_non_repeting( input_list : list):\n",
    "\n",
    "    # create a dicitonary to create the mapping\n",
    "    mapp = {}\n",
    "\n",
    "    # iterate throght the list\n",
    "    for item in input_list:\n",
    "\n",
    "        # if not present, give list\n",
    "        mapp[item] = 1 + mapp.get(item,0)\n",
    "    \n",
    "    # return the list of non-repeting numbers\n",
    "    return [k for k,v in mapp.items() if v == 1]\n",
    "\n",
    "# call the methods to get the non-repeting numbers\n",
    "get_non_repeting([5, 3, 4, 3, 4, 4, 4, 4, 4, 3, 2])"
   ]
  },
  {
   "cell_type": "code",
   "execution_count": null,
   "metadata": {},
   "outputs": [],
   "source": []
  }
 ],
 "metadata": {
  "kernelspec": {
   "display_name": "lambton",
   "language": "python",
   "name": "python3"
  },
  "language_info": {
   "codemirror_mode": {
    "name": "ipython",
    "version": 3
   },
   "file_extension": ".py",
   "mimetype": "text/x-python",
   "name": "python",
   "nbconvert_exporter": "python",
   "pygments_lexer": "ipython3",
   "version": "3.10.13"
  }
 },
 "nbformat": 4,
 "nbformat_minor": 2
}

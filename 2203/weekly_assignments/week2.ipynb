{
 "cells": [
  {
   "cell_type": "markdown",
   "metadata": {},
   "source": [
    "**A-Write a Python program to check if a number is a perfect square**"
   ]
  },
  {
   "cell_type": "code",
   "execution_count": 10,
   "metadata": {},
   "outputs": [
    {
     "data": {
      "text/plain": [
       "False"
      ]
     },
     "execution_count": 10,
     "metadata": {},
     "output_type": "execute_result"
    }
   ],
   "source": [
    "import math\n",
    "\n",
    "def is_perfect_square(x : int): \n",
    "\n",
    "    # check if the number is less than 0.\n",
    "    assert x > 0, \"The given number must be greater than 0.\"\n",
    "\n",
    "    # get the square root of the number.\n",
    "    root = math.sqrt(x)\n",
    "\n",
    "    # convert the number to int if the root is float.\n",
    "    root = int(root)\n",
    "\n",
    "    # check if (root)^2 is equal to x. \n",
    "    if root * root == x:\n",
    "        return True \n",
    "    else:\n",
    "        return False\n",
    "\n",
    "# call the Method\n",
    "is_perfect_square(9.4)"
   ]
  },
  {
   "cell_type": "code",
   "execution_count": 11,
   "metadata": {},
   "outputs": [
    {
     "data": {
      "text/plain": [
       "True"
      ]
     },
     "execution_count": 11,
     "metadata": {},
     "output_type": "execute_result"
    }
   ],
   "source": [
    "# call the Method\n",
    "is_perfect_square(9)"
   ]
  },
  {
   "cell_type": "markdown",
   "metadata": {},
   "source": [
    "**B- Write a Python program to find a missing number from a list.** "
   ]
  },
  {
   "cell_type": "code",
   "execution_count": 15,
   "metadata": {},
   "outputs": [],
   "source": [
    "def check_missing(x : list):\n",
    "\n",
    "    # iterate over the list \n",
    "    # if contains 0, iterate from 0 else iterate from 1\n",
    "    x = sorted(x)\n",
    "    for i , x in enumerate(x,start=x[0]):\n",
    "        if i != x:\n",
    "            return i"
   ]
  },
  {
   "cell_type": "code",
   "execution_count": 16,
   "metadata": {},
   "outputs": [],
   "source": [
    "input_list = [1,2,3,4,6,7,8,0]"
   ]
  },
  {
   "cell_type": "code",
   "execution_count": 17,
   "metadata": {},
   "outputs": [
    {
     "data": {
      "text/plain": [
       "5"
      ]
     },
     "execution_count": 17,
     "metadata": {},
     "output_type": "execute_result"
    }
   ],
   "source": [
    "check_missing(input_list)"
   ]
  },
  {
   "cell_type": "code",
   "execution_count": null,
   "metadata": {},
   "outputs": [],
   "source": []
  }
 ],
 "metadata": {
  "kernelspec": {
   "display_name": "lambton",
   "language": "python",
   "name": "python3"
  },
  "language_info": {
   "codemirror_mode": {
    "name": "ipython",
    "version": 3
   },
   "file_extension": ".py",
   "mimetype": "text/x-python",
   "name": "python",
   "nbconvert_exporter": "python",
   "pygments_lexer": "ipython3",
   "version": "3.9.18"
  }
 },
 "nbformat": 4,
 "nbformat_minor": 2
}

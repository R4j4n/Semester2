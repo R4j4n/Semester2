{
 "cells": [
  {
   "cell_type": "markdown",
   "metadata": {},
   "source": [
    "Q1) Given two non-negative integers num1 and num2 represented as strings, return the product of num1 and num2, also represented as a string.\n",
    "\n",
    "Note: You must not use any built-in BigInteger library or convert the inputs to integer directly.\n",
    "\n",
    " \n",
    "\n",
    "Example 1:\n",
    "\n",
    "Input: num1 = \"2\", num2 = \"3\"\n",
    "\n",
    "Output: \"6\""
   ]
  },
  {
   "cell_type": "code",
   "execution_count": 26,
   "metadata": {},
   "outputs": [
    {
     "name": "stdout",
     "output_type": "stream",
     "text": [
      "5755 * 4780 == 27508900\n",
      "27508900\n",
      "4036 * 3057 == 12338052\n",
      "12338052\n",
      "1248 * 6104 == 7617792\n",
      "7617792\n"
     ]
    }
   ],
   "source": [
    "import random\n",
    "import unittest\n",
    "\n",
    "def multiply_two_strings(num1: str, num2 : str)-> str:\n",
    "    \n",
    "    # check if any of the number in 0:\n",
    "    if '0' in [num1 , num2]:\n",
    "        return '0'\n",
    "    \n",
    "    # length of the reuslt \n",
    "    result = [0] * ((len(num1) + len(num1)))\n",
    "    \n",
    "    num1, num2 = num1[::-1], num2[::-1] \n",
    "    \n",
    "    for i in range(len(num1)):\n",
    "        for j in range(len(num2)):\n",
    "            \n",
    "            digit = int(num1[i]) * int(num2[j])\n",
    "            \n",
    "    \n",
    "            \n",
    "            result[i+j] += digit\n",
    "            result[i+j+1] += (result[i+j] // 10)\n",
    "            result[i+j] = result[i+j] % 10\n",
    "\n",
    "    result = result[::-1]\n",
    "    if result[0] == 0:\n",
    "        result = result[1:]\n",
    "        \n",
    "    return \"\".join([str(x) for x in result])\n",
    "\n",
    "\n",
    "for _ in range(3):\n",
    "    num1= random.randint(a=1,b=9999)\n",
    "    num2= random.randint(a=1,b=9999)\n",
    "    print(f\"{num1} * {num2} == {num2 * num1}\")\n",
    "    print(multiply_two_strings(str(num1),str(num2)))\n"
   ]
  },
  {
   "cell_type": "markdown",
   "metadata": {},
   "source": [
    ") The count-and-say sequence is a sequence of digit strings defined by the recursive formula:\n",
    "\n",
    "countAndSay(1) = \"1\"\n",
    "countAndSay(n) is the way you would \"say\" the digit string from countAndSay(n-1), which is then converted into a different digit string."
   ]
  },
  {
   "cell_type": "code",
   "execution_count": 64,
   "metadata": {},
   "outputs": [
    {
     "data": {
      "text/plain": [
       "'1211'"
      ]
     },
     "execution_count": 64,
     "metadata": {},
     "output_type": "execute_result"
    }
   ],
   "source": [
    "\n",
    "def convert_count_(s):\n",
    "    \n",
    "    result = \"\"\n",
    "    count = 1\n",
    "    for i in range(len(s)-1):\n",
    "        if s[i] == s[i+1]:\n",
    "            count +=1\n",
    "            \n",
    "        else:\n",
    "            result = result + str(count) + str(s[i])\n",
    "            count = 1\n",
    "        \n",
    "    # add last digit \n",
    "    result = result + str(count) + str(s[-1])\n",
    "    \n",
    "    return result\n",
    "        \n",
    "        \n",
    "def solve(n):\n",
    "    if n==1:\n",
    "        return \"1\"\n",
    "    counter = 2\n",
    "    ans = \"1\"\n",
    "    while counter <= n:\n",
    "        ans = convert_count_(s=ans)\n",
    "\n",
    "        counter +=1\n",
    "\n",
    "    return ans\n",
    "\n",
    "solve(4)"
   ]
  },
  {
   "cell_type": "code",
   "execution_count": 127,
   "metadata": {},
   "outputs": [],
   "source": [
    "def mul_2_string(s1,s2):\n",
    "    if \"0\" in [s1,s2]:\n",
    "        return \"0\"\n",
    "\n",
    "    result = [0] * (len(s1) + len(s2))\n",
    "    s1,s2 = s1[::-1],s2[::-1]\n",
    "    for i in range(len(s1)):\n",
    "        for j in range(len(s2)):\n",
    "            \n",
    "            # get the digit\n",
    "            digit = int(s1[i]) * int(s2[j])\n",
    "            \n",
    "            result[i+j] += digit\n",
    "            result[i+j+1]= (result[i+j]) // 10\n",
    "            result[i+j]= (result[i+j]) % 10\n",
    "    \n",
    "    \n",
    "    print(result[::-1])\n",
    "            "
   ]
  },
  {
   "cell_type": "code",
   "execution_count": 128,
   "metadata": {},
   "outputs": [
    {
     "name": "stdout",
     "output_type": "stream",
     "text": [
      "[0, 1, 4, 4]\n"
     ]
    }
   ],
   "source": [
    "mul_2_string(s1=\"12\",s2=\"12\")"
   ]
  },
  {
   "cell_type": "code",
   "execution_count": 1,
   "metadata": {},
   "outputs": [],
   "source": [
    "def solver(s : str):\n",
    "    count = 1 \n",
    "    answer = \"\"\n",
    "    \n",
    "    for i in range(len(s)-1):\n",
    "        if s[i] == s[i+1]:\n",
    "            count += 1\n",
    "        else:\n",
    "            answer = answer + str(count) + str(s[i])\n",
    "            count = 1\n",
    "    \n",
    "    answer = answer + str(count) + str(s[-1])\n",
    "    \n",
    "    return answer\n",
    "    "
   ]
  },
  {
   "cell_type": "code",
   "execution_count": 3,
   "metadata": {},
   "outputs": [
    {
     "data": {
      "text/plain": [
       "'3a2b2c1a'"
      ]
     },
     "execution_count": 3,
     "metadata": {},
     "output_type": "execute_result"
    }
   ],
   "source": [
    "solver(\"aaabbcca\")"
   ]
  },
  {
   "cell_type": "code",
   "execution_count": 4,
   "metadata": {},
   "outputs": [],
   "source": [
    "import numpy as np"
   ]
  },
  {
   "cell_type": "code",
   "execution_count": 6,
   "metadata": {},
   "outputs": [
    {
     "data": {
      "text/plain": [
       "array([ 1.        ,  1.55102041,  2.10204082,  2.65306122,  3.20408163,\n",
       "        3.75510204,  4.30612245,  4.85714286,  5.40816327,  5.95918367,\n",
       "        6.51020408,  7.06122449,  7.6122449 ,  8.16326531,  8.71428571,\n",
       "        9.26530612,  9.81632653, 10.36734694, 10.91836735, 11.46938776,\n",
       "       12.02040816, 12.57142857, 13.12244898, 13.67346939, 14.2244898 ,\n",
       "       14.7755102 , 15.32653061, 15.87755102, 16.42857143, 16.97959184,\n",
       "       17.53061224, 18.08163265, 18.63265306, 19.18367347, 19.73469388,\n",
       "       20.28571429, 20.83673469, 21.3877551 , 21.93877551, 22.48979592,\n",
       "       23.04081633, 23.59183673, 24.14285714, 24.69387755, 25.24489796,\n",
       "       25.79591837, 26.34693878, 26.89795918, 27.44897959, 28.        ])"
      ]
     },
     "execution_count": 6,
     "metadata": {},
     "output_type": "execute_result"
    }
   ],
   "source": [
    "np.arange(1,28)"
   ]
  },
  {
   "cell_type": "code",
   "execution_count": 12,
   "metadata": {},
   "outputs": [],
   "source": [
    "class X:\n",
    "    def __init__(self) -> None:\n",
    "        self.value = np.ndarray([1,2,3])\n",
    "    \n",
    "    def __str__(self) -> str:\n",
    "        return str(self.value)\n",
    "    \n",
    "    # def __repr__(self) -> str:\n",
    "    #     return self.value(str)"
   ]
  },
  {
   "cell_type": "code",
   "execution_count": 13,
   "metadata": {},
   "outputs": [],
   "source": [
    "x = X()"
   ]
  },
  {
   "cell_type": "code",
   "execution_count": 14,
   "metadata": {},
   "outputs": [
    {
     "name": "stdout",
     "output_type": "stream",
     "text": [
      "[[[1.14155722e-313 0.00000000e+000 6.92910763e-310]\n",
      "  [6.92910763e-310 6.92910763e-310 4.67581765e-310]]]\n"
     ]
    }
   ],
   "source": [
    "print(x)"
   ]
  },
  {
   "cell_type": "code",
   "execution_count": 15,
   "metadata": {},
   "outputs": [
    {
     "name": "stdout",
     "output_type": "stream",
     "text": [
      "[0, 1]\n",
      "None\n",
      "[3, 2, 1, 0, 1, 4]\n",
      "None\n",
      "[0, 1, 0, 1, 4]\n",
      "None\n"
     ]
    }
   ],
   "source": [
    "def f(x, l=[]):\n",
    "    for i in range(x):\n",
    "        l.append(i*i)\n",
    "    print(l)\n",
    "\n",
    "print(f(2))\n",
    "print(f(3, [3, 2, 1]))\n",
    "print(f(3))"
   ]
  },
  {
   "cell_type": "code",
   "execution_count": null,
   "metadata": {},
   "outputs": [],
   "source": []
  }
 ],
 "metadata": {
  "kernelspec": {
   "display_name": "main_env",
   "language": "python",
   "name": "python3"
  },
  "language_info": {
   "codemirror_mode": {
    "name": "ipython",
    "version": 3
   },
   "file_extension": ".py",
   "mimetype": "text/x-python",
   "name": "python",
   "nbconvert_exporter": "python",
   "pygments_lexer": "ipython3",
   "version": "3.12.3"
  }
 },
 "nbformat": 4,
 "nbformat_minor": 2
}

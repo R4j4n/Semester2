{
 "cells": [
  {
   "cell_type": "markdown",
   "metadata": {},
   "source": [
    "Write a Python program to find all the numbers from 0-9 from a string: <br>\n",
    "\n",
    "input: '89ADFRE41'\n",
    "\n",
    "Output :[8941]\n"
   ]
  },
  {
   "cell_type": "code",
   "execution_count": 7,
   "metadata": {},
   "outputs": [
    {
     "name": "stdout",
     "output_type": "stream",
     "text": [
      "[8941]\n"
     ]
    }
   ],
   "source": [
    "import re \n",
    "\n",
    "def find_all_num(input_string : str):\n",
    "    # get all numbers from the input string\n",
    "    numbers = re.findall(r'\\d', input_string)\n",
    "    # return as the proviede format.\n",
    "    return [int(\"\".join(numbers))]\n",
    "\n",
    "# calling the method\n",
    "print(find_all_num(\"89ADFRE41\"))"
   ]
  },
  {
   "cell_type": "markdown",
   "metadata": {},
   "source": [
    "\n",
    "Write a Python program to reverse the digits of an integer. <br>\n",
    "Input : 234 <br>\n",
    "Input : -234 <br>\n",
    "Output: 432 <br>\n",
    "Output : -432 <br>"
   ]
  },
  {
   "cell_type": "code",
   "execution_count": 16,
   "metadata": {},
   "outputs": [
    {
     "name": "stdout",
     "output_type": "stream",
     "text": [
      "Input : 123  Output : 321\n",
      "Input : -213  Output : -312\n",
      "Input : 432  Output : 234\n"
     ]
    }
   ],
   "source": [
    "def reverse_sing(input_num : int):\n",
    "    \n",
    "    # check if given input is num \n",
    "    assert isinstance(input_num, int), \"Please provide integer input only.\"\n",
    "    \n",
    "    # check if number is negative \n",
    "    is_negative = True if input_num < 0 else False\n",
    "    \n",
    "    # convert int to string and string back to int\n",
    "    reversed = int( \n",
    "                   str(abs(input_num))[::-1]\n",
    "                    )\n",
    "\n",
    "    return -1 * reversed if is_negative else reversed\n",
    "    \n",
    "\n",
    "input_nums = [123,-213,432]\n",
    "for i in input_nums:\n",
    "    print(f\"Input : {i}  Output : {reverse_sing(i)}\")\n",
    "    "
   ]
  },
  {
   "cell_type": "markdown",
   "metadata": {},
   "source": [
    "Write a Python program to find two elements once in a list where every element appears exactly n times in the list. <br>\n",
    "Input : [1, 2, 1, 3, 2, 5], 2    (n=2) <br>\n",
    "Output :[5, 3] <br>"
   ]
  },
  {
   "cell_type": "code",
   "execution_count": 24,
   "metadata": {},
   "outputs": [
    {
     "name": "stdout",
     "output_type": "stream",
     "text": [
      "Input : [3, 5, 5, 7, 4, 19, 19, 9, 8, 17] N-occurance 2 Output : [5, 19]\n",
      "Input : [10, 9, 3, 18, 1, 5, 19, 15, 2, 20] N-occurance 2 Output : []\n",
      "Input : [6, 9, 13, 1, 13, 17, 10, 7, 15, 11] N-occurance 2 Output : [13]\n",
      "Input : [10, 12, 16, 16, 8, 16, 6, 19, 9, 1] N-occurance 2 Output : []\n",
      "Input : [17, 19, 1, 17, 19, 3, 16, 10, 2, 15] N-occurance 2 Output : [17, 19]\n"
     ]
    }
   ],
   "source": [
    "import random\n",
    "def find_n_occurance(input_list : list, n : int) -> list:\n",
    "    \n",
    "    # resultant list \n",
    "    result = []\n",
    "    # dict to count occurance \n",
    "    mapp = {}\n",
    "    \n",
    "    # iterate and get the count\n",
    "    for i in input_list:\n",
    "        mapp[i] = 1 + mapp.get(i , 0)\n",
    "    \n",
    "    # get the values with specefic counts 'n'\n",
    "    for k , v in mapp.items():\n",
    "        if v == n:\n",
    "            result.append(k)\n",
    "            \n",
    "    # return the result  \n",
    "    return result\n",
    "\n",
    "\n",
    "# The n occurance \n",
    "N = 2\n",
    "# generate random list 5 times \n",
    "for _ in range(5):\n",
    "    ipt_list = [random.randint(a=1,b=20) for _ in range(10)]\n",
    "    print(f\"Input : {ipt_list} N-occurance {N} Output : {find_n_occurance(ipt_list, n= N)}\")\n",
    "    \n",
    "    \n",
    "        \n",
    "        \n"
   ]
  },
  {
   "cell_type": "code",
   "execution_count": null,
   "metadata": {},
   "outputs": [],
   "source": []
  }
 ],
 "metadata": {
  "kernelspec": {
   "display_name": "gpt",
   "language": "python",
   "name": "python3"
  },
  "language_info": {
   "codemirror_mode": {
    "name": "ipython",
    "version": 3
   },
   "file_extension": ".py",
   "mimetype": "text/x-python",
   "name": "python",
   "nbconvert_exporter": "python",
   "pygments_lexer": "ipython3",
   "version": "3.12.3"
  }
 },
 "nbformat": 4,
 "nbformat_minor": 2
}

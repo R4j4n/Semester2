{
 "cells": [
  {
   "cell_type": "markdown",
   "metadata": {},
   "source": [
    "Q1Given a signed 32-bit integer x, return x with its digits reversed. If reversing x causes the value to go outside the signed 32-bit integer range [-231, 231 - 1], then return 0."
   ]
  },
  {
   "cell_type": "code",
   "execution_count": 1,
   "metadata": {},
   "outputs": [],
   "source": [
    "def reverse_integer( x : int) -> int:\n",
    "    \n",
    "    is_neg = x < 0\n",
    "    result = 0\n",
    "    x = abs(x)\n",
    "    while x > 0: \n",
    "        result = result * 10 + (x % 10)\n",
    "        x = x // 10\n",
    "        \n",
    "    return - 1 * result if is_neg else result"
   ]
  },
  {
   "cell_type": "code",
   "execution_count": 2,
   "metadata": {},
   "outputs": [
    {
     "data": {
      "text/plain": [
       "-1412321"
      ]
     },
     "execution_count": 2,
     "metadata": {},
     "output_type": "execute_result"
    }
   ],
   "source": [
    "reverse_integer(-1232141)"
   ]
  },
  {
   "cell_type": "markdown",
   "metadata": {},
   "source": [
    "Example 1:\n",
    "\n",
    "Input: x = 123\n",
    "\n",
    "Output: 321\n",
    "\n",
    "Q2 You are given an n x n 2D matrix representing an image, rotate the image by 90 degrees (clockwise).\n",
    "\n",
    "You have to rotate the image in-place, which means you have to modify the input 2D matrix directly. DO NOT allocate another 2D matrix and do the rotation.\n",
    "\n",
    " \n",
    "\n",
    "Example 1:\n",
    "\n",
    "\n",
    "\n",
    "Input: matrix = [[1,2,3],[4,5,6],[7,8,9]]\n",
    "\n",
    "Output: [[7,4,1],[8,5,2],[9,6,3]]"
   ]
  },
  {
   "cell_type": "code",
   "execution_count": 4,
   "metadata": {},
   "outputs": [
    {
     "data": {
      "text/plain": [
       "array([[7, 4, 1],\n",
       "       [8, 5, 2],\n",
       "       [9, 6, 3]])"
      ]
     },
     "execution_count": 4,
     "metadata": {},
     "output_type": "execute_result"
    }
   ],
   "source": [
    "import numpy as np\n",
    "def rotate_a_matrix(m): \n",
    "    \n",
    "    # rotation by 90 : transpose + reflection\n",
    "    # in-place transpose \n",
    "    n = len(m)\n",
    "    \n",
    "    for i in range(n):\n",
    "        for j in range(i,n):\n",
    "            m[i][j], m[j][i] = m[j][i], m[i][j]\n",
    "            \n",
    "\n",
    "    # performing reflection\n",
    "    for i in range(n):\n",
    "        for j in range(n//2):\n",
    "            m[i][j], m[i][n-j-1] =  m[i][n-j-1], m[i][j]\n",
    "    \n",
    "    return m    \n",
    "       \n",
    "matrix1 = [\n",
    "    [1, 2, 3],\n",
    "    [4, 5, 6],\n",
    "    [7, 8, 9]\n",
    "]\n",
    "\n",
    "np.array(rotate_a_matrix(matrix1))"
   ]
  },
  {
   "cell_type": "code",
   "execution_count": null,
   "metadata": {},
   "outputs": [],
   "source": []
  }
 ],
 "metadata": {
  "kernelspec": {
   "display_name": "main_env",
   "language": "python",
   "name": "python3"
  },
  "language_info": {
   "codemirror_mode": {
    "name": "ipython",
    "version": 3
   },
   "file_extension": ".py",
   "mimetype": "text/x-python",
   "name": "python",
   "nbconvert_exporter": "python",
   "pygments_lexer": "ipython3",
   "version": "3.12.3"
  }
 },
 "nbformat": 4,
 "nbformat_minor": 2
}

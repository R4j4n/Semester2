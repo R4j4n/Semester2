{
 "cells": [
  {
   "cell_type": "markdown",
   "metadata": {},
   "source": [
    "Q1: A phrase is a palindrome if, after converting all uppercase letters into lowercase letters and removing all non-alphanumeric characters, it reads the same forward and backward. Alphanumeric characters include letters and numbers. Given a string s, return true if it is a palindrome, or false otherwise.\n",
    "\n",
    "Example 1:\n",
    "\n",
    "Input: s = \"A man, a plan, a canal: Panama\"\n",
    "\n",
    "Output: true\n",
    "\n",
    "Explanation: \"amanaplanacanalpanama\" is a palindrome.\n",
    "\n",
    "Example 2:\n",
    "\n",
    "Input: s = \"race a car\"\n",
    "\n",
    "Output: false\n",
    "\n",
    "Explanation: \"raceacar\" is not a palindrome."
   ]
  },
  {
   "cell_type": "code",
   "execution_count": 21,
   "metadata": {},
   "outputs": [
    {
     "name": "stdout",
     "output_type": "stream",
     "text": [
      "True\n",
      "False\n"
     ]
    }
   ],
   "source": [
    "import re\n",
    "import string\n",
    "def check_palindrome_string(input_str):\n",
    "\n",
    "    # clean the input string and remove white space \n",
    "    cleaned = \"\".join(re.findall(r\"\\w+\",input_str.lower()))\n",
    "    \n",
    "    # reverse the string and if true return\n",
    "    return True if cleaned == cleaned[::-1] else False\n",
    "\n",
    "# check if palindrome\n",
    "print(check_palindrome_string(\"A man, a plan, a canal: Panama\"))\n",
    "print(check_palindrome_string(\"race a car\"))"
   ]
  },
  {
   "cell_type": "markdown",
   "metadata": {},
   "source": [
    "Q2 Given an array nums of size n, return the majority element. The majority element is the element that appears more than ⌊n / 2⌋ times. You may assume that the majority element always exists in the array.\n",
    "\n",
    "Example 1:\n",
    "\n",
    "Input: nums = [3,2,3]\n",
    "\n",
    "Output: 3\n",
    "\n",
    "Example 2:\n",
    "\n",
    "Input: nums = [2,2,1,1,1,2,2]\n",
    "\n",
    "Output: 2"
   ]
  },
  {
   "cell_type": "code",
   "execution_count": 22,
   "metadata": {},
   "outputs": [
    {
     "name": "stdout",
     "output_type": "stream",
     "text": [
      "2\n"
     ]
    }
   ],
   "source": [
    "def get_majority(input_list):\n",
    "\n",
    "    # counter to count occurrence\n",
    "    couter = {}\n",
    "\n",
    "\n",
    "    # iterate over the input list \n",
    "    for word in input_list:\n",
    "        couter[str(word)] = 1 + couter.get(str(word), 0)\n",
    "\n",
    "    # check get the percentage and return. \n",
    "    for k , v in couter.items():\n",
    "        if v / len(input_list) > 0.5: return k\n",
    "\n",
    "\n",
    "print(get_majority([2,2,1,1,1,2,2]))"
   ]
  },
  {
   "cell_type": "markdown",
   "metadata": {},
   "source": [
    "Q3 Write an algorithm to determine if a number n is happy. A happy number is a number defined by the following process:\n",
    "\n",
    "Starting with any positive integer, replace the number by the sum of the squares of its digits.\n",
    "Repeat the process until the number equals 1 (where it will stay), or it loops endlessly in a cycle which does not include 1.\n",
    "Those numbers for which this process ends in 1 are happy.\n",
    "Return true if n is a happy number, and false if not.\n",
    "\n",
    " Example 1:\n",
    "\n",
    "Input: n = 19\n",
    "\n",
    "Output: true\n",
    "\n",
    "Explanation:\n",
    "\n",
    "12 + 92 = 82\n",
    "\n",
    "82 + 22 = 68\n",
    "\n",
    "62 + 82 = 100\n",
    "\n",
    "12 + 02 + 02 = 1\n",
    "\n",
    "Example 2:\n",
    "\n",
    "Input: n = 2\n",
    "\n",
    "Output: false"
   ]
  },
  {
   "cell_type": "code",
   "execution_count": 41,
   "metadata": {},
   "outputs": [
    {
     "data": {
      "text/plain": [
       "True"
      ]
     },
     "execution_count": 41,
     "metadata": {},
     "output_type": "execute_result"
    }
   ],
   "source": [
    " \n",
    "def check_happy_number(number):\n",
    "  \n",
    "    counter = 1000\n",
    "    while counter != 0:\n",
    "        # split the number \n",
    "        splitted = list(map(int, str(number)))\n",
    "\n",
    "        number = 0\n",
    "        for i in splitted:\n",
    "            number += i**2\n",
    "\n",
    "        if number == 1: \n",
    "            return True\n",
    "        else:\n",
    "            counter -= 1\n",
    "    \n",
    "    return False\n",
    "\n",
    "check_happy_number(19)\n"
   ]
  }
 ],
 "metadata": {
  "kernelspec": {
   "display_name": "gpu_env",
   "language": "python",
   "name": "python3"
  },
  "language_info": {
   "codemirror_mode": {
    "name": "ipython",
    "version": 3
   },
   "file_extension": ".py",
   "mimetype": "text/x-python",
   "name": "python",
   "nbconvert_exporter": "python",
   "pygments_lexer": "ipython3",
   "version": "3.1.undefined"
  }
 },
 "nbformat": 4,
 "nbformat_minor": 2
}

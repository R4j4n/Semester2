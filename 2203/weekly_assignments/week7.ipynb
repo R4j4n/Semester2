{
 "cells": [
  {
   "cell_type": "markdown",
   "metadata": {},
   "source": [
    "**Q1**\n",
    "Given an integer x, return true if x is palindrome integer.\n",
    "An integer is a palindrome when it reads the same backward as forward.\n",
    "For example, 121 is a palindrome while 123 is not.\n",
    " "
   ]
  },
  {
   "cell_type": "code",
   "execution_count": 10,
   "metadata": {},
   "outputs": [],
   "source": [
    "def check_if_int_palindrome(x : int) -> bool:\n",
    "    \n",
    "    # check if input is strictly int \n",
    "    assert isinstance(x , int), \"Sorry, only integer is supported.\"\n",
    "    \n",
    "    # convert to string and reverse and check \n",
    "    int_str = str(x)\n",
    "    \n",
    "    # check reverse exist \n",
    "    if int_str == int_str[::-1]:\n",
    "        return True\n",
    "    \n",
    "\n",
    "    return False"
   ]
  },
  {
   "cell_type": "code",
   "execution_count": 12,
   "metadata": {},
   "outputs": [
    {
     "name": "stdout",
     "output_type": "stream",
     "text": [
      "The givne number 1331 is a palindrome : True\n",
      "The givne number 1131 is a palindrome : False\n"
     ]
    }
   ],
   "source": [
    "# lets check for palindrome \n",
    "input_num = 1331\n",
    "print(f\"The givne number {input_num} is a palindrome : {check_if_int_palindrome(input_num)}\")\n",
    "\n",
    "\n",
    "# lets check for palindrome \n",
    "input_num = 1131\n",
    "print(f\"The givne number {input_num} is a palindrome : {check_if_int_palindrome(input_num)}\")"
   ]
  },
  {
   "cell_type": "markdown",
   "metadata": {},
   "source": [
    "**Q2**\n",
    "\n",
    "Roman numerals are represented by seven different symbols: I, V, X, L, C, D and M.\n",
    "\n",
    "Symbol       Value\n",
    "\n",
    "I             1\n",
    "\n",
    "V             5\n",
    "\n",
    "X             10\n",
    "\n",
    "L             50\n",
    "\n",
    "C             100\n",
    "\n",
    "D             500\n",
    "\n",
    "M             1000\n",
    "\n",
    "For example, 2 is written as II in Roman numeral, just two ones added together. 12 is written as XII, which is simply X + II. The number 27 is written as XXVII, which is XX + V + II.\n",
    "\n",
    "Roman numerals are usually written largest to smallest from left to right. However, the numeral for four is not IIII. Instead, the number four is written as IV. Because the one is before the five we subtract it making four. The same principle applies to the number nine, which is written as IX. There are six instances where subtraction is used:\n",
    "\n",
    "I can be placed before V (5) and X (10) to make 4 and 9. \n",
    "X can be placed before L (50) and C (100) to make 40 and 90. \n",
    "C can be placed before D (500) and M (1000) to make 400 and 900.\n",
    "Given a roman numeral, convert it to an integer.\n",
    "\n",
    "Example 1:\n",
    "\n",
    "Input: s = \"III\"\n",
    "\n",
    "Output: 3\n",
    "\n",
    "Explanation: III = 3.\n",
    "\n",
    " \n",
    "\n",
    "Input: s = \"LVIII\"\n",
    "\n",
    "Output: 58\n",
    "\n",
    "Explanation: L = 50, V= 5, III = 3.\n",
    "\n"
   ]
  },
  {
   "cell_type": "code",
   "execution_count": 16,
   "metadata": {},
   "outputs": [],
   "source": [
    "\n",
    "from typing import Any\n",
    "\n",
    "\n",
    "class RomantoInteger:\n",
    "    \n",
    "    def __init__(self) -> None:\n",
    "        self.roman_to_int ={\n",
    "        'I': 1,\n",
    "        'V': 5,\n",
    "        'X': 10,\n",
    "        'L': 50,\n",
    "        'C': 100,\n",
    "        'D': 500,\n",
    "        'M': 1000\n",
    "    }\n",
    "\n",
    "    def __call__(self, roman_str) -> int:\n",
    "\n",
    "        # initialize roman and previous value to \n",
    "        result = 0\n",
    "        prev_value = 0\n",
    "\n",
    "        # reverse the string and start from last\n",
    "        for char in roman_str[::-1]:\n",
    "            \n",
    "            # for last str, get the corresponing num\n",
    "            value = self.roman_to_int[char]\n",
    "            # check if value is less than prev.\n",
    "            if value < prev_value:\n",
    "                # reduce value from result\n",
    "                result -= value\n",
    "            else:\n",
    "                # add value to result\n",
    "                result += value\n",
    "            prev_value = value\n",
    "\n",
    "        return result"
   ]
  },
  {
   "cell_type": "code",
   "execution_count": 17,
   "metadata": {},
   "outputs": [],
   "source": [
    "# initialize the object \n",
    "converter = RomantoInteger()"
   ]
  },
  {
   "cell_type": "code",
   "execution_count": 19,
   "metadata": {},
   "outputs": [
    {
     "name": "stdout",
     "output_type": "stream",
     "text": [
      "Roman : XIII Integer 13\n",
      "Roman : MCMXCIV Integer 1994\n"
     ]
    }
   ],
   "source": [
    "# convert the value\n",
    "print(f\"Roman : XIII Integer {converter(roman_str=\"XIII\")}\")\n",
    "print(f\"Roman : MCMXCIV Integer {converter(roman_str=\"MCMXCIV\")}\")\n"
   ]
  }
 ],
 "metadata": {
  "kernelspec": {
   "display_name": "gpt_builder",
   "language": "python",
   "name": "python3"
  },
  "language_info": {
   "codemirror_mode": {
    "name": "ipython",
    "version": 3
   },
   "file_extension": ".py",
   "mimetype": "text/x-python",
   "name": "python",
   "nbconvert_exporter": "python",
   "pygments_lexer": "ipython3",
   "version": "3.1.undefined"
  }
 },
 "nbformat": 4,
 "nbformat_minor": 2
}

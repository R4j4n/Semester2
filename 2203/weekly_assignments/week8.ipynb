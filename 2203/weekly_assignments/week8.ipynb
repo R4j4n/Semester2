{
 "cells": [
  {
   "cell_type": "markdown",
   "metadata": {},
   "source": [
    "Q1. Write a function to find the longest common prefix string amongst an array of strings.<br>\n",
    "\n",
    "If there is no common prefix, return an empty string \"\".\n",
    "\n",
    " \n",
    "\n",
    "Example 1:\n",
    "\n",
    "Input: strs = [\"flower\",\"flow\",\"flight\"]\n",
    "\n",
    "Output: \"fl\""
   ]
  },
  {
   "cell_type": "code",
   "execution_count": 13,
   "metadata": {},
   "outputs": [
    {
     "data": {
      "text/plain": [
       "'f'"
      ]
     },
     "execution_count": 13,
     "metadata": {},
     "output_type": "execute_result"
    }
   ],
   "source": [
    "input_string = [\"flower\",\"flow\",\"free\", \"flow\"]\n",
    "\n",
    "def find_common_beginning(input_list):\n",
    "\n",
    "    # sort and get the sorest \n",
    "    shortest = sorted(input_string, key=len)[0]\n",
    "\n",
    "    # iterate over each of the character\n",
    "    for i , char in enumerate(shortest):\n",
    "\n",
    "        # iterate over the word list\n",
    "        for word in input_list:\n",
    "            \n",
    "            # if char doesnot match at any index \n",
    "            if word[i] != char:\n",
    "                \n",
    "                # return up to char\n",
    "                 return shortest[:i]\n",
    "\n",
    "\n",
    "find_common_beginning(input_string)"
   ]
  },
  {
   "cell_type": "markdown",
   "metadata": {},
   "source": [
    "Q2. Given an array nums of size n, return the majority element. <br>\n",
    "\n",
    "The majority element is the element that appears more than ⌊n / 2⌋ times. You may assume that the majority element always exists in the array.<br>\n",
    "\n",
    " \n",
    "\n",
    "Example 1:\n",
    "\n",
    "Input: nums = [3,2,3]\n",
    "\n",
    "Output: 3"
   ]
  },
  {
   "cell_type": "code",
   "execution_count": 21,
   "metadata": {},
   "outputs": [
    {
     "name": "stdout",
     "output_type": "stream",
     "text": [
      "2\n"
     ]
    }
   ],
   "source": [
    "def get_majority(input_list):\n",
    "\n",
    "    # counter to count occurrence\n",
    "    couter = {}\n",
    "\n",
    "\n",
    "    # iterate over the input list \n",
    "    for word in input_list:\n",
    "        couter[str(word)] = 1 + couter.get(str(word), 0)\n",
    "\n",
    "    # check get the percentage and return. \n",
    "    for k , v in couter.items():\n",
    "        if v / len(input_list) > 0.5: return k\n",
    "\n",
    "\n",
    "print(get_majority([2,2,3]))"
   ]
  },
  {
   "cell_type": "code",
   "execution_count": null,
   "metadata": {},
   "outputs": [],
   "source": []
  }
 ],
 "metadata": {
  "kernelspec": {
   "display_name": "Python 3",
   "language": "python",
   "name": "python3"
  },
  "language_info": {
   "codemirror_mode": {
    "name": "ipython",
    "version": 3
   },
   "file_extension": ".py",
   "mimetype": "text/x-python",
   "name": "python",
   "nbconvert_exporter": "python",
   "pygments_lexer": "ipython3",
   "version": "3.12.4"
  }
 },
 "nbformat": 4,
 "nbformat_minor": 2
}

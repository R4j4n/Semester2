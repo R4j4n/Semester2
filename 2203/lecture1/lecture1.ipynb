{
 "cells": [
  {
   "cell_type": "code",
   "execution_count": 23,
   "metadata": {},
   "outputs": [
    {
     "data": {
      "text/html": [
       "<div>\n",
       "<style scoped>\n",
       "    .dataframe tbody tr th:only-of-type {\n",
       "        vertical-align: middle;\n",
       "    }\n",
       "\n",
       "    .dataframe tbody tr th {\n",
       "        vertical-align: top;\n",
       "    }\n",
       "\n",
       "    .dataframe thead th {\n",
       "        text-align: right;\n",
       "    }\n",
       "</style>\n",
       "<table border=\"1\" class=\"dataframe\">\n",
       "  <thead>\n",
       "    <tr style=\"text-align: right;\">\n",
       "      <th></th>\n",
       "      <th>Unnamed: 0</th>\n",
       "      <th>vichle_names</th>\n",
       "      <th>mpg</th>\n",
       "      <th>cyl</th>\n",
       "      <th>disp</th>\n",
       "      <th>hp</th>\n",
       "      <th>drat</th>\n",
       "      <th>wt</th>\n",
       "      <th>qsec</th>\n",
       "      <th>v_Shape</th>\n",
       "      <th>am</th>\n",
       "      <th>gear</th>\n",
       "      <th>carb</th>\n",
       "    </tr>\n",
       "  </thead>\n",
       "  <tbody>\n",
       "    <tr>\n",
       "      <th>0</th>\n",
       "      <td>0</td>\n",
       "      <td>Mazda RX4</td>\n",
       "      <td>21.0</td>\n",
       "      <td>6</td>\n",
       "      <td>160.0</td>\n",
       "      <td>110.0</td>\n",
       "      <td>3.90</td>\n",
       "      <td>2.620</td>\n",
       "      <td>16.46</td>\n",
       "      <td>0.0</td>\n",
       "      <td>1.0</td>\n",
       "      <td>4.0</td>\n",
       "      <td>4</td>\n",
       "    </tr>\n",
       "    <tr>\n",
       "      <th>1</th>\n",
       "      <td>1</td>\n",
       "      <td>Mazda RX4 Wag</td>\n",
       "      <td>21.0</td>\n",
       "      <td>6</td>\n",
       "      <td>160.0</td>\n",
       "      <td>110.0</td>\n",
       "      <td>3.90</td>\n",
       "      <td>2.875</td>\n",
       "      <td>17.02</td>\n",
       "      <td>0.0</td>\n",
       "      <td>1.0</td>\n",
       "      <td>4.0</td>\n",
       "      <td>4</td>\n",
       "    </tr>\n",
       "    <tr>\n",
       "      <th>2</th>\n",
       "      <td>2</td>\n",
       "      <td>Datsun 710</td>\n",
       "      <td>NaN</td>\n",
       "      <td>4</td>\n",
       "      <td>108.0</td>\n",
       "      <td>93.0</td>\n",
       "      <td>3.85</td>\n",
       "      <td>2.320</td>\n",
       "      <td>18.61</td>\n",
       "      <td>1.0</td>\n",
       "      <td>1.0</td>\n",
       "      <td>4.0</td>\n",
       "      <td>1</td>\n",
       "    </tr>\n",
       "    <tr>\n",
       "      <th>3</th>\n",
       "      <td>3</td>\n",
       "      <td>Hornet 4 Drive</td>\n",
       "      <td>21.4</td>\n",
       "      <td>6</td>\n",
       "      <td>258.0</td>\n",
       "      <td>NaN</td>\n",
       "      <td>3.08</td>\n",
       "      <td>3.215</td>\n",
       "      <td>19.44</td>\n",
       "      <td>1.0</td>\n",
       "      <td>0.0</td>\n",
       "      <td>3.0</td>\n",
       "      <td>1</td>\n",
       "    </tr>\n",
       "    <tr>\n",
       "      <th>4</th>\n",
       "      <td>4</td>\n",
       "      <td>Hornet Sportabout</td>\n",
       "      <td>18.7</td>\n",
       "      <td>8</td>\n",
       "      <td>360.0</td>\n",
       "      <td>175.0</td>\n",
       "      <td>3.15</td>\n",
       "      <td>3.440</td>\n",
       "      <td>17.02</td>\n",
       "      <td>0.0</td>\n",
       "      <td>0.0</td>\n",
       "      <td>NaN</td>\n",
       "      <td>2</td>\n",
       "    </tr>\n",
       "  </tbody>\n",
       "</table>\n",
       "</div>"
      ],
      "text/plain": [
       "   Unnamed: 0       vichle_names   mpg  cyl   disp     hp  drat     wt   qsec  \\\n",
       "0           0          Mazda RX4  21.0    6  160.0  110.0  3.90  2.620  16.46   \n",
       "1           1      Mazda RX4 Wag  21.0    6  160.0  110.0  3.90  2.875  17.02   \n",
       "2           2         Datsun 710   NaN    4  108.0   93.0  3.85  2.320  18.61   \n",
       "3           3     Hornet 4 Drive  21.4    6  258.0    NaN  3.08  3.215  19.44   \n",
       "4           4  Hornet Sportabout  18.7    8  360.0  175.0  3.15  3.440  17.02   \n",
       "\n",
       "   v_Shape   am  gear  carb  \n",
       "0      0.0  1.0   4.0     4  \n",
       "1      0.0  1.0   4.0     4  \n",
       "2      1.0  1.0   4.0     1  \n",
       "3      1.0  0.0   3.0     1  \n",
       "4      0.0  0.0   NaN     2  "
      ]
     },
     "execution_count": 23,
     "metadata": {},
     "output_type": "execute_result"
    }
   ],
   "source": [
    "import pandas as pd\n",
    "from copy import deepcopy\n",
    "# Read csv file \n",
    "df = pd.read_csv(\"mtcars.csv\", delimiter=\",\")\n",
    "\n",
    "# print the dataframe head\n",
    "df.head()"
   ]
  },
  {
   "cell_type": "code",
   "execution_count": 12,
   "metadata": {},
   "outputs": [
    {
     "name": "stdout",
     "output_type": "stream",
     "text": [
      "Total Rows:32 Columns:13\n"
     ]
    }
   ],
   "source": [
    "# print the dataframe shape \n",
    "print(\"Total Rows:{} Columns:{}\".format(df.shape[0],df.shape[1]))"
   ]
  },
  {
   "cell_type": "code",
   "execution_count": 13,
   "metadata": {},
   "outputs": [
    {
     "data": {
      "text/html": [
       "<div>\n",
       "<style scoped>\n",
       "    .dataframe tbody tr th:only-of-type {\n",
       "        vertical-align: middle;\n",
       "    }\n",
       "\n",
       "    .dataframe tbody tr th {\n",
       "        vertical-align: top;\n",
       "    }\n",
       "\n",
       "    .dataframe thead th {\n",
       "        text-align: right;\n",
       "    }\n",
       "</style>\n",
       "<table border=\"1\" class=\"dataframe\">\n",
       "  <thead>\n",
       "    <tr style=\"text-align: right;\">\n",
       "      <th></th>\n",
       "      <th>Unnamed: 0</th>\n",
       "      <th>mpg</th>\n",
       "      <th>cyl</th>\n",
       "      <th>disp</th>\n",
       "      <th>hp</th>\n",
       "      <th>drat</th>\n",
       "      <th>wt</th>\n",
       "      <th>qsec</th>\n",
       "      <th>v_Shape</th>\n",
       "      <th>am</th>\n",
       "      <th>gear</th>\n",
       "      <th>carb</th>\n",
       "    </tr>\n",
       "  </thead>\n",
       "  <tbody>\n",
       "    <tr>\n",
       "      <th>count</th>\n",
       "      <td>32.000000</td>\n",
       "      <td>30.000000</td>\n",
       "      <td>32.000000</td>\n",
       "      <td>32.000000</td>\n",
       "      <td>31.000000</td>\n",
       "      <td>31.000000</td>\n",
       "      <td>32.000000</td>\n",
       "      <td>29.000000</td>\n",
       "      <td>30.000000</td>\n",
       "      <td>28.000000</td>\n",
       "      <td>29.000000</td>\n",
       "      <td>32.0000</td>\n",
       "    </tr>\n",
       "    <tr>\n",
       "      <th>mean</th>\n",
       "      <td>15.500000</td>\n",
       "      <td>20.076667</td>\n",
       "      <td>6.187500</td>\n",
       "      <td>230.721875</td>\n",
       "      <td>147.870968</td>\n",
       "      <td>3.609032</td>\n",
       "      <td>3.217250</td>\n",
       "      <td>17.601379</td>\n",
       "      <td>0.433333</td>\n",
       "      <td>0.428571</td>\n",
       "      <td>3.724138</td>\n",
       "      <td>2.8125</td>\n",
       "    </tr>\n",
       "    <tr>\n",
       "      <th>std</th>\n",
       "      <td>9.380832</td>\n",
       "      <td>6.196366</td>\n",
       "      <td>1.785922</td>\n",
       "      <td>123.938694</td>\n",
       "      <td>69.363171</td>\n",
       "      <td>0.538766</td>\n",
       "      <td>0.978457</td>\n",
       "      <td>1.535459</td>\n",
       "      <td>0.504007</td>\n",
       "      <td>0.503953</td>\n",
       "      <td>0.751026</td>\n",
       "      <td>1.6152</td>\n",
       "    </tr>\n",
       "    <tr>\n",
       "      <th>min</th>\n",
       "      <td>0.000000</td>\n",
       "      <td>10.400000</td>\n",
       "      <td>4.000000</td>\n",
       "      <td>71.100000</td>\n",
       "      <td>52.000000</td>\n",
       "      <td>2.760000</td>\n",
       "      <td>1.513000</td>\n",
       "      <td>14.500000</td>\n",
       "      <td>0.000000</td>\n",
       "      <td>0.000000</td>\n",
       "      <td>3.000000</td>\n",
       "      <td>1.0000</td>\n",
       "    </tr>\n",
       "    <tr>\n",
       "      <th>25%</th>\n",
       "      <td>7.750000</td>\n",
       "      <td>15.275000</td>\n",
       "      <td>4.000000</td>\n",
       "      <td>120.825000</td>\n",
       "      <td>96.000000</td>\n",
       "      <td>3.080000</td>\n",
       "      <td>2.581250</td>\n",
       "      <td>16.870000</td>\n",
       "      <td>0.000000</td>\n",
       "      <td>0.000000</td>\n",
       "      <td>3.000000</td>\n",
       "      <td>2.0000</td>\n",
       "    </tr>\n",
       "    <tr>\n",
       "      <th>50%</th>\n",
       "      <td>15.500000</td>\n",
       "      <td>19.200000</td>\n",
       "      <td>6.000000</td>\n",
       "      <td>196.300000</td>\n",
       "      <td>123.000000</td>\n",
       "      <td>3.700000</td>\n",
       "      <td>3.325000</td>\n",
       "      <td>17.420000</td>\n",
       "      <td>0.000000</td>\n",
       "      <td>0.000000</td>\n",
       "      <td>4.000000</td>\n",
       "      <td>2.0000</td>\n",
       "    </tr>\n",
       "    <tr>\n",
       "      <th>75%</th>\n",
       "      <td>23.250000</td>\n",
       "      <td>22.475000</td>\n",
       "      <td>8.000000</td>\n",
       "      <td>326.000000</td>\n",
       "      <td>180.000000</td>\n",
       "      <td>3.920000</td>\n",
       "      <td>3.610000</td>\n",
       "      <td>18.610000</td>\n",
       "      <td>1.000000</td>\n",
       "      <td>1.000000</td>\n",
       "      <td>4.000000</td>\n",
       "      <td>4.0000</td>\n",
       "    </tr>\n",
       "    <tr>\n",
       "      <th>max</th>\n",
       "      <td>31.000000</td>\n",
       "      <td>33.900000</td>\n",
       "      <td>8.000000</td>\n",
       "      <td>472.000000</td>\n",
       "      <td>335.000000</td>\n",
       "      <td>4.930000</td>\n",
       "      <td>5.424000</td>\n",
       "      <td>20.010000</td>\n",
       "      <td>1.000000</td>\n",
       "      <td>1.000000</td>\n",
       "      <td>5.000000</td>\n",
       "      <td>8.0000</td>\n",
       "    </tr>\n",
       "  </tbody>\n",
       "</table>\n",
       "</div>"
      ],
      "text/plain": [
       "       Unnamed: 0        mpg        cyl        disp          hp       drat  \\\n",
       "count   32.000000  30.000000  32.000000   32.000000   31.000000  31.000000   \n",
       "mean    15.500000  20.076667   6.187500  230.721875  147.870968   3.609032   \n",
       "std      9.380832   6.196366   1.785922  123.938694   69.363171   0.538766   \n",
       "min      0.000000  10.400000   4.000000   71.100000   52.000000   2.760000   \n",
       "25%      7.750000  15.275000   4.000000  120.825000   96.000000   3.080000   \n",
       "50%     15.500000  19.200000   6.000000  196.300000  123.000000   3.700000   \n",
       "75%     23.250000  22.475000   8.000000  326.000000  180.000000   3.920000   \n",
       "max     31.000000  33.900000   8.000000  472.000000  335.000000   4.930000   \n",
       "\n",
       "              wt       qsec    v_Shape         am       gear     carb  \n",
       "count  32.000000  29.000000  30.000000  28.000000  29.000000  32.0000  \n",
       "mean    3.217250  17.601379   0.433333   0.428571   3.724138   2.8125  \n",
       "std     0.978457   1.535459   0.504007   0.503953   0.751026   1.6152  \n",
       "min     1.513000  14.500000   0.000000   0.000000   3.000000   1.0000  \n",
       "25%     2.581250  16.870000   0.000000   0.000000   3.000000   2.0000  \n",
       "50%     3.325000  17.420000   0.000000   0.000000   4.000000   2.0000  \n",
       "75%     3.610000  18.610000   1.000000   1.000000   4.000000   4.0000  \n",
       "max     5.424000  20.010000   1.000000   1.000000   5.000000   8.0000  "
      ]
     },
     "execution_count": 13,
     "metadata": {},
     "output_type": "execute_result"
    }
   ],
   "source": [
    "# print dataframe stats of numerical columns.\n",
    "df.describe()"
   ]
  },
  {
   "cell_type": "code",
   "execution_count": 14,
   "metadata": {},
   "outputs": [
    {
     "data": {
      "text/plain": [
       "Unnamed: 0      0\n",
       "vichle_names    0\n",
       "mpg             2\n",
       "cyl             0\n",
       "disp            0\n",
       "hp              1\n",
       "drat            1\n",
       "wt              0\n",
       "qsec            3\n",
       "v_Shape         2\n",
       "am              4\n",
       "gear            3\n",
       "carb            0\n",
       "dtype: int64"
      ]
     },
     "execution_count": 14,
     "metadata": {},
     "output_type": "execute_result"
    }
   ],
   "source": [
    "# Check missing values \n",
    "df.isnull().sum()"
   ]
  },
  {
   "cell_type": "code",
   "execution_count": 16,
   "metadata": {},
   "outputs": [
    {
     "data": {
      "text/plain": [
       "Unnamed: 0       0.000\n",
       "vichle_names     0.000\n",
       "mpg              6.250\n",
       "cyl              0.000\n",
       "disp             0.000\n",
       "hp               3.125\n",
       "drat             3.125\n",
       "wt               0.000\n",
       "qsec             9.375\n",
       "v_Shape          6.250\n",
       "am              12.500\n",
       "gear             9.375\n",
       "carb             0.000\n",
       "dtype: float64"
      ]
     },
     "execution_count": 16,
     "metadata": {},
     "output_type": "execute_result"
    }
   ],
   "source": [
    "# Check missing the ratio \n",
    "df.isnull().mean() * 100"
   ]
  },
  {
   "cell_type": "code",
   "execution_count": 28,
   "metadata": {},
   "outputs": [],
   "source": [
    "missing_colums = list(df.columns[df.isna().any()])"
   ]
  },
  {
   "cell_type": "code",
   "execution_count": 27,
   "metadata": {},
   "outputs": [
    {
     "name": "stderr",
     "output_type": "stream",
     "text": [
      "C:\\Users\\RJNGh\\AppData\\Local\\Temp\\ipykernel_4596\\1373681891.py:7: FutureWarning: A value is trying to be set on a copy of a DataFrame or Series through chained assignment using an inplace method.\n",
      "The behavior will change in pandas 3.0. This inplace method will never work because the intermediate object on which we are setting values always behaves as a copy.\n",
      "\n",
      "For example, when doing 'df[col].method(value, inplace=True)', try using 'df.method({col: value}, inplace=True)' or df[col] = df[col].method(value) instead, to perform the operation inplace on the original object.\n",
      "\n",
      "\n",
      "  mean_fill_df[col].fillna(value=df[col].mean(),inplace=True)\n",
      "C:\\Users\\RJNGh\\AppData\\Local\\Temp\\ipykernel_4596\\1373681891.py:11: FutureWarning: A value is trying to be set on a copy of a DataFrame or Series through chained assignment using an inplace method.\n",
      "The behavior will change in pandas 3.0. This inplace method will never work because the intermediate object on which we are setting values always behaves as a copy.\n",
      "\n",
      "For example, when doing 'df[col].method(value, inplace=True)', try using 'df.method({col: value}, inplace=True)' or df[col] = df[col].method(value) instead, to perform the operation inplace on the original object.\n",
      "\n",
      "\n",
      "  mode_fill_df[col].fillna(value=df[col].mode(),inplace=True)\n"
     ]
    }
   ],
   "source": [
    "mean_fill_df = deepcopy(df)\n",
    "mode_fill_df = deepcopy(df)\n",
    "\n",
    "\n",
    "# Relace with mean \n",
    "for col in missing_colums:\n",
    "    mean_fill_df[col].fillna(value=df[col].mean(),inplace=True)\n",
    "\n",
    "# Replae with mode\n",
    "for col in missing_colums:\n",
    "    mode_fill_df[col].fillna(value=df[col].mode(),inplace=True)"
   ]
  },
  {
   "cell_type": "code",
   "execution_count": 34,
   "metadata": {},
   "outputs": [
    {
     "data": {
      "text/plain": [
       "Unnamed: 0        int64\n",
       "vichle_names     object\n",
       "mpg             float64\n",
       "cyl               int64\n",
       "disp            float64\n",
       "hp              float64\n",
       "drat            float64\n",
       "wt              float64\n",
       "qsec            float64\n",
       "v_Shape         float64\n",
       "am              float64\n",
       "gear            float64\n",
       "carb              int64\n",
       "dtype: object"
      ]
     },
     "execution_count": 34,
     "metadata": {},
     "output_type": "execute_result"
    }
   ],
   "source": [
    "# get datatypes\n",
    "df.dtypes"
   ]
  },
  {
   "cell_type": "code",
   "execution_count": 45,
   "metadata": {},
   "outputs": [],
   "source": [
    "# get all the numerical columns\n",
    "numerical_cols = list(df._get_numeric_data().columns)\n",
    "\n",
    "# get all the categorical columns\n",
    "categorical_columns = set(df.columns) - set(numerical_cols)\n",
    "\n",
    "# check we extracted all the columns\n",
    "assert len(numerical_cols) + len(categorical_columns) == len(list(df.columns))"
   ]
  },
  {
   "cell_type": "markdown",
   "metadata": {},
   "source": [
    "### Create Dataframe"
   ]
  },
  {
   "cell_type": "code",
   "execution_count": 48,
   "metadata": {},
   "outputs": [
    {
     "data": {
      "text/html": [
       "<div>\n",
       "<style scoped>\n",
       "    .dataframe tbody tr th:only-of-type {\n",
       "        vertical-align: middle;\n",
       "    }\n",
       "\n",
       "    .dataframe tbody tr th {\n",
       "        vertical-align: top;\n",
       "    }\n",
       "\n",
       "    .dataframe thead th {\n",
       "        text-align: right;\n",
       "    }\n",
       "</style>\n",
       "<table border=\"1\" class=\"dataframe\">\n",
       "  <thead>\n",
       "    <tr style=\"text-align: right;\">\n",
       "      <th></th>\n",
       "      <th>Name</th>\n",
       "      <th>SRN</th>\n",
       "      <th>GPA</th>\n",
       "    </tr>\n",
       "  </thead>\n",
       "  <tbody>\n",
       "    <tr>\n",
       "      <th>0</th>\n",
       "      <td>Rajan</td>\n",
       "      <td>1</td>\n",
       "      <td>1.0</td>\n",
       "    </tr>\n",
       "    <tr>\n",
       "      <th>1</th>\n",
       "      <td>Ghimire</td>\n",
       "      <td>2</td>\n",
       "      <td>2.0</td>\n",
       "    </tr>\n",
       "    <tr>\n",
       "      <th>2</th>\n",
       "      <td>Sudip</td>\n",
       "      <td>3</td>\n",
       "      <td>3.9</td>\n",
       "    </tr>\n",
       "    <tr>\n",
       "      <th>3</th>\n",
       "      <td>Arjan</td>\n",
       "      <td>4</td>\n",
       "      <td>3.9</td>\n",
       "    </tr>\n",
       "  </tbody>\n",
       "</table>\n",
       "</div>"
      ],
      "text/plain": [
       "      Name  SRN  GPA\n",
       "0    Rajan    1  1.0\n",
       "1  Ghimire    2  2.0\n",
       "2    Sudip    3  3.9\n",
       "3    Arjan    4  3.9"
      ]
     },
     "execution_count": 48,
     "metadata": {},
     "output_type": "execute_result"
    }
   ],
   "source": [
    "data_dict = {\n",
    "    \"Name\" : [\"Rajan\",\"Ghimire\",\"Sudip\",\"Arjan\"],\n",
    "    \"SRN\" : [1,2,3,4],\n",
    "    \"GPA\" : [1.0,2.0,3.9,3.9]\n",
    "}\n",
    "# create dataframe obj from dict\n",
    "df_custom = pd.DataFrame(data_dict)\n",
    "\n",
    "# print the new dataframe head \n",
    "df_custom.head()"
   ]
  },
  {
   "cell_type": "code",
   "execution_count": 50,
   "metadata": {},
   "outputs": [
    {
     "data": {
      "text/plain": [
       "Index([0], dtype='int64')"
      ]
     },
     "execution_count": 50,
     "metadata": {},
     "output_type": "execute_result"
    }
   ],
   "source": [
    "# get the index of my name \n",
    "df_custom.loc[df_custom.Name == \"Rajan\"].index"
   ]
  },
  {
   "cell_type": "code",
   "execution_count": 56,
   "metadata": {},
   "outputs": [
    {
     "data": {
      "text/html": [
       "<div>\n",
       "<style scoped>\n",
       "    .dataframe tbody tr th:only-of-type {\n",
       "        vertical-align: middle;\n",
       "    }\n",
       "\n",
       "    .dataframe tbody tr th {\n",
       "        vertical-align: top;\n",
       "    }\n",
       "\n",
       "    .dataframe thead th {\n",
       "        text-align: right;\n",
       "    }\n",
       "</style>\n",
       "<table border=\"1\" class=\"dataframe\">\n",
       "  <thead>\n",
       "    <tr style=\"text-align: right;\">\n",
       "      <th></th>\n",
       "      <th>Name</th>\n",
       "      <th>SRN</th>\n",
       "      <th>GPA</th>\n",
       "    </tr>\n",
       "    <tr>\n",
       "      <th>my_index</th>\n",
       "      <th></th>\n",
       "      <th></th>\n",
       "      <th></th>\n",
       "    </tr>\n",
       "  </thead>\n",
       "  <tbody>\n",
       "    <tr>\n",
       "      <th>0</th>\n",
       "      <td>Rajan</td>\n",
       "      <td>1</td>\n",
       "      <td>1.0</td>\n",
       "    </tr>\n",
       "    <tr>\n",
       "      <th>1</th>\n",
       "      <td>Ghimire</td>\n",
       "      <td>2</td>\n",
       "      <td>2.0</td>\n",
       "    </tr>\n",
       "    <tr>\n",
       "      <th>2</th>\n",
       "      <td>Sudip</td>\n",
       "      <td>3</td>\n",
       "      <td>3.9</td>\n",
       "    </tr>\n",
       "    <tr>\n",
       "      <th>3</th>\n",
       "      <td>Arjan</td>\n",
       "      <td>4</td>\n",
       "      <td>3.9</td>\n",
       "    </tr>\n",
       "  </tbody>\n",
       "</table>\n",
       "</div>"
      ],
      "text/plain": [
       "             Name  SRN  GPA\n",
       "my_index                   \n",
       "0           Rajan    1  1.0\n",
       "1         Ghimire    2  2.0\n",
       "2           Sudip    3  3.9\n",
       "3           Arjan    4  3.9"
      ]
     },
     "execution_count": 56,
     "metadata": {},
     "output_type": "execute_result"
    }
   ],
   "source": [
    "# Remanme index \n",
    "df_custom.index.name = \"my_index\"\n",
    "\n",
    "# print df head \n",
    "df_custom.head()"
   ]
  },
  {
   "cell_type": "code",
   "execution_count": 59,
   "metadata": {},
   "outputs": [],
   "source": [
    "df_custom.to_csv(\"1.csv\")"
   ]
  },
  {
   "cell_type": "code",
   "execution_count": 60,
   "metadata": {},
   "outputs": [],
   "source": [
    "df_custom.to_json(\"1.json\")"
   ]
  },
  {
   "cell_type": "code",
   "execution_count": 5,
   "metadata": {},
   "outputs": [],
   "source": [
    "# generate random data\n",
    "from sklearn.datasets import make_regression, make_classification\n"
   ]
  },
  {
   "cell_type": "code",
   "execution_count": 2,
   "metadata": {},
   "outputs": [],
   "source": [
    "features, target, coff = make_regression(\n",
    "    n_samples= 100,\n",
    "    n_features=3,\n",
    "    n_informative=3, # The number of informative features, i.e., the number of features used to build the linear model used to generate the output.\n",
    "    n_targets=1,\n",
    "    noise=0.0,\n",
    "    coef= True,\n",
    "    random_state=1\n",
    ")"
   ]
  },
  {
   "cell_type": "code",
   "execution_count": 3,
   "metadata": {},
   "outputs": [
    {
     "name": "stdout",
     "output_type": "stream",
     "text": [
      "Feature : [[ 1.29322588e+00 -6.17362064e-01 -1.10447026e-01]\n",
      " [-2.79308500e+00  3.66332015e-01  1.93752881e+00]\n",
      " [ 8.01861032e-01 -1.86569772e-01  4.65672984e-02]\n",
      " [ 1.29101580e-01  5.02740882e-01  1.61694960e+00]\n",
      " [-6.91660752e-01 -6.87172700e-01 -3.96753527e-01]\n",
      " [-7.54397941e-01  5.12929820e-01  1.25286816e+00]\n",
      " [ 1.90465871e+00  6.59049796e-01  1.11105670e+00]\n",
      " [ 2.01830179e-01  1.79215821e+00  6.61020288e-01]\n",
      " [ 4.22137467e-02 -1.10061918e+00  5.82815214e-01]\n",
      " [-1.39649634e+00 -5.04465863e-01 -1.44411381e+00]\n",
      " [-3.10116774e-01  1.03882460e+00 -2.43483776e+00]\n",
      " [ 8.36004719e-01  7.58805660e-01  1.54335911e+00]\n",
      " [-8.45080274e-02  4.17302005e-01 -2.97361883e-01]\n",
      " [-8.90555584e-01  1.95607890e+00 -1.11911540e+00]\n",
      " [-9.35769434e-01  5.30355467e-01 -2.67888080e-01]\n",
      " [ 1.55880554e+00 -1.21974440e+00  1.09402696e-01]\n",
      " [ 8.10951673e-01 -4.00878192e-01  1.04444209e+00]\n",
      " [ 4.36689932e-02  1.33145711e+00 -2.26314243e-01]\n",
      " [ 7.42044161e-01 -8.87628964e-01 -1.91835552e-01]\n",
      " [ 1.69382433e-01 -9.53700602e-01  7.40556451e-01]\n",
      " [-1.61577235e+00  4.08900538e-01  1.12141771e+00]\n",
      " [ 2.19069973e+00 -6.46916688e-01 -1.89636092e+00]\n",
      " [ 1.39984394e+00 -4.37508983e-01 -7.81911683e-01]\n",
      " [ 8.24005618e-01  1.95487808e+00 -5.62305431e-01]\n",
      " [ 1.74481176e+00  3.19039096e-01 -7.61206901e-01]\n",
      " [-1.52568032e+00 -3.74438319e-01  7.95026094e-01]\n",
      " [-1.30572692e+00 -2.30839743e-01 -3.44987210e-01]\n",
      " [-1.01745873e-01  7.50411640e-01  8.68886157e-01]\n",
      " [-1.33195167e+00 -1.65072127e+00 -1.76068856e+00]\n",
      " [-1.27255876e+00  5.03184813e-01  3.13547720e-01]\n",
      " [-1.12201873e+00 -9.97026828e-01 -5.17094458e-01]\n",
      " [ 9.00855949e-01 -1.22890226e-01 -6.83727859e-01]\n",
      " [-2.02220122e+00  8.27974643e-01 -3.06204013e-01]\n",
      " [ 9.01486892e-01 -2.48634778e-01  2.52832571e+00]\n",
      " [ 1.96710175e+00  1.23616403e+00 -1.85798186e+00]\n",
      " [-1.11731035e+00  1.65980218e+00  2.34415698e-01]\n",
      " [ 3.15159392e-01 -8.59515941e-01  8.46160648e-01]\n",
      " [ 6.23362177e-01  1.40754000e+00 -4.34956683e-01]\n",
      " [-1.74703160e-01  2.13533901e-01  9.86335188e-01]\n",
      " [ 2.48799161e-01  4.95211324e-01 -2.96641152e-01]\n",
      " [-2.49370375e-01 -2.06014071e+00  1.46210794e+00]\n",
      " [-3.22417204e-01  1.13376944e+00 -3.84054355e-01]\n",
      " [-2.98092835e-01 -7.55717130e-02  4.88518147e-01]\n",
      " [ 2.11124755e-01  1.77187720e-01  1.65275673e-02]\n",
      " [ 4.03491642e-01 -1.09491185e+00  5.93578523e-01]\n",
      " [-6.65754518e-01  8.25029824e-01 -1.67419581e+00]\n",
      " [-2.87307863e-01 -3.19801599e-01  6.80069840e-01]\n",
      " [-1.07296862e+00 -2.30153870e+00  8.65407629e-01]\n",
      " [-3.43853676e-01 -6.20000844e-01  4.35968568e-02]\n",
      " [ 2.30094735e-01 -2.22328143e-01  7.62011180e-01]\n",
      " [-2.66218506e-01 -1.37311732e+00  3.26145467e-02]\n",
      " [-7.47158294e-01  5.08077548e-02  1.69245460e+00]\n",
      " [-1.04458938e+00  5.85662000e-01  2.05117344e+00]\n",
      " [ 1.14472371e+00  5.02494339e-01  9.01590721e-01]\n",
      " [ 4.29526140e-01  1.06222724e-01 -6.06998398e-01]\n",
      " [ 6.98032034e-01  1.22450770e+00 -4.47128565e-01]\n",
      " [-1.20464572e-01 -1.18231813e+00 -1.23312074e+00]\n",
      " [ 1.62434536e+00 -5.28171752e-01 -6.11756414e-01]\n",
      " [ 3.50545979e-01 -3.86955093e-02 -1.31228341e+00]\n",
      " [ 1.60037069e-01  3.15634947e-01  8.76168921e-01]\n",
      " [ 2.44936865e+00 -1.98837863e-01 -5.45774168e-01]\n",
      " [-3.52249846e-01 -3.49342722e-01 -1.14251820e+00]\n",
      " [ 1.20158952e-01  3.00170320e-01  6.17203110e-01]\n",
      " [-1.23005814e+00  7.92806866e-01  5.50537496e-01]\n",
      " [-2.46169559e-02  1.27375593e+00 -7.75161619e-01]\n",
      " [ 2.62467445e-01 -7.33271604e-01  2.76499305e-01]\n",
      " [ 1.62765075e+00 -1.19926803e+00  3.38011697e-01]\n",
      " [-7.31127037e-02  3.69492716e-01  1.16033857e+00]\n",
      " [ 6.18539131e-01  1.81053491e+00 -4.43171931e-01]\n",
      " [-1.39662042e+00  6.74711526e-01 -8.61316361e-01]\n",
      " [-4.98213564e-01 -1.89148284e-03 -3.10984978e-01]\n",
      " [-1.62743834e+00  4.20282204e-01  6.02319280e-01]\n",
      " [-8.45205641e-01 -1.26645989e-02 -6.71246131e-01]\n",
      " [-3.26499498e-01  1.11438298e+00 -1.34267579e+00]\n",
      " [ 9.31102081e-01  8.85141164e-01  2.85587325e-01]\n",
      " [ 8.63345318e-01 -6.03920628e-01 -1.80920302e-01]\n",
      " [-2.00758069e-01  4.10051647e-01  1.86561391e-01]\n",
      " [ 1.98299720e-01 -6.70662286e-01  1.19008646e-01]\n",
      " [ 5.29465324e-01  7.78211279e-02  1.37701210e-01]\n",
      " [-5.86523939e-01  8.75838928e-01 -1.23685338e+00]\n",
      " [-6.36995647e-01  2.10025514e+00  1.90915485e-01]\n",
      " [-5.68244809e-02 -6.80678141e-01  4.92336556e-01]\n",
      " [-6.23530730e-01 -1.14434139e+00  5.20576337e-01]\n",
      " [ 6.18380262e-01  6.82551407e-01  2.32494559e-01]\n",
      " [-6.38730407e-01  7.73400683e-02  4.23494354e-01]\n",
      " [-1.36444744e-01  1.74094083e-02 -1.19054188e-01]\n",
      " [ 1.34048197e-01  2.84748111e-01  1.20205486e+00]\n",
      " [ 3.77563786e-01  1.12948391e+00  1.21821271e-01]\n",
      " [-2.08894233e-01  8.38983414e-01  5.86623191e-01]\n",
      " [-1.44087602e+00 -2.54179868e-01  1.23225307e+00]\n",
      " [ 7.84770651e-01  5.85910431e-01 -9.55425262e-01]\n",
      " [ 9.54250872e-02  6.07501958e-02  9.21450069e-01]\n",
      " [ 8.84908814e-01 -8.67787223e-01 -8.77281519e-01]\n",
      " [-1.09989127e+00 -8.77858418e-01 -1.72428208e-01]\n",
      " [ 1.13162939e+00  2.18557541e+00  1.51981682e+00]\n",
      " [ 1.19891788e+00 -3.75284950e-01  1.85156417e-01]\n",
      " [-1.11647002e+00 -1.86578994e-01  8.09271010e-02]\n",
      " [ 2.18697965e+00 -1.00155233e-01  4.41364444e-01]\n",
      " [ 5.62761097e-01  2.80665077e-01  2.40737092e-01]\n",
      " [-7.00398505e-01  2.42669441e-01 -2.03394449e-01]] \n",
      " Target : [ -10.37865986   25.5124503    19.67705609  149.50205427 -121.65210879\n",
      "   90.29412996  214.01379719  224.74157328  -73.17331138 -195.62776209\n",
      "  -52.49101402  201.80460524   20.27419601   89.16398784   -4.43979447\n",
      "  -45.4775122    56.90170664  120.54902155  -66.21870151  -43.83850762\n",
      "   34.28844887  -77.50879778  -26.91704015  197.19513885   64.4108542\n",
      "  -58.24364135 -100.61171138  120.30838239 -324.6376023    11.80311373\n",
      " -178.33643388  -12.11793859  -25.22113932  162.27013301  101.22058681\n",
      "  128.5378687   -21.93291701  141.56205532   70.77737306   42.75618757\n",
      " -129.88966784   75.63153631    7.75853852   27.82808415  -56.01743267\n",
      "  -45.12995511   -4.79734991 -224.87997574  -74.02423583   32.47986763\n",
      " -145.77204264   70.44079726  131.09675782  152.75477314   -5.80729922\n",
      "  126.03820644 -194.05903549  -16.07374331  -64.65855618   89.26813436\n",
      "   56.81764512 -116.58860426   70.91442266   56.12941632   79.90072841\n",
      "  -44.89655856  -27.11317814  100.82239274  180.75763303  -45.02977955\n",
      "  -40.28966423    4.70983448  -77.6416384    17.78110239  145.36191106\n",
      "  -32.14346413   42.56333581  -50.69469082   39.10805003  -11.1650345\n",
      "  190.82721374  -41.2481516  -110.53993067  108.40348884    4.05845119\n",
      "  -11.23037507  104.01543511  135.5604179   107.92408052  -17.16536951\n",
      "   37.10456128   63.81909065  -97.80560038 -145.51888775  354.71399851\n",
      "   26.60508124  -63.09743841  112.39944435   66.6482531   -18.76162201]\n"
     ]
    }
   ],
   "source": [
    "print(f\"Feature : {features} \\n Target : {target}\")"
   ]
  },
  {
   "cell_type": "code",
   "execution_count": 4,
   "metadata": {},
   "outputs": [
    {
     "data": {
      "text/plain": [
       "array([44.19042807, 98.97517077, 58.15774073])"
      ]
     },
     "execution_count": 4,
     "metadata": {},
     "output_type": "execute_result"
    }
   ],
   "source": [
    "coff"
   ]
  },
  {
   "cell_type": "code",
   "execution_count": 6,
   "metadata": {},
   "outputs": [],
   "source": [
    "features, target  = make_classification(\n",
    "    n_samples=100,\n",
    "    n_features=3,\n",
    "    n_informative=3,\n",
    "    n_redundant=0,\n",
    "    n_classes=2,\n",
    "    weights=[.25,.75],\n",
    "    random_state=1\n",
    ")"
   ]
  },
  {
   "cell_type": "code",
   "execution_count": 8,
   "metadata": {},
   "outputs": [
    {
     "name": "stdout",
     "output_type": "stream",
     "text": [
      "[[ 1.06354768e+00 -1.42632219e+00  1.02163151e+00]\n",
      " [ 2.31569771e-01  1.49535261e+00  3.32515785e-01]\n",
      " [ 1.59729509e-01  8.35335154e-01 -4.08695544e-01]\n",
      " [-7.06121328e-01 -1.03281003e+00  1.39477986e+00]\n",
      " [ 8.44490198e-01 -6.19971892e-01  1.08791124e+00]\n",
      " [ 5.59394552e-01 -1.45815378e+00  1.47602390e+00]\n",
      " [-2.34279989e+00 -8.62141541e-01 -7.02236503e-01]\n",
      " [-5.02301432e-01 -1.11266501e+00  9.94591165e-01]\n",
      " [ 9.18051403e-01 -1.31813097e+00  1.37672287e+00]\n",
      " [-6.37174666e-01  5.90888879e-01 -2.20412713e-01]\n",
      " [ 1.27505434e+00  1.81333214e+00 -1.76262615e-01]\n",
      " [-8.44318348e-02 -8.41896666e-01  1.27619816e+00]\n",
      " [ 1.17033878e+00 -2.50462535e-01  6.51088535e-02]\n",
      " [ 1.86526206e+00 -1.44673919e+00  5.82315275e-01]\n",
      " [-4.51512990e-01 -1.00104693e+00  1.42523865e+00]\n",
      " [-1.52227032e+00 -9.58868332e-01  9.82710762e-01]\n",
      " [-7.51474297e-01 -9.71645767e-01  9.59587901e-01]\n",
      " [ 9.79144440e-01 -3.36999556e-01  4.07143853e-01]\n",
      " [ 8.86706299e-01 -1.18285338e+00  1.49055825e+00]\n",
      " [-1.29255057e+00 -8.91797450e-01 -1.40785868e-01]\n",
      " [-1.78196613e+00 -8.84226984e-01  6.61826443e-01]\n",
      " [ 1.67813645e+00  3.12535456e-01  1.73399927e+00]\n",
      " [ 1.42343127e+00 -1.36055919e+00  1.18167125e+00]\n",
      " [-6.08273048e-01 -1.97911139e-03 -8.38638903e-01]\n",
      " [ 1.62503286e+00 -7.77760821e-02  6.49323627e-01]\n",
      " [-1.41111014e+00  9.34041094e-01 -1.26198687e+00]\n",
      " [-7.85218909e-01  1.47094549e+00  3.54287215e-01]\n",
      " [ 6.00410573e-01 -8.65605360e-01  9.94567937e-01]\n",
      " [-5.99810034e-01 -1.14365370e+00  1.62170864e+00]\n",
      " [-2.42158085e+00 -1.16929799e+00  2.71260488e-01]\n",
      " [ 1.29394198e-02 -3.03153730e-01  1.86106869e+00]\n",
      " [-1.96923251e+00 -1.40473916e+00  4.89942105e-01]\n",
      " [ 1.36771802e+00 -1.99718176e+00  1.97516758e+00]\n",
      " [ 1.42680420e-01 -1.40515165e+00  2.10428084e+00]\n",
      " [ 1.45157163e+00  6.25663673e-01  1.84912249e+00]\n",
      " [ 1.14379942e+00 -1.03861696e+00  4.70762042e-01]\n",
      " [ 6.56204846e-01 -1.07959994e+00  1.18158608e+00]\n",
      " [ 8.34747298e-01 -1.72715339e+00  2.53452735e+00]\n",
      " [ 8.97012252e-01 -1.13462882e+00  1.46713706e+00]\n",
      " [-7.50876328e-01  1.29774238e-02  8.41235764e-02]\n",
      " [ 2.18627490e+00 -7.72690725e-01  3.19723802e-01]\n",
      " [ 1.13016990e+00 -2.62653708e-01  1.12572143e+00]\n",
      " [-1.51627324e+00 -1.50779533e+00  1.99835804e-01]\n",
      " [ 5.50063828e-01 -2.05242820e+00  1.88342271e+00]\n",
      " [ 1.55545556e+00 -5.61950906e-01  4.42000299e-01]\n",
      " [ 6.46315964e-01 -4.54484253e-01  1.29521314e+00]\n",
      " [-8.17144515e-01 -7.43980740e-01  1.83296858e+00]\n",
      " [ 6.68106986e-01 -3.93472459e-01  1.87143851e+00]\n",
      " [ 8.70827366e-01 -1.27353458e+00  4.96468921e-01]\n",
      " [ 5.80652681e-01 -1.63444675e+00  1.85449968e+00]\n",
      " [-9.61253919e-01 -1.96732581e+00  1.43585626e+00]\n",
      " [ 1.12610823e+00 -6.24802320e-01  1.27124321e+00]\n",
      " [ 1.19902439e+00  7.18426566e-01  7.34912716e-01]\n",
      " [-4.91229422e-01 -7.92173445e-01  1.26436684e+00]\n",
      " [ 8.04844565e-02 -2.70380917e+00  2.41298744e+00]\n",
      " [-2.70999375e+00 -1.68896656e+00  6.72376419e-01]\n",
      " [ 1.30254895e+00 -1.29297524e-02  5.61769368e-01]\n",
      " [-2.33686970e+00  6.82795463e-01 -2.00692730e+00]\n",
      " [-1.73782517e+00  2.13690514e+00 -2.16243270e+00]\n",
      " [ 1.18385411e+00 -1.62250860e+00  1.03400066e+00]\n",
      " [-3.17244517e-01 -5.21746509e-01  1.63865326e+00]\n",
      " [-1.77253752e+00 -1.21398001e+00  6.36577955e-01]\n",
      " [ 1.39394227e+00  6.52211049e-01  1.95513822e+00]\n",
      " [-1.01100072e-01 -1.24258559e+00  1.16293046e+00]\n",
      " [-2.33275215e-01 -1.27428253e+00  1.42113022e+00]\n",
      " [ 1.41088304e+00 -8.67906157e-02  4.55987299e-01]\n",
      " [-1.65421331e+00 -2.00472045e-01 -4.77938179e-02]\n",
      " [ 1.05180063e+00 -1.94786850e+00  1.53751741e+00]\n",
      " [ 1.27294546e-01  1.96878830e+00  2.13708226e-01]\n",
      " [ 6.36248267e-01 -1.12533943e+00  1.68321341e+00]\n",
      " [ 1.07722483e+00  2.38861398e+00 -5.85568008e-01]\n",
      " [-6.47509455e-01 -6.86416167e-01  6.49068078e-01]\n",
      " [-9.56385637e-02 -7.84608945e-01  7.08673483e-01]\n",
      " [-3.79657225e-01  1.42529169e+00 -5.50634976e-01]\n",
      " [ 1.64950863e+00 -6.95010397e-01  4.62138607e-01]\n",
      " [ 1.41857094e+00 -4.95259665e-01  2.01068112e+00]\n",
      " [-8.40552567e-01 -4.74231865e-01  1.03450742e+00]\n",
      " [-2.58501280e+00 -1.49017798e+00  1.46526730e-01]\n",
      " [ 1.39718477e+00 -4.16943750e-01  9.15714993e-01]\n",
      " [ 1.58507927e+00 -4.19350912e-01  2.23623681e-01]\n",
      " [-1.15756869e+00 -1.26592565e+00  1.45523297e+00]\n",
      " [-2.50510046e-01 -5.55087346e-02  1.21318284e+00]\n",
      " [-2.09578348e+00 -1.70342966e+00  1.15280824e+00]\n",
      " [ 9.93521344e-01 -1.24676718e+00  1.52541126e+00]\n",
      " [-1.07568849e+00  1.77241160e-02  3.07719573e-01]\n",
      " [ 1.45085006e+00 -1.60853230e+00  1.07534504e+00]\n",
      " [-1.50578912e+00  7.17757879e-01 -1.14772203e+00]\n",
      " [-2.05138559e+00  5.32160696e-01 -2.01013229e-01]\n",
      " [ 1.39206480e+00  2.03488471e-01  1.80784740e-01]\n",
      " [ 1.97371644e-01  1.24901942e+00  1.58570711e+00]\n",
      " [-8.86532754e-01 -1.58356865e+00  2.09202902e+00]\n",
      " [ 1.15542253e-03 -4.39315891e-01  8.15908401e-01]\n",
      " [ 8.74065083e-02  2.25918566e+00  1.89187657e+00]\n",
      " [ 1.35998713e+00 -8.16312669e-01  4.43161822e-01]\n",
      " [ 1.13310429e+00  3.55571042e-01  2.25386712e+00]\n",
      " [ 1.10641096e+00 -1.61551585e+00  1.60329579e+00]\n",
      " [-2.43862320e+00 -1.78462959e+00  5.00375675e-01]\n",
      " [-1.30468982e+00 -1.65292563e+00  9.92339722e-01]\n",
      " [ 1.19020761e+00 -9.61064243e-01  2.92125104e-01]\n",
      " [-1.08804668e+00  8.28037776e-01 -5.66882363e-01]]\n",
      "[1 0 0 1 1 1 0 1 1 0 0 1 1 1 1 1 1 1 1 0 1 0 1 0 0 0 0 1 1 1 1 1 1 1 1 1 1\n",
      " 1 1 1 1 1 1 1 1 1 1 1 1 1 1 1 0 1 1 1 1 0 0 1 1 1 0 1 1 1 1 1 0 1 0 1 1 0\n",
      " 1 0 1 1 1 1 1 1 1 1 1 1 0 0 1 0 1 1 0 1 0 1 1 1 1 0]\n"
     ]
    },
    {
     "data": {
      "text/plain": [
       "(None, None)"
      ]
     },
     "execution_count": 8,
     "metadata": {},
     "output_type": "execute_result"
    }
   ],
   "source": [
    "print(features),print(target)"
   ]
  },
  {
   "cell_type": "code",
   "execution_count": 22,
   "metadata": {},
   "outputs": [],
   "source": [
    "\n",
    "data = {\n",
    "    \"features_0\" : [x[0] for x in features],\n",
    "    \"features_1\" : [x[1] for x in features],\n",
    "    \"features_2\" : [x[2] for x in features],\n",
    "    \"target\" : target\n",
    "}"
   ]
  },
  {
   "cell_type": "code",
   "execution_count": 23,
   "metadata": {},
   "outputs": [],
   "source": [
    "df = pd.DataFrame(data=data)"
   ]
  },
  {
   "cell_type": "code",
   "execution_count": 24,
   "metadata": {},
   "outputs": [
    {
     "data": {
      "text/html": [
       "<div>\n",
       "<style scoped>\n",
       "    .dataframe tbody tr th:only-of-type {\n",
       "        vertical-align: middle;\n",
       "    }\n",
       "\n",
       "    .dataframe tbody tr th {\n",
       "        vertical-align: top;\n",
       "    }\n",
       "\n",
       "    .dataframe thead th {\n",
       "        text-align: right;\n",
       "    }\n",
       "</style>\n",
       "<table border=\"1\" class=\"dataframe\">\n",
       "  <thead>\n",
       "    <tr style=\"text-align: right;\">\n",
       "      <th></th>\n",
       "      <th>features_0</th>\n",
       "      <th>features_1</th>\n",
       "      <th>features_2</th>\n",
       "      <th>target</th>\n",
       "    </tr>\n",
       "  </thead>\n",
       "  <tbody>\n",
       "    <tr>\n",
       "      <th>0</th>\n",
       "      <td>1.063548</td>\n",
       "      <td>-1.426322</td>\n",
       "      <td>1.021632</td>\n",
       "      <td>1</td>\n",
       "    </tr>\n",
       "    <tr>\n",
       "      <th>1</th>\n",
       "      <td>0.231570</td>\n",
       "      <td>1.495353</td>\n",
       "      <td>0.332516</td>\n",
       "      <td>0</td>\n",
       "    </tr>\n",
       "    <tr>\n",
       "      <th>2</th>\n",
       "      <td>0.159730</td>\n",
       "      <td>0.835335</td>\n",
       "      <td>-0.408696</td>\n",
       "      <td>0</td>\n",
       "    </tr>\n",
       "    <tr>\n",
       "      <th>3</th>\n",
       "      <td>-0.706121</td>\n",
       "      <td>-1.032810</td>\n",
       "      <td>1.394780</td>\n",
       "      <td>1</td>\n",
       "    </tr>\n",
       "    <tr>\n",
       "      <th>4</th>\n",
       "      <td>0.844490</td>\n",
       "      <td>-0.619972</td>\n",
       "      <td>1.087911</td>\n",
       "      <td>1</td>\n",
       "    </tr>\n",
       "  </tbody>\n",
       "</table>\n",
       "</div>"
      ],
      "text/plain": [
       "   features_0  features_1  features_2  target\n",
       "0    1.063548   -1.426322    1.021632       1\n",
       "1    0.231570    1.495353    0.332516       0\n",
       "2    0.159730    0.835335   -0.408696       0\n",
       "3   -0.706121   -1.032810    1.394780       1\n",
       "4    0.844490   -0.619972    1.087911       1"
      ]
     },
     "execution_count": 24,
     "metadata": {},
     "output_type": "execute_result"
    }
   ],
   "source": [
    "df.head()"
   ]
  },
  {
   "cell_type": "code",
   "execution_count": 42,
   "metadata": {},
   "outputs": [
    {
     "data": {
      "text/html": [
       "<div>\n",
       "<style scoped>\n",
       "    .dataframe tbody tr th:only-of-type {\n",
       "        vertical-align: middle;\n",
       "    }\n",
       "\n",
       "    .dataframe tbody tr th {\n",
       "        vertical-align: top;\n",
       "    }\n",
       "\n",
       "    .dataframe thead th {\n",
       "        text-align: right;\n",
       "    }\n",
       "</style>\n",
       "<table border=\"1\" class=\"dataframe\">\n",
       "  <thead>\n",
       "    <tr style=\"text-align: right;\">\n",
       "      <th></th>\n",
       "      <th>feature_1</th>\n",
       "      <th>feature_2</th>\n",
       "      <th>feature_3</th>\n",
       "      <th>target</th>\n",
       "    </tr>\n",
       "  </thead>\n",
       "  <tbody>\n",
       "    <tr>\n",
       "      <th>0</th>\n",
       "      <td>1.063548</td>\n",
       "      <td>-1.426322</td>\n",
       "      <td>1.021632</td>\n",
       "      <td>1.0</td>\n",
       "    </tr>\n",
       "    <tr>\n",
       "      <th>1</th>\n",
       "      <td>0.231570</td>\n",
       "      <td>1.495353</td>\n",
       "      <td>0.332516</td>\n",
       "      <td>0.0</td>\n",
       "    </tr>\n",
       "    <tr>\n",
       "      <th>2</th>\n",
       "      <td>0.159730</td>\n",
       "      <td>0.835335</td>\n",
       "      <td>-0.408696</td>\n",
       "      <td>0.0</td>\n",
       "    </tr>\n",
       "    <tr>\n",
       "      <th>3</th>\n",
       "      <td>-0.706121</td>\n",
       "      <td>-1.032810</td>\n",
       "      <td>1.394780</td>\n",
       "      <td>1.0</td>\n",
       "    </tr>\n",
       "    <tr>\n",
       "      <th>4</th>\n",
       "      <td>0.844490</td>\n",
       "      <td>-0.619972</td>\n",
       "      <td>1.087911</td>\n",
       "      <td>1.0</td>\n",
       "    </tr>\n",
       "  </tbody>\n",
       "</table>\n",
       "</div>"
      ],
      "text/plain": [
       "   feature_1  feature_2  feature_3  target\n",
       "0   1.063548  -1.426322   1.021632     1.0\n",
       "1   0.231570   1.495353   0.332516     0.0\n",
       "2   0.159730   0.835335  -0.408696     0.0\n",
       "3  -0.706121  -1.032810   1.394780     1.0\n",
       "4   0.844490  -0.619972   1.087911     1.0"
      ]
     },
     "execution_count": 42,
     "metadata": {},
     "output_type": "execute_result"
    }
   ],
   "source": [
    "import numpy as np \n",
    "\n",
    "stacked = np.column_stack((features, target))\n",
    "\n",
    "df2 = pd.DataFrame(stacked, columns=['feature_1',\"feature_2\",\"feature_3\",\"target\"])\n",
    "\n",
    "df2.head()"
   ]
  },
  {
   "cell_type": "code",
   "execution_count": 43,
   "metadata": {},
   "outputs": [],
   "source": [
    "from sklearn.datasets import make_blobs\n",
    "features, classes = make_blobs(n_samples=100,centers=3,n_features=2,random_state=0)\n",
    "\n",
    "df = pd.DataFrame(data=features,columns=[\"feature1\",\"feature2\"])\n",
    "df[\"cluster_id\"] = classes"
   ]
  },
  {
   "cell_type": "code",
   "execution_count": 46,
   "metadata": {},
   "outputs": [
    {
     "data": {
      "application/vnd.plotly.v1+json": {
       "config": {
        "plotlyServerURL": "https://plot.ly"
       },
       "data": [
        {
         "hovertemplate": "feature1=%{x}<br>feature2=%{y}<br>cluster_id=%{marker.color}<extra></extra>",
         "legendgroup": "",
         "marker": {
          "color": [
           1,
           0,
           1,
           0,
           0,
           0,
           2,
           2,
           1,
           0,
           0,
           0,
           1,
           0,
           2,
           1,
           2,
           0,
           2,
           2,
           2,
           2,
           2,
           0,
           1,
           1,
           1,
           1,
           2,
           2,
           0,
           1,
           1,
           0,
           2,
           2,
           0,
           1,
           1,
           2,
           2,
           1,
           1,
           0,
           0,
           0,
           1,
           1,
           2,
           2,
           2,
           1,
           0,
           1,
           2,
           2,
           1,
           1,
           0,
           1,
           1,
           2,
           2,
           2,
           2,
           1,
           0,
           2,
           1,
           0,
           2,
           0,
           0,
           1,
           1,
           0,
           0,
           0,
           2,
           1,
           0,
           0,
           1,
           0,
           1,
           0,
           0,
           0,
           1,
           0,
           1,
           1,
           2,
           2,
           2,
           2,
           0,
           0,
           2,
           2
          ],
          "coloraxis": "coloraxis",
          "symbol": "circle"
         },
         "mode": "markers",
         "name": "",
         "orientation": "v",
         "showlegend": false,
         "type": "scatter",
         "x": [
          2.631858338047819,
          0.08080351735281943,
          3.002519489206626,
          -0.6376277690114565,
          -0.07228288652059756,
          0.6283579292203425,
          -2.674372665633008,
          -0.5774832062961446,
          2.7275622784453133,
          0.34194798486553146,
          1.7053606407240318,
          2.2065607592742156,
          2.520929961163338,
          2.509049292904953,
          -2.2716588352703453,
          3.922826481859448,
          -1.6253565376473378,
          0.163123796502041,
          -1.5951456185465367,
          -2.631287352650356,
          -2.170522416054796,
          -1.566186831449401,
          -0.8867724871243133,
          0.0884843309163823,
          0.9845148999223354,
          2.1821796141364977,
          1.2853514469875615,
          0.8901176806495215,
          -1.896085851164349,
          -0.755113462008238,
          1.1203136497073731,
          3.5435197152284776,
          1.6416485406731307,
          2.4703491517041014,
          -1.9824365167392486,
          0.8562407616420367,
          0.8730512267529372,
          1.3809348607755019,
          2.4116339186072797,
          -2.2664670096132187,
          -0.4002680911153984,
          2.457609162610427,
          2.3535056956389337,
          -0.7300001120785176,
          1.1312175042434114,
          0.46661789679484156,
          1.1844703722509962,
          1.3606996617015126,
          -2.439726238666064,
          -1.0036273526901516,
          0.6363319360587845,
          1.4194214430539969,
          0.06897171416325287,
          2.263542499509738,
          -2.0249364639142104,
          -0.6700734013192142,
          3.2340470925925286,
          2.0657675421536985,
          1.0220285958479411,
          3.938418218489132,
          0.7847825229471443,
          -2.819760922945354,
          -2.3303136773957465,
          -1.3602305178493763,
          -3.018161605927511,
          1.6520905744596983,
          1.7373078036934886,
          -2.5271193606114704,
          1.7437149893055053,
          1.9263584960720843,
          -0.6060451894410864,
          3.2460247025341027,
          -1.5767197372875836,
          3.978209547913263,
          1.1940418363781755,
          2.1156707630897955,
          1.153696220800248,
          0.303809630770544,
          -1.8808979244753894,
          2.4316930525885074,
          -0.27652528150343114,
          1.0427873009296629,
          1.7872641504814974,
          -0.6539282684195495,
          0.882144116318718,
          1.4201333112919208,
          0.9480878502078401,
          0.46546494097762203,
          2.6693468917789582,
          0.5889432611385428,
          1.6201139697112406,
          2.451274234094523,
          -0.42724441733479224,
          -2.56114685500637,
          -2.8428114237334263,
          -0.3388742208696036,
          1.2893377801973964,
          1.8407062774060008,
          -0.9016725621947179,
          -2.7523395320520736
         ],
         "xaxis": "x",
         "y": [
          0.6893649043599419,
          4.690689825307652,
          0.7426535668471026,
          4.091047047234421,
          2.883769390269415,
          4.46013629655237,
          2.4800622165886885,
          3.0054335027183137,
          1.3051254961790473,
          3.941046161461252,
          4.4327702382058005,
          5.506167176232801,
          -0.6385800263392869,
          5.7731460973486755,
          2.0914437226741085,
          1.8037083182133222,
          2.2544039749710154,
          2.577504725116713,
          4.63122498298249,
          2.970047340594097,
          0.6944791091086961,
          1.7497887635919254,
          1.3009262170222884,
          2.322990859224463,
          1.9521153868690735,
          1.2996530233826384,
          1.4369128512297542,
          1.798490146892124,
          2.6785030837571964,
          3.741386415296854,
          5.758060834411365,
          2.79355283596852,
          0.15020884849717908,
          4.098629063682589,
          2.9353614203581797,
          3.8623617483235364,
          4.714385829386762,
          0.9294942182122881,
          1.6042368281298849,
          4.460896856739859,
          1.8379507529696995,
          0.21285356899762364,
          2.2240495566249674,
          6.25456272268018,
          4.681949847050563,
          3.8657130258372034,
          0.3188139951735214,
          0.7480291196102661,
          4.034898549428975,
          2.7463359301108747,
          4.254410210769515,
          1.5740969548844366,
          4.355732723244529,
          1.8743026964216496,
          4.847414315150108,
          2.266856668032976,
          0.717738824125586,
          2.6835341538437723,
          4.116603477422556,
          -0.4500954012045095,
          1.8670603680959479,
          3.184933130682306,
          2.228332483582922,
          3.552913698225229,
          3.3572739625976595,
          2.1201087303203643,
          4.425462343941218,
          1.3731111645555112,
          0.9538290021676823,
          4.152430119150692,
          3.236609914276144,
          2.8494216528496255,
          4.957405922888751,
          2.378178451372361,
          2.8077286130369705,
          3.0689615070947376,
          3.902006391240128,
          3.9442341659078486,
          1.542930967915104,
          -0.20173713064625765,
          5.0812776832803,
          4.606259225188172,
          1.700120055734332,
          4.7665695829741646,
          2.8412848455872295,
          4.637461654822657,
          4.7321191979788075,
          3.123155143325978,
          1.8198703315044638,
          4.001484576873055,
          2.7469273884172787,
          -0.19539784879256894,
          3.5731459920557205,
          3.5994767796147498,
          2.456297656518414,
          3.2348248732579723,
          3.449691588146665,
          3.561622307041948,
          1.3158246057263752,
          3.76224523773467
         ],
         "yaxis": "y"
        }
       ],
       "layout": {
        "coloraxis": {
         "colorbar": {
          "title": {
           "text": "cluster_id"
          }
         },
         "colorscale": [
          [
           0,
           "#0d0887"
          ],
          [
           0.1111111111111111,
           "#46039f"
          ],
          [
           0.2222222222222222,
           "#7201a8"
          ],
          [
           0.3333333333333333,
           "#9c179e"
          ],
          [
           0.4444444444444444,
           "#bd3786"
          ],
          [
           0.5555555555555556,
           "#d8576b"
          ],
          [
           0.6666666666666666,
           "#ed7953"
          ],
          [
           0.7777777777777778,
           "#fb9f3a"
          ],
          [
           0.8888888888888888,
           "#fdca26"
          ],
          [
           1,
           "#f0f921"
          ]
         ]
        },
        "legend": {
         "tracegroupgap": 0
        },
        "margin": {
         "t": 60
        },
        "template": {
         "data": {
          "bar": [
           {
            "error_x": {
             "color": "#2a3f5f"
            },
            "error_y": {
             "color": "#2a3f5f"
            },
            "marker": {
             "line": {
              "color": "#E5ECF6",
              "width": 0.5
             },
             "pattern": {
              "fillmode": "overlay",
              "size": 10,
              "solidity": 0.2
             }
            },
            "type": "bar"
           }
          ],
          "barpolar": [
           {
            "marker": {
             "line": {
              "color": "#E5ECF6",
              "width": 0.5
             },
             "pattern": {
              "fillmode": "overlay",
              "size": 10,
              "solidity": 0.2
             }
            },
            "type": "barpolar"
           }
          ],
          "carpet": [
           {
            "aaxis": {
             "endlinecolor": "#2a3f5f",
             "gridcolor": "white",
             "linecolor": "white",
             "minorgridcolor": "white",
             "startlinecolor": "#2a3f5f"
            },
            "baxis": {
             "endlinecolor": "#2a3f5f",
             "gridcolor": "white",
             "linecolor": "white",
             "minorgridcolor": "white",
             "startlinecolor": "#2a3f5f"
            },
            "type": "carpet"
           }
          ],
          "choropleth": [
           {
            "colorbar": {
             "outlinewidth": 0,
             "ticks": ""
            },
            "type": "choropleth"
           }
          ],
          "contour": [
           {
            "colorbar": {
             "outlinewidth": 0,
             "ticks": ""
            },
            "colorscale": [
             [
              0,
              "#0d0887"
             ],
             [
              0.1111111111111111,
              "#46039f"
             ],
             [
              0.2222222222222222,
              "#7201a8"
             ],
             [
              0.3333333333333333,
              "#9c179e"
             ],
             [
              0.4444444444444444,
              "#bd3786"
             ],
             [
              0.5555555555555556,
              "#d8576b"
             ],
             [
              0.6666666666666666,
              "#ed7953"
             ],
             [
              0.7777777777777778,
              "#fb9f3a"
             ],
             [
              0.8888888888888888,
              "#fdca26"
             ],
             [
              1,
              "#f0f921"
             ]
            ],
            "type": "contour"
           }
          ],
          "contourcarpet": [
           {
            "colorbar": {
             "outlinewidth": 0,
             "ticks": ""
            },
            "type": "contourcarpet"
           }
          ],
          "heatmap": [
           {
            "colorbar": {
             "outlinewidth": 0,
             "ticks": ""
            },
            "colorscale": [
             [
              0,
              "#0d0887"
             ],
             [
              0.1111111111111111,
              "#46039f"
             ],
             [
              0.2222222222222222,
              "#7201a8"
             ],
             [
              0.3333333333333333,
              "#9c179e"
             ],
             [
              0.4444444444444444,
              "#bd3786"
             ],
             [
              0.5555555555555556,
              "#d8576b"
             ],
             [
              0.6666666666666666,
              "#ed7953"
             ],
             [
              0.7777777777777778,
              "#fb9f3a"
             ],
             [
              0.8888888888888888,
              "#fdca26"
             ],
             [
              1,
              "#f0f921"
             ]
            ],
            "type": "heatmap"
           }
          ],
          "heatmapgl": [
           {
            "colorbar": {
             "outlinewidth": 0,
             "ticks": ""
            },
            "colorscale": [
             [
              0,
              "#0d0887"
             ],
             [
              0.1111111111111111,
              "#46039f"
             ],
             [
              0.2222222222222222,
              "#7201a8"
             ],
             [
              0.3333333333333333,
              "#9c179e"
             ],
             [
              0.4444444444444444,
              "#bd3786"
             ],
             [
              0.5555555555555556,
              "#d8576b"
             ],
             [
              0.6666666666666666,
              "#ed7953"
             ],
             [
              0.7777777777777778,
              "#fb9f3a"
             ],
             [
              0.8888888888888888,
              "#fdca26"
             ],
             [
              1,
              "#f0f921"
             ]
            ],
            "type": "heatmapgl"
           }
          ],
          "histogram": [
           {
            "marker": {
             "pattern": {
              "fillmode": "overlay",
              "size": 10,
              "solidity": 0.2
             }
            },
            "type": "histogram"
           }
          ],
          "histogram2d": [
           {
            "colorbar": {
             "outlinewidth": 0,
             "ticks": ""
            },
            "colorscale": [
             [
              0,
              "#0d0887"
             ],
             [
              0.1111111111111111,
              "#46039f"
             ],
             [
              0.2222222222222222,
              "#7201a8"
             ],
             [
              0.3333333333333333,
              "#9c179e"
             ],
             [
              0.4444444444444444,
              "#bd3786"
             ],
             [
              0.5555555555555556,
              "#d8576b"
             ],
             [
              0.6666666666666666,
              "#ed7953"
             ],
             [
              0.7777777777777778,
              "#fb9f3a"
             ],
             [
              0.8888888888888888,
              "#fdca26"
             ],
             [
              1,
              "#f0f921"
             ]
            ],
            "type": "histogram2d"
           }
          ],
          "histogram2dcontour": [
           {
            "colorbar": {
             "outlinewidth": 0,
             "ticks": ""
            },
            "colorscale": [
             [
              0,
              "#0d0887"
             ],
             [
              0.1111111111111111,
              "#46039f"
             ],
             [
              0.2222222222222222,
              "#7201a8"
             ],
             [
              0.3333333333333333,
              "#9c179e"
             ],
             [
              0.4444444444444444,
              "#bd3786"
             ],
             [
              0.5555555555555556,
              "#d8576b"
             ],
             [
              0.6666666666666666,
              "#ed7953"
             ],
             [
              0.7777777777777778,
              "#fb9f3a"
             ],
             [
              0.8888888888888888,
              "#fdca26"
             ],
             [
              1,
              "#f0f921"
             ]
            ],
            "type": "histogram2dcontour"
           }
          ],
          "mesh3d": [
           {
            "colorbar": {
             "outlinewidth": 0,
             "ticks": ""
            },
            "type": "mesh3d"
           }
          ],
          "parcoords": [
           {
            "line": {
             "colorbar": {
              "outlinewidth": 0,
              "ticks": ""
             }
            },
            "type": "parcoords"
           }
          ],
          "pie": [
           {
            "automargin": true,
            "type": "pie"
           }
          ],
          "scatter": [
           {
            "fillpattern": {
             "fillmode": "overlay",
             "size": 10,
             "solidity": 0.2
            },
            "type": "scatter"
           }
          ],
          "scatter3d": [
           {
            "line": {
             "colorbar": {
              "outlinewidth": 0,
              "ticks": ""
             }
            },
            "marker": {
             "colorbar": {
              "outlinewidth": 0,
              "ticks": ""
             }
            },
            "type": "scatter3d"
           }
          ],
          "scattercarpet": [
           {
            "marker": {
             "colorbar": {
              "outlinewidth": 0,
              "ticks": ""
             }
            },
            "type": "scattercarpet"
           }
          ],
          "scattergeo": [
           {
            "marker": {
             "colorbar": {
              "outlinewidth": 0,
              "ticks": ""
             }
            },
            "type": "scattergeo"
           }
          ],
          "scattergl": [
           {
            "marker": {
             "colorbar": {
              "outlinewidth": 0,
              "ticks": ""
             }
            },
            "type": "scattergl"
           }
          ],
          "scattermapbox": [
           {
            "marker": {
             "colorbar": {
              "outlinewidth": 0,
              "ticks": ""
             }
            },
            "type": "scattermapbox"
           }
          ],
          "scatterpolar": [
           {
            "marker": {
             "colorbar": {
              "outlinewidth": 0,
              "ticks": ""
             }
            },
            "type": "scatterpolar"
           }
          ],
          "scatterpolargl": [
           {
            "marker": {
             "colorbar": {
              "outlinewidth": 0,
              "ticks": ""
             }
            },
            "type": "scatterpolargl"
           }
          ],
          "scatterternary": [
           {
            "marker": {
             "colorbar": {
              "outlinewidth": 0,
              "ticks": ""
             }
            },
            "type": "scatterternary"
           }
          ],
          "surface": [
           {
            "colorbar": {
             "outlinewidth": 0,
             "ticks": ""
            },
            "colorscale": [
             [
              0,
              "#0d0887"
             ],
             [
              0.1111111111111111,
              "#46039f"
             ],
             [
              0.2222222222222222,
              "#7201a8"
             ],
             [
              0.3333333333333333,
              "#9c179e"
             ],
             [
              0.4444444444444444,
              "#bd3786"
             ],
             [
              0.5555555555555556,
              "#d8576b"
             ],
             [
              0.6666666666666666,
              "#ed7953"
             ],
             [
              0.7777777777777778,
              "#fb9f3a"
             ],
             [
              0.8888888888888888,
              "#fdca26"
             ],
             [
              1,
              "#f0f921"
             ]
            ],
            "type": "surface"
           }
          ],
          "table": [
           {
            "cells": {
             "fill": {
              "color": "#EBF0F8"
             },
             "line": {
              "color": "white"
             }
            },
            "header": {
             "fill": {
              "color": "#C8D4E3"
             },
             "line": {
              "color": "white"
             }
            },
            "type": "table"
           }
          ]
         },
         "layout": {
          "annotationdefaults": {
           "arrowcolor": "#2a3f5f",
           "arrowhead": 0,
           "arrowwidth": 1
          },
          "autotypenumbers": "strict",
          "coloraxis": {
           "colorbar": {
            "outlinewidth": 0,
            "ticks": ""
           }
          },
          "colorscale": {
           "diverging": [
            [
             0,
             "#8e0152"
            ],
            [
             0.1,
             "#c51b7d"
            ],
            [
             0.2,
             "#de77ae"
            ],
            [
             0.3,
             "#f1b6da"
            ],
            [
             0.4,
             "#fde0ef"
            ],
            [
             0.5,
             "#f7f7f7"
            ],
            [
             0.6,
             "#e6f5d0"
            ],
            [
             0.7,
             "#b8e186"
            ],
            [
             0.8,
             "#7fbc41"
            ],
            [
             0.9,
             "#4d9221"
            ],
            [
             1,
             "#276419"
            ]
           ],
           "sequential": [
            [
             0,
             "#0d0887"
            ],
            [
             0.1111111111111111,
             "#46039f"
            ],
            [
             0.2222222222222222,
             "#7201a8"
            ],
            [
             0.3333333333333333,
             "#9c179e"
            ],
            [
             0.4444444444444444,
             "#bd3786"
            ],
            [
             0.5555555555555556,
             "#d8576b"
            ],
            [
             0.6666666666666666,
             "#ed7953"
            ],
            [
             0.7777777777777778,
             "#fb9f3a"
            ],
            [
             0.8888888888888888,
             "#fdca26"
            ],
            [
             1,
             "#f0f921"
            ]
           ],
           "sequentialminus": [
            [
             0,
             "#0d0887"
            ],
            [
             0.1111111111111111,
             "#46039f"
            ],
            [
             0.2222222222222222,
             "#7201a8"
            ],
            [
             0.3333333333333333,
             "#9c179e"
            ],
            [
             0.4444444444444444,
             "#bd3786"
            ],
            [
             0.5555555555555556,
             "#d8576b"
            ],
            [
             0.6666666666666666,
             "#ed7953"
            ],
            [
             0.7777777777777778,
             "#fb9f3a"
            ],
            [
             0.8888888888888888,
             "#fdca26"
            ],
            [
             1,
             "#f0f921"
            ]
           ]
          },
          "colorway": [
           "#636efa",
           "#EF553B",
           "#00cc96",
           "#ab63fa",
           "#FFA15A",
           "#19d3f3",
           "#FF6692",
           "#B6E880",
           "#FF97FF",
           "#FECB52"
          ],
          "font": {
           "color": "#2a3f5f"
          },
          "geo": {
           "bgcolor": "white",
           "lakecolor": "white",
           "landcolor": "#E5ECF6",
           "showlakes": true,
           "showland": true,
           "subunitcolor": "white"
          },
          "hoverlabel": {
           "align": "left"
          },
          "hovermode": "closest",
          "mapbox": {
           "style": "light"
          },
          "paper_bgcolor": "white",
          "plot_bgcolor": "#E5ECF6",
          "polar": {
           "angularaxis": {
            "gridcolor": "white",
            "linecolor": "white",
            "ticks": ""
           },
           "bgcolor": "#E5ECF6",
           "radialaxis": {
            "gridcolor": "white",
            "linecolor": "white",
            "ticks": ""
           }
          },
          "scene": {
           "xaxis": {
            "backgroundcolor": "#E5ECF6",
            "gridcolor": "white",
            "gridwidth": 2,
            "linecolor": "white",
            "showbackground": true,
            "ticks": "",
            "zerolinecolor": "white"
           },
           "yaxis": {
            "backgroundcolor": "#E5ECF6",
            "gridcolor": "white",
            "gridwidth": 2,
            "linecolor": "white",
            "showbackground": true,
            "ticks": "",
            "zerolinecolor": "white"
           },
           "zaxis": {
            "backgroundcolor": "#E5ECF6",
            "gridcolor": "white",
            "gridwidth": 2,
            "linecolor": "white",
            "showbackground": true,
            "ticks": "",
            "zerolinecolor": "white"
           }
          },
          "shapedefaults": {
           "line": {
            "color": "#2a3f5f"
           }
          },
          "ternary": {
           "aaxis": {
            "gridcolor": "white",
            "linecolor": "white",
            "ticks": ""
           },
           "baxis": {
            "gridcolor": "white",
            "linecolor": "white",
            "ticks": ""
           },
           "bgcolor": "#E5ECF6",
           "caxis": {
            "gridcolor": "white",
            "linecolor": "white",
            "ticks": ""
           }
          },
          "title": {
           "x": 0.05
          },
          "xaxis": {
           "automargin": true,
           "gridcolor": "white",
           "linecolor": "white",
           "ticks": "",
           "title": {
            "standoff": 15
           },
           "zerolinecolor": "white",
           "zerolinewidth": 2
          },
          "yaxis": {
           "automargin": true,
           "gridcolor": "white",
           "linecolor": "white",
           "ticks": "",
           "title": {
            "standoff": 15
           },
           "zerolinecolor": "white",
           "zerolinewidth": 2
          }
         }
        },
        "xaxis": {
         "anchor": "y",
         "domain": [
          0,
          1
         ],
         "title": {
          "text": "feature1"
         }
        },
        "yaxis": {
         "anchor": "x",
         "domain": [
          0,
          1
         ],
         "title": {
          "text": "feature2"
         }
        }
       }
      }
     },
     "metadata": {},
     "output_type": "display_data"
    }
   ],
   "source": [
    "import plotly.express as px \n",
    "fig = px.scatter(df,x = 'feature1',y=\"feature2\",color='cluster_id')\n",
    "fig.show()"
   ]
  },
  {
   "cell_type": "code",
   "execution_count": null,
   "metadata": {},
   "outputs": [],
   "source": []
  }
 ],
 "metadata": {
  "kernelspec": {
   "display_name": "lambton",
   "language": "python",
   "name": "python3"
  },
  "language_info": {
   "codemirror_mode": {
    "name": "ipython",
    "version": 3
   },
   "file_extension": ".py",
   "mimetype": "text/x-python",
   "name": "python",
   "nbconvert_exporter": "python",
   "pygments_lexer": "ipython3",
   "version": "3.9.18"
  }
 },
 "nbformat": 4,
 "nbformat_minor": 2
}

{
 "cells": [
  {
   "cell_type": "code",
   "execution_count": 1,
   "metadata": {},
   "outputs": [
    {
     "name": "stdout",
     "output_type": "stream",
     "text": [
      "zsh:1: command not found: del\n"
     ]
    }
   ],
   "source": [
    "!del sample.db"
   ]
  },
  {
   "cell_type": "code",
   "execution_count": 4,
   "metadata": {},
   "outputs": [],
   "source": [
    "import sqlite3\n",
    "\n",
    "# create the connectin object \n",
    "conn = sqlite3.connect(\"sample.db\")\n",
    "\n",
    "# create cursor \n",
    "cursor = conn.cursor()"
   ]
  },
  {
   "cell_type": "code",
   "execution_count": 5,
   "metadata": {},
   "outputs": [
    {
     "data": {
      "text/plain": [
       "[]"
      ]
     },
     "execution_count": 5,
     "metadata": {},
     "output_type": "execute_result"
    }
   ],
   "source": [
    "create_table = \"\"\" \n",
    "                CREATE TABLE EMPLOYEE(\n",
    "                FIRST_NAME CHAR(20) NOT NULL,\n",
    "                LAST_NAME CHAR(20),\n",
    "                AGE INT NOT NULL,\n",
    "                SEX CHAR(1),\n",
    "                INCOME FLOAT)\n",
    "                \"\"\"\n",
    "\n",
    "# execute the ddl \n",
    "cursor.execute(create_table)\n",
    "conn.commit()\n",
    "\n",
    "\n",
    "# fetch all the records \n",
    "cursor.fetchall()"
   ]
  },
  {
   "cell_type": "code",
   "execution_count": 6,
   "metadata": {},
   "outputs": [],
   "source": [
    "# insert data into database in single shot\n",
    "insertion_command = \"\"\"\n",
    "INSERT INTO EMPLOYEE (FIRST_NAME,LAST_NAME, AGE,SEX,INCOME)\n",
    "VALUES \n",
    "('John','snow','M', NULL ,50000.0),\n",
    "('RAJAN','GHIMIRE','M', 25 ,550000.0),\n",
    "('NAJAR','GHIMIRE','M', 25 ,550000.0);\n",
    "\"\"\"\n",
    "# execute the ddl \n",
    "cursor.execute(insertion_command)\n",
    "conn.commit()"
   ]
  },
  {
   "cell_type": "code",
   "execution_count": 7,
   "metadata": {},
   "outputs": [
    {
     "data": {
      "text/plain": [
       "<sqlite3.Cursor at 0x7fbb3b57f640>"
      ]
     },
     "execution_count": 7,
     "metadata": {},
     "output_type": "execute_result"
    }
   ],
   "source": [
    "# get the entries from the first column\n",
    "cursor.execute(\"SELECT * from EMPLOYEE\")"
   ]
  },
  {
   "cell_type": "code",
   "execution_count": 8,
   "metadata": {},
   "outputs": [
    {
     "name": "stdout",
     "output_type": "stream",
     "text": [
      "('John', 'snow', 'M', None, 50000.0)\n",
      "('RAJAN', 'GHIMIRE', 'M', '25', 550000.0)\n",
      "('NAJAR', 'GHIMIRE', 'M', '25', 550000.0)\n"
     ]
    }
   ],
   "source": [
    "for x in cursor:\n",
    "    print(x)"
   ]
  },
  {
   "cell_type": "markdown",
   "metadata": {},
   "source": [
    "**Execute Many**"
   ]
  },
  {
   "cell_type": "code",
   "execution_count": 9,
   "metadata": {},
   "outputs": [],
   "source": [
    "data = [\n",
    "  (\"Prajwal\",\"Luitel\",23,\"M\",15000000),\n",
    "  (\"Sambridhi\",\"Luitel\",23,\"F\",15000000)\n",
    "]\n",
    "\n",
    "stmt = \"INSERT INTO EMPLOYEE (FIRST_NAME, LAST_NAME, AGE, SEX, INCOME) VALUES (?, ?, ?, ?, ?)\"\n",
    "cursor.executemany(stmt, data)\n",
    "conn.commit()"
   ]
  },
  {
   "cell_type": "code",
   "execution_count": 10,
   "metadata": {},
   "outputs": [
    {
     "data": {
      "text/plain": [
       "<sqlite3.Cursor at 0x7fbb3b57f640>"
      ]
     },
     "execution_count": 10,
     "metadata": {},
     "output_type": "execute_result"
    }
   ],
   "source": [
    "# get the entries from the first column\n",
    "cursor.execute(\"SELECT * from EMPLOYEE\")\n",
    "# for x in cursor:\n",
    "#     print(x)"
   ]
  },
  {
   "cell_type": "code",
   "execution_count": 11,
   "metadata": {},
   "outputs": [
    {
     "data": {
      "text/plain": [
       "('John', 'snow', 'M', None, 50000.0)"
      ]
     },
     "execution_count": 11,
     "metadata": {},
     "output_type": "execute_result"
    }
   ],
   "source": [
    "cursor.fetchone()"
   ]
  },
  {
   "cell_type": "code",
   "execution_count": 12,
   "metadata": {},
   "outputs": [
    {
     "data": {
      "text/plain": [
       "[('RAJAN', 'GHIMIRE', 'M', '25', 550000.0),\n",
       " ('NAJAR', 'GHIMIRE', 'M', '25', 550000.0),\n",
       " ('Prajwal', 'Luitel', 23, 'M', 15000000.0),\n",
       " ('Sambridhi', 'Luitel', 23, 'F', 15000000.0)]"
      ]
     },
     "execution_count": 12,
     "metadata": {},
     "output_type": "execute_result"
    }
   ],
   "source": [
    "cursor.fetchall()"
   ]
  },
  {
   "cell_type": "markdown",
   "metadata": {},
   "source": [
    "**Update**"
   ]
  },
  {
   "cell_type": "code",
   "execution_count": 13,
   "metadata": {},
   "outputs": [
    {
     "name": "stdout",
     "output_type": "stream",
     "text": [
      "('John', 'snow', 'M', None, 50000.0)\n",
      "('RAJAN', 'GHIMIRE', 'M', '25', 550000.0)\n",
      "('NAJAR', 'GHIMIRE', 'M', '25', 550000.0)\n",
      "('Prajwal', 'Luitel', 24, 'M', 15000000.0)\n",
      "('Sambridhi', 'Luitel', 23, 'F', 15000000.0)\n"
     ]
    }
   ],
   "source": [
    "sql = \"\"\"UPDATE EMPLOYEE SET AGE=AGE+1 WHERE SEX='M'\"\"\"\n",
    "cursor.execute(sql)\n",
    "conn.commit()\n",
    "\n",
    "\n",
    "cursor.execute(\"SELECT * from EMPLOYEE\")\n",
    "for x in cursor:\n",
    "    print(x)"
   ]
  },
  {
   "cell_type": "markdown",
   "metadata": {},
   "source": [
    "**Extra Questions:**"
   ]
  },
  {
   "cell_type": "code",
   "execution_count": null,
   "metadata": {},
   "outputs": [],
   "source": [
    "# rename column sex to gender. \n",
    "cursor.execute('''ALTER TABLE EMPLOYEE RENAME COLUMN SEX TO GENDER''')\n",
    "conn.commit()\n",
    "\n",
    "# rename the whole table \n",
    "cursor.execute(\"\"\"ALTER TABLE EMPLOYEE RENAME TO Employee_UPDATED\"\"\")\n",
    "conn.commit()\n"
   ]
  },
  {
   "cell_type": "markdown",
   "metadata": {},
   "source": [
    "**DELETE DATA**"
   ]
  },
  {
   "cell_type": "code",
   "execution_count": null,
   "metadata": {},
   "outputs": [],
   "source": [
    "# delete record where Sambridhi\n",
    "delete_query = \"\"\"DELETE FROM Employee_UPDATED WHERE FIRST_NAME = 'Sambridhi'\"\"\"\n",
    "# execute the cooman\n",
    "cursor.execute(delete_query)\n",
    "\n",
    "conn.commit()\n",
    "\n",
    "# select from the table\n",
    "cursor.execute(\"SELECT * from Employee_UPDATED\")\n",
    "\n",
    "cursor.fetchall()\n"
   ]
  },
  {
   "cell_type": "code",
   "execution_count": 2,
   "metadata": {},
   "outputs": [],
   "source": [
    "import sqlite3\n",
    "\n",
    "# Connect to the database\n",
    "# conn = sqlite3.connect('example.db')\n",
    "conn = sqlite3.connect(':memory:')\n",
    "\n",
    "# create cursor \n",
    "\n",
    "cursor = conn.cursor()\n",
    "\n",
    "# Create the EMPLOYEE table\n",
    "create_table = ''' \n",
    "CREATE TABLE IF NOT EXISTS EMPLOYEE(\n",
    "    FIRST_NAME CHAR(20) NOT NULL,\n",
    "    LAST_NAME CHAR(20),\n",
    "    AGE INT NOT NULL,\n",
    "    SEX CHAR(1),\n",
    "    INCOME FLOAT\n",
    ")\n",
    "'''\n",
    "cursor.execute(create_table)\n",
    "conn.commit()"
   ]
  },
  {
   "cell_type": "code",
   "execution_count": 4,
   "metadata": {},
   "outputs": [
    {
     "data": {
      "text/plain": [
       "<sqlite3.Cursor at 0x7f33532b85c0>"
      ]
     },
     "execution_count": 4,
     "metadata": {},
     "output_type": "execute_result"
    }
   ],
   "source": [
    "insertion = \"\"\"INSERT INTO EMPLOYEE (FIRST_NAME, LAST_NAME, AGE, SEX, INCOME)\n",
    "            VALUES (?, ?, ?, ?, ?)\n",
    "            \"\"\"\n",
    "            \n",
    "cursor.execute(insertion, (\"Rajan\", \"Ghimire\", 20, \"M\", 17000000))"
   ]
  },
  {
   "cell_type": "code",
   "execution_count": 5,
   "metadata": {},
   "outputs": [],
   "source": [
    "conn.commit()"
   ]
  },
  {
   "cell_type": "code",
   "execution_count": 10,
   "metadata": {},
   "outputs": [
    {
     "data": {
      "text/plain": [
       "<sqlite3.Cursor at 0x7f33532b85c0>"
      ]
     },
     "execution_count": 10,
     "metadata": {},
     "output_type": "execute_result"
    }
   ],
   "source": [
    "selection = \"SELECT * FROM EMPLOYEE WHERE EMPLOYEE.FIRST_NAME = ?\"\n",
    "cursor.execute(selection, (\"Rajan\",))"
   ]
  },
  {
   "cell_type": "code",
   "execution_count": 11,
   "metadata": {},
   "outputs": [
    {
     "data": {
      "text/plain": [
       "[('Rajan', 'Ghimire', 20, 'M', 17000000.0)]"
      ]
     },
     "execution_count": 11,
     "metadata": {},
     "output_type": "execute_result"
    }
   ],
   "source": [
    "cursor.fetchall()"
   ]
  },
  {
   "cell_type": "code",
   "execution_count": 12,
   "metadata": {},
   "outputs": [
    {
     "data": {
      "text/plain": [
       "[('Rajan', 'Ghimire', 25, 'M', 17000000.0)]"
      ]
     },
     "execution_count": 12,
     "metadata": {},
     "output_type": "execute_result"
    }
   ],
   "source": [
    "update_command = \"\"\"UPDATE EMPLOYEE SET AGE = ? WHERE FIRST_NAME = ?\"\"\"\n",
    "cursor.execute(update_command, (25, \"Rajan\"))\n",
    "conn.commit()\n",
    "\n",
    "selection = \"SELECT * FROM EMPLOYEE WHERE EMPLOYEE.FIRST_NAME = ?\"\n",
    "cursor.execute(selection, (\"Rajan\",))\n",
    "cursor.fetchall()\n"
   ]
  },
  {
   "cell_type": "code",
   "execution_count": 13,
   "metadata": {},
   "outputs": [
    {
     "data": {
      "text/plain": [
       "<sqlite3.Cursor at 0x7f33532b85c0>"
      ]
     },
     "execution_count": 13,
     "metadata": {},
     "output_type": "execute_result"
    }
   ],
   "source": [
    "            \n",
    "cursor.execute(insertion, (\"Zajan\", \"Ghimire\", 20, \"M\", 17000000))"
   ]
  },
  {
   "cell_type": "code",
   "execution_count": 14,
   "metadata": {},
   "outputs": [],
   "source": [
    "conn.commit()"
   ]
  },
  {
   "cell_type": "code",
   "execution_count": 15,
   "metadata": {},
   "outputs": [
    {
     "data": {
      "text/plain": [
       "[]"
      ]
     },
     "execution_count": 15,
     "metadata": {},
     "output_type": "execute_result"
    }
   ],
   "source": [
    "cursor.execute(\"DELETE FROM EMPLOYEE WHERE FIRST_NAME = ?\", (\"Zajan\",))\n",
    "\n",
    "selection = \"SELECT * FROM EMPLOYEE\"\n",
    "cursor.fetchall()"
   ]
  },
  {
   "cell_type": "code",
   "execution_count": 16,
   "metadata": {},
   "outputs": [
    {
     "name": "stdout",
     "output_type": "stream",
     "text": [
      "('Rajan', 'Ghimire', 25, 'M', 17000000.0)\n"
     ]
    }
   ],
   "source": [
    "# Verify the deletion\n",
    "cursor.execute('SELECT * FROM EMPLOYEE')\n",
    "records = cursor.fetchall()\n",
    "for record in records:\n",
    "    print(record)"
   ]
  },
  {
   "cell_type": "code",
   "execution_count": null,
   "metadata": {},
   "outputs": [],
   "source": [
    "\"\"\"\"\n",
    "ALTER TABLE EMPLOYEE RENAME COLUMN SEX TO GENDER \n",
    "ALTER TABLE EMPLOYEE RENAME TO EMPLOYEE_UPDATED\n",
    "\n",
    "\"\"\""
   ]
  }
 ],
 "metadata": {
  "kernelspec": {
   "display_name": "lambton",
   "language": "python",
   "name": "python3"
  },
  "language_info": {
   "codemirror_mode": {
    "name": "ipython",
    "version": 3
   },
   "file_extension": ".py",
   "mimetype": "text/x-python",
   "name": "python",
   "nbconvert_exporter": "python",
   "pygments_lexer": "ipython3",
   "version": "3.12.3"
  }
 },
 "nbformat": 4,
 "nbformat_minor": 2
}

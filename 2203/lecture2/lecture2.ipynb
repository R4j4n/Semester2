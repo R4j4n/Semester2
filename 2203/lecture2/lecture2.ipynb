{
 "cells": [
  {
   "cell_type": "code",
   "execution_count": 1,
   "metadata": {},
   "outputs": [],
   "source": [
    "!del sample.db"
   ]
  },
  {
   "cell_type": "code",
   "execution_count": 2,
   "metadata": {},
   "outputs": [],
   "source": [
    "import sqlite3\n",
    "\n",
    "# create the connectin object \n",
    "conn = sqlite3.connect(\"sample.db\")"
   ]
  },
  {
   "cell_type": "code",
   "execution_count": 3,
   "metadata": {},
   "outputs": [],
   "source": [
    "# create cursor \n",
    "cursor = conn.cursor()"
   ]
  },
  {
   "cell_type": "code",
   "execution_count": 4,
   "metadata": {},
   "outputs": [],
   "source": [
    "create_table = \"\"\" \n",
    "                CREATE TABLE EMPLOYEE(\n",
    "                FIRST_NAME CHAR(20) NOT NULL,\n",
    "                LAST_NAME CHAR(20),\n",
    "                AGE INT NOT NULL,\n",
    "                SEX CHAR(1),\n",
    "                INCOME FLOAT)\n",
    "                \"\"\"\n",
    "\n",
    "# execute the ddl \n",
    "cursor.execute(create_table)\n",
    "conn.commit()"
   ]
  },
  {
   "cell_type": "code",
   "execution_count": 5,
   "metadata": {},
   "outputs": [
    {
     "data": {
      "text/plain": [
       "[]"
      ]
     },
     "execution_count": 5,
     "metadata": {},
     "output_type": "execute_result"
    }
   ],
   "source": [
    "cursor.fetchall()"
   ]
  },
  {
   "cell_type": "code",
   "execution_count": 6,
   "metadata": {},
   "outputs": [],
   "source": [
    "# insert data into database in single shot\n",
    "insertion_command = \"\"\"\n",
    "INSERT INTO EMPLOYEE (FIRST_NAME,LAST_NAME, AGE,SEX,INCOME)\n",
    "VALUES \n",
    "('John','snow','M', NULL ,50000.0),\n",
    "('RAJAN','GHIMIRE','M', 25 ,550000.0),\n",
    "('NAJAR','GHIMIRE','M', 25 ,550000.0);\n",
    "\"\"\"\n",
    "# execute the ddl \n",
    "cursor.execute(insertion_command)\n",
    "conn.commit()"
   ]
  },
  {
   "cell_type": "code",
   "execution_count": 7,
   "metadata": {},
   "outputs": [
    {
     "data": {
      "text/plain": [
       "<sqlite3.Cursor at 0x29fa57d7d50>"
      ]
     },
     "execution_count": 7,
     "metadata": {},
     "output_type": "execute_result"
    }
   ],
   "source": [
    "# get the entries from the first column\n",
    "cursor.execute(\"SELECT * from EMPLOYEE\")"
   ]
  },
  {
   "cell_type": "code",
   "execution_count": 8,
   "metadata": {},
   "outputs": [
    {
     "name": "stdout",
     "output_type": "stream",
     "text": [
      "('John', 'snow', 'M', None, 50000.0)\n",
      "('RAJAN', 'GHIMIRE', 'M', '25', 550000.0)\n",
      "('NAJAR', 'GHIMIRE', 'M', '25', 550000.0)\n"
     ]
    }
   ],
   "source": [
    "for x in cursor:\n",
    "    print(x)"
   ]
  },
  {
   "cell_type": "markdown",
   "metadata": {},
   "source": [
    "**Execute Many**"
   ]
  },
  {
   "cell_type": "code",
   "execution_count": 9,
   "metadata": {},
   "outputs": [],
   "source": [
    "data = [\n",
    "  (\"Prajwal\",\"Luitel\",23,\"M\",15000000),\n",
    "  (\"Sambridhi\",\"Luitel\",23,\"F\",15000000)\n",
    "]\n",
    "\n",
    "stmt = \"INSERT INTO EMPLOYEE (FIRST_NAME, LAST_NAME, AGE, SEX, INCOME) VALUES (?, ?, ?, ?, ?)\"\n",
    "cursor.executemany(stmt, data)\n",
    "conn.commit()"
   ]
  },
  {
   "cell_type": "code",
   "execution_count": 10,
   "metadata": {},
   "outputs": [
    {
     "data": {
      "text/plain": [
       "<sqlite3.Cursor at 0x29fa57d7d50>"
      ]
     },
     "execution_count": 10,
     "metadata": {},
     "output_type": "execute_result"
    }
   ],
   "source": [
    "# get the entries from the first column\n",
    "cursor.execute(\"SELECT * from EMPLOYEE\")\n",
    "# for x in cursor:\n",
    "#     print(x)"
   ]
  },
  {
   "cell_type": "code",
   "execution_count": 11,
   "metadata": {},
   "outputs": [
    {
     "data": {
      "text/plain": [
       "('John', 'snow', 'M', None, 50000.0)"
      ]
     },
     "execution_count": 11,
     "metadata": {},
     "output_type": "execute_result"
    }
   ],
   "source": [
    "cursor.fetchone()"
   ]
  },
  {
   "cell_type": "code",
   "execution_count": 12,
   "metadata": {},
   "outputs": [
    {
     "data": {
      "text/plain": [
       "[('RAJAN', 'GHIMIRE', 'M', '25', 550000.0),\n",
       " ('NAJAR', 'GHIMIRE', 'M', '25', 550000.0),\n",
       " ('Prajwal', 'Luitel', 23, 'M', 15000000.0),\n",
       " ('Sambridhi', 'Luitel', 23, 'F', 15000000.0)]"
      ]
     },
     "execution_count": 12,
     "metadata": {},
     "output_type": "execute_result"
    }
   ],
   "source": [
    "cursor.fetchall()"
   ]
  },
  {
   "cell_type": "code",
   "execution_count": null,
   "metadata": {},
   "outputs": [],
   "source": []
  },
  {
   "cell_type": "code",
   "execution_count": null,
   "metadata": {},
   "outputs": [],
   "source": []
  }
 ],
 "metadata": {
  "kernelspec": {
   "display_name": "lambton",
   "language": "python",
   "name": "python3"
  },
  "language_info": {
   "codemirror_mode": {
    "name": "ipython",
    "version": 3
   },
   "file_extension": ".py",
   "mimetype": "text/x-python",
   "name": "python",
   "nbconvert_exporter": "python",
   "pygments_lexer": "ipython3",
   "version": "3.9.18"
  }
 },
 "nbformat": 4,
 "nbformat_minor": 2
}

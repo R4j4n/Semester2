{
 "cells": [
  {
   "cell_type": "code",
   "execution_count": 1,
   "metadata": {},
   "outputs": [
    {
     "name": "stdout",
     "output_type": "stream",
     "text": [
      "zsh:1: command not found: del\n"
     ]
    }
   ],
   "source": [
    "!del sample.db"
   ]
  },
  {
   "cell_type": "code",
   "execution_count": 2,
   "metadata": {},
   "outputs": [],
   "source": [
    "import sqlite3\n",
    "\n",
    "# create the connectin object \n",
    "conn = sqlite3.connect(\"sample.db\")\n",
    "\n",
    "# create cursor \n",
    "cursor = conn.cursor()"
   ]
  },
  {
   "cell_type": "code",
   "execution_count": 3,
   "metadata": {},
   "outputs": [
    {
     "ename": "OperationalError",
     "evalue": "table EMPLOYEE already exists",
     "output_type": "error",
     "traceback": [
      "\u001b[0;31m---------------------------------------------------------------------------\u001b[0m",
      "\u001b[0;31mOperationalError\u001b[0m                          Traceback (most recent call last)",
      "Cell \u001b[0;32mIn[3], line 11\u001b[0m\n\u001b[1;32m      1\u001b[0m create_table \u001b[38;5;241m=\u001b[39m \u001b[38;5;124m\"\"\"\u001b[39m\u001b[38;5;124m \u001b[39m\n\u001b[1;32m      2\u001b[0m \u001b[38;5;124m                CREATE TABLE EMPLOYEE(\u001b[39m\n\u001b[1;32m      3\u001b[0m \u001b[38;5;124m                FIRST_NAME CHAR(20) NOT NULL,\u001b[39m\n\u001b[0;32m   (...)\u001b[0m\n\u001b[1;32m      7\u001b[0m \u001b[38;5;124m                INCOME FLOAT)\u001b[39m\n\u001b[1;32m      8\u001b[0m \u001b[38;5;124m                \u001b[39m\u001b[38;5;124m\"\"\"\u001b[39m\n\u001b[1;32m     10\u001b[0m \u001b[38;5;66;03m# execute the ddl \u001b[39;00m\n\u001b[0;32m---> 11\u001b[0m \u001b[43mcursor\u001b[49m\u001b[38;5;241;43m.\u001b[39;49m\u001b[43mexecute\u001b[49m\u001b[43m(\u001b[49m\u001b[43mcreate_table\u001b[49m\u001b[43m)\u001b[49m\n\u001b[1;32m     12\u001b[0m conn\u001b[38;5;241m.\u001b[39mcommit()\n\u001b[1;32m     15\u001b[0m \u001b[38;5;66;03m# fetch all the records \u001b[39;00m\n",
      "\u001b[0;31mOperationalError\u001b[0m: table EMPLOYEE already exists"
     ]
    }
   ],
   "source": [
    "create_table = \"\"\" \n",
    "                CREATE TABLE EMPLOYEE(\n",
    "                FIRST_NAME CHAR(20) NOT NULL,\n",
    "                LAST_NAME CHAR(20),\n",
    "                AGE INT NOT NULL,\n",
    "                SEX CHAR(1),\n",
    "                INCOME FLOAT)\n",
    "                \"\"\"\n",
    "\n",
    "# execute the ddl \n",
    "cursor.execute(create_table)\n",
    "conn.commit()\n",
    "\n",
    "\n",
    "# fetch all the records \n",
    "cursor.fetchall()"
   ]
  },
  {
   "cell_type": "code",
   "execution_count": null,
   "metadata": {},
   "outputs": [],
   "source": []
  },
  {
   "cell_type": "code",
   "execution_count": null,
   "metadata": {},
   "outputs": [],
   "source": [
    "# insert data into database in single shot\n",
    "insertion_command = \"\"\"\n",
    "INSERT INTO EMPLOYEE (FIRST_NAME,LAST_NAME, AGE,SEX,INCOME)\n",
    "VALUES \n",
    "('John','snow','M', NULL ,50000.0),\n",
    "('RAJAN','GHIMIRE','M', 25 ,550000.0),\n",
    "('NAJAR','GHIMIRE','M', 25 ,550000.0);\n",
    "\"\"\"\n",
    "# execute the ddl \n",
    "cursor.execute(insertion_command)\n",
    "conn.commit()"
   ]
  },
  {
   "cell_type": "code",
   "execution_count": null,
   "metadata": {},
   "outputs": [],
   "source": [
    "# get the entries from the first column\n",
    "cursor.execute(\"SELECT * from EMPLOYEE\")"
   ]
  },
  {
   "cell_type": "code",
   "execution_count": null,
   "metadata": {},
   "outputs": [],
   "source": [
    "for x in cursor:\n",
    "    print(x)"
   ]
  },
  {
   "cell_type": "markdown",
   "metadata": {},
   "source": [
    "**Execute Many**"
   ]
  },
  {
   "cell_type": "code",
   "execution_count": null,
   "metadata": {},
   "outputs": [],
   "source": [
    "data = [\n",
    "  (\"Prajwal\",\"Luitel\",23,\"M\",15000000),\n",
    "  (\"Sambridhi\",\"Luitel\",23,\"F\",15000000)\n",
    "]\n",
    "\n",
    "stmt = \"INSERT INTO EMPLOYEE (FIRST_NAME, LAST_NAME, AGE, SEX, INCOME) VALUES (?, ?, ?, ?, ?)\"\n",
    "cursor.executemany(stmt, data)\n",
    "conn.commit()"
   ]
  },
  {
   "cell_type": "code",
   "execution_count": null,
   "metadata": {},
   "outputs": [],
   "source": [
    "# get the entries from the first column\n",
    "cursor.execute(\"SELECT * from EMPLOYEE\")\n",
    "# for x in cursor:\n",
    "#     print(x)"
   ]
  },
  {
   "cell_type": "code",
   "execution_count": null,
   "metadata": {},
   "outputs": [],
   "source": [
    "cursor.fetchone()"
   ]
  },
  {
   "cell_type": "code",
   "execution_count": null,
   "metadata": {},
   "outputs": [],
   "source": [
    "cursor.fetchall()"
   ]
  },
  {
   "cell_type": "markdown",
   "metadata": {},
   "source": [
    "**Update**"
   ]
  },
  {
   "cell_type": "code",
   "execution_count": null,
   "metadata": {},
   "outputs": [],
   "source": [
    "sql = \"\"\"UPDATE EMPLOYEE SET AGE=AGE+1 WHERE SEX='M'\"\"\"\n",
    "cursor.execute(sql)\n",
    "conn.commit()\n",
    "\n",
    "\n",
    "cursor.execute(\"SELECT * from EMPLOYEE\")\n",
    "for x in cursor:\n",
    "    print(x)"
   ]
  },
  {
   "cell_type": "markdown",
   "metadata": {},
   "source": [
    "**Extra Questions:**"
   ]
  },
  {
   "cell_type": "code",
   "execution_count": null,
   "metadata": {},
   "outputs": [],
   "source": [
    "# rename column sex to gender. \n",
    "cursor.execute('''ALTER TABLE EMPLOYEE RENAME COLUMN SEX TO GENDER''')\n",
    "conn.commit()\n",
    "\n",
    "# rename the whole table \n",
    "cursor.execute(\"\"\"ALTER TABLE EMPLOYEE RENAME TO Employee_UPDATED\"\"\")\n",
    "conn.commit()\n"
   ]
  },
  {
   "cell_type": "markdown",
   "metadata": {},
   "source": [
    "**DELETE DATA**"
   ]
  },
  {
   "cell_type": "code",
   "execution_count": null,
   "metadata": {},
   "outputs": [],
   "source": [
    "# delete record where Sambridhi\n",
    "delete_query = \"\"\"DELETE FROM Employee_UPDATED WHERE FIRST_NAME = 'Sambridhi'\"\"\"\n",
    "# execute the cooman\n",
    "cursor.execute(delete_query)\n",
    "\n",
    "conn.commit()\n",
    "\n",
    "# select from the table\n",
    "cursor.execute(\"SELECT * from Employee_UPDATED\")\n",
    "\n",
    "cursor.fetchall()\n"
   ]
  }
 ],
 "metadata": {
  "kernelspec": {
   "display_name": "lambton",
   "language": "python",
   "name": "python3"
  },
  "language_info": {
   "codemirror_mode": {
    "name": "ipython",
    "version": 3
   },
   "file_extension": ".py",
   "mimetype": "text/x-python",
   "name": "python",
   "nbconvert_exporter": "python",
   "pygments_lexer": "ipython3",
   "version": "3.12.3"
  }
 },
 "nbformat": 4,
 "nbformat_minor": 2
}

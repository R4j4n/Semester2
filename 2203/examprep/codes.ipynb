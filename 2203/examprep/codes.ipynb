{
 "cells": [
  {
   "cell_type": "code",
   "execution_count": null,
   "metadata": {},
   "outputs": [],
   "source": [
    "import numpy as np\n",
    "from typing import List, Union\n",
    "class Matrix:\n",
    "    \n",
    "    def __init__(self, data: Union[list, np.ndarray] ) -> None:\n",
    "        self.data = np.array(data) \n",
    "        self.rows , self.columns = self.data.shape\n",
    "        \n",
    "        \n",
    "    def __mul__(self, matrix : 'Matrix') -> 'Matrix':\n",
    "        \n",
    "        if not isinstance(matrix, Matrix):\n",
    "            raise ValueError(\"Cannot multiply other data type.\")\n",
    "        \n",
    "        if self.columns != matrix.rows:\n",
    "            raise ValueError(\"Shape mismatch, cannot multuply these matrices.\")\n",
    "        \n",
    "        # initialize the resultant matrix:\n",
    "        result = np.zeros((self.rows, matrix.columns))\n",
    "        \n",
    "        # perform the matrix multiplication \n",
    "        for i in range(self.rows):\n",
    "            for j in range(matrix.columns):\n",
    "                for k in range(self.columns):\n",
    "                    result[i,j] += self.data[i,k] * matrix.data[k,j]\n",
    "                    \n",
    "        return Matrix(result)\n",
    "    \n",
    "    \n",
    "    def Transpose(self):\n",
    "        # resultant matrix \n",
    "        transpose = np.zeros((self.rows, self.columns))\n",
    "        for i in range(self.rows):\n",
    "            for j in range(self.columns):\n",
    "                transpose[j][i] = self.data[i][j]\n",
    "                 \n",
    "        return Matrix(transpose)\n",
    "                \n",
    "    \n",
    "    def __repr__(self) -> str:\n",
    "        return str(self.data)\n",
    "    \n",
    "\n",
    "matrix1 = [\n",
    "    [1, 2, 3],\n",
    "    [4, 5, 6],\n",
    "    [7, 8, 9]\n",
    "]\n",
    "\n",
    "matrix2 = [\n",
    "    [7, 8, 9],\n",
    "    [1, 2, 3],\n",
    "    [4, 5, 6],\n",
    "]\n",
    "\n",
    "m1 = Matrix(matrix1)\n",
    "m2 = Matrix(matrix2)\n"
   ]
  },
  {
   "cell_type": "markdown",
   "metadata": {},
   "source": [
    "**Reverse a integer.**"
   ]
  },
  {
   "cell_type": "code",
   "execution_count": null,
   "metadata": {},
   "outputs": [],
   "source": [
    "def reverse_integer( x : int) -> int:\n",
    "    \n",
    "    is_neg = x < 0\n",
    "    result = 0\n",
    "    x = abs(x)\n",
    "    while x > 0: \n",
    "        result = result * 10 + (x % 10)\n",
    "        x = x // 10\n",
    "        \n",
    "    return - 1 * result if is_neg else result"
   ]
  },
  {
   "cell_type": "code",
   "execution_count": null,
   "metadata": {},
   "outputs": [],
   "source": [
    "reverse_integer(123), reverse_integer(-123)"
   ]
  },
  {
   "cell_type": "markdown",
   "metadata": {},
   "source": [
    "**Rotate a matrix by 90**"
   ]
  },
  {
   "cell_type": "code",
   "execution_count": null,
   "metadata": {},
   "outputs": [],
   "source": [
    "import numpy as np\n",
    "def rotate_a_matrix(m): \n",
    "    \n",
    "    # rotation by 90 : transpose + reflection\n",
    "    # in-place transpose \n",
    "    n = len(m)\n",
    "    \n",
    "    for i in range(n):\n",
    "        for j in range(i+1,n):\n",
    "            m[i][j], m[j][i] = m[j][i], m[i][j]\n",
    "            \n",
    "    print(np.array(m))\n",
    "    \n",
    "    # performing reflection\n",
    "    for i in range(n):\n",
    "        for j in range(n//2):\n",
    "            m[i][j], m[i][n-j-1] =  m[i][n-j-1], m[i][j]\n",
    "    \n",
    "    return m    \n",
    "       \n",
    "matrix1 = [\n",
    "    [1, 2, 3],\n",
    "    [4, 5, 6],\n",
    "    [7, 8, 9]\n",
    "]\n",
    "np.array(rotate_a_matrix(matrix1))"
   ]
  },
  {
   "cell_type": "markdown",
   "metadata": {},
   "source": [
    "**Split a number into a list**"
   ]
  },
  {
   "cell_type": "code",
   "execution_count": null,
   "metadata": {},
   "outputs": [],
   "source": [
    "def split_integer(x:int)-> list:\n",
    "    splits = []\n",
    "    while x > 0:\n",
    "        quotient, remainder = divmod(x, 10)\n",
    "        splits.append(remainder)\n",
    "        x = quotient\n",
    "    return splits[::-1]\n",
    "\n",
    "split_integer(12345)"
   ]
  },
  {
   "cell_type": "markdown",
   "metadata": {},
   "source": [
    "**Multiply two numbers**"
   ]
  },
  {
   "cell_type": "code",
   "execution_count": null,
   "metadata": {},
   "outputs": [],
   "source": [
    "def multiply_two_strings(num1, num2): \n",
    "    \n",
    "    if \"0\" in [num1, num2]: \n",
    "        return '0'\n",
    "    \n",
    "    # store the result \n",
    "    result = [0] * (len(num1) + len(num2))\n",
    "    \n",
    "    num1 = num1[::-1]\n",
    "    num2 = num2[::-1]\n",
    "    \n",
    "    for i in range(len(num1)):\n",
    "        for j in range(len(num2)):\n",
    "            digit = int(num1[i]) * int(num2[j])\n",
    "            \n",
    "            result[i+j] += digit\n",
    "            carry, remaining = divmod(result[i+j], 10)\n",
    "            # add carry \n",
    "            result[i+j+1] += carry\n",
    "            # keep remainder\n",
    "            result[i+j] = remaining\n",
    "                  \n",
    "    result = result[::-1]\n",
    "    \n",
    "    return result"
   ]
  },
  {
   "cell_type": "code",
   "execution_count": null,
   "metadata": {},
   "outputs": [],
   "source": [
    "multiply_two_strings(\"12\",\"12\")"
   ]
  },
  {
   "cell_type": "markdown",
   "metadata": {},
   "source": [
    "**Count and say**"
   ]
  },
  {
   "cell_type": "code",
   "execution_count": null,
   "metadata": {},
   "outputs": [],
   "source": [
    "def convert_and_count(s:str): \n",
    "    \n",
    "    # result \n",
    "    result = \"\"\n",
    "    # lets set count = 1 : each element is at least repeted once\n",
    "    count = 1\n",
    "    \n",
    "    for i in range(len(s)-1): \n",
    "        \n",
    "        if s[i] == s[i+1]: \n",
    "            count += 1\n",
    "        else:\n",
    "            result = result + str(count) + str(s[i])\n",
    "            count = 1\n",
    "            \n",
    "    # for the last digit \n",
    "    result = result + str(count) + str(s[-1])\n",
    "    \n",
    "    return result\n",
    "\n",
    "\n",
    "def solve(n): \n",
    "    \n",
    "    answer = \"1\"\n",
    "    if n == 1 : return answer\n",
    "    for _ in range(2, n+1):\n",
    "        answer = convert_and_count(answer)\n",
    "        \n",
    "    return answer\n",
    "\n",
    "solve(2), solve(4)"
   ]
  },
  {
   "cell_type": "markdown",
   "metadata": {},
   "source": [
    "**All Permutation**"
   ]
  },
  {
   "cell_type": "code",
   "execution_count": null,
   "metadata": {},
   "outputs": [],
   "source": [
    "import itertools\n",
    "\n",
    "def all_permutations(lst):\n",
    "    \n",
    "    result =  list(itertools.permutations(lst))\n",
    "    \n",
    "    return [list(x) for x in result]\n",
    "\n",
    "def find_next_permute(nums: list): \n",
    "    \n",
    "    \n",
    "    # firstly lets sort list in natural order \n",
    "    nums_sorted = sorted(nums)\n",
    "    \n",
    "    # get the all possible permutations \n",
    "    perumtations = all_permutations(nums_sorted)\n",
    "    \n",
    "    # get the index of current \n",
    "    \n",
    "    index = perumtations.index(nums)\n",
    "    \n",
    "    if index != len(perumtations) -1: \n",
    "        \n",
    "        return permutations[index+1]\n",
    "    else:\n",
    "        permutations[0]\n",
    "        \n",
    "        \n",
    "find_next_permute([1, 2, 3])"
   ]
  },
  {
   "cell_type": "markdown",
   "metadata": {},
   "source": [
    "Ransom Note"
   ]
  },
  {
   "cell_type": "code",
   "execution_count": null,
   "metadata": {},
   "outputs": [],
   "source": [
    "\n",
    "def counter(word):\n",
    "    mapp = {}\n",
    "    for i in word: \n",
    "        mapp[i] = 1 + mapp.get(i, 0)        \n",
    "    return mapp\n",
    "\n",
    "\n",
    "def canConstruct(ransomNote, magazine):\n",
    "    \n",
    "    magazine_freq = counter(magazine)\n",
    "\n",
    "    ransomNote_freq = counter(ransomNote)\n",
    "    \n",
    "    for k , v in ransomNote_freq.items():\n",
    "        \n",
    "        if k in magazine_freq.keys():\n",
    "            if ransomNote_freq[k] < magazine_freq[k]:\n",
    "                return False\n",
    "        else:\n",
    "            return False\n",
    "    return True\n",
    "\n",
    "print(canConstruct(\"a\", \"b\"))  \n",
    "print(canConstruct(\"aa\", \"ab\"))  \n",
    "print(canConstruct(\"aa\", \"aab\"))\n",
    "\t\t"
   ]
  },
  {
   "cell_type": "markdown",
   "metadata": {},
   "source": [
    "### Greg"
   ]
  },
  {
   "cell_type": "markdown",
   "metadata": {},
   "source": [
    "Find the closest number to zero.\n",
    "\n",
    "Given an integer array nums of size n, return the number with the value closest to 0 in nums. If there are multiple answers, return the number with the largest value.\n",
    "Input: nums = [2,-1,1] <br>\n",
    "Output: 1<br>\n",
    "Explanation: 1 and -1 are both the closest numbers to 0, so 1 being larger is returned.<br>"
   ]
  },
  {
   "cell_type": "code",
   "execution_count": null,
   "metadata": {},
   "outputs": [],
   "source": [
    "from typing import List\n",
    "class Solution:\n",
    "    def findClosestNumber(self, nums: List[int]) -> int:\n",
    "        closest = nums[0]\n",
    "        \n",
    "        for x in nums: \n",
    "            if abs(x) < abs(closest): \n",
    "                closest = x\n",
    "        \n",
    "        if closest < 0 and abs(closest) in nums:\n",
    "            return abs(closest) \n",
    "        else:\n",
    "            return closest\n",
    "        \n",
    "sol = Solution()\n",
    "sol.findClosestNumber(nums=[-4,-2,1,4,8]), sol.findClosestNumber(nums=[-2,-1,1,5])\n"
   ]
  },
  {
   "cell_type": "markdown",
   "metadata": {},
   "source": [
    "**Merge Strings Alternately**"
   ]
  },
  {
   "cell_type": "code",
   "execution_count": null,
   "metadata": {},
   "outputs": [],
   "source": [
    "class Solution:\n",
    "    def mergeAlternately(self, word1: str, word2: str) -> str:\n",
    "        A , B = len(word1), len(word2)\n",
    "        a,b = 0, 0\n",
    "        result = []\n",
    "        word = 1\n",
    "        while a < A and b < B:\n",
    "            if word == 1:\n",
    "                result.append(word1[a])\n",
    "                a += 1\n",
    "                word = 2\n",
    "            else: \n",
    "                result.append(word2[b])\n",
    "                b += 1 \n",
    "                word = 1\n",
    "                \n",
    "        while a < A: \n",
    "            result.append(word1[a])\n",
    "            a += 1\n",
    "            \n",
    "        while b < B: \n",
    "            result.append(word2[b])\n",
    "            b += 1\n",
    "        return result\n",
    "            \n",
    "        \n",
    "sol = Solution() \n",
    "sol.mergeAlternately(word1=\"abc\",word2=\"12345\"), sol.mergeAlternately(\"123\",\"abcd\")"
   ]
  },
  {
   "cell_type": "markdown",
   "metadata": {},
   "source": [
    "**is subsequence**\n",
    "\n",
    "Given two strings s and t, return true if s is a subsequence of t, or false otherwise.\n",
    "\n",
    "A subsequence of a string is a new string that is formed from the original string by deleting some (can be none) of the characters without disturbing the relative positions of the remaining characters. (i.e., \"ace\" is a subsequence of \"abcde\" while \"aec\" is not)"
   ]
  },
  {
   "cell_type": "code",
   "execution_count": null,
   "metadata": {},
   "outputs": [],
   "source": [
    "class Solution:\n",
    "    def isSubsequence(self, s: str, t: str) -> bool:\n",
    "        S = len(s)\n",
    "        T = len(t)\n",
    "        \n",
    "        if s == \"\": return True\n",
    "        if S > T : return False\n",
    "        \n",
    "        j = 0 \n",
    "        for i in range(T): \n",
    "            if s[j] == t[i]: \n",
    "                # check if we are at the end. \n",
    "                # we are at the end small string and there is match.\n",
    "                if j == S - 1: \n",
    "                    return True\n",
    "                \n",
    "                j += 1\n",
    "            \n",
    "        return False\n",
    "    \n",
    "s = Solution()\n",
    "s.isSubsequence(s=\"ace\", t=\"abce\"), s.isSubsequence(s=\"abc\", t=\"1234\")"
   ]
  },
  {
   "cell_type": "markdown",
   "metadata": {},
   "source": [
    "**Longest common prefix.**"
   ]
  },
  {
   "cell_type": "code",
   "execution_count": null,
   "metadata": {},
   "outputs": [],
   "source": [
    "def longest_prefix(s : list) -> str: \n",
    "    \n",
    "    # find the minimum length \n",
    "    min_len = sorted(s, key=len)[0]\n",
    "    \n",
    "    for i, c in enumerate(min_len): \n",
    "        \n",
    "        for word in s: \n",
    "            if c != word[i]:\n",
    "                return min_len[:i]\n",
    "    \n",
    "    return min_len\n",
    "\n",
    "input_string = [\"flower\",\"flow\", \"flo\"]\n",
    "longest_prefix(input_string)"
   ]
  },
  {
   "cell_type": "markdown",
   "metadata": {},
   "source": [
    "**Best Time to Buy and Sell Stock**\n",
    "\n",
    "Input: prices = [7,1,5,3,6,4] <br>\n",
    "Output: 5 <br>\n",
    "Explanation: Buy on day 2 (price = 1) and sell on day 5 (price = 6), profit = 6-1 = 5.<br>"
   ]
  },
  {
   "cell_type": "code",
   "execution_count": null,
   "metadata": {},
   "outputs": [],
   "source": [
    "def best_stock_profit(prices : list) -> int: \n",
    "    \n",
    "    max_profit = 0\n",
    "    min_price = float('inf')\n",
    "    \n",
    "    for i in range(len(prices) -1 ): \n",
    "        \n",
    "        if min_price > prices[i]: \n",
    "            min_price = prices[i]\n",
    "        \n",
    "        if (prices[i] - min_price) > max_profit: \n",
    "            max_profit = prices[i] - min_price\n",
    "            \n",
    "    return max_profit\n",
    "            \n",
    "best_stock_profit([7,1,5,3,6,4])"
   ]
  },
  {
   "cell_type": "markdown",
   "metadata": {},
   "source": [
    "**Summary Ranges**\n",
    "\n",
    "Input: nums = [0,1,2,4,5,7] <br>\n",
    "Output: [\"0->2\",\"4->5\",\"7\"] <br>"
   ]
  },
  {
   "cell_type": "code",
   "execution_count": null,
   "metadata": {},
   "outputs": [],
   "source": [
    "def find_summary_range(input_list : list) -> list:\n",
    "    \n",
    "    result = []\n",
    "    \n",
    "    i = 0\n",
    "    while i < len(input_list):\n",
    "\n",
    "        start = input_list[i]\n",
    "        while i < len(input_list) - 1 and input_list[i] + 1 == input_list[i+1]:\n",
    "            i += 1\n",
    "        \n",
    "        if start != input_list[i]:\n",
    "            \n",
    "            result.append(f\"{start}->{input_list[i]}\")\n",
    "            \n",
    "        else:\n",
    "            result.append(str(input_list[i] ))\n",
    "            \n",
    "        i+= 1\n",
    "        \n",
    "    return result\n",
    "\n",
    "find_summary_range([1,2,3,5])"
   ]
  },
  {
   "cell_type": "markdown",
   "metadata": {},
   "source": [
    "**Merge Sorted Array**\n",
    "\n",
    "Store inside the nums1.\n",
    "Input: nums1 = [1,2,3,0,0,0], m = 3, nums2 = [2,5,6], n = 3 <br>\n",
    "Output: [1,2,2,3,5,6] <br>"
   ]
  },
  {
   "cell_type": "code",
   "execution_count": 26,
   "metadata": {},
   "outputs": [
    {
     "data": {
      "text/plain": [
       "[1, 2, 2, 3, 5, 6]"
      ]
     },
     "execution_count": 26,
     "metadata": {},
     "output_type": "execute_result"
    }
   ],
   "source": [
    "def merge(nums1, m, nums2, n):\n",
    "    x , y = m-1, n-1\n",
    "    for p in range(m + n - 1, -1, -1):\n",
    "        if y < 0:\n",
    "            break\n",
    "        \n",
    "        if x>= 0 and nums1[x] > nums2[y]:\n",
    "            nums1[p] = nums1[x]\n",
    "            x -= 1\n",
    "        else:\n",
    "            nums1[p] = nums2[y]\n",
    "            y -= 1\n",
    "    \n",
    "    return nums1\n",
    "\n",
    "nums1 = [1, 2, 3, 0, 0, 0]\n",
    "nums2 = [2, 5, 6]\n",
    "m,n = 3,3\n",
    "\n",
    "merge(nums1, m, nums2, n)\n"
   ]
  },
  {
   "cell_type": "code",
   "execution_count": 2,
   "metadata": {},
   "outputs": [],
   "source": [
    "import re\n",
    "import warnings \n",
    "warnings.filterwarnings(\"ignore\") "
   ]
  },
  {
   "cell_type": "code",
   "execution_count": 3,
   "metadata": {},
   "outputs": [],
   "source": [
    "# practice questios: \n",
    "\n",
    "sample_string = \"The quick brown fox jumps over the lazy dog. Email: test.email+alex@leetcode.com or contact_us@company.org or. Visit https://www.example.com/path?query=123&lang=en or http://short.url for more info. Today is 2024-06-21. Call us at (123) 456-7890 or 123-456-7890. Hex color codes: #1a2b3c, #FFF, #123456. IPv4 addresses: 192.168.1.1, 255.255.255.255. Use password P@ssw0rd123! and reset it by 12:34 PM.\""
   ]
  },
  {
   "cell_type": "code",
   "execution_count": 8,
   "metadata": {},
   "outputs": [
    {
     "name": "stdout",
     "output_type": "stream",
     "text": [
      "['test.email+alex@leetcode.com', 'contact_us@company.org']\n",
      "https://www.example.com/path?query=123&lang=en\n",
      "http://short.url\n"
     ]
    }
   ],
   "source": [
    "print(re.findall(r\"[\\w\\d\\+\\.]+@\\w+\\.\\w{2,3}\",sample_string))\n",
    "\n",
    "url_pattern = r\"https?:\\/\\/(www\\.)?[^\\s\\/]+\\.[a-zA-Z]{2,}(\\/[\\S]+)?\"\n",
    "x = re.finditer(url_pattern, sample_string)\n",
    "for res in x:\n",
    "    print(res.group())"
   ]
  },
  {
   "cell_type": "code",
   "execution_count": 11,
   "metadata": {},
   "outputs": [],
   "source": [
    "import nltk"
   ]
  },
  {
   "cell_type": "code",
   "execution_count": 27,
   "metadata": {},
   "outputs": [
    {
     "data": {
      "text/plain": [
       "[1, 2, 2, 3, 5, 6]"
      ]
     },
     "execution_count": 27,
     "metadata": {},
     "output_type": "execute_result"
    }
   ],
   "source": [
    "def isMatch(s: str, p: str) -> bool:\n",
    "    # If the pattern is empty, the string must also be empty to be a match\n",
    "    if not p:\n",
    "        return not s\n",
    "    \n",
    "    # Determine if the first characters match or if the first character of the pattern is '.'\n",
    "    first_char_matches = bool(s) and (s[0] == p[0] or p[0] == '.')\n",
    "\n",
    "    # Check if the second character in the pattern is '*'\n",
    "    if len(p) >= 2 and p[1] == '*':\n",
    "        # Two possibilities:\n",
    "        # 1. '*' represents zero occurrences of the preceding character\n",
    "        # 2. '*' represents one or more occurrences, and we continue matching the rest of the string\n",
    "        return (isMatch(s, p[2:]) or (first_char_matches and isMatch(s[1:], p)))\n",
    "    else:\n",
    "        # No '*' in pattern, so check if the current characters match and continue with the next characters\n",
    "        return first_char_matches and isMatch(s[1:], p[1:])\n",
    "\n",
    "# Test cases\n",
    "print(isMatch(s=\"aa\", p=\"a*\"))         # True\n",
    "print(isMatch(s=\"aaaaaaaaaa\", p=\"a*\")) # True\n",
    "print(isMatch(s=\"aaaab\", p=\"a*\"))      # False\n"
   ]
  },
  {
   "cell_type": "code",
   "execution_count": 32,
   "metadata": {},
   "outputs": [
    {
     "data": {
      "text/plain": [
       "True"
      ]
     },
     "execution_count": 32,
     "metadata": {},
     "output_type": "execute_result"
    }
   ],
   "source": [
    "def is_match(s,p): \n",
    "    if not p: \n",
    "        return not s \n",
    "    \n",
    "    first_char_matches = bool(s) and (s[0] == p[0] or p[0]== \".\") \n",
    "    \n",
    "    if len(p) >= 2 and p[1] == \"*\":\n",
    "        \n",
    "        return (is_match(s, p[2:])) or (first_char_matches and is_match(s[1:], p))\n",
    "    \n",
    "    else:\n",
    "        return first_char_matches and is_match(s[1:], p[1:])\n",
    "\n",
    "is_match(s=\"aa\", p=\"a*\")"
   ]
  },
  {
   "cell_type": "code",
   "execution_count": null,
   "metadata": {},
   "outputs": [],
   "source": []
  }
 ],
 "metadata": {
  "kernelspec": {
   "display_name": "main_env",
   "language": "python",
   "name": "python3"
  },
  "language_info": {
   "codemirror_mode": {
    "name": "ipython",
    "version": 3
   },
   "file_extension": ".py",
   "mimetype": "text/x-python",
   "name": "python",
   "nbconvert_exporter": "python",
   "pygments_lexer": "ipython3",
   "version": "3.12.3"
  }
 },
 "nbformat": 4,
 "nbformat_minor": 2
}

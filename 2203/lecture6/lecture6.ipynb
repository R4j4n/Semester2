{
 "cells": [
  {
   "cell_type": "code",
   "execution_count": 1,
   "metadata": {},
   "outputs": [],
   "source": [
    "import pandas as pd"
   ]
  },
  {
   "cell_type": "code",
   "execution_count": 3,
   "metadata": {},
   "outputs": [],
   "source": [
    "df = pd.read_csv(\"file.csv\")"
   ]
  },
  {
   "cell_type": "code",
   "execution_count": 10,
   "metadata": {},
   "outputs": [
    {
     "name": "stdout",
     "output_type": "stream",
     "text": [
      "LotFrontage : Missing Percentage : 18%\n",
      "Alley : Missing Percentage : 94%\n",
      "MasVnrType : Missing Percentage : 60%\n",
      "MasVnrArea : Missing Percentage : 1%\n",
      "BsmtQual : Missing Percentage : 3%\n",
      "BsmtCond : Missing Percentage : 3%\n",
      "BsmtExposure : Missing Percentage : 3%\n",
      "BsmtFinType1 : Missing Percentage : 3%\n",
      "BsmtFinType2 : Missing Percentage : 3%\n",
      "Electrical : Missing Percentage : 0%\n",
      "FireplaceQu : Missing Percentage : 47%\n",
      "GarageType : Missing Percentage : 6%\n",
      "GarageYrBlt : Missing Percentage : 6%\n",
      "GarageFinish : Missing Percentage : 6%\n",
      "GarageQual : Missing Percentage : 6%\n",
      "GarageCond : Missing Percentage : 6%\n",
      "PoolQC : Missing Percentage : 100%\n",
      "Fence : Missing Percentage : 81%\n",
      "MiscFeature : Missing Percentage : 96%\n"
     ]
    }
   ],
   "source": [
    "missing = df.isnull().sum().to_dict()\n",
    "df_shape = df.shape[0]\n",
    "for k, v in missing.items():\n",
    "    if v > 0:\n",
    "        print(f\"{k} : Missing Percentage : {round((v/df_shape)*100)}%\")"
   ]
  },
  {
   "cell_type": "code",
   "execution_count": 12,
   "metadata": {},
   "outputs": [
    {
     "name": "stdout",
     "output_type": "stream",
     "text": [
      "Q1: 129975.0 Q3 : 214000.0 IQR : 84025.0\n"
     ]
    }
   ],
   "source": [
    "q1 =df[ 'SalePrice'].quantile(0.25)\n",
    "q3 = df['SalePrice'].quantile(0.75)\n",
    "\n",
    "IQR = q3 - q1\n",
    "print(f\"Q1: {q1} Q3 : {q3} IQR : {IQR}\")"
   ]
  },
  {
   "cell_type": "code",
   "execution_count": 13,
   "metadata": {},
   "outputs": [
    {
     "name": "stdout",
     "output_type": "stream",
     "text": [
      "Upper Whisker : 340037.5   Lower Whisker : 3937.5\n"
     ]
    }
   ],
   "source": [
    "lower_whisker = q1 - (1.5 * IQR)\n",
    "upper_whiser = q3 + (1.5 * IQR)\n",
    "print(f\"Upper Whisker : {upper_whiser}   Lower Whisker : {lower_whisker}\")"
   ]
  },
  {
   "cell_type": "code",
   "execution_count": 14,
   "metadata": {},
   "outputs": [
    {
     "name": "stdout",
     "output_type": "stream",
     "text": [
      "0       False\n",
      "1       False\n",
      "2       False\n",
      "3       False\n",
      "4       False\n",
      "        ...  \n",
      "1455    False\n",
      "1456    False\n",
      "1457    False\n",
      "1458    False\n",
      "1459    False\n",
      "Name: SalePrice, Length: 1460, dtype: bool\n"
     ]
    }
   ],
   "source": [
    "print((df[\"SalePrice\"] < lower_whisker) | (df[\"SalePrice\"] > upper_whiser))"
   ]
  },
  {
   "cell_type": "code",
   "execution_count": null,
   "metadata": {},
   "outputs": [],
   "source": []
  }
 ],
 "metadata": {
  "kernelspec": {
   "display_name": "main_env",
   "language": "python",
   "name": "python3"
  },
  "language_info": {
   "codemirror_mode": {
    "name": "ipython",
    "version": 3
   },
   "file_extension": ".py",
   "mimetype": "text/x-python",
   "name": "python",
   "nbconvert_exporter": "python",
   "pygments_lexer": "ipython3",
   "version": "3.12.3"
  }
 },
 "nbformat": 4,
 "nbformat_minor": 2
}
